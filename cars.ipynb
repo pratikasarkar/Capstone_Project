{
  "nbformat": 4,
  "nbformat_minor": 0,
  "metadata": {
    "colab": {
      "name": "cars.ipynb",
      "provenance": [],
      "collapsed_sections": [],
      "authorship_tag": "ABX9TyO89KPgsRe+5dhIcVxy0hdu",
      "include_colab_link": true
    },
    "kernelspec": {
      "name": "python3",
      "display_name": "Python 3"
    }
  },
  "cells": [
    {
      "cell_type": "markdown",
      "metadata": {
        "id": "view-in-github",
        "colab_type": "text"
      },
      "source": [
        "<a href=\"https://colab.research.google.com/github/pratikasarkar/Capstone_Project/blob/pratik_workingBranch/cars.ipynb\" target=\"_parent\"><img src=\"https://colab.research.google.com/assets/colab-badge.svg\" alt=\"Open In Colab\"/></a>"
      ]
    },
    {
      "cell_type": "code",
      "metadata": {
        "id": "jTXdbCzPeZ7N",
        "colab_type": "code",
        "outputId": "1f0782e6-13e4-4845-8abb-665f3d4053dd",
        "colab": {
          "base_uri": "https://localhost:8080/",
          "height": 128
        }
      },
      "source": [
        "from google.colab import drive\n",
        "drive.mount('/content/gdrive')"
      ],
      "execution_count": 1,
      "outputs": [
        {
          "output_type": "stream",
          "text": [
            "Go to this URL in a browser: https://accounts.google.com/o/oauth2/auth?client_id=947318989803-6bn6qk8qdgf4n4g3pfee6491hc0brc4i.apps.googleusercontent.com&redirect_uri=urn%3aietf%3awg%3aoauth%3a2.0%3aoob&response_type=code&scope=email%20https%3a%2f%2fwww.googleapis.com%2fauth%2fdocs.test%20https%3a%2f%2fwww.googleapis.com%2fauth%2fdrive%20https%3a%2f%2fwww.googleapis.com%2fauth%2fdrive.photos.readonly%20https%3a%2f%2fwww.googleapis.com%2fauth%2fpeopleapi.readonly\n",
            "\n",
            "Enter your authorization code:\n",
            "··········\n",
            "Mounted at /content/gdrive\n"
          ],
          "name": "stdout"
        }
      ]
    },
    {
      "cell_type": "code",
      "metadata": {
        "id": "g_A9ht3YnwHB",
        "colab_type": "code",
        "colab": {}
      },
      "source": [
        "import numpy as np\n",
        "import pandas as pd\n",
        "import warnings\n",
        "warnings.filterwarnings('ignore')\n",
        "df = pd.read_csv('/content/gdrive/My Drive/autos.csv',encoding='latin_1')"
      ],
      "execution_count": 0,
      "outputs": []
    },
    {
      "cell_type": "code",
      "metadata": {
        "id": "3PyMfzb5fxqJ",
        "colab_type": "code",
        "outputId": "cdc3e2ec-cf8d-4116-9f59-9c5b5ea79396",
        "colab": {
          "base_uri": "https://localhost:8080/",
          "height": 313
        }
      },
      "source": [
        "df.head()"
      ],
      "execution_count": 3,
      "outputs": [
        {
          "output_type": "execute_result",
          "data": {
            "text/html": [
              "<div>\n",
              "<style scoped>\n",
              "    .dataframe tbody tr th:only-of-type {\n",
              "        vertical-align: middle;\n",
              "    }\n",
              "\n",
              "    .dataframe tbody tr th {\n",
              "        vertical-align: top;\n",
              "    }\n",
              "\n",
              "    .dataframe thead th {\n",
              "        text-align: right;\n",
              "    }\n",
              "</style>\n",
              "<table border=\"1\" class=\"dataframe\">\n",
              "  <thead>\n",
              "    <tr style=\"text-align: right;\">\n",
              "      <th></th>\n",
              "      <th>dateCrawled</th>\n",
              "      <th>name</th>\n",
              "      <th>seller</th>\n",
              "      <th>offerType</th>\n",
              "      <th>price</th>\n",
              "      <th>abtest</th>\n",
              "      <th>vehicleType</th>\n",
              "      <th>yearOfRegistration</th>\n",
              "      <th>gearbox</th>\n",
              "      <th>powerPS</th>\n",
              "      <th>model</th>\n",
              "      <th>kilometer</th>\n",
              "      <th>monthOfRegistration</th>\n",
              "      <th>fuelType</th>\n",
              "      <th>brand</th>\n",
              "      <th>notRepairedDamage</th>\n",
              "      <th>dateCreated</th>\n",
              "      <th>nrOfPictures</th>\n",
              "      <th>postalCode</th>\n",
              "      <th>lastSeen</th>\n",
              "    </tr>\n",
              "  </thead>\n",
              "  <tbody>\n",
              "    <tr>\n",
              "      <th>0</th>\n",
              "      <td>24-03-2016 11:52</td>\n",
              "      <td>Golf_3_1.6</td>\n",
              "      <td>privat</td>\n",
              "      <td>Angebot</td>\n",
              "      <td>480.0</td>\n",
              "      <td>test</td>\n",
              "      <td>NaN</td>\n",
              "      <td>1993.0</td>\n",
              "      <td>manuell</td>\n",
              "      <td>0</td>\n",
              "      <td>golf</td>\n",
              "      <td>150000</td>\n",
              "      <td>0</td>\n",
              "      <td>benzin</td>\n",
              "      <td>volkswagen</td>\n",
              "      <td>NaN</td>\n",
              "      <td>24-03-2016 00:00</td>\n",
              "      <td>0</td>\n",
              "      <td>70435</td>\n",
              "      <td>07-04-2016 03:16</td>\n",
              "    </tr>\n",
              "    <tr>\n",
              "      <th>1</th>\n",
              "      <td>24-03-2016 10:58</td>\n",
              "      <td>A5_Sportback_2.7_Tdi</td>\n",
              "      <td>privat</td>\n",
              "      <td>Angebot</td>\n",
              "      <td>18300.0</td>\n",
              "      <td>test</td>\n",
              "      <td>coupe</td>\n",
              "      <td>2011.0</td>\n",
              "      <td>manuell</td>\n",
              "      <td>190</td>\n",
              "      <td>NaN</td>\n",
              "      <td>125000</td>\n",
              "      <td>5</td>\n",
              "      <td>diesel</td>\n",
              "      <td>audi</td>\n",
              "      <td>ja</td>\n",
              "      <td>24-03-2016 00:00</td>\n",
              "      <td>0</td>\n",
              "      <td>66954</td>\n",
              "      <td>07-04-2016 01:46</td>\n",
              "    </tr>\n",
              "    <tr>\n",
              "      <th>2</th>\n",
              "      <td>14-03-2016 12:52</td>\n",
              "      <td>Jeep_Grand_Cherokee_\"Overland\"</td>\n",
              "      <td>privat</td>\n",
              "      <td>Angebot</td>\n",
              "      <td>9800.0</td>\n",
              "      <td>test</td>\n",
              "      <td>suv</td>\n",
              "      <td>2004.0</td>\n",
              "      <td>automatik</td>\n",
              "      <td>163</td>\n",
              "      <td>grand</td>\n",
              "      <td>125000</td>\n",
              "      <td>8</td>\n",
              "      <td>diesel</td>\n",
              "      <td>jeep</td>\n",
              "      <td>NaN</td>\n",
              "      <td>14-03-2016 00:00</td>\n",
              "      <td>0</td>\n",
              "      <td>90480</td>\n",
              "      <td>05-04-2016 12:47</td>\n",
              "    </tr>\n",
              "    <tr>\n",
              "      <th>3</th>\n",
              "      <td>17-03-2016 16:54</td>\n",
              "      <td>GOLF_4_1_4__3TÜRER</td>\n",
              "      <td>privat</td>\n",
              "      <td>Angebot</td>\n",
              "      <td>1500.0</td>\n",
              "      <td>test</td>\n",
              "      <td>kleinwagen</td>\n",
              "      <td>2001.0</td>\n",
              "      <td>manuell</td>\n",
              "      <td>75</td>\n",
              "      <td>golf</td>\n",
              "      <td>150000</td>\n",
              "      <td>6</td>\n",
              "      <td>benzin</td>\n",
              "      <td>volkswagen</td>\n",
              "      <td>nein</td>\n",
              "      <td>17-03-2016 00:00</td>\n",
              "      <td>0</td>\n",
              "      <td>91074</td>\n",
              "      <td>17-03-2016 17:40</td>\n",
              "    </tr>\n",
              "    <tr>\n",
              "      <th>4</th>\n",
              "      <td>31-03-2016 17:25</td>\n",
              "      <td>Skoda_Fabia_1.4_TDI_PD_Classic</td>\n",
              "      <td>privat</td>\n",
              "      <td>Angebot</td>\n",
              "      <td>3600.0</td>\n",
              "      <td>test</td>\n",
              "      <td>kleinwagen</td>\n",
              "      <td>2008.0</td>\n",
              "      <td>manuell</td>\n",
              "      <td>69</td>\n",
              "      <td>fabia</td>\n",
              "      <td>90000</td>\n",
              "      <td>7</td>\n",
              "      <td>diesel</td>\n",
              "      <td>skoda</td>\n",
              "      <td>nein</td>\n",
              "      <td>31-03-2016 00:00</td>\n",
              "      <td>0</td>\n",
              "      <td>60437</td>\n",
              "      <td>06-04-2016 10:17</td>\n",
              "    </tr>\n",
              "  </tbody>\n",
              "</table>\n",
              "</div>"
            ],
            "text/plain": [
              "        dateCrawled  ...          lastSeen\n",
              "0  24-03-2016 11:52  ...  07-04-2016 03:16\n",
              "1  24-03-2016 10:58  ...  07-04-2016 01:46\n",
              "2  14-03-2016 12:52  ...  05-04-2016 12:47\n",
              "3  17-03-2016 16:54  ...  17-03-2016 17:40\n",
              "4  31-03-2016 17:25  ...  06-04-2016 10:17\n",
              "\n",
              "[5 rows x 20 columns]"
            ]
          },
          "metadata": {
            "tags": []
          },
          "execution_count": 3
        }
      ]
    },
    {
      "cell_type": "markdown",
      "metadata": {
        "id": "Vl4Vk06lF9ac",
        "colab_type": "text"
      },
      "source": [
        "## Converting german values to english for all categorical features"
      ]
    },
    {
      "cell_type": "code",
      "metadata": {
        "id": "3isZMZIKh0aT",
        "colab_type": "code",
        "outputId": "d7bddfc3-c14c-4043-f9e2-f8db568e570f",
        "colab": {
          "base_uri": "https://localhost:8080/",
          "height": 72
        }
      },
      "source": [
        "df['seller'].value_counts()"
      ],
      "execution_count": 4,
      "outputs": [
        {
          "output_type": "execute_result",
          "data": {
            "text/plain": [
              "privat        371719\n",
              "gewerblich         3\n",
              "Name: seller, dtype: int64"
            ]
          },
          "metadata": {
            "tags": []
          },
          "execution_count": 4
        }
      ]
    },
    {
      "cell_type": "code",
      "metadata": {
        "id": "NZjeUDKruHVv",
        "colab_type": "code",
        "outputId": "757cd185-f046-4674-a688-005fd7a563b8",
        "colab": {
          "base_uri": "https://localhost:8080/",
          "height": 126
        }
      },
      "source": [
        "df['seller'].replace({'privat':'private',\n",
        "                      'gewerblich':'commercial'},\n",
        "                     inplace = True)\n",
        "df['seller'].head()"
      ],
      "execution_count": 5,
      "outputs": [
        {
          "output_type": "execute_result",
          "data": {
            "text/plain": [
              "0    private\n",
              "1    private\n",
              "2    private\n",
              "3    private\n",
              "4    private\n",
              "Name: seller, dtype: object"
            ]
          },
          "metadata": {
            "tags": []
          },
          "execution_count": 5
        }
      ]
    },
    {
      "cell_type": "code",
      "metadata": {
        "id": "JUzTRnSQvCuh",
        "colab_type": "code",
        "outputId": "f50df77b-1ac7-41f9-85e9-3476ba3f1a32",
        "colab": {
          "base_uri": "https://localhost:8080/",
          "height": 72
        }
      },
      "source": [
        "df['offerType'].value_counts()"
      ],
      "execution_count": 6,
      "outputs": [
        {
          "output_type": "execute_result",
          "data": {
            "text/plain": [
              "Angebot    371710\n",
              "Gesuch         12\n",
              "Name: offerType, dtype: int64"
            ]
          },
          "metadata": {
            "tags": []
          },
          "execution_count": 6
        }
      ]
    },
    {
      "cell_type": "code",
      "metadata": {
        "id": "ixEnAx4SvPRs",
        "colab_type": "code",
        "outputId": "832ade0c-a7fc-41e2-cd00-d5537e5e26e8",
        "colab": {
          "base_uri": "https://localhost:8080/",
          "height": 126
        }
      },
      "source": [
        "df['offerType'].replace({'Angebot':'offer',\n",
        "                      'Gesuch':'application'},\n",
        "                     inplace = True)\n",
        "df['offerType'].head()"
      ],
      "execution_count": 7,
      "outputs": [
        {
          "output_type": "execute_result",
          "data": {
            "text/plain": [
              "0    offer\n",
              "1    offer\n",
              "2    offer\n",
              "3    offer\n",
              "4    offer\n",
              "Name: offerType, dtype: object"
            ]
          },
          "metadata": {
            "tags": []
          },
          "execution_count": 7
        }
      ]
    },
    {
      "cell_type": "code",
      "metadata": {
        "id": "rGUh6PTVvnwK",
        "colab_type": "code",
        "outputId": "e846bf1a-2585-4125-9e9c-66a81d04f360",
        "colab": {
          "base_uri": "https://localhost:8080/",
          "height": 72
        }
      },
      "source": [
        "df['abtest'].value_counts()"
      ],
      "execution_count": 8,
      "outputs": [
        {
          "output_type": "execute_result",
          "data": {
            "text/plain": [
              "test       192683\n",
              "control    179039\n",
              "Name: abtest, dtype: int64"
            ]
          },
          "metadata": {
            "tags": []
          },
          "execution_count": 8
        }
      ]
    },
    {
      "cell_type": "code",
      "metadata": {
        "id": "TcYmjjF2vx2K",
        "colab_type": "code",
        "outputId": "2001bc69-0aff-4d21-ae64-a81ce9861e82",
        "colab": {
          "base_uri": "https://localhost:8080/",
          "height": 181
        }
      },
      "source": [
        "df['vehicleType'].value_counts()"
      ],
      "execution_count": 9,
      "outputs": [
        {
          "output_type": "execute_result",
          "data": {
            "text/plain": [
              "limousine     95936\n",
              "kleinwagen    80077\n",
              "kombi         67602\n",
              "bus           30214\n",
              "cabrio        22911\n",
              "coupe         19023\n",
              "suv           14714\n",
              "andere         3359\n",
              "Name: vehicleType, dtype: int64"
            ]
          },
          "metadata": {
            "tags": []
          },
          "execution_count": 9
        }
      ]
    },
    {
      "cell_type": "code",
      "metadata": {
        "id": "A_cG6qFSwAo1",
        "colab_type": "code",
        "outputId": "6daef08e-2f78-4f02-fda8-cc8b78787222",
        "colab": {
          "base_uri": "https://localhost:8080/",
          "height": 126
        }
      },
      "source": [
        "df['vehicleType'].replace({'kleinwagen':'small car',\n",
        "                      'kombi':'combi',\n",
        "                      'cabrio':'convertible',\n",
        "                      'andere' : 'other'},\n",
        "                     inplace = True)\n",
        "df['vehicleType'].head()"
      ],
      "execution_count": 10,
      "outputs": [
        {
          "output_type": "execute_result",
          "data": {
            "text/plain": [
              "0          NaN\n",
              "1        coupe\n",
              "2          suv\n",
              "3    small car\n",
              "4    small car\n",
              "Name: vehicleType, dtype: object"
            ]
          },
          "metadata": {
            "tags": []
          },
          "execution_count": 10
        }
      ]
    },
    {
      "cell_type": "code",
      "metadata": {
        "id": "e0FmqLfEwvcc",
        "colab_type": "code",
        "outputId": "f2017031-1bba-4fe3-83b2-2e0090f97bf1",
        "colab": {
          "base_uri": "https://localhost:8080/",
          "height": 72
        }
      },
      "source": [
        "df['gearbox'].value_counts()"
      ],
      "execution_count": 11,
      "outputs": [
        {
          "output_type": "execute_result",
          "data": {
            "text/plain": [
              "manuell      274355\n",
              "automatik     77150\n",
              "Name: gearbox, dtype: int64"
            ]
          },
          "metadata": {
            "tags": []
          },
          "execution_count": 11
        }
      ]
    },
    {
      "cell_type": "code",
      "metadata": {
        "id": "Qgne8w0Vw6DU",
        "colab_type": "code",
        "outputId": "70586a12-eef8-41ef-ad84-5442ddef61ee",
        "colab": {
          "base_uri": "https://localhost:8080/",
          "height": 126
        }
      },
      "source": [
        "df['gearbox'].replace({'manuell':'manual',\n",
        "                      'automatik':'automatic'},\n",
        "                     inplace = True)\n",
        "df['gearbox'].head()"
      ],
      "execution_count": 12,
      "outputs": [
        {
          "output_type": "execute_result",
          "data": {
            "text/plain": [
              "0       manual\n",
              "1       manual\n",
              "2    automatic\n",
              "3       manual\n",
              "4       manual\n",
              "Name: gearbox, dtype: object"
            ]
          },
          "metadata": {
            "tags": []
          },
          "execution_count": 12
        }
      ]
    },
    {
      "cell_type": "code",
      "metadata": {
        "id": "SaLx7onMxN-x",
        "colab_type": "code",
        "colab": {}
      },
      "source": [
        "orig_list = list(df['model'].value_counts().index)\n",
        "converted_list = ['golf','other','3s','polo','corsa','astra','passat','a4','cclass','5s','eclass','a3','a6','focus','fiesta','transporter','twingo','2series','fortwo','aclass','vectra','1s','mondeo','clio','touran','3series','punto','zafira','megane','ibiza','ka','lupo','xseries','octavia','cooper','fabia','clk','micra','caddy','80','sharan','scenic','omega','slk','leon','laguna','civic','tt','1stseries','6series','iseries','galaxy','mclass','7s','meriva','yaris','great','mxseries','a5','kangoo','911','bclass','500','tiguan','vito','escort','one','arosa','zseries','bora','colt','beetle','berlingo','sprinter','tigra','v40','transit','touareg','fox','swift','insignia','c_max','corolla','panda','seicento','sl','v70','4series','scirocco','156','a1','primera','espace','grand','stilo','almera','a8','147','avensis','qashqai','eos','c3','c5','signum','Beetle','s_max','5series','q5','c4','matiz','ducato','agila','aygo','viano','getz','601','combo','100','carisma','cayenne','boxster','alhambra','cordoba','c2','superb','c1','kuga','forfour','rio','jetta','cuore','a2','altea','cadet','rav','picanto','sorento','mseries','accord','crseries','up','q7','vivaro','toledo','voyager','xcseries','Bravo','santa','doblo','logan','mode','verso','ptcruiser','cl','sportage','jazz','fusion','sandero','mustang','roomster','carnival','6s','ceed','gallant','v50','q3','tucson','lancer','auris','impreza','phaeton','freelander','glk','calibra','pajero','x_trail','850','159','jimny','ypsilon','spider','duster','clubman','yeti','cseries','cc','roadster','cherokee','x_type','gclass','captiva','vclass','wrangler','legacy','s60','300c','rxseries','defender','justy','sirion','forester','outlander','grade','niva','s_type','spark','r19','navara','cxseries','aveo','900','antara','90','juke','discovery','exeo','range_rover_sport','kalos','range_rover','citigo','lanos','mii','crossfire','range_rover_evoque','gl','nubira','move','lybra','145','v60','croma','amarok','delta','terios','lodgy','9000','charade','b_max','musa','materia','200','kappa','samara','elefantino','i3','kalina','serie_2','rangerover','serie_3','serie_1','discovery_sport']"
      ],
      "execution_count": 0,
      "outputs": []
    },
    {
      "cell_type": "code",
      "metadata": {
        "id": "SV6lMc8rxaHC",
        "colab_type": "code",
        "outputId": "be4db856-4ad1-4d9e-8b61-a00ca0140549",
        "colab": {
          "base_uri": "https://localhost:8080/",
          "height": 313
        }
      },
      "source": [
        "df['model'].replace(dict(zip(orig_list,converted_list)),inplace = True)\n",
        "df.head()"
      ],
      "execution_count": 14,
      "outputs": [
        {
          "output_type": "execute_result",
          "data": {
            "text/html": [
              "<div>\n",
              "<style scoped>\n",
              "    .dataframe tbody tr th:only-of-type {\n",
              "        vertical-align: middle;\n",
              "    }\n",
              "\n",
              "    .dataframe tbody tr th {\n",
              "        vertical-align: top;\n",
              "    }\n",
              "\n",
              "    .dataframe thead th {\n",
              "        text-align: right;\n",
              "    }\n",
              "</style>\n",
              "<table border=\"1\" class=\"dataframe\">\n",
              "  <thead>\n",
              "    <tr style=\"text-align: right;\">\n",
              "      <th></th>\n",
              "      <th>dateCrawled</th>\n",
              "      <th>name</th>\n",
              "      <th>seller</th>\n",
              "      <th>offerType</th>\n",
              "      <th>price</th>\n",
              "      <th>abtest</th>\n",
              "      <th>vehicleType</th>\n",
              "      <th>yearOfRegistration</th>\n",
              "      <th>gearbox</th>\n",
              "      <th>powerPS</th>\n",
              "      <th>model</th>\n",
              "      <th>kilometer</th>\n",
              "      <th>monthOfRegistration</th>\n",
              "      <th>fuelType</th>\n",
              "      <th>brand</th>\n",
              "      <th>notRepairedDamage</th>\n",
              "      <th>dateCreated</th>\n",
              "      <th>nrOfPictures</th>\n",
              "      <th>postalCode</th>\n",
              "      <th>lastSeen</th>\n",
              "    </tr>\n",
              "  </thead>\n",
              "  <tbody>\n",
              "    <tr>\n",
              "      <th>0</th>\n",
              "      <td>24-03-2016 11:52</td>\n",
              "      <td>Golf_3_1.6</td>\n",
              "      <td>private</td>\n",
              "      <td>offer</td>\n",
              "      <td>480.0</td>\n",
              "      <td>test</td>\n",
              "      <td>NaN</td>\n",
              "      <td>1993.0</td>\n",
              "      <td>manual</td>\n",
              "      <td>0</td>\n",
              "      <td>golf</td>\n",
              "      <td>150000</td>\n",
              "      <td>0</td>\n",
              "      <td>benzin</td>\n",
              "      <td>volkswagen</td>\n",
              "      <td>NaN</td>\n",
              "      <td>24-03-2016 00:00</td>\n",
              "      <td>0</td>\n",
              "      <td>70435</td>\n",
              "      <td>07-04-2016 03:16</td>\n",
              "    </tr>\n",
              "    <tr>\n",
              "      <th>1</th>\n",
              "      <td>24-03-2016 10:58</td>\n",
              "      <td>A5_Sportback_2.7_Tdi</td>\n",
              "      <td>private</td>\n",
              "      <td>offer</td>\n",
              "      <td>18300.0</td>\n",
              "      <td>test</td>\n",
              "      <td>coupe</td>\n",
              "      <td>2011.0</td>\n",
              "      <td>manual</td>\n",
              "      <td>190</td>\n",
              "      <td>NaN</td>\n",
              "      <td>125000</td>\n",
              "      <td>5</td>\n",
              "      <td>diesel</td>\n",
              "      <td>audi</td>\n",
              "      <td>ja</td>\n",
              "      <td>24-03-2016 00:00</td>\n",
              "      <td>0</td>\n",
              "      <td>66954</td>\n",
              "      <td>07-04-2016 01:46</td>\n",
              "    </tr>\n",
              "    <tr>\n",
              "      <th>2</th>\n",
              "      <td>14-03-2016 12:52</td>\n",
              "      <td>Jeep_Grand_Cherokee_\"Overland\"</td>\n",
              "      <td>private</td>\n",
              "      <td>offer</td>\n",
              "      <td>9800.0</td>\n",
              "      <td>test</td>\n",
              "      <td>suv</td>\n",
              "      <td>2004.0</td>\n",
              "      <td>automatic</td>\n",
              "      <td>163</td>\n",
              "      <td>grand</td>\n",
              "      <td>125000</td>\n",
              "      <td>8</td>\n",
              "      <td>diesel</td>\n",
              "      <td>jeep</td>\n",
              "      <td>NaN</td>\n",
              "      <td>14-03-2016 00:00</td>\n",
              "      <td>0</td>\n",
              "      <td>90480</td>\n",
              "      <td>05-04-2016 12:47</td>\n",
              "    </tr>\n",
              "    <tr>\n",
              "      <th>3</th>\n",
              "      <td>17-03-2016 16:54</td>\n",
              "      <td>GOLF_4_1_4__3TÜRER</td>\n",
              "      <td>private</td>\n",
              "      <td>offer</td>\n",
              "      <td>1500.0</td>\n",
              "      <td>test</td>\n",
              "      <td>small car</td>\n",
              "      <td>2001.0</td>\n",
              "      <td>manual</td>\n",
              "      <td>75</td>\n",
              "      <td>golf</td>\n",
              "      <td>150000</td>\n",
              "      <td>6</td>\n",
              "      <td>benzin</td>\n",
              "      <td>volkswagen</td>\n",
              "      <td>nein</td>\n",
              "      <td>17-03-2016 00:00</td>\n",
              "      <td>0</td>\n",
              "      <td>91074</td>\n",
              "      <td>17-03-2016 17:40</td>\n",
              "    </tr>\n",
              "    <tr>\n",
              "      <th>4</th>\n",
              "      <td>31-03-2016 17:25</td>\n",
              "      <td>Skoda_Fabia_1.4_TDI_PD_Classic</td>\n",
              "      <td>private</td>\n",
              "      <td>offer</td>\n",
              "      <td>3600.0</td>\n",
              "      <td>test</td>\n",
              "      <td>small car</td>\n",
              "      <td>2008.0</td>\n",
              "      <td>manual</td>\n",
              "      <td>69</td>\n",
              "      <td>fabia</td>\n",
              "      <td>90000</td>\n",
              "      <td>7</td>\n",
              "      <td>diesel</td>\n",
              "      <td>skoda</td>\n",
              "      <td>nein</td>\n",
              "      <td>31-03-2016 00:00</td>\n",
              "      <td>0</td>\n",
              "      <td>60437</td>\n",
              "      <td>06-04-2016 10:17</td>\n",
              "    </tr>\n",
              "  </tbody>\n",
              "</table>\n",
              "</div>"
            ],
            "text/plain": [
              "        dateCrawled  ...          lastSeen\n",
              "0  24-03-2016 11:52  ...  07-04-2016 03:16\n",
              "1  24-03-2016 10:58  ...  07-04-2016 01:46\n",
              "2  14-03-2016 12:52  ...  05-04-2016 12:47\n",
              "3  17-03-2016 16:54  ...  17-03-2016 17:40\n",
              "4  31-03-2016 17:25  ...  06-04-2016 10:17\n",
              "\n",
              "[5 rows x 20 columns]"
            ]
          },
          "metadata": {
            "tags": []
          },
          "execution_count": 14
        }
      ]
    },
    {
      "cell_type": "code",
      "metadata": {
        "id": "TgiF6DwhDiic",
        "colab_type": "code",
        "outputId": "c565a419-0e6e-4e9f-e763-e993328c13ce",
        "colab": {
          "base_uri": "https://localhost:8080/",
          "height": 271
        }
      },
      "source": [
        "df['monthOfRegistration'].value_counts()"
      ],
      "execution_count": 15,
      "outputs": [
        {
          "output_type": "execute_result",
          "data": {
            "text/plain": [
              "0     37695\n",
              "3     36186\n",
              "6     33194\n",
              "4     30939\n",
              "5     30643\n",
              "7     28979\n",
              "10    27354\n",
              "11    25499\n",
              "12    25395\n",
              "9     25083\n",
              "1     24567\n",
              "8     23775\n",
              "2     22414\n",
              "Name: monthOfRegistration, dtype: int64"
            ]
          },
          "metadata": {
            "tags": []
          },
          "execution_count": 15
        }
      ]
    },
    {
      "cell_type": "code",
      "metadata": {
        "id": "C6VPjRd-EYLy",
        "colab_type": "code",
        "outputId": "5839383a-62b3-4ba9-f74f-d739c2964477",
        "colab": {
          "base_uri": "https://localhost:8080/",
          "height": 162
        }
      },
      "source": [
        "df['fuelType'].value_counts()"
      ],
      "execution_count": 16,
      "outputs": [
        {
          "output_type": "execute_result",
          "data": {
            "text/plain": [
              "benzin     223974\n",
              "diesel     107802\n",
              "lpg          5379\n",
              "cng           571\n",
              "hybrid        281\n",
              "andere        208\n",
              "elektro       104\n",
              "Name: fuelType, dtype: int64"
            ]
          },
          "metadata": {
            "tags": []
          },
          "execution_count": 16
        }
      ]
    },
    {
      "cell_type": "code",
      "metadata": {
        "id": "FlqCd1jAEmLw",
        "colab_type": "code",
        "outputId": "f1a4989b-b554-4772-bc86-55c4b5bef50d",
        "colab": {
          "base_uri": "https://localhost:8080/",
          "height": 126
        }
      },
      "source": [
        "df['fuelType'].replace({'benzin':'petrol',\n",
        "                      'andere':'other',\n",
        "                      'elektro':'electric'},\n",
        "                     inplace = True)\n",
        "df['fuelType'].head()"
      ],
      "execution_count": 17,
      "outputs": [
        {
          "output_type": "execute_result",
          "data": {
            "text/plain": [
              "0    petrol\n",
              "1    diesel\n",
              "2    diesel\n",
              "3    petrol\n",
              "4    diesel\n",
              "Name: fuelType, dtype: object"
            ]
          },
          "metadata": {
            "tags": []
          },
          "execution_count": 17
        }
      ]
    },
    {
      "cell_type": "code",
      "metadata": {
        "id": "tyjhfKu8FCu2",
        "colab_type": "code",
        "outputId": "0f70d085-3f3e-490b-d791-aa2b613fc28d",
        "colab": {
          "base_uri": "https://localhost:8080/",
          "height": 762
        }
      },
      "source": [
        "df['brand'].value_counts()"
      ],
      "execution_count": 18,
      "outputs": [
        {
          "output_type": "execute_result",
          "data": {
            "text/plain": [
              "volkswagen        79672\n",
              "bmw               40291\n",
              "opel              40153\n",
              "mercedes_benz     35339\n",
              "audi              32889\n",
              "ford              25584\n",
              "renault           17988\n",
              "peugeot           11032\n",
              "fiat               9677\n",
              "seat               7023\n",
              "mazda              5697\n",
              "skoda              5645\n",
              "smart              5251\n",
              "citroen            5185\n",
              "nissan             5040\n",
              "toyota             4699\n",
              "sonstige_autos     3983\n",
              "hyundai            3649\n",
              "mini               3397\n",
              "volvo              3328\n",
              "mitsubishi         3062\n",
              "honda              2838\n",
              "kia                2556\n",
              "alfa_romeo         2348\n",
              "suzuki             2330\n",
              "porsche            2215\n",
              "chevrolet          1847\n",
              "chrysler           1454\n",
              "dacia               900\n",
              "jeep                808\n",
              "daihatsu            806\n",
              "subaru              779\n",
              "land_rover          772\n",
              "jaguar              621\n",
              "trabant             592\n",
              "daewoo              543\n",
              "saab                531\n",
              "rover               490\n",
              "lancia              484\n",
              "lada                225\n",
              "Name: brand, dtype: int64"
            ]
          },
          "metadata": {
            "tags": []
          },
          "execution_count": 18
        }
      ]
    },
    {
      "cell_type": "code",
      "metadata": {
        "id": "JrJidVP2FMv6",
        "colab_type": "code",
        "outputId": "89c75b2a-ec14-467e-bfc6-14df4c2db2a6",
        "colab": {
          "base_uri": "https://localhost:8080/",
          "height": 72
        }
      },
      "source": [
        "df['notRepairedDamage'].value_counts()"
      ],
      "execution_count": 19,
      "outputs": [
        {
          "output_type": "execute_result",
          "data": {
            "text/plain": [
              "nein    263325\n",
              "ja       36302\n",
              "Name: notRepairedDamage, dtype: int64"
            ]
          },
          "metadata": {
            "tags": []
          },
          "execution_count": 19
        }
      ]
    },
    {
      "cell_type": "code",
      "metadata": {
        "id": "ydfae1d8Fcss",
        "colab_type": "code",
        "outputId": "566e72ee-142b-46de-e995-e885e4138272",
        "colab": {
          "base_uri": "https://localhost:8080/",
          "height": 126
        }
      },
      "source": [
        "df['notRepairedDamage'].replace({'nein':'No',\n",
        "                      'ja':'Yes'},\n",
        "                     inplace = True)\n",
        "df['notRepairedDamage'].head()"
      ],
      "execution_count": 20,
      "outputs": [
        {
          "output_type": "execute_result",
          "data": {
            "text/plain": [
              "0    NaN\n",
              "1    Yes\n",
              "2    NaN\n",
              "3     No\n",
              "4     No\n",
              "Name: notRepairedDamage, dtype: object"
            ]
          },
          "metadata": {
            "tags": []
          },
          "execution_count": 20
        }
      ]
    },
    {
      "cell_type": "code",
      "metadata": {
        "id": "zKUhPTJXFvrF",
        "colab_type": "code",
        "outputId": "273b79bf-1b13-4a42-8f8a-4f1ae85684f9",
        "colab": {
          "base_uri": "https://localhost:8080/",
          "height": 215
        }
      },
      "source": [
        "df.head(3)"
      ],
      "execution_count": 21,
      "outputs": [
        {
          "output_type": "execute_result",
          "data": {
            "text/html": [
              "<div>\n",
              "<style scoped>\n",
              "    .dataframe tbody tr th:only-of-type {\n",
              "        vertical-align: middle;\n",
              "    }\n",
              "\n",
              "    .dataframe tbody tr th {\n",
              "        vertical-align: top;\n",
              "    }\n",
              "\n",
              "    .dataframe thead th {\n",
              "        text-align: right;\n",
              "    }\n",
              "</style>\n",
              "<table border=\"1\" class=\"dataframe\">\n",
              "  <thead>\n",
              "    <tr style=\"text-align: right;\">\n",
              "      <th></th>\n",
              "      <th>dateCrawled</th>\n",
              "      <th>name</th>\n",
              "      <th>seller</th>\n",
              "      <th>offerType</th>\n",
              "      <th>price</th>\n",
              "      <th>abtest</th>\n",
              "      <th>vehicleType</th>\n",
              "      <th>yearOfRegistration</th>\n",
              "      <th>gearbox</th>\n",
              "      <th>powerPS</th>\n",
              "      <th>model</th>\n",
              "      <th>kilometer</th>\n",
              "      <th>monthOfRegistration</th>\n",
              "      <th>fuelType</th>\n",
              "      <th>brand</th>\n",
              "      <th>notRepairedDamage</th>\n",
              "      <th>dateCreated</th>\n",
              "      <th>nrOfPictures</th>\n",
              "      <th>postalCode</th>\n",
              "      <th>lastSeen</th>\n",
              "    </tr>\n",
              "  </thead>\n",
              "  <tbody>\n",
              "    <tr>\n",
              "      <th>0</th>\n",
              "      <td>24-03-2016 11:52</td>\n",
              "      <td>Golf_3_1.6</td>\n",
              "      <td>private</td>\n",
              "      <td>offer</td>\n",
              "      <td>480.0</td>\n",
              "      <td>test</td>\n",
              "      <td>NaN</td>\n",
              "      <td>1993.0</td>\n",
              "      <td>manual</td>\n",
              "      <td>0</td>\n",
              "      <td>golf</td>\n",
              "      <td>150000</td>\n",
              "      <td>0</td>\n",
              "      <td>petrol</td>\n",
              "      <td>volkswagen</td>\n",
              "      <td>NaN</td>\n",
              "      <td>24-03-2016 00:00</td>\n",
              "      <td>0</td>\n",
              "      <td>70435</td>\n",
              "      <td>07-04-2016 03:16</td>\n",
              "    </tr>\n",
              "    <tr>\n",
              "      <th>1</th>\n",
              "      <td>24-03-2016 10:58</td>\n",
              "      <td>A5_Sportback_2.7_Tdi</td>\n",
              "      <td>private</td>\n",
              "      <td>offer</td>\n",
              "      <td>18300.0</td>\n",
              "      <td>test</td>\n",
              "      <td>coupe</td>\n",
              "      <td>2011.0</td>\n",
              "      <td>manual</td>\n",
              "      <td>190</td>\n",
              "      <td>NaN</td>\n",
              "      <td>125000</td>\n",
              "      <td>5</td>\n",
              "      <td>diesel</td>\n",
              "      <td>audi</td>\n",
              "      <td>Yes</td>\n",
              "      <td>24-03-2016 00:00</td>\n",
              "      <td>0</td>\n",
              "      <td>66954</td>\n",
              "      <td>07-04-2016 01:46</td>\n",
              "    </tr>\n",
              "    <tr>\n",
              "      <th>2</th>\n",
              "      <td>14-03-2016 12:52</td>\n",
              "      <td>Jeep_Grand_Cherokee_\"Overland\"</td>\n",
              "      <td>private</td>\n",
              "      <td>offer</td>\n",
              "      <td>9800.0</td>\n",
              "      <td>test</td>\n",
              "      <td>suv</td>\n",
              "      <td>2004.0</td>\n",
              "      <td>automatic</td>\n",
              "      <td>163</td>\n",
              "      <td>grand</td>\n",
              "      <td>125000</td>\n",
              "      <td>8</td>\n",
              "      <td>diesel</td>\n",
              "      <td>jeep</td>\n",
              "      <td>NaN</td>\n",
              "      <td>14-03-2016 00:00</td>\n",
              "      <td>0</td>\n",
              "      <td>90480</td>\n",
              "      <td>05-04-2016 12:47</td>\n",
              "    </tr>\n",
              "  </tbody>\n",
              "</table>\n",
              "</div>"
            ],
            "text/plain": [
              "        dateCrawled  ...          lastSeen\n",
              "0  24-03-2016 11:52  ...  07-04-2016 03:16\n",
              "1  24-03-2016 10:58  ...  07-04-2016 01:46\n",
              "2  14-03-2016 12:52  ...  05-04-2016 12:47\n",
              "\n",
              "[3 rows x 20 columns]"
            ]
          },
          "metadata": {
            "tags": []
          },
          "execution_count": 21
        }
      ]
    },
    {
      "cell_type": "markdown",
      "metadata": {
        "id": "IT_AY-2e6v-m",
        "colab_type": "text"
      },
      "source": [
        "# Exploring the dataset"
      ]
    },
    {
      "cell_type": "code",
      "metadata": {
        "id": "4jIUYVCR5ULX",
        "colab_type": "code",
        "outputId": "c1581ce1-7445-4e84-8473-ca85a553e901",
        "colab": {
          "base_uri": "https://localhost:8080/",
          "height": 35
        }
      },
      "source": [
        "df.shape"
      ],
      "execution_count": 22,
      "outputs": [
        {
          "output_type": "execute_result",
          "data": {
            "text/plain": [
              "(371723, 20)"
            ]
          },
          "metadata": {
            "tags": []
          },
          "execution_count": 22
        }
      ]
    },
    {
      "cell_type": "code",
      "metadata": {
        "id": "oR9Eb0peGQ0L",
        "colab_type": "code",
        "outputId": "76c8cb30-5a10-43d1-c6b2-84c43f325778",
        "colab": {
          "base_uri": "https://localhost:8080/",
          "height": 508
        }
      },
      "source": [
        "df.info()"
      ],
      "execution_count": 23,
      "outputs": [
        {
          "output_type": "stream",
          "text": [
            "<class 'pandas.core.frame.DataFrame'>\n",
            "RangeIndex: 371723 entries, 0 to 371722\n",
            "Data columns (total 20 columns):\n",
            " #   Column               Non-Null Count   Dtype  \n",
            "---  ------               --------------   -----  \n",
            " 0   dateCrawled          371723 non-null  object \n",
            " 1   name                 371723 non-null  object \n",
            " 2   seller               371722 non-null  object \n",
            " 3   offerType            371722 non-null  object \n",
            " 4   price                371722 non-null  float64\n",
            " 5   abtest               371722 non-null  object \n",
            " 6   vehicleType          333836 non-null  object \n",
            " 7   yearOfRegistration   371722 non-null  float64\n",
            " 8   gearbox              351505 non-null  object \n",
            " 9   powerPS              371723 non-null  int64  \n",
            " 10  model                351232 non-null  object \n",
            " 11  kilometer            371723 non-null  int64  \n",
            " 12  monthOfRegistration  371723 non-null  int64  \n",
            " 13  fuelType             338319 non-null  object \n",
            " 14  brand                371723 non-null  object \n",
            " 15  notRepairedDamage    299627 non-null  object \n",
            " 16  dateCreated          371723 non-null  object \n",
            " 17  nrOfPictures         371723 non-null  int64  \n",
            " 18  postalCode           371723 non-null  int64  \n",
            " 19  lastSeen             371723 non-null  object \n",
            "dtypes: float64(2), int64(5), object(13)\n",
            "memory usage: 56.7+ MB\n"
          ],
          "name": "stdout"
        }
      ]
    },
    {
      "cell_type": "code",
      "metadata": {
        "id": "DG0fW0pu8efS",
        "colab_type": "code",
        "colab": {}
      },
      "source": [
        "df['dateCrawled'] = pd.to_datetime(df['dateCrawled'])\n",
        "df['dateCreated'] = pd.to_datetime(df['dateCreated'])\n",
        "df['lastSeen'] = pd.to_datetime(df['lastSeen'])"
      ],
      "execution_count": 0,
      "outputs": []
    },
    {
      "cell_type": "code",
      "metadata": {
        "id": "g7If0a12AG1H",
        "colab_type": "code",
        "outputId": "172fa3da-ceca-473b-c667-e8e4e6d2f6c2",
        "colab": {
          "base_uri": "https://localhost:8080/",
          "height": 508
        }
      },
      "source": [
        "df.info()"
      ],
      "execution_count": 25,
      "outputs": [
        {
          "output_type": "stream",
          "text": [
            "<class 'pandas.core.frame.DataFrame'>\n",
            "RangeIndex: 371723 entries, 0 to 371722\n",
            "Data columns (total 20 columns):\n",
            " #   Column               Non-Null Count   Dtype         \n",
            "---  ------               --------------   -----         \n",
            " 0   dateCrawled          371723 non-null  datetime64[ns]\n",
            " 1   name                 371723 non-null  object        \n",
            " 2   seller               371722 non-null  object        \n",
            " 3   offerType            371722 non-null  object        \n",
            " 4   price                371722 non-null  float64       \n",
            " 5   abtest               371722 non-null  object        \n",
            " 6   vehicleType          333836 non-null  object        \n",
            " 7   yearOfRegistration   371722 non-null  float64       \n",
            " 8   gearbox              351505 non-null  object        \n",
            " 9   powerPS              371723 non-null  int64         \n",
            " 10  model                351232 non-null  object        \n",
            " 11  kilometer            371723 non-null  int64         \n",
            " 12  monthOfRegistration  371723 non-null  int64         \n",
            " 13  fuelType             338319 non-null  object        \n",
            " 14  brand                371723 non-null  object        \n",
            " 15  notRepairedDamage    299627 non-null  object        \n",
            " 16  dateCreated          371723 non-null  datetime64[ns]\n",
            " 17  nrOfPictures         371723 non-null  int64         \n",
            " 18  postalCode           371723 non-null  int64         \n",
            " 19  lastSeen             371723 non-null  datetime64[ns]\n",
            "dtypes: datetime64[ns](3), float64(2), int64(5), object(10)\n",
            "memory usage: 56.7+ MB\n"
          ],
          "name": "stdout"
        }
      ]
    },
    {
      "cell_type": "code",
      "metadata": {
        "id": "AF5k6zRNAzZ0",
        "colab_type": "code",
        "outputId": "fbd94b50-28e7-47b4-82fe-e806f4ea6a35",
        "colab": {
          "base_uri": "https://localhost:8080/",
          "height": 313
        }
      },
      "source": [
        "df.head()"
      ],
      "execution_count": 26,
      "outputs": [
        {
          "output_type": "execute_result",
          "data": {
            "text/html": [
              "<div>\n",
              "<style scoped>\n",
              "    .dataframe tbody tr th:only-of-type {\n",
              "        vertical-align: middle;\n",
              "    }\n",
              "\n",
              "    .dataframe tbody tr th {\n",
              "        vertical-align: top;\n",
              "    }\n",
              "\n",
              "    .dataframe thead th {\n",
              "        text-align: right;\n",
              "    }\n",
              "</style>\n",
              "<table border=\"1\" class=\"dataframe\">\n",
              "  <thead>\n",
              "    <tr style=\"text-align: right;\">\n",
              "      <th></th>\n",
              "      <th>dateCrawled</th>\n",
              "      <th>name</th>\n",
              "      <th>seller</th>\n",
              "      <th>offerType</th>\n",
              "      <th>price</th>\n",
              "      <th>abtest</th>\n",
              "      <th>vehicleType</th>\n",
              "      <th>yearOfRegistration</th>\n",
              "      <th>gearbox</th>\n",
              "      <th>powerPS</th>\n",
              "      <th>model</th>\n",
              "      <th>kilometer</th>\n",
              "      <th>monthOfRegistration</th>\n",
              "      <th>fuelType</th>\n",
              "      <th>brand</th>\n",
              "      <th>notRepairedDamage</th>\n",
              "      <th>dateCreated</th>\n",
              "      <th>nrOfPictures</th>\n",
              "      <th>postalCode</th>\n",
              "      <th>lastSeen</th>\n",
              "    </tr>\n",
              "  </thead>\n",
              "  <tbody>\n",
              "    <tr>\n",
              "      <th>0</th>\n",
              "      <td>2016-03-24 11:52:00</td>\n",
              "      <td>Golf_3_1.6</td>\n",
              "      <td>private</td>\n",
              "      <td>offer</td>\n",
              "      <td>480.0</td>\n",
              "      <td>test</td>\n",
              "      <td>NaN</td>\n",
              "      <td>1993.0</td>\n",
              "      <td>manual</td>\n",
              "      <td>0</td>\n",
              "      <td>golf</td>\n",
              "      <td>150000</td>\n",
              "      <td>0</td>\n",
              "      <td>petrol</td>\n",
              "      <td>volkswagen</td>\n",
              "      <td>NaN</td>\n",
              "      <td>2016-03-24</td>\n",
              "      <td>0</td>\n",
              "      <td>70435</td>\n",
              "      <td>2016-07-04 03:16:00</td>\n",
              "    </tr>\n",
              "    <tr>\n",
              "      <th>1</th>\n",
              "      <td>2016-03-24 10:58:00</td>\n",
              "      <td>A5_Sportback_2.7_Tdi</td>\n",
              "      <td>private</td>\n",
              "      <td>offer</td>\n",
              "      <td>18300.0</td>\n",
              "      <td>test</td>\n",
              "      <td>coupe</td>\n",
              "      <td>2011.0</td>\n",
              "      <td>manual</td>\n",
              "      <td>190</td>\n",
              "      <td>NaN</td>\n",
              "      <td>125000</td>\n",
              "      <td>5</td>\n",
              "      <td>diesel</td>\n",
              "      <td>audi</td>\n",
              "      <td>Yes</td>\n",
              "      <td>2016-03-24</td>\n",
              "      <td>0</td>\n",
              "      <td>66954</td>\n",
              "      <td>2016-07-04 01:46:00</td>\n",
              "    </tr>\n",
              "    <tr>\n",
              "      <th>2</th>\n",
              "      <td>2016-03-14 12:52:00</td>\n",
              "      <td>Jeep_Grand_Cherokee_\"Overland\"</td>\n",
              "      <td>private</td>\n",
              "      <td>offer</td>\n",
              "      <td>9800.0</td>\n",
              "      <td>test</td>\n",
              "      <td>suv</td>\n",
              "      <td>2004.0</td>\n",
              "      <td>automatic</td>\n",
              "      <td>163</td>\n",
              "      <td>grand</td>\n",
              "      <td>125000</td>\n",
              "      <td>8</td>\n",
              "      <td>diesel</td>\n",
              "      <td>jeep</td>\n",
              "      <td>NaN</td>\n",
              "      <td>2016-03-14</td>\n",
              "      <td>0</td>\n",
              "      <td>90480</td>\n",
              "      <td>2016-05-04 12:47:00</td>\n",
              "    </tr>\n",
              "    <tr>\n",
              "      <th>3</th>\n",
              "      <td>2016-03-17 16:54:00</td>\n",
              "      <td>GOLF_4_1_4__3TÜRER</td>\n",
              "      <td>private</td>\n",
              "      <td>offer</td>\n",
              "      <td>1500.0</td>\n",
              "      <td>test</td>\n",
              "      <td>small car</td>\n",
              "      <td>2001.0</td>\n",
              "      <td>manual</td>\n",
              "      <td>75</td>\n",
              "      <td>golf</td>\n",
              "      <td>150000</td>\n",
              "      <td>6</td>\n",
              "      <td>petrol</td>\n",
              "      <td>volkswagen</td>\n",
              "      <td>No</td>\n",
              "      <td>2016-03-17</td>\n",
              "      <td>0</td>\n",
              "      <td>91074</td>\n",
              "      <td>2016-03-17 17:40:00</td>\n",
              "    </tr>\n",
              "    <tr>\n",
              "      <th>4</th>\n",
              "      <td>2016-03-31 17:25:00</td>\n",
              "      <td>Skoda_Fabia_1.4_TDI_PD_Classic</td>\n",
              "      <td>private</td>\n",
              "      <td>offer</td>\n",
              "      <td>3600.0</td>\n",
              "      <td>test</td>\n",
              "      <td>small car</td>\n",
              "      <td>2008.0</td>\n",
              "      <td>manual</td>\n",
              "      <td>69</td>\n",
              "      <td>fabia</td>\n",
              "      <td>90000</td>\n",
              "      <td>7</td>\n",
              "      <td>diesel</td>\n",
              "      <td>skoda</td>\n",
              "      <td>No</td>\n",
              "      <td>2016-03-31</td>\n",
              "      <td>0</td>\n",
              "      <td>60437</td>\n",
              "      <td>2016-06-04 10:17:00</td>\n",
              "    </tr>\n",
              "  </tbody>\n",
              "</table>\n",
              "</div>"
            ],
            "text/plain": [
              "          dateCrawled  ...            lastSeen\n",
              "0 2016-03-24 11:52:00  ... 2016-07-04 03:16:00\n",
              "1 2016-03-24 10:58:00  ... 2016-07-04 01:46:00\n",
              "2 2016-03-14 12:52:00  ... 2016-05-04 12:47:00\n",
              "3 2016-03-17 16:54:00  ... 2016-03-17 17:40:00\n",
              "4 2016-03-31 17:25:00  ... 2016-06-04 10:17:00\n",
              "\n",
              "[5 rows x 20 columns]"
            ]
          },
          "metadata": {
            "tags": []
          },
          "execution_count": 26
        }
      ]
    },
    {
      "cell_type": "markdown",
      "metadata": {
        "id": "xRXyHh1A2VOn",
        "colab_type": "text"
      },
      "source": [
        "# Handling missing values"
      ]
    },
    {
      "cell_type": "code",
      "metadata": {
        "id": "FQB4clpCNk_P",
        "colab_type": "code",
        "outputId": "917178e9-7100-4d8e-feb2-639a52812296",
        "colab": {
          "base_uri": "https://localhost:8080/",
          "height": 677
        }
      },
      "source": [
        "def get_missing_val_count_df(df):\n",
        "  missing_count_list = []\n",
        "  for col in df.columns:\n",
        "    missing_count_list.append(df[col].isnull().sum())\n",
        "  missing_count_df = pd.DataFrame(missing_count_list,columns=['count'],index = df.columns)\n",
        "  return missing_count_df.sort_values('count',ascending=False)\n",
        "get_missing_val_count_df(df)"
      ],
      "execution_count": 27,
      "outputs": [
        {
          "output_type": "execute_result",
          "data": {
            "text/html": [
              "<div>\n",
              "<style scoped>\n",
              "    .dataframe tbody tr th:only-of-type {\n",
              "        vertical-align: middle;\n",
              "    }\n",
              "\n",
              "    .dataframe tbody tr th {\n",
              "        vertical-align: top;\n",
              "    }\n",
              "\n",
              "    .dataframe thead th {\n",
              "        text-align: right;\n",
              "    }\n",
              "</style>\n",
              "<table border=\"1\" class=\"dataframe\">\n",
              "  <thead>\n",
              "    <tr style=\"text-align: right;\">\n",
              "      <th></th>\n",
              "      <th>count</th>\n",
              "    </tr>\n",
              "  </thead>\n",
              "  <tbody>\n",
              "    <tr>\n",
              "      <th>notRepairedDamage</th>\n",
              "      <td>72096</td>\n",
              "    </tr>\n",
              "    <tr>\n",
              "      <th>vehicleType</th>\n",
              "      <td>37887</td>\n",
              "    </tr>\n",
              "    <tr>\n",
              "      <th>fuelType</th>\n",
              "      <td>33404</td>\n",
              "    </tr>\n",
              "    <tr>\n",
              "      <th>model</th>\n",
              "      <td>20491</td>\n",
              "    </tr>\n",
              "    <tr>\n",
              "      <th>gearbox</th>\n",
              "      <td>20218</td>\n",
              "    </tr>\n",
              "    <tr>\n",
              "      <th>seller</th>\n",
              "      <td>1</td>\n",
              "    </tr>\n",
              "    <tr>\n",
              "      <th>offerType</th>\n",
              "      <td>1</td>\n",
              "    </tr>\n",
              "    <tr>\n",
              "      <th>price</th>\n",
              "      <td>1</td>\n",
              "    </tr>\n",
              "    <tr>\n",
              "      <th>abtest</th>\n",
              "      <td>1</td>\n",
              "    </tr>\n",
              "    <tr>\n",
              "      <th>yearOfRegistration</th>\n",
              "      <td>1</td>\n",
              "    </tr>\n",
              "    <tr>\n",
              "      <th>brand</th>\n",
              "      <td>0</td>\n",
              "    </tr>\n",
              "    <tr>\n",
              "      <th>postalCode</th>\n",
              "      <td>0</td>\n",
              "    </tr>\n",
              "    <tr>\n",
              "      <th>nrOfPictures</th>\n",
              "      <td>0</td>\n",
              "    </tr>\n",
              "    <tr>\n",
              "      <th>dateCreated</th>\n",
              "      <td>0</td>\n",
              "    </tr>\n",
              "    <tr>\n",
              "      <th>dateCrawled</th>\n",
              "      <td>0</td>\n",
              "    </tr>\n",
              "    <tr>\n",
              "      <th>monthOfRegistration</th>\n",
              "      <td>0</td>\n",
              "    </tr>\n",
              "    <tr>\n",
              "      <th>kilometer</th>\n",
              "      <td>0</td>\n",
              "    </tr>\n",
              "    <tr>\n",
              "      <th>name</th>\n",
              "      <td>0</td>\n",
              "    </tr>\n",
              "    <tr>\n",
              "      <th>powerPS</th>\n",
              "      <td>0</td>\n",
              "    </tr>\n",
              "    <tr>\n",
              "      <th>lastSeen</th>\n",
              "      <td>0</td>\n",
              "    </tr>\n",
              "  </tbody>\n",
              "</table>\n",
              "</div>"
            ],
            "text/plain": [
              "                     count\n",
              "notRepairedDamage    72096\n",
              "vehicleType          37887\n",
              "fuelType             33404\n",
              "model                20491\n",
              "gearbox              20218\n",
              "seller                   1\n",
              "offerType                1\n",
              "price                    1\n",
              "abtest                   1\n",
              "yearOfRegistration       1\n",
              "brand                    0\n",
              "postalCode               0\n",
              "nrOfPictures             0\n",
              "dateCreated              0\n",
              "dateCrawled              0\n",
              "monthOfRegistration      0\n",
              "kilometer                0\n",
              "name                     0\n",
              "powerPS                  0\n",
              "lastSeen                 0"
            ]
          },
          "metadata": {
            "tags": []
          },
          "execution_count": 27
        }
      ]
    },
    {
      "cell_type": "markdown",
      "metadata": {
        "id": "_-WFKMCxFFFO",
        "colab_type": "text"
      },
      "source": [
        "### Price"
      ]
    },
    {
      "cell_type": "code",
      "metadata": {
        "id": "fEuxhNjE4s9Y",
        "colab_type": "code",
        "outputId": "d2069d03-0662-43ef-c55d-7135d104bfc1",
        "colab": {
          "base_uri": "https://localhost:8080/",
          "height": 181
        }
      },
      "source": [
        "df['price'].describe()"
      ],
      "execution_count": 28,
      "outputs": [
        {
          "output_type": "execute_result",
          "data": {
            "text/plain": [
              "count    3.717220e+05\n",
              "mean     1.729044e+04\n",
              "std      3.587017e+06\n",
              "min      0.000000e+00\n",
              "25%      1.150000e+03\n",
              "50%      2.950000e+03\n",
              "75%      7.200000e+03\n",
              "max      2.147484e+09\n",
              "Name: price, dtype: float64"
            ]
          },
          "metadata": {
            "tags": []
          },
          "execution_count": 28
        }
      ]
    },
    {
      "cell_type": "code",
      "metadata": {
        "id": "hcgR4Rmp3IQh",
        "colab_type": "code",
        "outputId": "7a8cf215-67b3-4b57-ed6a-e78d2c9470c0",
        "colab": {
          "base_uri": "https://localhost:8080/",
          "height": 306
        }
      },
      "source": [
        "import seaborn as sns\n",
        "import matplotlib.pyplot as plt\n",
        "plt.figure(figsize = (20,5))\n",
        "sns.boxplot(df['price'])"
      ],
      "execution_count": 29,
      "outputs": [
        {
          "output_type": "execute_result",
          "data": {
            "text/plain": [
              "<matplotlib.axes._subplots.AxesSubplot at 0x7fc337d16358>"
            ]
          },
          "metadata": {
            "tags": []
          },
          "execution_count": 29
        },
        {
          "output_type": "display_data",
          "data": {
            "image/png": "[encoded data removed]",
            "text/plain": [
              "<Figure size 1440x360 with 1 Axes>"
            ]
          },
          "metadata": {
            "tags": [],
            "needs_background": "light"
          }
        }
      ]
    },
    {
      "cell_type": "code",
      "metadata": {
        "id": "QqJwCxh6Comn",
        "colab_type": "code",
        "outputId": "d9d085bc-81e7-46a0-9f8b-e749413967d1",
        "colab": {
          "base_uri": "https://localhost:8080/",
          "height": 306
        }
      },
      "source": [
        "plt.figure(figsize = (20,5))\n",
        "sns.boxplot(df[(df['price']>=100) & (df['price']<=1000000)]['price'])"
      ],
      "execution_count": 30,
      "outputs": [
        {
          "output_type": "execute_result",
          "data": {
            "text/plain": [
              "<matplotlib.axes._subplots.AxesSubplot at 0x7fc32c8510b8>"
            ]
          },
          "metadata": {
            "tags": []
          },
          "execution_count": 30
        },
        {
          "output_type": "display_data",
          "data": {
            "image/png": "[encoded data removed]",
            "text/plain": [
              "<Figure size 1440x360 with 1 Axes>"
            ]
          },
          "metadata": {
            "tags": [],
            "needs_background": "light"
          }
        }
      ]
    },
    {
      "cell_type": "markdown",
      "metadata": {
        "id": "A69CiDMAMppI",
        "colab_type": "text"
      },
      "source": [
        "### Outlier detection using Isolation Forest"
      ]
    },
    {
      "cell_type": "code",
      "metadata": {
        "id": "DBwgjpaSC7aI",
        "colab_type": "code",
        "colab": {}
      },
      "source": [
        "dfprice = df[(df['price'].isnull() == False)]['price']"
      ],
      "execution_count": 0,
      "outputs": []
    },
    {
      "cell_type": "code",
      "metadata": {
        "id": "fI8kJIIv3Rhd",
        "colab_type": "code",
        "outputId": "d2b85990-93c1-49c3-d01b-322f59cafaa6",
        "colab": {
          "base_uri": "https://localhost:8080/",
          "height": 373
        }
      },
      "source": [
        "#Import necessary libraries\n",
        "from sklearn.ensemble import IsolationForest\n",
        "#The required columns\n",
        "isolation_forest = IsolationForest(contamination='auto')\n",
        "isolation_forest.fit(dfprice.values.reshape(-1,1))\n",
        "\n",
        "xx = np.linspace(dfprice.min(), dfprice.max(), len(df)).reshape(-1,1)\n",
        "print(xx)\n",
        "anomaly_score = isolation_forest.decision_function(xx)\n",
        "outlier = isolation_forest.predict(xx)\n",
        "\n",
        "plt.figure(figsize=(25,5))\n",
        "plt.plot(xx, anomaly_score, label='anomaly score')\n",
        "plt.fill_between(xx.T[0], np.min(anomaly_score), np.max(anomaly_score), \n",
        "                     where=outlier==-1, color='r', \n",
        "                     alpha=.4, label='outlier region')\n",
        "plt.legend()\n",
        "plt.xlim(0, 100000)\n",
        "# plt.axis([0,100000,0,0])\n",
        "plt.title('price')"
      ],
      "execution_count": 32,
      "outputs": [
        {
          "output_type": "stream",
          "text": [
            "[[0.00000000e+00]\n",
            " [5.77712281e+03]\n",
            " [1.15542456e+04]\n",
            " ...\n",
            " [2.14747209e+09]\n",
            " [2.14747787e+09]\n",
            " [2.14748365e+09]]\n"
          ],
          "name": "stdout"
        },
        {
          "output_type": "execute_result",
          "data": {
            "text/plain": [
              "Text(0.5, 1.0, 'price')"
            ]
          },
          "metadata": {
            "tags": []
          },
          "execution_count": 32
        },
        {
          "output_type": "display_data",
          "data": {
            "image/png": "[encoded data removed]",
            "text/plain": [
              "<Figure size 1800x360 with 1 Axes>"
            ]
          },
          "metadata": {
            "tags": [],
            "needs_background": "light"
          }
        }
      ]
    },
    {
      "cell_type": "markdown",
      "metadata": {
        "id": "YJn0d9hV_cn1",
        "colab_type": "text"
      },
      "source": [
        "If we see from the above plot, almost all data point above 12000 seems to come under outliers, but dropping all of those does not seem to be a feasible solution. We can also see that data points after 80000 have consistently very low anamoly score, so we can go ahead and drop those data points, and the remaining outliers can be handled further using transformation techniques. Also data points with price below 150 also seem to be very low as far as price of a used car is concerned, so we will also drop those data points which have price below 150."
      ]
    },
    {
      "cell_type": "code",
      "metadata": {
        "id": "DBqK3ai9MfXU",
        "colab_type": "code",
        "outputId": "9366dd5a-caa8-4ce5-8b64-1f6d9716a1f5",
        "colab": {
          "base_uri": "https://localhost:8080/",
          "height": 297
        }
      },
      "source": [
        "sns.distplot(df[(df['price']>=150) & (df['price']<=80000)]['price'])"
      ],
      "execution_count": 33,
      "outputs": [
        {
          "output_type": "execute_result",
          "data": {
            "text/plain": [
              "<matplotlib.axes._subplots.AxesSubplot at 0x7fc32c86aa58>"
            ]
          },
          "metadata": {
            "tags": []
          },
          "execution_count": 33
        },
        {
          "output_type": "display_data",
          "data": {
            "image/png": "[encoded data removed]",
            "text/plain": [
              "<Figure size 432x288 with 1 Axes>"
            ]
          },
          "metadata": {
            "tags": [],
            "needs_background": "light"
          }
        }
      ]
    },
    {
      "cell_type": "code",
      "metadata": {
        "id": "5_RB_30uM_bv",
        "colab_type": "code",
        "outputId": "89da0b18-f004-45e3-b1f4-0fc4b8130b4b",
        "colab": {
          "base_uri": "https://localhost:8080/",
          "height": 35
        }
      },
      "source": [
        "df[(df['price']>=150) & (df['price']<=80000)].shape"
      ],
      "execution_count": 34,
      "outputs": [
        {
          "output_type": "execute_result",
          "data": {
            "text/plain": [
              "(356195, 20)"
            ]
          },
          "metadata": {
            "tags": []
          },
          "execution_count": 34
        }
      ]
    },
    {
      "cell_type": "code",
      "metadata": {
        "id": "qtvL5oFkNBBQ",
        "colab_type": "code",
        "colab": {}
      },
      "source": [
        "df2 = df[(df['price']>=150) & (df['price']<=80000)]"
      ],
      "execution_count": 0,
      "outputs": []
    },
    {
      "cell_type": "code",
      "metadata": {
        "id": "oH-Px9MgDGt4",
        "colab_type": "code",
        "colab": {
          "base_uri": "https://localhost:8080/",
          "height": 677
        },
        "outputId": "bbc946fb-497c-489c-fe9b-bce9a9dd4522"
      },
      "source": [
        "get_missing_val_count_df(df2)"
      ],
      "execution_count": 36,
      "outputs": [
        {
          "output_type": "execute_result",
          "data": {
            "text/html": [
              "<div>\n",
              "<style scoped>\n",
              "    .dataframe tbody tr th:only-of-type {\n",
              "        vertical-align: middle;\n",
              "    }\n",
              "\n",
              "    .dataframe tbody tr th {\n",
              "        vertical-align: top;\n",
              "    }\n",
              "\n",
              "    .dataframe thead th {\n",
              "        text-align: right;\n",
              "    }\n",
              "</style>\n",
              "<table border=\"1\" class=\"dataframe\">\n",
              "  <thead>\n",
              "    <tr style=\"text-align: right;\">\n",
              "      <th></th>\n",
              "      <th>count</th>\n",
              "    </tr>\n",
              "  </thead>\n",
              "  <tbody>\n",
              "    <tr>\n",
              "      <th>notRepairedDamage</th>\n",
              "      <td>64418</td>\n",
              "    </tr>\n",
              "    <tr>\n",
              "      <th>vehicleType</th>\n",
              "      <td>32418</td>\n",
              "    </tr>\n",
              "    <tr>\n",
              "      <th>fuelType</th>\n",
              "      <td>28259</td>\n",
              "    </tr>\n",
              "    <tr>\n",
              "      <th>model</th>\n",
              "      <td>17454</td>\n",
              "    </tr>\n",
              "    <tr>\n",
              "      <th>gearbox</th>\n",
              "      <td>16240</td>\n",
              "    </tr>\n",
              "    <tr>\n",
              "      <th>kilometer</th>\n",
              "      <td>0</td>\n",
              "    </tr>\n",
              "    <tr>\n",
              "      <th>postalCode</th>\n",
              "      <td>0</td>\n",
              "    </tr>\n",
              "    <tr>\n",
              "      <th>nrOfPictures</th>\n",
              "      <td>0</td>\n",
              "    </tr>\n",
              "    <tr>\n",
              "      <th>dateCreated</th>\n",
              "      <td>0</td>\n",
              "    </tr>\n",
              "    <tr>\n",
              "      <th>brand</th>\n",
              "      <td>0</td>\n",
              "    </tr>\n",
              "    <tr>\n",
              "      <th>monthOfRegistration</th>\n",
              "      <td>0</td>\n",
              "    </tr>\n",
              "    <tr>\n",
              "      <th>dateCrawled</th>\n",
              "      <td>0</td>\n",
              "    </tr>\n",
              "    <tr>\n",
              "      <th>name</th>\n",
              "      <td>0</td>\n",
              "    </tr>\n",
              "    <tr>\n",
              "      <th>powerPS</th>\n",
              "      <td>0</td>\n",
              "    </tr>\n",
              "    <tr>\n",
              "      <th>yearOfRegistration</th>\n",
              "      <td>0</td>\n",
              "    </tr>\n",
              "    <tr>\n",
              "      <th>abtest</th>\n",
              "      <td>0</td>\n",
              "    </tr>\n",
              "    <tr>\n",
              "      <th>price</th>\n",
              "      <td>0</td>\n",
              "    </tr>\n",
              "    <tr>\n",
              "      <th>offerType</th>\n",
              "      <td>0</td>\n",
              "    </tr>\n",
              "    <tr>\n",
              "      <th>seller</th>\n",
              "      <td>0</td>\n",
              "    </tr>\n",
              "    <tr>\n",
              "      <th>lastSeen</th>\n",
              "      <td>0</td>\n",
              "    </tr>\n",
              "  </tbody>\n",
              "</table>\n",
              "</div>"
            ],
            "text/plain": [
              "                     count\n",
              "notRepairedDamage    64418\n",
              "vehicleType          32418\n",
              "fuelType             28259\n",
              "model                17454\n",
              "gearbox              16240\n",
              "kilometer                0\n",
              "postalCode               0\n",
              "nrOfPictures             0\n",
              "dateCreated              0\n",
              "brand                    0\n",
              "monthOfRegistration      0\n",
              "dateCrawled              0\n",
              "name                     0\n",
              "powerPS                  0\n",
              "yearOfRegistration       0\n",
              "abtest                   0\n",
              "price                    0\n",
              "offerType                0\n",
              "seller                   0\n",
              "lastSeen                 0"
            ]
          },
          "metadata": {
            "tags": []
          },
          "execution_count": 36
        }
      ]
    },
    {
      "cell_type": "markdown",
      "metadata": {
        "id": "lSOr6lY4FJNF",
        "colab_type": "text"
      },
      "source": [
        "### Kilometers"
      ]
    },
    {
      "cell_type": "code",
      "metadata": {
        "id": "TFfR4mpMFrQ8",
        "colab_type": "code",
        "colab": {
          "base_uri": "https://localhost:8080/",
          "height": 181
        },
        "outputId": "7b5a0704-31a8-4a8d-c411-d58520c7df7f"
      },
      "source": [
        "df2['kilometer'].describe()"
      ],
      "execution_count": 37,
      "outputs": [
        {
          "output_type": "execute_result",
          "data": {
            "text/plain": [
              "count    356195.000000\n",
              "mean     125903.283314\n",
              "std       39456.377128\n",
              "min        5000.000000\n",
              "25%      125000.000000\n",
              "50%      150000.000000\n",
              "75%      150000.000000\n",
              "max      150000.000000\n",
              "Name: kilometer, dtype: float64"
            ]
          },
          "metadata": {
            "tags": []
          },
          "execution_count": 37
        }
      ]
    },
    {
      "cell_type": "code",
      "metadata": {
        "id": "wIATAZxTDg9W",
        "colab_type": "code",
        "colab": {
          "base_uri": "https://localhost:8080/",
          "height": 294
        },
        "outputId": "a1a3ec92-e1df-4f6a-e83c-9bc3085ad0ca"
      },
      "source": [
        "df2['kilometer'].plot(kind = 'density')"
      ],
      "execution_count": 38,
      "outputs": [
        {
          "output_type": "execute_result",
          "data": {
            "text/plain": [
              "<matplotlib.axes._subplots.AxesSubplot at 0x7fc327711a90>"
            ]
          },
          "metadata": {
            "tags": []
          },
          "execution_count": 38
        },
        {
          "output_type": "display_data",
          "data": {
            "image/png": "[encoded data removed]",
            "text/plain": [
              "<Figure size 432x288 with 1 Axes>"
            ]
          },
          "metadata": {
            "tags": [],
            "needs_background": "light"
          }
        }
      ]
    },
    {
      "cell_type": "code",
      "metadata": {
        "id": "sPCeLPomFgAO",
        "colab_type": "code",
        "colab": {
          "base_uri": "https://localhost:8080/",
          "height": 53
        },
        "outputId": "301d9c42-ce19-44fe-d871-3ccd57212333"
      },
      "source": [
        "print(np.quantile(df2['kilometer'],0.3531))\n",
        "print(np.quantile(df2['kilometer'],0.3532))"
      ],
      "execution_count": 39,
      "outputs": [
        {
          "output_type": "stream",
          "text": [
            "125000.0\n",
            "150000.0\n"
          ],
          "name": "stdout"
        }
      ]
    },
    {
      "cell_type": "markdown",
      "metadata": {
        "id": "lRIF7gd5W1ao",
        "colab_type": "text"
      },
      "source": [
        "As we can see, about only 35 percent of the data have kilometers driven less than 125000 and the rest 65 percent of the data value is 150000. This could be due to a default value in the feature which creating a new add which the ad creators could have not changed and kept it as default. So this could be a **DATA COLLECTION ERROR**"
      ]
    }
  ]
}