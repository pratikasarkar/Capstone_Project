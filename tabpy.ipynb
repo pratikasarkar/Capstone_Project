{
 "cells": [
  {
   "cell_type": "code",
   "execution_count": 27,
   "metadata": {
    "colab": {},
    "colab_type": "code",
    "id": "PD8IahtuDI98",
    "scrolled": true
   },
   "outputs": [],
   "source": [
    "from tabpy.tabpy_tools.client import Client\n",
    "\n",
    "client = Client('http://localhost:9004/')\n",
    "\n",
    "def pred(age , powerPS , No_of_days_online , kilometer , vehicleType , fuelType , model , brand , state , mfg , damage , gearbox) :\n",
    "    try:\n",
    "        import numpy as np               \n",
    "        import pandas as pd               \n",
    "        from keras.models import load_model\n",
    "        import joblib\n",
    "        import warnings\n",
    "        warnings.filterwarnings('ignore')\n",
    "        mm = joblib.load(r'C:\\Users\\Pratik Asarkar\\Desktop\\New folder\\ss.pkl') \n",
    "        map_dict = np.load(r'C:\\Users\\Pratik Asarkar\\Desktop\\New folder\\map_dict.npy',allow_pickle='TRUE').item()\n",
    "        model1 = joblib.load(r'C:\\Users\\Pratik Asarkar\\Desktop\\New folder\\gbr_model.pkl') \n",
    "        print('load')\n",
    "        yn = {'Yes': 1,'No':0}\n",
    "        km = map_dict['kilometer'][kilometer[0]]\n",
    "        vt = map_dict['vehicleType'][vehicleType[0]]\n",
    "        ft = map_dict['fuelType'][fuelType[0]]\n",
    "        mod = map_dict['model'][model[0]]\n",
    "        br = map_dict['brand'][brand[0]]\n",
    "        st = map_dict['state'][state[0]]\n",
    "        com = map_dict['CountryOfManufacture'][mfg[0]]\n",
    "        d = yn[damage[0]]\n",
    "        gb = yn[gearbox[0]]\n",
    "        print('-----------')\n",
    "        arr = np.array([age[0],powerPS[0],No_of_days_online[0],km,vt,ft,mod,br,st,com,d,gb])\n",
    "        print(arr)\n",
    "        arr_t = ss.transform(arr.reshape(1,-1))\n",
    "        pred = model1.predict(arr_t)\n",
    "        return pred.tolist()\n",
    "    except Exception as e:\n",
    "        print(e)\n",
    "\n",
    "client.deploy('price_prediction', pred, 'Predict used car price',override=True)"
   ]
  },
  {
   "cell_type": "code",
   "execution_count": 28,
   "metadata": {
    "colab": {},
    "colab_type": "code",
    "id": "kslvUql8E1GM"
   },
   "outputs": [
    {
     "name": "stdout",
     "output_type": "stream",
     "text": [
      "No module named 'keras'\n"
     ]
    }
   ],
   "source": [
    "pred(age = 12,powerPS=69,No_of_days_online=6,kilometer=90000,vehicleType='small car',fuelType='diesel',model='fabia', \\\n",
    "        brand = 'skoda',state = 'Hessen',mfg = 'Czech',damage = 'No',gearbox = 'No')"
   ]
  },
  {
   "cell_type": "code",
   "execution_count": 18,
   "metadata": {},
   "outputs": [],
   "source": [
    "from tabpy.tabpy_tools.client import Client\n",
    "client = Client('http://localhost:9004/')\n",
    "def multiply11(x,y):\n",
    "    import numpy as np\n",
    "    return np.dot(x,y).tolist()\n",
    "client.deploy('multiply11', multiply11, 'Multiples two numbers x and y',override=True)"
   ]
  },
  {
   "cell_type": "code",
   "execution_count": 58,
   "metadata": {},
   "outputs": [
    {
     "data": {
      "text/plain": [
       "12"
      ]
     },
     "execution_count": 58,
     "metadata": {},
     "output_type": "execute_result"
    }
   ],
   "source": [
    "multiply11(3,4)"
   ]
  },
  {
   "cell_type": "code",
   "execution_count": null,
   "metadata": {},
   "outputs": [],
   "source": [
    "multiply"
   ]
  }
 ],
 "metadata": {
  "colab": {
   "name": "tabpy.ipynb",
   "provenance": []
  },
  "kernelspec": {
   "display_name": "Python 3",
   "language": "python",
   "name": "python3"
  },
  "language_info": {
   "codemirror_mode": {
    "name": "ipython",
    "version": 3
   },
   "file_extension": ".py",
   "mimetype": "text/x-python",
   "name": "python",
   "nbconvert_exporter": "python",
   "pygments_lexer": "ipython3",
   "version": "3.7.4"
  }
 },
 "nbformat": 4,
 "nbformat_minor": 1
}
