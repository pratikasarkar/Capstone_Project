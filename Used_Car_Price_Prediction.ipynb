{
  "nbformat": 4,
  "nbformat_minor": 0,
  "metadata": {
    "kernelspec": {
      "display_name": "Python 3",
      "language": "python",
      "name": "python3"
    },
    "language_info": {
      "codemirror_mode": {
        "name": "ipython",
        "version": 3
      },
      "file_extension": ".py",
      "mimetype": "text/x-python",
      "name": "python",
      "nbconvert_exporter": "python",
      "pygments_lexer": "ipython3",
      "version": "3.7.4"
    },
    "colab": {
      "name": "Used Car Price Prediction.ipynb",
      "provenance": [],
      "include_colab_link": true
    }
  },
  "cells": [
    {
      "cell_type": "markdown",
      "metadata": {
        "id": "view-in-github",
        "colab_type": "text"
      },
      "source": [
        "<a href=\"https://colab.research.google.com/github/pratikasarkar/Capstone_Project/blob/pratik_workingBranch/Used_Car_Price_Prediction.ipynb\" target=\"_parent\"><img src=\"https://colab.research.google.com/assets/colab-badge.svg\" alt=\"Open In Colab\"/></a>"
      ]
    },
    {
      "cell_type": "code",
      "metadata": {
        "id": "xyy_VxymAdqU",
        "colab_type": "code",
        "colab": {
          "base_uri": "https://localhost:8080/",
          "height": 122
        },
        "outputId": "1f82f6d2-3ee6-450f-bcbe-a39c8110f5da"
      },
      "source": [
        "from google.colab import drive\n",
        "drive.mount('/content/gdrive')"
      ],
      "execution_count": 1,
      "outputs": [
        {
          "output_type": "stream",
          "text": [
            "Go to this URL in a browser: https://accounts.google.com/o/oauth2/auth?client_id=947318989803-6bn6qk8qdgf4n4g3pfee6491hc0brc4i.apps.googleusercontent.com&redirect_uri=urn%3aietf%3awg%3aoauth%3a2.0%3aoob&response_type=code&scope=email%20https%3a%2f%2fwww.googleapis.com%2fauth%2fdocs.test%20https%3a%2f%2fwww.googleapis.com%2fauth%2fdrive%20https%3a%2f%2fwww.googleapis.com%2fauth%2fdrive.photos.readonly%20https%3a%2f%2fwww.googleapis.com%2fauth%2fpeopleapi.readonly\n",
            "\n",
            "Enter your authorization code:\n",
            "··········\n",
            "Mounted at /content/gdrive\n"
          ],
          "name": "stdout"
        }
      ]
    },
    {
      "cell_type": "code",
      "metadata": {
        "id": "g_A9ht3YnwHB",
        "colab_type": "code",
        "colab": {
          "base_uri": "https://localhost:8080/",
          "height": 71
        },
        "outputId": "05591f68-472b-4971-e2d8-ed43418b0687"
      },
      "source": [
        "import numpy as np\n",
        "import pandas as pd\n",
        "import seaborn as sns\n",
        "import matplotlib.pyplot as plt\n",
        "import warnings\n",
        "warnings.filterwarnings('ignore')\n",
        "df = pd.read_csv('/content/gdrive/My Drive/autos.csv',encoding='latin_1')"
      ],
      "execution_count": 2,
      "outputs": [
        {
          "output_type": "stream",
          "text": [
            "/usr/local/lib/python3.6/dist-packages/statsmodels/tools/_testing.py:19: FutureWarning: pandas.util.testing is deprecated. Use the functions in the public API at pandas.testing instead.\n",
            "  import pandas.util.testing as tm\n"
          ],
          "name": "stderr"
        }
      ]
    },
    {
      "cell_type": "code",
      "metadata": {
        "id": "3PyMfzb5fxqJ",
        "colab_type": "code",
        "colab": {
          "base_uri": "https://localhost:8080/",
          "height": 394
        },
        "outputId": "56d33db6-0bbe-454f-d5d5-32047c17c72a"
      },
      "source": [
        "df.head()"
      ],
      "execution_count": 3,
      "outputs": [
        {
          "output_type": "execute_result",
          "data": {
            "text/html": [
              "<div>\n",
              "<style scoped>\n",
              "    .dataframe tbody tr th:only-of-type {\n",
              "        vertical-align: middle;\n",
              "    }\n",
              "\n",
              "    .dataframe tbody tr th {\n",
              "        vertical-align: top;\n",
              "    }\n",
              "\n",
              "    .dataframe thead th {\n",
              "        text-align: right;\n",
              "    }\n",
              "</style>\n",
              "<table border=\"1\" class=\"dataframe\">\n",
              "  <thead>\n",
              "    <tr style=\"text-align: right;\">\n",
              "      <th></th>\n",
              "      <th>dateCrawled</th>\n",
              "      <th>name</th>\n",
              "      <th>seller</th>\n",
              "      <th>offerType</th>\n",
              "      <th>price</th>\n",
              "      <th>abtest</th>\n",
              "      <th>vehicleType</th>\n",
              "      <th>yearOfRegistration</th>\n",
              "      <th>gearbox</th>\n",
              "      <th>powerPS</th>\n",
              "      <th>model</th>\n",
              "      <th>kilometer</th>\n",
              "      <th>monthOfRegistration</th>\n",
              "      <th>fuelType</th>\n",
              "      <th>brand</th>\n",
              "      <th>notRepairedDamage</th>\n",
              "      <th>dateCreated</th>\n",
              "      <th>nrOfPictures</th>\n",
              "      <th>postalCode</th>\n",
              "      <th>lastSeen</th>\n",
              "    </tr>\n",
              "  </thead>\n",
              "  <tbody>\n",
              "    <tr>\n",
              "      <th>0</th>\n",
              "      <td>24-03-2016 11:52</td>\n",
              "      <td>Golf_3_1.6</td>\n",
              "      <td>privat</td>\n",
              "      <td>Angebot</td>\n",
              "      <td>480.0</td>\n",
              "      <td>test</td>\n",
              "      <td>NaN</td>\n",
              "      <td>1993.0</td>\n",
              "      <td>manuell</td>\n",
              "      <td>0</td>\n",
              "      <td>golf</td>\n",
              "      <td>150000</td>\n",
              "      <td>0</td>\n",
              "      <td>benzin</td>\n",
              "      <td>volkswagen</td>\n",
              "      <td>NaN</td>\n",
              "      <td>24-03-2016 00:00</td>\n",
              "      <td>0</td>\n",
              "      <td>70435</td>\n",
              "      <td>07-04-2016 03:16</td>\n",
              "    </tr>\n",
              "    <tr>\n",
              "      <th>1</th>\n",
              "      <td>24-03-2016 10:58</td>\n",
              "      <td>A5_Sportback_2.7_Tdi</td>\n",
              "      <td>privat</td>\n",
              "      <td>Angebot</td>\n",
              "      <td>18300.0</td>\n",
              "      <td>test</td>\n",
              "      <td>coupe</td>\n",
              "      <td>2011.0</td>\n",
              "      <td>manuell</td>\n",
              "      <td>190</td>\n",
              "      <td>NaN</td>\n",
              "      <td>125000</td>\n",
              "      <td>5</td>\n",
              "      <td>diesel</td>\n",
              "      <td>audi</td>\n",
              "      <td>ja</td>\n",
              "      <td>24-03-2016 00:00</td>\n",
              "      <td>0</td>\n",
              "      <td>66954</td>\n",
              "      <td>07-04-2016 01:46</td>\n",
              "    </tr>\n",
              "    <tr>\n",
              "      <th>2</th>\n",
              "      <td>14-03-2016 12:52</td>\n",
              "      <td>Jeep_Grand_Cherokee_\"Overland\"</td>\n",
              "      <td>privat</td>\n",
              "      <td>Angebot</td>\n",
              "      <td>9800.0</td>\n",
              "      <td>test</td>\n",
              "      <td>suv</td>\n",
              "      <td>2004.0</td>\n",
              "      <td>automatik</td>\n",
              "      <td>163</td>\n",
              "      <td>grand</td>\n",
              "      <td>125000</td>\n",
              "      <td>8</td>\n",
              "      <td>diesel</td>\n",
              "      <td>jeep</td>\n",
              "      <td>NaN</td>\n",
              "      <td>14-03-2016 00:00</td>\n",
              "      <td>0</td>\n",
              "      <td>90480</td>\n",
              "      <td>05-04-2016 12:47</td>\n",
              "    </tr>\n",
              "    <tr>\n",
              "      <th>3</th>\n",
              "      <td>17-03-2016 16:54</td>\n",
              "      <td>GOLF_4_1_4__3TÜRER</td>\n",
              "      <td>privat</td>\n",
              "      <td>Angebot</td>\n",
              "      <td>1500.0</td>\n",
              "      <td>test</td>\n",
              "      <td>kleinwagen</td>\n",
              "      <td>2001.0</td>\n",
              "      <td>manuell</td>\n",
              "      <td>75</td>\n",
              "      <td>golf</td>\n",
              "      <td>150000</td>\n",
              "      <td>6</td>\n",
              "      <td>benzin</td>\n",
              "      <td>volkswagen</td>\n",
              "      <td>nein</td>\n",
              "      <td>17-03-2016 00:00</td>\n",
              "      <td>0</td>\n",
              "      <td>91074</td>\n",
              "      <td>17-03-2016 17:40</td>\n",
              "    </tr>\n",
              "    <tr>\n",
              "      <th>4</th>\n",
              "      <td>31-03-2016 17:25</td>\n",
              "      <td>Skoda_Fabia_1.4_TDI_PD_Classic</td>\n",
              "      <td>privat</td>\n",
              "      <td>Angebot</td>\n",
              "      <td>3600.0</td>\n",
              "      <td>test</td>\n",
              "      <td>kleinwagen</td>\n",
              "      <td>2008.0</td>\n",
              "      <td>manuell</td>\n",
              "      <td>69</td>\n",
              "      <td>fabia</td>\n",
              "      <td>90000</td>\n",
              "      <td>7</td>\n",
              "      <td>diesel</td>\n",
              "      <td>skoda</td>\n",
              "      <td>nein</td>\n",
              "      <td>31-03-2016 00:00</td>\n",
              "      <td>0</td>\n",
              "      <td>60437</td>\n",
              "      <td>06-04-2016 10:17</td>\n",
              "    </tr>\n",
              "  </tbody>\n",
              "</table>\n",
              "</div>"
            ],
            "text/plain": [
              "        dateCrawled  ...          lastSeen\n",
              "0  24-03-2016 11:52  ...  07-04-2016 03:16\n",
              "1  24-03-2016 10:58  ...  07-04-2016 01:46\n",
              "2  14-03-2016 12:52  ...  05-04-2016 12:47\n",
              "3  17-03-2016 16:54  ...  17-03-2016 17:40\n",
              "4  31-03-2016 17:25  ...  06-04-2016 10:17\n",
              "\n",
              "[5 rows x 20 columns]"
            ]
          },
          "metadata": {
            "tags": []
          },
          "execution_count": 3
        }
      ]
    },
    {
      "cell_type": "markdown",
      "metadata": {
        "id": "Vl4Vk06lF9ac",
        "colab_type": "text"
      },
      "source": [
        "# Converting all German values to English"
      ]
    },
    {
      "cell_type": "code",
      "metadata": {
        "id": "3isZMZIKh0aT",
        "colab_type": "code",
        "colab": {
          "base_uri": "https://localhost:8080/",
          "height": 68
        },
        "outputId": "40564107-f407-4f24-d33b-442f8ae0863e"
      },
      "source": [
        "df['seller'].value_counts()"
      ],
      "execution_count": 4,
      "outputs": [
        {
          "output_type": "execute_result",
          "data": {
            "text/plain": [
              "privat        371719\n",
              "gewerblich         3\n",
              "Name: seller, dtype: int64"
            ]
          },
          "metadata": {
            "tags": []
          },
          "execution_count": 4
        }
      ]
    },
    {
      "cell_type": "code",
      "metadata": {
        "id": "NZjeUDKruHVv",
        "colab_type": "code",
        "colab": {
          "base_uri": "https://localhost:8080/",
          "height": 119
        },
        "outputId": "e5fa68e1-522b-486d-ab5f-29edab1426ef"
      },
      "source": [
        "df['seller'].replace({'privat':'private',\n",
        "                      'gewerblich':'commercial'},\n",
        "                     inplace = True)\n",
        "df['seller'].head()"
      ],
      "execution_count": 5,
      "outputs": [
        {
          "output_type": "execute_result",
          "data": {
            "text/plain": [
              "0    private\n",
              "1    private\n",
              "2    private\n",
              "3    private\n",
              "4    private\n",
              "Name: seller, dtype: object"
            ]
          },
          "metadata": {
            "tags": []
          },
          "execution_count": 5
        }
      ]
    },
    {
      "cell_type": "code",
      "metadata": {
        "id": "JUzTRnSQvCuh",
        "colab_type": "code",
        "colab": {
          "base_uri": "https://localhost:8080/",
          "height": 68
        },
        "outputId": "ad136ce2-f23c-4810-9e22-16c0d0b2f8be"
      },
      "source": [
        "df['offerType'].value_counts()"
      ],
      "execution_count": 6,
      "outputs": [
        {
          "output_type": "execute_result",
          "data": {
            "text/plain": [
              "Angebot    371710\n",
              "Gesuch         12\n",
              "Name: offerType, dtype: int64"
            ]
          },
          "metadata": {
            "tags": []
          },
          "execution_count": 6
        }
      ]
    },
    {
      "cell_type": "code",
      "metadata": {
        "id": "ixEnAx4SvPRs",
        "colab_type": "code",
        "colab": {
          "base_uri": "https://localhost:8080/",
          "height": 119
        },
        "outputId": "3099f002-938c-41bd-c51d-4d21bd18288c"
      },
      "source": [
        "df['offerType'].replace({'Angebot':'offer',\n",
        "                      'Gesuch':'application'},\n",
        "                     inplace = True)\n",
        "df['offerType'].head()"
      ],
      "execution_count": 7,
      "outputs": [
        {
          "output_type": "execute_result",
          "data": {
            "text/plain": [
              "0    offer\n",
              "1    offer\n",
              "2    offer\n",
              "3    offer\n",
              "4    offer\n",
              "Name: offerType, dtype: object"
            ]
          },
          "metadata": {
            "tags": []
          },
          "execution_count": 7
        }
      ]
    },
    {
      "cell_type": "code",
      "metadata": {
        "id": "rGUh6PTVvnwK",
        "colab_type": "code",
        "colab": {
          "base_uri": "https://localhost:8080/",
          "height": 68
        },
        "outputId": "1ed72ebe-249a-4d2b-993f-7d9350146337"
      },
      "source": [
        "df['abtest'].value_counts()"
      ],
      "execution_count": 8,
      "outputs": [
        {
          "output_type": "execute_result",
          "data": {
            "text/plain": [
              "test       192683\n",
              "control    179039\n",
              "Name: abtest, dtype: int64"
            ]
          },
          "metadata": {
            "tags": []
          },
          "execution_count": 8
        }
      ]
    },
    {
      "cell_type": "code",
      "metadata": {
        "id": "TcYmjjF2vx2K",
        "colab_type": "code",
        "colab": {
          "base_uri": "https://localhost:8080/",
          "height": 170
        },
        "outputId": "e8bf1fb4-df41-4ece-f255-89e88d2e5044"
      },
      "source": [
        "df['vehicleType'].value_counts()"
      ],
      "execution_count": 9,
      "outputs": [
        {
          "output_type": "execute_result",
          "data": {
            "text/plain": [
              "limousine     95936\n",
              "kleinwagen    80077\n",
              "kombi         67602\n",
              "bus           30214\n",
              "cabrio        22911\n",
              "coupe         19023\n",
              "suv           14714\n",
              "andere         3359\n",
              "Name: vehicleType, dtype: int64"
            ]
          },
          "metadata": {
            "tags": []
          },
          "execution_count": 9
        }
      ]
    },
    {
      "cell_type": "code",
      "metadata": {
        "id": "A_cG6qFSwAo1",
        "colab_type": "code",
        "colab": {
          "base_uri": "https://localhost:8080/",
          "height": 119
        },
        "outputId": "e8dbab63-1649-41e2-e27b-b6ffaeb62b9d"
      },
      "source": [
        "df['vehicleType'].replace({'kleinwagen':'small car',\n",
        "                      'kombi':'microbus',\n",
        "                      'cabrio':'convertible',\n",
        "                      'andere' : 'other'},\n",
        "                     inplace = True)\n",
        "df['vehicleType'].head()"
      ],
      "execution_count": 10,
      "outputs": [
        {
          "output_type": "execute_result",
          "data": {
            "text/plain": [
              "0          NaN\n",
              "1        coupe\n",
              "2          suv\n",
              "3    small car\n",
              "4    small car\n",
              "Name: vehicleType, dtype: object"
            ]
          },
          "metadata": {
            "tags": []
          },
          "execution_count": 10
        }
      ]
    },
    {
      "cell_type": "code",
      "metadata": {
        "id": "e0FmqLfEwvcc",
        "colab_type": "code",
        "colab": {
          "base_uri": "https://localhost:8080/",
          "height": 68
        },
        "outputId": "7ac1a4f6-33a3-47ea-cb11-6523f7164716"
      },
      "source": [
        "df['gearbox'].value_counts()"
      ],
      "execution_count": 11,
      "outputs": [
        {
          "output_type": "execute_result",
          "data": {
            "text/plain": [
              "manuell      274355\n",
              "automatik     77150\n",
              "Name: gearbox, dtype: int64"
            ]
          },
          "metadata": {
            "tags": []
          },
          "execution_count": 11
        }
      ]
    },
    {
      "cell_type": "code",
      "metadata": {
        "id": "Qgne8w0Vw6DU",
        "colab_type": "code",
        "colab": {
          "base_uri": "https://localhost:8080/",
          "height": 119
        },
        "outputId": "8c59eeaa-fdd3-4fc4-8537-dac622db9168"
      },
      "source": [
        "df['gearbox'].replace({'manuell':'manual',\n",
        "                      'automatik':'automatic'},\n",
        "                     inplace = True)\n",
        "df['gearbox'].head()"
      ],
      "execution_count": 12,
      "outputs": [
        {
          "output_type": "execute_result",
          "data": {
            "text/plain": [
              "0       manual\n",
              "1       manual\n",
              "2    automatic\n",
              "3       manual\n",
              "4       manual\n",
              "Name: gearbox, dtype: object"
            ]
          },
          "metadata": {
            "tags": []
          },
          "execution_count": 12
        }
      ]
    },
    {
      "cell_type": "code",
      "metadata": {
        "id": "SaLx7onMxN-x",
        "colab_type": "code",
        "colab": {}
      },
      "source": [
        "orig_list = list(df['model'].value_counts().index)\n",
        "converted_list = ['golf','other','3s','polo','corsa','astra','passat','a4','cclass','5s','eclass','a3','a6','focus','fiesta','transporter','twingo','2series','fortwo','aclass','vectra','1s','mondeo','clio','touran','3series','punto','zafira','megane','ibiza','ka','lupo','xseries','octavia','cooper','fabia','clk','micra','caddy','80','sharan','scenic','omega','slk','leon','laguna','civic','tt','1stseries','6series','iseries','galaxy','mclass','7s','meriva','yaris','great','mxseries','a5','kangoo','911','bclass','500','tiguan','vito','escort','one','arosa','zseries','bora','colt','beetle','berlingo','sprinter','tigra','v40','transit','touareg','fox','swift','insignia','c_max','corolla','panda','seicento','sl','v70','4series','scirocco','156','a1','primera','espace','grand','stilo','almera','a8','147','avensis','qashqai','eos','c3','c5','signum','Beetle','s_max','5series','q5','c4','matiz','ducato','agila','aygo','viano','getz','601','combo','100','carisma','cayenne','boxster','alhambra','cordoba','c2','superb','c1','kuga','forfour','rio','jetta','cuore','a2','altea','cadet','rav','picanto','sorento','mseries','accord','crseries','up','q7','vivaro','toledo','voyager','xcseries','Bravo','santa','doblo','logan','mode','verso','ptcruiser','cl','sportage','jazz','fusion','sandero','mustang','roomster','carnival','6s','ceed','gallant','v50','q3','tucson','lancer','auris','impreza','phaeton','freelander','glk','calibra','pajero','x_trail','850','159','jimny','ypsilon','spider','duster','clubman','yeti','cseries','cc','roadster','cherokee','x_type','gclass','captiva','vclass','wrangler','legacy','s60','300c','rxseries','defender','justy','sirion','forester','outlander','grade','niva','s_type','spark','r19','navara','cxseries','aveo','900','antara','90','juke','discovery','exeo','range_rover_sport','kalos','range_rover','citigo','lanos','mii','crossfire','range_rover_evoque','gl','nubira','move','lybra','145','v60','croma','amarok','delta','terios','lodgy','9000','charade','b_max','musa','materia','200','kappa','samara','elefantino','i3','kalina','serie_2','rangerover','serie_3','serie_1','discovery_sport']"
      ],
      "execution_count": 13,
      "outputs": []
    },
    {
      "cell_type": "code",
      "metadata": {
        "id": "SV6lMc8rxaHC",
        "colab_type": "code",
        "colab": {
          "base_uri": "https://localhost:8080/",
          "height": 394
        },
        "outputId": "510375e2-cf85-42fe-f346-775a298569cc"
      },
      "source": [
        "df['model'].replace(dict(zip(orig_list,converted_list)),inplace = True)\n",
        "df.head()"
      ],
      "execution_count": 14,
      "outputs": [
        {
          "output_type": "execute_result",
          "data": {
            "text/html": [
              "<div>\n",
              "<style scoped>\n",
              "    .dataframe tbody tr th:only-of-type {\n",
              "        vertical-align: middle;\n",
              "    }\n",
              "\n",
              "    .dataframe tbody tr th {\n",
              "        vertical-align: top;\n",
              "    }\n",
              "\n",
              "    .dataframe thead th {\n",
              "        text-align: right;\n",
              "    }\n",
              "</style>\n",
              "<table border=\"1\" class=\"dataframe\">\n",
              "  <thead>\n",
              "    <tr style=\"text-align: right;\">\n",
              "      <th></th>\n",
              "      <th>dateCrawled</th>\n",
              "      <th>name</th>\n",
              "      <th>seller</th>\n",
              "      <th>offerType</th>\n",
              "      <th>price</th>\n",
              "      <th>abtest</th>\n",
              "      <th>vehicleType</th>\n",
              "      <th>yearOfRegistration</th>\n",
              "      <th>gearbox</th>\n",
              "      <th>powerPS</th>\n",
              "      <th>model</th>\n",
              "      <th>kilometer</th>\n",
              "      <th>monthOfRegistration</th>\n",
              "      <th>fuelType</th>\n",
              "      <th>brand</th>\n",
              "      <th>notRepairedDamage</th>\n",
              "      <th>dateCreated</th>\n",
              "      <th>nrOfPictures</th>\n",
              "      <th>postalCode</th>\n",
              "      <th>lastSeen</th>\n",
              "    </tr>\n",
              "  </thead>\n",
              "  <tbody>\n",
              "    <tr>\n",
              "      <th>0</th>\n",
              "      <td>24-03-2016 11:52</td>\n",
              "      <td>Golf_3_1.6</td>\n",
              "      <td>private</td>\n",
              "      <td>offer</td>\n",
              "      <td>480.0</td>\n",
              "      <td>test</td>\n",
              "      <td>NaN</td>\n",
              "      <td>1993.0</td>\n",
              "      <td>manual</td>\n",
              "      <td>0</td>\n",
              "      <td>golf</td>\n",
              "      <td>150000</td>\n",
              "      <td>0</td>\n",
              "      <td>benzin</td>\n",
              "      <td>volkswagen</td>\n",
              "      <td>NaN</td>\n",
              "      <td>24-03-2016 00:00</td>\n",
              "      <td>0</td>\n",
              "      <td>70435</td>\n",
              "      <td>07-04-2016 03:16</td>\n",
              "    </tr>\n",
              "    <tr>\n",
              "      <th>1</th>\n",
              "      <td>24-03-2016 10:58</td>\n",
              "      <td>A5_Sportback_2.7_Tdi</td>\n",
              "      <td>private</td>\n",
              "      <td>offer</td>\n",
              "      <td>18300.0</td>\n",
              "      <td>test</td>\n",
              "      <td>coupe</td>\n",
              "      <td>2011.0</td>\n",
              "      <td>manual</td>\n",
              "      <td>190</td>\n",
              "      <td>NaN</td>\n",
              "      <td>125000</td>\n",
              "      <td>5</td>\n",
              "      <td>diesel</td>\n",
              "      <td>audi</td>\n",
              "      <td>ja</td>\n",
              "      <td>24-03-2016 00:00</td>\n",
              "      <td>0</td>\n",
              "      <td>66954</td>\n",
              "      <td>07-04-2016 01:46</td>\n",
              "    </tr>\n",
              "    <tr>\n",
              "      <th>2</th>\n",
              "      <td>14-03-2016 12:52</td>\n",
              "      <td>Jeep_Grand_Cherokee_\"Overland\"</td>\n",
              "      <td>private</td>\n",
              "      <td>offer</td>\n",
              "      <td>9800.0</td>\n",
              "      <td>test</td>\n",
              "      <td>suv</td>\n",
              "      <td>2004.0</td>\n",
              "      <td>automatic</td>\n",
              "      <td>163</td>\n",
              "      <td>grand</td>\n",
              "      <td>125000</td>\n",
              "      <td>8</td>\n",
              "      <td>diesel</td>\n",
              "      <td>jeep</td>\n",
              "      <td>NaN</td>\n",
              "      <td>14-03-2016 00:00</td>\n",
              "      <td>0</td>\n",
              "      <td>90480</td>\n",
              "      <td>05-04-2016 12:47</td>\n",
              "    </tr>\n",
              "    <tr>\n",
              "      <th>3</th>\n",
              "      <td>17-03-2016 16:54</td>\n",
              "      <td>GOLF_4_1_4__3TÜRER</td>\n",
              "      <td>private</td>\n",
              "      <td>offer</td>\n",
              "      <td>1500.0</td>\n",
              "      <td>test</td>\n",
              "      <td>small car</td>\n",
              "      <td>2001.0</td>\n",
              "      <td>manual</td>\n",
              "      <td>75</td>\n",
              "      <td>golf</td>\n",
              "      <td>150000</td>\n",
              "      <td>6</td>\n",
              "      <td>benzin</td>\n",
              "      <td>volkswagen</td>\n",
              "      <td>nein</td>\n",
              "      <td>17-03-2016 00:00</td>\n",
              "      <td>0</td>\n",
              "      <td>91074</td>\n",
              "      <td>17-03-2016 17:40</td>\n",
              "    </tr>\n",
              "    <tr>\n",
              "      <th>4</th>\n",
              "      <td>31-03-2016 17:25</td>\n",
              "      <td>Skoda_Fabia_1.4_TDI_PD_Classic</td>\n",
              "      <td>private</td>\n",
              "      <td>offer</td>\n",
              "      <td>3600.0</td>\n",
              "      <td>test</td>\n",
              "      <td>small car</td>\n",
              "      <td>2008.0</td>\n",
              "      <td>manual</td>\n",
              "      <td>69</td>\n",
              "      <td>fabia</td>\n",
              "      <td>90000</td>\n",
              "      <td>7</td>\n",
              "      <td>diesel</td>\n",
              "      <td>skoda</td>\n",
              "      <td>nein</td>\n",
              "      <td>31-03-2016 00:00</td>\n",
              "      <td>0</td>\n",
              "      <td>60437</td>\n",
              "      <td>06-04-2016 10:17</td>\n",
              "    </tr>\n",
              "  </tbody>\n",
              "</table>\n",
              "</div>"
            ],
            "text/plain": [
              "        dateCrawled  ...          lastSeen\n",
              "0  24-03-2016 11:52  ...  07-04-2016 03:16\n",
              "1  24-03-2016 10:58  ...  07-04-2016 01:46\n",
              "2  14-03-2016 12:52  ...  05-04-2016 12:47\n",
              "3  17-03-2016 16:54  ...  17-03-2016 17:40\n",
              "4  31-03-2016 17:25  ...  06-04-2016 10:17\n",
              "\n",
              "[5 rows x 20 columns]"
            ]
          },
          "metadata": {
            "tags": []
          },
          "execution_count": 14
        }
      ]
    },
    {
      "cell_type": "code",
      "metadata": {
        "id": "TgiF6DwhDiic",
        "colab_type": "code",
        "colab": {
          "base_uri": "https://localhost:8080/",
          "height": 255
        },
        "outputId": "51970d12-6374-454b-f211-fa457d2e30ae"
      },
      "source": [
        "df['monthOfRegistration'].value_counts()"
      ],
      "execution_count": 15,
      "outputs": [
        {
          "output_type": "execute_result",
          "data": {
            "text/plain": [
              "0     37695\n",
              "3     36186\n",
              "6     33194\n",
              "4     30939\n",
              "5     30643\n",
              "7     28979\n",
              "10    27354\n",
              "11    25499\n",
              "12    25395\n",
              "9     25083\n",
              "1     24567\n",
              "8     23775\n",
              "2     22414\n",
              "Name: monthOfRegistration, dtype: int64"
            ]
          },
          "metadata": {
            "tags": []
          },
          "execution_count": 15
        }
      ]
    },
    {
      "cell_type": "code",
      "metadata": {
        "id": "C6VPjRd-EYLy",
        "colab_type": "code",
        "colab": {
          "base_uri": "https://localhost:8080/",
          "height": 153
        },
        "outputId": "cb983e79-8024-4e5a-b065-562aa54ac2ea"
      },
      "source": [
        "df['fuelType'].value_counts()"
      ],
      "execution_count": 16,
      "outputs": [
        {
          "output_type": "execute_result",
          "data": {
            "text/plain": [
              "benzin     223974\n",
              "diesel     107802\n",
              "lpg          5379\n",
              "cng           571\n",
              "hybrid        281\n",
              "andere        208\n",
              "elektro       104\n",
              "Name: fuelType, dtype: int64"
            ]
          },
          "metadata": {
            "tags": []
          },
          "execution_count": 16
        }
      ]
    },
    {
      "cell_type": "code",
      "metadata": {
        "id": "FlqCd1jAEmLw",
        "colab_type": "code",
        "colab": {
          "base_uri": "https://localhost:8080/",
          "height": 119
        },
        "outputId": "98554906-bc1a-4fa2-b465-c0ea954ba521"
      },
      "source": [
        "df['fuelType'].replace({'benzin':'petrol',\n",
        "                      'andere':'other',\n",
        "                      'elektro':'electric'},\n",
        "                     inplace = True)\n",
        "df['fuelType'].head()"
      ],
      "execution_count": 17,
      "outputs": [
        {
          "output_type": "execute_result",
          "data": {
            "text/plain": [
              "0    petrol\n",
              "1    diesel\n",
              "2    diesel\n",
              "3    petrol\n",
              "4    diesel\n",
              "Name: fuelType, dtype: object"
            ]
          },
          "metadata": {
            "tags": []
          },
          "execution_count": 17
        }
      ]
    },
    {
      "cell_type": "code",
      "metadata": {
        "id": "tyjhfKu8FCu2",
        "colab_type": "code",
        "colab": {
          "base_uri": "https://localhost:8080/",
          "height": 714
        },
        "outputId": "7cb677db-f6c0-4a42-9db3-12b0903917e9"
      },
      "source": [
        "df['brand'].value_counts()"
      ],
      "execution_count": 18,
      "outputs": [
        {
          "output_type": "execute_result",
          "data": {
            "text/plain": [
              "volkswagen        79672\n",
              "bmw               40291\n",
              "opel              40153\n",
              "mercedes_benz     35339\n",
              "audi              32889\n",
              "ford              25584\n",
              "renault           17988\n",
              "peugeot           11032\n",
              "fiat               9677\n",
              "seat               7023\n",
              "mazda              5697\n",
              "skoda              5645\n",
              "smart              5251\n",
              "citroen            5185\n",
              "nissan             5040\n",
              "toyota             4699\n",
              "sonstige_autos     3983\n",
              "hyundai            3649\n",
              "mini               3397\n",
              "volvo              3328\n",
              "mitsubishi         3062\n",
              "honda              2838\n",
              "kia                2556\n",
              "alfa_romeo         2348\n",
              "suzuki             2330\n",
              "porsche            2215\n",
              "chevrolet          1847\n",
              "chrysler           1454\n",
              "dacia               900\n",
              "jeep                808\n",
              "daihatsu            806\n",
              "subaru              779\n",
              "land_rover          772\n",
              "jaguar              621\n",
              "trabant             592\n",
              "daewoo              543\n",
              "saab                531\n",
              "rover               490\n",
              "lancia              484\n",
              "lada                225\n",
              "Name: brand, dtype: int64"
            ]
          },
          "metadata": {
            "tags": []
          },
          "execution_count": 18
        }
      ]
    },
    {
      "cell_type": "code",
      "metadata": {
        "id": "JrJidVP2FMv6",
        "colab_type": "code",
        "colab": {
          "base_uri": "https://localhost:8080/",
          "height": 68
        },
        "outputId": "58a301b3-b8ee-4ef4-b762-cc4c4ac273a5"
      },
      "source": [
        "df['notRepairedDamage'].value_counts()"
      ],
      "execution_count": 19,
      "outputs": [
        {
          "output_type": "execute_result",
          "data": {
            "text/plain": [
              "nein    263325\n",
              "ja       36302\n",
              "Name: notRepairedDamage, dtype: int64"
            ]
          },
          "metadata": {
            "tags": []
          },
          "execution_count": 19
        }
      ]
    },
    {
      "cell_type": "code",
      "metadata": {
        "id": "ydfae1d8Fcss",
        "colab_type": "code",
        "colab": {
          "base_uri": "https://localhost:8080/",
          "height": 119
        },
        "outputId": "39905bea-5d8a-4efb-fad8-ef4b1c29f238"
      },
      "source": [
        "df['notRepairedDamage'].replace({'nein':'No',\n",
        "                      'ja':'Yes'},\n",
        "                     inplace = True)\n",
        "df['notRepairedDamage'].head()"
      ],
      "execution_count": 20,
      "outputs": [
        {
          "output_type": "execute_result",
          "data": {
            "text/plain": [
              "0    NaN\n",
              "1    Yes\n",
              "2    NaN\n",
              "3     No\n",
              "4     No\n",
              "Name: notRepairedDamage, dtype: object"
            ]
          },
          "metadata": {
            "tags": []
          },
          "execution_count": 20
        }
      ]
    },
    {
      "cell_type": "code",
      "metadata": {
        "id": "zKUhPTJXFvrF",
        "colab_type": "code",
        "colab": {
          "base_uri": "https://localhost:8080/",
          "height": 264
        },
        "outputId": "6b05a87a-d390-4807-9ef5-e1d92d268116"
      },
      "source": [
        "df.head(3)"
      ],
      "execution_count": 21,
      "outputs": [
        {
          "output_type": "execute_result",
          "data": {
            "text/html": [
              "<div>\n",
              "<style scoped>\n",
              "    .dataframe tbody tr th:only-of-type {\n",
              "        vertical-align: middle;\n",
              "    }\n",
              "\n",
              "    .dataframe tbody tr th {\n",
              "        vertical-align: top;\n",
              "    }\n",
              "\n",
              "    .dataframe thead th {\n",
              "        text-align: right;\n",
              "    }\n",
              "</style>\n",
              "<table border=\"1\" class=\"dataframe\">\n",
              "  <thead>\n",
              "    <tr style=\"text-align: right;\">\n",
              "      <th></th>\n",
              "      <th>dateCrawled</th>\n",
              "      <th>name</th>\n",
              "      <th>seller</th>\n",
              "      <th>offerType</th>\n",
              "      <th>price</th>\n",
              "      <th>abtest</th>\n",
              "      <th>vehicleType</th>\n",
              "      <th>yearOfRegistration</th>\n",
              "      <th>gearbox</th>\n",
              "      <th>powerPS</th>\n",
              "      <th>model</th>\n",
              "      <th>kilometer</th>\n",
              "      <th>monthOfRegistration</th>\n",
              "      <th>fuelType</th>\n",
              "      <th>brand</th>\n",
              "      <th>notRepairedDamage</th>\n",
              "      <th>dateCreated</th>\n",
              "      <th>nrOfPictures</th>\n",
              "      <th>postalCode</th>\n",
              "      <th>lastSeen</th>\n",
              "    </tr>\n",
              "  </thead>\n",
              "  <tbody>\n",
              "    <tr>\n",
              "      <th>0</th>\n",
              "      <td>24-03-2016 11:52</td>\n",
              "      <td>Golf_3_1.6</td>\n",
              "      <td>private</td>\n",
              "      <td>offer</td>\n",
              "      <td>480.0</td>\n",
              "      <td>test</td>\n",
              "      <td>NaN</td>\n",
              "      <td>1993.0</td>\n",
              "      <td>manual</td>\n",
              "      <td>0</td>\n",
              "      <td>golf</td>\n",
              "      <td>150000</td>\n",
              "      <td>0</td>\n",
              "      <td>petrol</td>\n",
              "      <td>volkswagen</td>\n",
              "      <td>NaN</td>\n",
              "      <td>24-03-2016 00:00</td>\n",
              "      <td>0</td>\n",
              "      <td>70435</td>\n",
              "      <td>07-04-2016 03:16</td>\n",
              "    </tr>\n",
              "    <tr>\n",
              "      <th>1</th>\n",
              "      <td>24-03-2016 10:58</td>\n",
              "      <td>A5_Sportback_2.7_Tdi</td>\n",
              "      <td>private</td>\n",
              "      <td>offer</td>\n",
              "      <td>18300.0</td>\n",
              "      <td>test</td>\n",
              "      <td>coupe</td>\n",
              "      <td>2011.0</td>\n",
              "      <td>manual</td>\n",
              "      <td>190</td>\n",
              "      <td>NaN</td>\n",
              "      <td>125000</td>\n",
              "      <td>5</td>\n",
              "      <td>diesel</td>\n",
              "      <td>audi</td>\n",
              "      <td>Yes</td>\n",
              "      <td>24-03-2016 00:00</td>\n",
              "      <td>0</td>\n",
              "      <td>66954</td>\n",
              "      <td>07-04-2016 01:46</td>\n",
              "    </tr>\n",
              "    <tr>\n",
              "      <th>2</th>\n",
              "      <td>14-03-2016 12:52</td>\n",
              "      <td>Jeep_Grand_Cherokee_\"Overland\"</td>\n",
              "      <td>private</td>\n",
              "      <td>offer</td>\n",
              "      <td>9800.0</td>\n",
              "      <td>test</td>\n",
              "      <td>suv</td>\n",
              "      <td>2004.0</td>\n",
              "      <td>automatic</td>\n",
              "      <td>163</td>\n",
              "      <td>grand</td>\n",
              "      <td>125000</td>\n",
              "      <td>8</td>\n",
              "      <td>diesel</td>\n",
              "      <td>jeep</td>\n",
              "      <td>NaN</td>\n",
              "      <td>14-03-2016 00:00</td>\n",
              "      <td>0</td>\n",
              "      <td>90480</td>\n",
              "      <td>05-04-2016 12:47</td>\n",
              "    </tr>\n",
              "  </tbody>\n",
              "</table>\n",
              "</div>"
            ],
            "text/plain": [
              "        dateCrawled  ...          lastSeen\n",
              "0  24-03-2016 11:52  ...  07-04-2016 03:16\n",
              "1  24-03-2016 10:58  ...  07-04-2016 01:46\n",
              "2  14-03-2016 12:52  ...  05-04-2016 12:47\n",
              "\n",
              "[3 rows x 20 columns]"
            ]
          },
          "metadata": {
            "tags": []
          },
          "execution_count": 21
        }
      ]
    },
    {
      "cell_type": "markdown",
      "metadata": {
        "id": "IT_AY-2e6v-m",
        "colab_type": "text"
      },
      "source": [
        "# Exploring the dataset"
      ]
    },
    {
      "cell_type": "code",
      "metadata": {
        "id": "4jIUYVCR5ULX",
        "colab_type": "code",
        "colab": {
          "base_uri": "https://localhost:8080/",
          "height": 34
        },
        "outputId": "c130fabd-5cf4-428e-8c5e-c9654abd5567"
      },
      "source": [
        "df.shape"
      ],
      "execution_count": 22,
      "outputs": [
        {
          "output_type": "execute_result",
          "data": {
            "text/plain": [
              "(371723, 20)"
            ]
          },
          "metadata": {
            "tags": []
          },
          "execution_count": 22
        }
      ]
    },
    {
      "cell_type": "code",
      "metadata": {
        "id": "oR9Eb0peGQ0L",
        "colab_type": "code",
        "colab": {
          "base_uri": "https://localhost:8080/",
          "height": 476
        },
        "outputId": "b2a6d604-2189-4e55-deb9-01c5b8a75b16"
      },
      "source": [
        "df.info()"
      ],
      "execution_count": 23,
      "outputs": [
        {
          "output_type": "stream",
          "text": [
            "<class 'pandas.core.frame.DataFrame'>\n",
            "RangeIndex: 371723 entries, 0 to 371722\n",
            "Data columns (total 20 columns):\n",
            " #   Column               Non-Null Count   Dtype  \n",
            "---  ------               --------------   -----  \n",
            " 0   dateCrawled          371723 non-null  object \n",
            " 1   name                 371723 non-null  object \n",
            " 2   seller               371722 non-null  object \n",
            " 3   offerType            371722 non-null  object \n",
            " 4   price                371722 non-null  float64\n",
            " 5   abtest               371722 non-null  object \n",
            " 6   vehicleType          333836 non-null  object \n",
            " 7   yearOfRegistration   371722 non-null  float64\n",
            " 8   gearbox              351505 non-null  object \n",
            " 9   powerPS              371723 non-null  int64  \n",
            " 10  model                351232 non-null  object \n",
            " 11  kilometer            371723 non-null  int64  \n",
            " 12  monthOfRegistration  371723 non-null  int64  \n",
            " 13  fuelType             338319 non-null  object \n",
            " 14  brand                371723 non-null  object \n",
            " 15  notRepairedDamage    299627 non-null  object \n",
            " 16  dateCreated          371723 non-null  object \n",
            " 17  nrOfPictures         371723 non-null  int64  \n",
            " 18  postalCode           371723 non-null  int64  \n",
            " 19  lastSeen             371723 non-null  object \n",
            "dtypes: float64(2), int64(5), object(13)\n",
            "memory usage: 56.7+ MB\n"
          ],
          "name": "stdout"
        }
      ]
    },
    {
      "cell_type": "code",
      "metadata": {
        "id": "DG0fW0pu8efS",
        "colab_type": "code",
        "colab": {}
      },
      "source": [
        "df['dateCrawled'] = pd.to_datetime(df['dateCrawled'])\n",
        "df['dateCreated'] = pd.to_datetime(df['dateCreated'])\n",
        "df['lastSeen'] = pd.to_datetime(df['lastSeen'])"
      ],
      "execution_count": 24,
      "outputs": []
    },
    {
      "cell_type": "code",
      "metadata": {
        "id": "g7If0a12AG1H",
        "colab_type": "code",
        "colab": {
          "base_uri": "https://localhost:8080/",
          "height": 476
        },
        "outputId": "831c4a46-0e86-497a-f648-3ab3a3a6f057"
      },
      "source": [
        "df.info()"
      ],
      "execution_count": 25,
      "outputs": [
        {
          "output_type": "stream",
          "text": [
            "<class 'pandas.core.frame.DataFrame'>\n",
            "RangeIndex: 371723 entries, 0 to 371722\n",
            "Data columns (total 20 columns):\n",
            " #   Column               Non-Null Count   Dtype         \n",
            "---  ------               --------------   -----         \n",
            " 0   dateCrawled          371723 non-null  datetime64[ns]\n",
            " 1   name                 371723 non-null  object        \n",
            " 2   seller               371722 non-null  object        \n",
            " 3   offerType            371722 non-null  object        \n",
            " 4   price                371722 non-null  float64       \n",
            " 5   abtest               371722 non-null  object        \n",
            " 6   vehicleType          333836 non-null  object        \n",
            " 7   yearOfRegistration   371722 non-null  float64       \n",
            " 8   gearbox              351505 non-null  object        \n",
            " 9   powerPS              371723 non-null  int64         \n",
            " 10  model                351232 non-null  object        \n",
            " 11  kilometer            371723 non-null  int64         \n",
            " 12  monthOfRegistration  371723 non-null  int64         \n",
            " 13  fuelType             338319 non-null  object        \n",
            " 14  brand                371723 non-null  object        \n",
            " 15  notRepairedDamage    299627 non-null  object        \n",
            " 16  dateCreated          371723 non-null  datetime64[ns]\n",
            " 17  nrOfPictures         371723 non-null  int64         \n",
            " 18  postalCode           371723 non-null  int64         \n",
            " 19  lastSeen             371723 non-null  datetime64[ns]\n",
            "dtypes: datetime64[ns](3), float64(2), int64(5), object(10)\n",
            "memory usage: 56.7+ MB\n"
          ],
          "name": "stdout"
        }
      ]
    },
    {
      "cell_type": "code",
      "metadata": {
        "id": "AF5k6zRNAzZ0",
        "colab_type": "code",
        "colab": {
          "base_uri": "https://localhost:8080/",
          "height": 394
        },
        "outputId": "92d65a7d-2646-4c1b-ad2e-76fe76a48f12"
      },
      "source": [
        "df.head()"
      ],
      "execution_count": 26,
      "outputs": [
        {
          "output_type": "execute_result",
          "data": {
            "text/html": [
              "<div>\n",
              "<style scoped>\n",
              "    .dataframe tbody tr th:only-of-type {\n",
              "        vertical-align: middle;\n",
              "    }\n",
              "\n",
              "    .dataframe tbody tr th {\n",
              "        vertical-align: top;\n",
              "    }\n",
              "\n",
              "    .dataframe thead th {\n",
              "        text-align: right;\n",
              "    }\n",
              "</style>\n",
              "<table border=\"1\" class=\"dataframe\">\n",
              "  <thead>\n",
              "    <tr style=\"text-align: right;\">\n",
              "      <th></th>\n",
              "      <th>dateCrawled</th>\n",
              "      <th>name</th>\n",
              "      <th>seller</th>\n",
              "      <th>offerType</th>\n",
              "      <th>price</th>\n",
              "      <th>abtest</th>\n",
              "      <th>vehicleType</th>\n",
              "      <th>yearOfRegistration</th>\n",
              "      <th>gearbox</th>\n",
              "      <th>powerPS</th>\n",
              "      <th>model</th>\n",
              "      <th>kilometer</th>\n",
              "      <th>monthOfRegistration</th>\n",
              "      <th>fuelType</th>\n",
              "      <th>brand</th>\n",
              "      <th>notRepairedDamage</th>\n",
              "      <th>dateCreated</th>\n",
              "      <th>nrOfPictures</th>\n",
              "      <th>postalCode</th>\n",
              "      <th>lastSeen</th>\n",
              "    </tr>\n",
              "  </thead>\n",
              "  <tbody>\n",
              "    <tr>\n",
              "      <th>0</th>\n",
              "      <td>2016-03-24 11:52:00</td>\n",
              "      <td>Golf_3_1.6</td>\n",
              "      <td>private</td>\n",
              "      <td>offer</td>\n",
              "      <td>480.0</td>\n",
              "      <td>test</td>\n",
              "      <td>NaN</td>\n",
              "      <td>1993.0</td>\n",
              "      <td>manual</td>\n",
              "      <td>0</td>\n",
              "      <td>golf</td>\n",
              "      <td>150000</td>\n",
              "      <td>0</td>\n",
              "      <td>petrol</td>\n",
              "      <td>volkswagen</td>\n",
              "      <td>NaN</td>\n",
              "      <td>2016-03-24</td>\n",
              "      <td>0</td>\n",
              "      <td>70435</td>\n",
              "      <td>2016-07-04 03:16:00</td>\n",
              "    </tr>\n",
              "    <tr>\n",
              "      <th>1</th>\n",
              "      <td>2016-03-24 10:58:00</td>\n",
              "      <td>A5_Sportback_2.7_Tdi</td>\n",
              "      <td>private</td>\n",
              "      <td>offer</td>\n",
              "      <td>18300.0</td>\n",
              "      <td>test</td>\n",
              "      <td>coupe</td>\n",
              "      <td>2011.0</td>\n",
              "      <td>manual</td>\n",
              "      <td>190</td>\n",
              "      <td>NaN</td>\n",
              "      <td>125000</td>\n",
              "      <td>5</td>\n",
              "      <td>diesel</td>\n",
              "      <td>audi</td>\n",
              "      <td>Yes</td>\n",
              "      <td>2016-03-24</td>\n",
              "      <td>0</td>\n",
              "      <td>66954</td>\n",
              "      <td>2016-07-04 01:46:00</td>\n",
              "    </tr>\n",
              "    <tr>\n",
              "      <th>2</th>\n",
              "      <td>2016-03-14 12:52:00</td>\n",
              "      <td>Jeep_Grand_Cherokee_\"Overland\"</td>\n",
              "      <td>private</td>\n",
              "      <td>offer</td>\n",
              "      <td>9800.0</td>\n",
              "      <td>test</td>\n",
              "      <td>suv</td>\n",
              "      <td>2004.0</td>\n",
              "      <td>automatic</td>\n",
              "      <td>163</td>\n",
              "      <td>grand</td>\n",
              "      <td>125000</td>\n",
              "      <td>8</td>\n",
              "      <td>diesel</td>\n",
              "      <td>jeep</td>\n",
              "      <td>NaN</td>\n",
              "      <td>2016-03-14</td>\n",
              "      <td>0</td>\n",
              "      <td>90480</td>\n",
              "      <td>2016-05-04 12:47:00</td>\n",
              "    </tr>\n",
              "    <tr>\n",
              "      <th>3</th>\n",
              "      <td>2016-03-17 16:54:00</td>\n",
              "      <td>GOLF_4_1_4__3TÜRER</td>\n",
              "      <td>private</td>\n",
              "      <td>offer</td>\n",
              "      <td>1500.0</td>\n",
              "      <td>test</td>\n",
              "      <td>small car</td>\n",
              "      <td>2001.0</td>\n",
              "      <td>manual</td>\n",
              "      <td>75</td>\n",
              "      <td>golf</td>\n",
              "      <td>150000</td>\n",
              "      <td>6</td>\n",
              "      <td>petrol</td>\n",
              "      <td>volkswagen</td>\n",
              "      <td>No</td>\n",
              "      <td>2016-03-17</td>\n",
              "      <td>0</td>\n",
              "      <td>91074</td>\n",
              "      <td>2016-03-17 17:40:00</td>\n",
              "    </tr>\n",
              "    <tr>\n",
              "      <th>4</th>\n",
              "      <td>2016-03-31 17:25:00</td>\n",
              "      <td>Skoda_Fabia_1.4_TDI_PD_Classic</td>\n",
              "      <td>private</td>\n",
              "      <td>offer</td>\n",
              "      <td>3600.0</td>\n",
              "      <td>test</td>\n",
              "      <td>small car</td>\n",
              "      <td>2008.0</td>\n",
              "      <td>manual</td>\n",
              "      <td>69</td>\n",
              "      <td>fabia</td>\n",
              "      <td>90000</td>\n",
              "      <td>7</td>\n",
              "      <td>diesel</td>\n",
              "      <td>skoda</td>\n",
              "      <td>No</td>\n",
              "      <td>2016-03-31</td>\n",
              "      <td>0</td>\n",
              "      <td>60437</td>\n",
              "      <td>2016-06-04 10:17:00</td>\n",
              "    </tr>\n",
              "  </tbody>\n",
              "</table>\n",
              "</div>"
            ],
            "text/plain": [
              "          dateCrawled  ...            lastSeen\n",
              "0 2016-03-24 11:52:00  ... 2016-07-04 03:16:00\n",
              "1 2016-03-24 10:58:00  ... 2016-07-04 01:46:00\n",
              "2 2016-03-14 12:52:00  ... 2016-05-04 12:47:00\n",
              "3 2016-03-17 16:54:00  ... 2016-03-17 17:40:00\n",
              "4 2016-03-31 17:25:00  ... 2016-06-04 10:17:00\n",
              "\n",
              "[5 rows x 20 columns]"
            ]
          },
          "metadata": {
            "tags": []
          },
          "execution_count": 26
        }
      ]
    },
    {
      "cell_type": "code",
      "metadata": {
        "id": "FQB4clpCNk_P",
        "colab_type": "code",
        "colab": {
          "base_uri": "https://localhost:8080/",
          "height": 669
        },
        "outputId": "7a46c35b-f129-4369-d56d-c69c56340ced"
      },
      "source": [
        "def get_missing_val_count_df(df):\n",
        "  missing_count_list = []\n",
        "  for col in df.columns:\n",
        "    missing_count_list.append(df[col].isnull().sum())\n",
        "  missing_count_df = pd.DataFrame(missing_count_list,columns=['count'],index = df.columns)\n",
        "  return missing_count_df.sort_values('count',ascending=False)\n",
        "get_missing_val_count_df(df)"
      ],
      "execution_count": 27,
      "outputs": [
        {
          "output_type": "execute_result",
          "data": {
            "text/html": [
              "<div>\n",
              "<style scoped>\n",
              "    .dataframe tbody tr th:only-of-type {\n",
              "        vertical-align: middle;\n",
              "    }\n",
              "\n",
              "    .dataframe tbody tr th {\n",
              "        vertical-align: top;\n",
              "    }\n",
              "\n",
              "    .dataframe thead th {\n",
              "        text-align: right;\n",
              "    }\n",
              "</style>\n",
              "<table border=\"1\" class=\"dataframe\">\n",
              "  <thead>\n",
              "    <tr style=\"text-align: right;\">\n",
              "      <th></th>\n",
              "      <th>count</th>\n",
              "    </tr>\n",
              "  </thead>\n",
              "  <tbody>\n",
              "    <tr>\n",
              "      <th>notRepairedDamage</th>\n",
              "      <td>72096</td>\n",
              "    </tr>\n",
              "    <tr>\n",
              "      <th>vehicleType</th>\n",
              "      <td>37887</td>\n",
              "    </tr>\n",
              "    <tr>\n",
              "      <th>fuelType</th>\n",
              "      <td>33404</td>\n",
              "    </tr>\n",
              "    <tr>\n",
              "      <th>model</th>\n",
              "      <td>20491</td>\n",
              "    </tr>\n",
              "    <tr>\n",
              "      <th>gearbox</th>\n",
              "      <td>20218</td>\n",
              "    </tr>\n",
              "    <tr>\n",
              "      <th>seller</th>\n",
              "      <td>1</td>\n",
              "    </tr>\n",
              "    <tr>\n",
              "      <th>offerType</th>\n",
              "      <td>1</td>\n",
              "    </tr>\n",
              "    <tr>\n",
              "      <th>price</th>\n",
              "      <td>1</td>\n",
              "    </tr>\n",
              "    <tr>\n",
              "      <th>abtest</th>\n",
              "      <td>1</td>\n",
              "    </tr>\n",
              "    <tr>\n",
              "      <th>yearOfRegistration</th>\n",
              "      <td>1</td>\n",
              "    </tr>\n",
              "    <tr>\n",
              "      <th>brand</th>\n",
              "      <td>0</td>\n",
              "    </tr>\n",
              "    <tr>\n",
              "      <th>postalCode</th>\n",
              "      <td>0</td>\n",
              "    </tr>\n",
              "    <tr>\n",
              "      <th>nrOfPictures</th>\n",
              "      <td>0</td>\n",
              "    </tr>\n",
              "    <tr>\n",
              "      <th>dateCreated</th>\n",
              "      <td>0</td>\n",
              "    </tr>\n",
              "    <tr>\n",
              "      <th>dateCrawled</th>\n",
              "      <td>0</td>\n",
              "    </tr>\n",
              "    <tr>\n",
              "      <th>monthOfRegistration</th>\n",
              "      <td>0</td>\n",
              "    </tr>\n",
              "    <tr>\n",
              "      <th>kilometer</th>\n",
              "      <td>0</td>\n",
              "    </tr>\n",
              "    <tr>\n",
              "      <th>name</th>\n",
              "      <td>0</td>\n",
              "    </tr>\n",
              "    <tr>\n",
              "      <th>powerPS</th>\n",
              "      <td>0</td>\n",
              "    </tr>\n",
              "    <tr>\n",
              "      <th>lastSeen</th>\n",
              "      <td>0</td>\n",
              "    </tr>\n",
              "  </tbody>\n",
              "</table>\n",
              "</div>"
            ],
            "text/plain": [
              "                     count\n",
              "notRepairedDamage    72096\n",
              "vehicleType          37887\n",
              "fuelType             33404\n",
              "model                20491\n",
              "gearbox              20218\n",
              "seller                   1\n",
              "offerType                1\n",
              "price                    1\n",
              "abtest                   1\n",
              "yearOfRegistration       1\n",
              "brand                    0\n",
              "postalCode               0\n",
              "nrOfPictures             0\n",
              "dateCreated              0\n",
              "dateCrawled              0\n",
              "monthOfRegistration      0\n",
              "kilometer                0\n",
              "name                     0\n",
              "powerPS                  0\n",
              "lastSeen                 0"
            ]
          },
          "metadata": {
            "tags": []
          },
          "execution_count": 27
        }
      ]
    },
    {
      "cell_type": "markdown",
      "metadata": {
        "id": "_-WFKMCxFFFO",
        "colab_type": "text"
      },
      "source": [
        "## Price"
      ]
    },
    {
      "cell_type": "code",
      "metadata": {
        "id": "fEuxhNjE4s9Y",
        "colab_type": "code",
        "colab": {
          "base_uri": "https://localhost:8080/",
          "height": 0
        },
        "outputId": "24a2a4bb-3ae8-4643-fdab-5e1099ac7b1a"
      },
      "source": [
        "df['price'].describe()"
      ],
      "execution_count": 28,
      "outputs": [
        {
          "output_type": "execute_result",
          "data": {
            "text/plain": [
              "count    3.717220e+05\n",
              "mean     1.729044e+04\n",
              "std      3.587017e+06\n",
              "min      0.000000e+00\n",
              "25%      1.150000e+03\n",
              "50%      2.950000e+03\n",
              "75%      7.200000e+03\n",
              "max      2.147484e+09\n",
              "Name: price, dtype: float64"
            ]
          },
          "metadata": {
            "tags": []
          },
          "execution_count": 28
        }
      ]
    },
    {
      "cell_type": "code",
      "metadata": {
        "id": "hcgR4Rmp3IQh",
        "colab_type": "code",
        "colab": {
          "base_uri": "https://localhost:8080/",
          "height": 0
        },
        "outputId": "d017a396-bf8e-4e20-ecee-a3048e9e51c2"
      },
      "source": [
        "plt.figure(figsize = (20,5))\n",
        "sns.boxplot(df['price'])"
      ],
      "execution_count": 29,
      "outputs": [
        {
          "output_type": "execute_result",
          "data": {
            "text/plain": [
              "<matplotlib.axes._subplots.AxesSubplot at 0x7f9d0d6c3978>"
            ]
          },
          "metadata": {
            "tags": []
          },
          "execution_count": 29
        },
        {
          "output_type": "display_data",
          "data": {
            "image/png": "[encoded data removed]",
            "text/plain": [
              "<Figure size 1440x360 with 1 Axes>"
            ]
          },
          "metadata": {
            "tags": [],
            "needs_background": "light"
          }
        }
      ]
    },
    {
      "cell_type": "code",
      "metadata": {
        "id": "QqJwCxh6Comn",
        "colab_type": "code",
        "colab": {
          "base_uri": "https://localhost:8080/",
          "height": 0
        },
        "outputId": "fa701954-aa86-4249-b954-3803a5313987"
      },
      "source": [
        "plt.figure(figsize = (20,5))\n",
        "sns.boxplot(df[(df['price']>=100) & (df['price']<=100000)]['price'])"
      ],
      "execution_count": 30,
      "outputs": [
        {
          "output_type": "execute_result",
          "data": {
            "text/plain": [
              "<matplotlib.axes._subplots.AxesSubplot at 0x7f9d0fa65080>"
            ]
          },
          "metadata": {
            "tags": []
          },
          "execution_count": 30
        },
        {
          "output_type": "display_data",
          "data": {
            "image/png": "[encoded data removed]",
            "text/plain": [
              "<Figure size 1440x360 with 1 Axes>"
            ]
          },
          "metadata": {
            "tags": [],
            "needs_background": "light"
          }
        }
      ]
    },
    {
      "cell_type": "markdown",
      "metadata": {
        "id": "A69CiDMAMppI",
        "colab_type": "text"
      },
      "source": [
        "### Outlier detection using Isolation Forest"
      ]
    },
    {
      "cell_type": "code",
      "metadata": {
        "id": "DBwgjpaSC7aI",
        "colab_type": "code",
        "colab": {}
      },
      "source": [
        "dfprice = df[(df['price'].isnull() == False)]['price']"
      ],
      "execution_count": 31,
      "outputs": []
    },
    {
      "cell_type": "code",
      "metadata": {
        "id": "fI8kJIIv3Rhd",
        "colab_type": "code",
        "colab": {
          "base_uri": "https://localhost:8080/",
          "height": 0
        },
        "outputId": "db23bed9-3900-4a6e-df87-c13b2eb02e6c"
      },
      "source": [
        "#Import necessary libraries\n",
        "from sklearn.ensemble import IsolationForest\n",
        "#The required columns\n",
        "isolation_forest = IsolationForest(contamination='auto')\n",
        "isolation_forest.fit(dfprice.values.reshape(-1,1))\n",
        "\n",
        "xx = np.linspace(dfprice.min(), dfprice.max(), len(df)).reshape(-1,1)\n",
        "print(xx)\n",
        "anomaly_score = isolation_forest.decision_function(xx)\n",
        "outlier = isolation_forest.predict(xx)\n",
        "\n",
        "plt.figure(figsize=(25,5))\n",
        "plt.plot(xx, anomaly_score, label='anomaly score')\n",
        "plt.fill_between(xx.T[0], np.min(anomaly_score), np.max(anomaly_score), \n",
        "                     where=outlier==-1, color='r', \n",
        "                     alpha=.4, label='outlier region')\n",
        "plt.legend()\n",
        "plt.xlim(0, 100000)\n",
        "# plt.axis([0,100000,0,0])\n",
        "plt.title('price')"
      ],
      "execution_count": 32,
      "outputs": [
        {
          "output_type": "stream",
          "text": [
            "[[0.00000000e+00]\n",
            " [5.77712281e+03]\n",
            " [1.15542456e+04]\n",
            " ...\n",
            " [2.14747209e+09]\n",
            " [2.14747787e+09]\n",
            " [2.14748365e+09]]\n"
          ],
          "name": "stdout"
        },
        {
          "output_type": "execute_result",
          "data": {
            "text/plain": [
              "Text(0.5, 1.0, 'price')"
            ]
          },
          "metadata": {
            "tags": []
          },
          "execution_count": 32
        },
        {
          "output_type": "display_data",
          "data": {
            "image/png": "[encoded data removed]",
            "text/plain": [
              "<Figure size 1800x360 with 1 Axes>"
            ]
          },
          "metadata": {
            "tags": [],
            "needs_background": "light"
          }
        }
      ]
    },
    {
      "cell_type": "markdown",
      "metadata": {
        "id": "YJn0d9hV_cn1",
        "colab_type": "text"
      },
      "source": [
        "If we see from the above plot, almost all data point above 12000 seems to come under outliers, but dropping all of those does not seem to be a feasible solution. We can also see that data points after 100000 have consistently very low anamoly score, so we can go ahead and drop those data points, and the remaining outliers can be handled further using transformation techniques. Also data points with price below 100 also seem to be very low as far as price of a used car is concerned, so we will also drop those data points which have price below 100."
      ]
    },
    {
      "cell_type": "code",
      "metadata": {
        "id": "DBqK3ai9MfXU",
        "colab_type": "code",
        "colab": {
          "base_uri": "https://localhost:8080/",
          "height": 0
        },
        "outputId": "008360b5-78bf-4cf9-8dc4-5f2c2f11622b"
      },
      "source": [
        "sns.distplot(df[(df['price']>=100) & (df['price']<=100000)]['price'])"
      ],
      "execution_count": 33,
      "outputs": [
        {
          "output_type": "execute_result",
          "data": {
            "text/plain": [
              "<matplotlib.axes._subplots.AxesSubplot at 0x7f9d0d6c3e48>"
            ]
          },
          "metadata": {
            "tags": []
          },
          "execution_count": 33
        },
        {
          "output_type": "display_data",
          "data": {
            "image/png": "[encoded data removed]",
            "text/plain": [
              "<Figure size 432x288 with 1 Axes>"
            ]
          },
          "metadata": {
            "tags": [],
            "needs_background": "light"
          }
        }
      ]
    },
    {
      "cell_type": "code",
      "metadata": {
        "id": "5_RB_30uM_bv",
        "colab_type": "code",
        "colab": {
          "base_uri": "https://localhost:8080/",
          "height": 0
        },
        "outputId": "30387244-306d-4a66-9e5c-aa7879668b16"
      },
      "source": [
        "df[(df['price']>=100) & (df['price']<=100000)].shape"
      ],
      "execution_count": 34,
      "outputs": [
        {
          "output_type": "execute_result",
          "data": {
            "text/plain": [
              "(357989, 20)"
            ]
          },
          "metadata": {
            "tags": []
          },
          "execution_count": 34
        }
      ]
    },
    {
      "cell_type": "code",
      "metadata": {
        "id": "qtvL5oFkNBBQ",
        "colab_type": "code",
        "colab": {}
      },
      "source": [
        "df2 = df[(df['price']>=100) & (df['price']<=100000)]"
      ],
      "execution_count": 35,
      "outputs": []
    },
    {
      "cell_type": "markdown",
      "metadata": {
        "id": "dDkZ2siBAbFA",
        "colab_type": "text"
      },
      "source": [
        "### Checking for Missing Values"
      ]
    },
    {
      "cell_type": "code",
      "metadata": {
        "id": "v-hGkLG_AbFB",
        "colab_type": "code",
        "colab": {
          "base_uri": "https://localhost:8080/",
          "height": 0
        },
        "outputId": "e0453510-f209-46e3-d9a3-6b394cad4435"
      },
      "source": [
        "get_missing_val_count_df(df2)"
      ],
      "execution_count": 36,
      "outputs": [
        {
          "output_type": "execute_result",
          "data": {
            "text/html": [
              "<div>\n",
              "<style scoped>\n",
              "    .dataframe tbody tr th:only-of-type {\n",
              "        vertical-align: middle;\n",
              "    }\n",
              "\n",
              "    .dataframe tbody tr th {\n",
              "        vertical-align: top;\n",
              "    }\n",
              "\n",
              "    .dataframe thead th {\n",
              "        text-align: right;\n",
              "    }\n",
              "</style>\n",
              "<table border=\"1\" class=\"dataframe\">\n",
              "  <thead>\n",
              "    <tr style=\"text-align: right;\">\n",
              "      <th></th>\n",
              "      <th>count</th>\n",
              "    </tr>\n",
              "  </thead>\n",
              "  <tbody>\n",
              "    <tr>\n",
              "      <th>notRepairedDamage</th>\n",
              "      <td>65228</td>\n",
              "    </tr>\n",
              "    <tr>\n",
              "      <th>vehicleType</th>\n",
              "      <td>32960</td>\n",
              "    </tr>\n",
              "    <tr>\n",
              "      <th>fuelType</th>\n",
              "      <td>28787</td>\n",
              "    </tr>\n",
              "    <tr>\n",
              "      <th>model</th>\n",
              "      <td>17709</td>\n",
              "    </tr>\n",
              "    <tr>\n",
              "      <th>gearbox</th>\n",
              "      <td>16627</td>\n",
              "    </tr>\n",
              "    <tr>\n",
              "      <th>kilometer</th>\n",
              "      <td>0</td>\n",
              "    </tr>\n",
              "    <tr>\n",
              "      <th>postalCode</th>\n",
              "      <td>0</td>\n",
              "    </tr>\n",
              "    <tr>\n",
              "      <th>nrOfPictures</th>\n",
              "      <td>0</td>\n",
              "    </tr>\n",
              "    <tr>\n",
              "      <th>dateCreated</th>\n",
              "      <td>0</td>\n",
              "    </tr>\n",
              "    <tr>\n",
              "      <th>brand</th>\n",
              "      <td>0</td>\n",
              "    </tr>\n",
              "    <tr>\n",
              "      <th>monthOfRegistration</th>\n",
              "      <td>0</td>\n",
              "    </tr>\n",
              "    <tr>\n",
              "      <th>dateCrawled</th>\n",
              "      <td>0</td>\n",
              "    </tr>\n",
              "    <tr>\n",
              "      <th>name</th>\n",
              "      <td>0</td>\n",
              "    </tr>\n",
              "    <tr>\n",
              "      <th>powerPS</th>\n",
              "      <td>0</td>\n",
              "    </tr>\n",
              "    <tr>\n",
              "      <th>yearOfRegistration</th>\n",
              "      <td>0</td>\n",
              "    </tr>\n",
              "    <tr>\n",
              "      <th>abtest</th>\n",
              "      <td>0</td>\n",
              "    </tr>\n",
              "    <tr>\n",
              "      <th>price</th>\n",
              "      <td>0</td>\n",
              "    </tr>\n",
              "    <tr>\n",
              "      <th>offerType</th>\n",
              "      <td>0</td>\n",
              "    </tr>\n",
              "    <tr>\n",
              "      <th>seller</th>\n",
              "      <td>0</td>\n",
              "    </tr>\n",
              "    <tr>\n",
              "      <th>lastSeen</th>\n",
              "      <td>0</td>\n",
              "    </tr>\n",
              "  </tbody>\n",
              "</table>\n",
              "</div>"
            ],
            "text/plain": [
              "                     count\n",
              "notRepairedDamage    65228\n",
              "vehicleType          32960\n",
              "fuelType             28787\n",
              "model                17709\n",
              "gearbox              16627\n",
              "kilometer                0\n",
              "postalCode               0\n",
              "nrOfPictures             0\n",
              "dateCreated              0\n",
              "brand                    0\n",
              "monthOfRegistration      0\n",
              "dateCrawled              0\n",
              "name                     0\n",
              "powerPS                  0\n",
              "yearOfRegistration       0\n",
              "abtest                   0\n",
              "price                    0\n",
              "offerType                0\n",
              "seller                   0\n",
              "lastSeen                 0"
            ]
          },
          "metadata": {
            "tags": []
          },
          "execution_count": 36
        }
      ]
    },
    {
      "cell_type": "markdown",
      "metadata": {
        "id": "2m6ZwkWLAbFE",
        "colab_type": "text"
      },
      "source": [
        "No missing values for price feature."
      ]
    },
    {
      "cell_type": "markdown",
      "metadata": {
        "id": "jWWjc38fAbFF",
        "colab_type": "text"
      },
      "source": [
        "### Statistical Analysis\n",
        "Check for Normality - Shapiro Test\n",
        "\n",
        "H0 : Price is normally distributed"
      ]
    },
    {
      "cell_type": "code",
      "metadata": {
        "id": "fraFvNWJAbFG",
        "colab_type": "code",
        "colab": {
          "base_uri": "https://localhost:8080/",
          "height": 0
        },
        "outputId": "e19bee63-00ba-43d1-b4dc-1f0d6c578f92"
      },
      "source": [
        "from scipy.stats import shapiro\n",
        "shapiro(df2['price'])"
      ],
      "execution_count": 37,
      "outputs": [
        {
          "output_type": "execute_result",
          "data": {
            "text/plain": [
              "(0.6681995987892151, 0.0)"
            ]
          },
          "metadata": {
            "tags": []
          },
          "execution_count": 37
        }
      ]
    },
    {
      "cell_type": "markdown",
      "metadata": {
        "id": "Hwrq4pB3AbFK",
        "colab_type": "text"
      },
      "source": [
        "As we can see the pvalue is less than 0.05. So we can reject the null hypothesis that price is normally distributed.\n",
        "We will use log transformation for converting price to normal distribution after we are done with any imputation in our dataset."
      ]
    },
    {
      "cell_type": "markdown",
      "metadata": {
        "id": "lSOr6lY4FJNF",
        "colab_type": "text"
      },
      "source": [
        "## Kilometers\n",
        "Number of kilometers car has driven"
      ]
    },
    {
      "cell_type": "code",
      "metadata": {
        "id": "TFfR4mpMFrQ8",
        "colab_type": "code",
        "colab": {
          "base_uri": "https://localhost:8080/",
          "height": 0
        },
        "outputId": "791ee1ae-7f22-43a0-8ab8-260f73f6222b"
      },
      "source": [
        "df2['kilometer'].describe()"
      ],
      "execution_count": 38,
      "outputs": [
        {
          "output_type": "execute_result",
          "data": {
            "text/plain": [
              "count    357989.000000\n",
              "mean     125871.381523\n",
              "std       39527.956707\n",
              "min        5000.000000\n",
              "25%      125000.000000\n",
              "50%      150000.000000\n",
              "75%      150000.000000\n",
              "max      150000.000000\n",
              "Name: kilometer, dtype: float64"
            ]
          },
          "metadata": {
            "tags": []
          },
          "execution_count": 38
        }
      ]
    },
    {
      "cell_type": "code",
      "metadata": {
        "id": "a0bff1RxAbFO",
        "colab_type": "code",
        "colab": {
          "base_uri": "https://localhost:8080/",
          "height": 0
        },
        "outputId": "87bc6a08-1142-4e22-924f-94efd554304c"
      },
      "source": [
        "df2['kilometer'].value_counts()"
      ],
      "execution_count": 39,
      "outputs": [
        {
          "output_type": "execute_result",
          "data": {
            "text/plain": [
              "150000    231629\n",
              "125000     37239\n",
              "100000     15356\n",
              "90000      12327\n",
              "80000      10862\n",
              "70000       9641\n",
              "60000       8568\n",
              "50000       7510\n",
              "40000       6300\n",
              "30000       5892\n",
              "20000       5454\n",
              "5000        5409\n",
              "10000       1802\n",
              "Name: kilometer, dtype: int64"
            ]
          },
          "metadata": {
            "tags": []
          },
          "execution_count": 39
        }
      ]
    },
    {
      "cell_type": "code",
      "metadata": {
        "id": "wIATAZxTDg9W",
        "colab_type": "code",
        "colab": {
          "base_uri": "https://localhost:8080/",
          "height": 0
        },
        "outputId": "9ab43e2c-09f1-4a3a-c768-ff8cbaed3fa1"
      },
      "source": [
        "df2['kilometer'].value_counts().plot(kind = 'bar')"
      ],
      "execution_count": 40,
      "outputs": [
        {
          "output_type": "execute_result",
          "data": {
            "text/plain": [
              "<matplotlib.axes._subplots.AxesSubplot at 0x7f9d08467940>"
            ]
          },
          "metadata": {
            "tags": []
          },
          "execution_count": 40
        },
        {
          "output_type": "display_data",
          "data": {
            "image/png": "[encoded data removed]",
            "text/plain": [
              "<Figure size 432x288 with 1 Axes>"
            ]
          },
          "metadata": {
            "tags": [],
            "needs_background": "light"
          }
        }
      ]
    },
    {
      "cell_type": "markdown",
      "metadata": {
        "id": "4ZkxfdxcAbFY",
        "colab_type": "text"
      },
      "source": [
        "Seems like the website had certain options from which a user could select the number of kilometers the car has been driven instead of providing a place to put in an exact number. We could use this as a categorical variable instead of continous variable."
      ]
    },
    {
      "cell_type": "markdown",
      "metadata": {
        "id": "ZZObEymJAbFZ",
        "colab_type": "text"
      },
      "source": [
        "### Statistical Analysis\n",
        "Is there any discrepancy in avg price with respect to Kilometers.\n",
        "\n",
        "H0 : avg_price_5000_km = avg_price_10000_km = avg_price_20000_km = avg_price_30000_km = ..... = avg_price_150000_km\n",
        "\n",
        "H1 : avg_price_5000_km != avg_price_10000_km != avg_price_20000_km != avg_price_30000_km != ..... != avg_price_150000_km"
      ]
    },
    {
      "cell_type": "code",
      "metadata": {
        "id": "wG0dOYbTAbFa",
        "colab_type": "code",
        "colab": {}
      },
      "source": [
        "from scipy.stats import f_oneway\n",
        "def oneway_posthoc(i):\n",
        "    cat = {}\n",
        "    for j in range(df2[i].nunique()):\n",
        "        if pd.isna(df2[i].unique()[j]) == False:\n",
        "            cat[df2[i].unique()[j]] = df2[df2[i] == df2[i].unique()[j]]['price']\n",
        "    tstat,pval = f_oneway(*list(cat.values()))\n",
        "    print(f'pvalue for {i} is {pval}')\n",
        "    print()\n",
        "    for k in cat:\n",
        "        print(f'Avg price of car for {i} = {k} is ',cat[k].mean())"
      ],
      "execution_count": 41,
      "outputs": []
    },
    {
      "cell_type": "code",
      "metadata": {
        "id": "LGeV6FM8AbFf",
        "colab_type": "code",
        "colab": {
          "base_uri": "https://localhost:8080/",
          "height": 0
        },
        "outputId": "7e075d84-6ca7-4b0a-d626-f973e1c82d19"
      },
      "source": [
        "oneway_posthoc('kilometer')"
      ],
      "execution_count": 42,
      "outputs": [
        {
          "output_type": "stream",
          "text": [
            "pvalue for kilometer is 0.0\n",
            "\n",
            "Avg price of car for kilometer = 150000 is  3766.4821805559754\n",
            "Avg price of car for kilometer = 125000 is  6232.123123606972\n",
            "Avg price of car for kilometer = 90000 is  8528.65514723777\n",
            "Avg price of car for kilometer = 30000 is  15508.95027155465\n",
            "Avg price of car for kilometer = 70000 is  10781.524115755627\n",
            "Avg price of car for kilometer = 5000 is  7055.0443704936215\n",
            "Avg price of car for kilometer = 100000 is  7710.722584006252\n",
            "Avg price of car for kilometer = 60000 is  11753.263305322129\n",
            "Avg price of car for kilometer = 20000 is  16271.697653098643\n",
            "Avg price of car for kilometer = 80000 is  9448.671331246547\n",
            "Avg price of car for kilometer = 50000 is  13184.426764314248\n",
            "Avg price of car for kilometer = 40000 is  14821.194285714286\n",
            "Avg price of car for kilometer = 10000 is  20038.69089900111\n"
          ],
          "name": "stdout"
        }
      ]
    },
    {
      "cell_type": "markdown",
      "metadata": {
        "id": "0zAOrPL1AbFi",
        "colab_type": "text"
      },
      "source": [
        "We can see from the oneway test that the price of used car is affected by kilometers as the pvalue is less than 0.05"
      ]
    },
    {
      "cell_type": "code",
      "metadata": {
        "id": "qZ3rJ8ViAbFk",
        "colab_type": "code",
        "colab": {
          "base_uri": "https://localhost:8080/",
          "height": 0
        },
        "outputId": "9147d38e-e456-4c37-df41-97409271892f"
      },
      "source": [
        "df2.boxplot(column='price',by = 'kilometer')"
      ],
      "execution_count": 43,
      "outputs": [
        {
          "output_type": "execute_result",
          "data": {
            "text/plain": [
              "<matplotlib.axes._subplots.AxesSubplot at 0x7f9d08403668>"
            ]
          },
          "metadata": {
            "tags": []
          },
          "execution_count": 43
        },
        {
          "output_type": "display_data",
          "data": {
            "image/png": "[encoded data removed]",
            "text/plain": [
              "<Figure size 432x288 with 1 Axes>"
            ]
          },
          "metadata": {
            "tags": [],
            "needs_background": "light"
          }
        }
      ]
    },
    {
      "cell_type": "markdown",
      "metadata": {
        "id": "z9wkqzTRAbFn",
        "colab_type": "text"
      },
      "source": [
        "As we can see quite evidently that the average price of a used car starts decreasing as the number of kilometers it has run increases."
      ]
    },
    {
      "cell_type": "markdown",
      "metadata": {
        "id": "0IK9KbkaX_kM",
        "colab_type": "text"
      },
      "source": [
        "### NotRepairedDamaged \n",
        "If the car has a damage which is not repaired yet"
      ]
    },
    {
      "cell_type": "code",
      "metadata": {
        "id": "xlv85S79XROo",
        "colab_type": "code",
        "colab": {
          "base_uri": "https://localhost:8080/",
          "height": 0
        },
        "outputId": "8f482ec8-9db4-412f-d4b5-00a96c4db1dc"
      },
      "source": [
        "df2['notRepairedDamage'].describe()"
      ],
      "execution_count": 44,
      "outputs": [
        {
          "output_type": "execute_result",
          "data": {
            "text/plain": [
              "count     292761\n",
              "unique         2\n",
              "top           No\n",
              "freq      259035\n",
              "Name: notRepairedDamage, dtype: object"
            ]
          },
          "metadata": {
            "tags": []
          },
          "execution_count": 44
        }
      ]
    },
    {
      "cell_type": "code",
      "metadata": {
        "id": "6hC91kyrXVdN",
        "colab_type": "code",
        "colab": {
          "base_uri": "https://localhost:8080/",
          "height": 0
        },
        "outputId": "1d6b5a97-cd57-4827-dadd-0b8eeda7264d"
      },
      "source": [
        "df2['notRepairedDamage'].value_counts(dropna = False).plot(kind = 'bar')"
      ],
      "execution_count": 45,
      "outputs": [
        {
          "output_type": "execute_result",
          "data": {
            "text/plain": [
              "<matplotlib.axes._subplots.AxesSubplot at 0x7f9d08222278>"
            ]
          },
          "metadata": {
            "tags": []
          },
          "execution_count": 45
        },
        {
          "output_type": "display_data",
          "data": {
            "image/png": "[encoded data removed]",
            "text/plain": [
              "<Figure size 432x288 with 1 Axes>"
            ]
          },
          "metadata": {
            "tags": [],
            "needs_background": "light"
          }
        }
      ]
    },
    {
      "cell_type": "markdown",
      "metadata": {
        "id": "rG7EaDweAbFy",
        "colab_type": "text"
      },
      "source": [
        "Imputation of the values for notRepairedDamaged does not really make sense because we will not be able to determine whether the car was damaged or not by using other features in the dataset. So we will drop the NA values."
      ]
    },
    {
      "cell_type": "code",
      "metadata": {
        "id": "UTttbLxZAbFy",
        "colab_type": "code",
        "colab": {}
      },
      "source": [
        "df2 = df2[df2['notRepairedDamage'].isnull() == False]"
      ],
      "execution_count": 46,
      "outputs": []
    },
    {
      "cell_type": "markdown",
      "metadata": {
        "id": "XF6ICSk9AbF1",
        "colab_type": "text"
      },
      "source": [
        "### Statistical Analysis\n",
        "Is there any discrepancy in avg price with respect to notRepairedDamage.\n",
        "\n",
        "H0 : avg_price_notRepaired = avg_price_Repaired\n",
        "\n",
        "H1 : avg_price_notRepaired != avg_price_Repaired"
      ]
    },
    {
      "cell_type": "code",
      "metadata": {
        "id": "Mro-4W0NAbF2",
        "colab_type": "code",
        "colab": {}
      },
      "source": [
        "price_repaired = df2.loc[df2['notRepairedDamage'] == 'No','price']\n",
        "price_notRepaired = df2.loc[df2['notRepairedDamage'] == 'Yes','price']"
      ],
      "execution_count": 47,
      "outputs": []
    },
    {
      "cell_type": "markdown",
      "metadata": {
        "id": "ZxVk8WxvAbF4",
        "colab_type": "text"
      },
      "source": [
        "Shapiro Test - Test for Normality"
      ]
    },
    {
      "cell_type": "code",
      "metadata": {
        "id": "LGcR_qGuAbF5",
        "colab_type": "code",
        "colab": {
          "base_uri": "https://localhost:8080/",
          "height": 0
        },
        "outputId": "d6f724ba-b10d-45b1-d3c7-049d8d4fac3b"
      },
      "source": [
        "print(shapiro(price_repaired))\n",
        "print(shapiro(price_notRepaired))"
      ],
      "execution_count": 48,
      "outputs": [
        {
          "output_type": "stream",
          "text": [
            "(0.7013095617294312, 0.0)\n",
            "(0.4996538758277893, 0.0)\n"
          ],
          "name": "stdout"
        }
      ]
    },
    {
      "cell_type": "markdown",
      "metadata": {
        "id": "R5sky-DhAbF8",
        "colab_type": "text"
      },
      "source": [
        "The prices for both repaired and not repaired cars is not normally distributed as pvalue is less than 0.05."
      ]
    },
    {
      "cell_type": "markdown",
      "metadata": {
        "id": "GFKmLW_GAbF8",
        "colab_type": "text"
      },
      "source": [
        "Bartlett Test - Test for equal variance"
      ]
    },
    {
      "cell_type": "code",
      "metadata": {
        "id": "CRH-EptVAbF9",
        "colab_type": "code",
        "colab": {
          "base_uri": "https://localhost:8080/",
          "height": 0
        },
        "outputId": "817d8762-c328-4e21-aa72-fc36f079db99"
      },
      "source": [
        "from scipy.stats import bartlett\n",
        "print(bartlett(price_repaired,price_notRepaired))"
      ],
      "execution_count": 49,
      "outputs": [
        {
          "output_type": "stream",
          "text": [
            "BartlettResult(statistic=24687.933059112584, pvalue=0.0)\n"
          ],
          "name": "stdout"
        }
      ]
    },
    {
      "cell_type": "markdown",
      "metadata": {
        "id": "Hxea6-wiAbGA",
        "colab_type": "text"
      },
      "source": [
        "The variance in price for repaired car is not equal to that in a not repaired car as pvallue is less that 0.05. So for a non parametric independent 2 sample t-test we will go with manwhitneyu test."
      ]
    },
    {
      "cell_type": "markdown",
      "metadata": {
        "id": "_0po-DK6AbGD",
        "colab_type": "text"
      },
      "source": [
        "Manwhitneyu Test\n",
        "\n",
        "H0 : Average price of repaired car is equal to average price of not repaired car."
      ]
    },
    {
      "cell_type": "code",
      "metadata": {
        "id": "pw191Or9AbGE",
        "colab_type": "code",
        "colab": {
          "base_uri": "https://localhost:8080/",
          "height": 0
        },
        "outputId": "8aefe5c8-2205-426c-e3b7-f73114df513c"
      },
      "source": [
        "from scipy.stats import mannwhitneyu\n",
        "print(mannwhitneyu(price_repaired,price_notRepaired))"
      ],
      "execution_count": 50,
      "outputs": [
        {
          "output_type": "stream",
          "text": [
            "MannwhitneyuResult(statistic=1884377181.5, pvalue=0.0)\n"
          ],
          "name": "stdout"
        }
      ]
    },
    {
      "cell_type": "markdown",
      "metadata": {
        "id": "0wy_OU75AbGI",
        "colab_type": "text"
      },
      "source": [
        "We can see from the manwhitneyu test that the price of used car is affected by the fact that whether its repaired or not as the pvalue is less than 0.05"
      ]
    },
    {
      "cell_type": "markdown",
      "metadata": {
        "id": "bzOeTnJQAbGJ",
        "colab_type": "text"
      },
      "source": [
        "Post hoc analysis"
      ]
    },
    {
      "cell_type": "code",
      "metadata": {
        "id": "2j6GHrZtAbGK",
        "colab_type": "code",
        "colab": {
          "base_uri": "https://localhost:8080/",
          "height": 0
        },
        "outputId": "4e36ed48-9315-4c57-fbe5-410d817cdb0d"
      },
      "source": [
        "print('Avg price for car which has been repaired : ',price_repaired.mean())\n",
        "print('Avg price for car which has not been repaired : ',price_notRepaired.mean())"
      ],
      "execution_count": 51,
      "outputs": [
        {
          "output_type": "stream",
          "text": [
            "Avg price for car which has been repaired :  6925.527785820449\n",
            "Avg price for car which has not been repaired :  2251.102472869596\n"
          ],
          "name": "stdout"
        }
      ]
    },
    {
      "cell_type": "code",
      "metadata": {
        "id": "NjnbgFY9AbGS",
        "colab_type": "code",
        "colab": {
          "base_uri": "https://localhost:8080/",
          "height": 0
        },
        "outputId": "44164578-88d7-45dd-b889-de0ccd5e8a25"
      },
      "source": [
        "df2.boxplot(column='price',by = 'notRepairedDamage')"
      ],
      "execution_count": 52,
      "outputs": [
        {
          "output_type": "execute_result",
          "data": {
            "text/plain": [
              "<matplotlib.axes._subplots.AxesSubplot at 0x7f9d081f5ac8>"
            ]
          },
          "metadata": {
            "tags": []
          },
          "execution_count": 52
        },
        {
          "output_type": "display_data",
          "data": {
            "image/png": "[encoded data removed]",
            "text/plain": [
              "<Figure size 432x288 with 1 Axes>"
            ]
          },
          "metadata": {
            "tags": [],
            "needs_background": "light"
          }
        }
      ]
    },
    {
      "cell_type": "markdown",
      "metadata": {
        "id": "FzCxWFKNAbGY",
        "colab_type": "text"
      },
      "source": [
        "As we can see quite evidently that the average price of a used car which has been repaired is higher that that which has not been repaired."
      ]
    },
    {
      "cell_type": "markdown",
      "metadata": {
        "id": "REyUGAA0ZsQy",
        "colab_type": "text"
      },
      "source": [
        "### VehicleType"
      ]
    },
    {
      "cell_type": "code",
      "metadata": {
        "id": "QofmY9fbYzfv",
        "colab_type": "code",
        "colab": {
          "base_uri": "https://localhost:8080/",
          "height": 0
        },
        "outputId": "302230c5-b0d8-49f3-8e0a-9f4eda04a957"
      },
      "source": [
        "df2['vehicleType'].describe()"
      ],
      "execution_count": 53,
      "outputs": [
        {
          "output_type": "execute_result",
          "data": {
            "text/plain": [
              "count        277009\n",
              "unique            8\n",
              "top       limousine\n",
              "freq          80450\n",
              "Name: vehicleType, dtype: object"
            ]
          },
          "metadata": {
            "tags": []
          },
          "execution_count": 53
        }
      ]
    },
    {
      "cell_type": "code",
      "metadata": {
        "id": "eZEko6mrZztu",
        "colab_type": "code",
        "colab": {
          "base_uri": "https://localhost:8080/",
          "height": 0
        },
        "outputId": "a76606f3-d2ff-4414-8782-712f0f1d978f"
      },
      "source": [
        "df2['vehicleType'].value_counts(dropna = False).plot(kind = 'bar')"
      ],
      "execution_count": 54,
      "outputs": [
        {
          "output_type": "execute_result",
          "data": {
            "text/plain": [
              "<matplotlib.axes._subplots.AxesSubplot at 0x7f9d08176518>"
            ]
          },
          "metadata": {
            "tags": []
          },
          "execution_count": 54
        },
        {
          "output_type": "display_data",
          "data": {
            "image/png": "[encoded data removed]",
            "text/plain": [
              "<Figure size 432x288 with 1 Axes>"
            ]
          },
          "metadata": {
            "tags": [],
            "needs_background": "light"
          }
        }
      ]
    },
    {
      "cell_type": "markdown",
      "metadata": {
        "id": "uEST8XAxAbGl",
        "colab_type": "text"
      },
      "source": [
        "We can impute the values of vehicleType depending on model,brand and price of the car."
      ]
    },
    {
      "cell_type": "markdown",
      "metadata": {
        "id": "Zoey4XnaAbGm",
        "colab_type": "text"
      },
      "source": [
        "### Statistical Analysis\n",
        "Is there any discrepancy in avg price with respect to vehicleType.\n",
        "\n",
        "H0 : avg_price_limousine = avg_price_small_car = avg_price_microbus = ..... = avg_price_other\n",
        "\n",
        "H1 : avg_price_limousine != avg_price_small_car != avg_price_microbus != ..... != avg_price_other"
      ]
    },
    {
      "cell_type": "code",
      "metadata": {
        "id": "9H24VXQ0AbGn",
        "colab_type": "code",
        "colab": {
          "base_uri": "https://localhost:8080/",
          "height": 0
        },
        "outputId": "3e899ec2-f616-48ba-e9a6-3b0cd5bdb48a"
      },
      "source": [
        "oneway_posthoc('vehicleType')"
      ],
      "execution_count": 55,
      "outputs": [
        {
          "output_type": "stream",
          "text": [
            "pvalue for vehicleType is 0.0\n",
            "\n",
            "Avg price of car for vehicleType = coupe is  11298.064100096246\n",
            "Avg price of car for vehicleType = small car is  3070.7935288201647\n",
            "Avg price of car for vehicleType = limousine is  6349.402747047856\n",
            "Avg price of car for vehicleType = convertible is  10691.817306237708\n",
            "Avg price of car for vehicleType = microbus is  6260.084041682968\n",
            "Avg price of car for vehicleType = suv is  13635.447858903266\n",
            "Avg price of car for vehicleType = bus is  7007.233088151225\n"
          ],
          "name": "stdout"
        }
      ]
    },
    {
      "cell_type": "markdown",
      "metadata": {
        "id": "PvKv3pOBAbGr",
        "colab_type": "text"
      },
      "source": [
        "We can see from the oneway test that the price of used car is affected by vehcleType as the pvalue is less than 0.05"
      ]
    },
    {
      "cell_type": "code",
      "metadata": {
        "id": "G-P_ujarAbGr",
        "colab_type": "code",
        "colab": {
          "base_uri": "https://localhost:8080/",
          "height": 0
        },
        "outputId": "68addad6-5f31-45e1-96db-abd82abfdd1a"
      },
      "source": [
        "df2.boxplot(column='price',by = 'vehicleType')"
      ],
      "execution_count": 56,
      "outputs": [
        {
          "output_type": "execute_result",
          "data": {
            "text/plain": [
              "<matplotlib.axes._subplots.AxesSubplot at 0x7f9d083f0198>"
            ]
          },
          "metadata": {
            "tags": []
          },
          "execution_count": 56
        },
        {
          "output_type": "display_data",
          "data": {
            "image/png": "[encoded data removed]",
            "text/plain": [
              "<Figure size 432x288 with 1 Axes>"
            ]
          },
          "metadata": {
            "tags": [],
            "needs_background": "light"
          }
        }
      ]
    },
    {
      "cell_type": "markdown",
      "metadata": {
        "id": "93OrAST1AbGx",
        "colab_type": "text"
      },
      "source": [
        "As we can see quite evidently that the average price of a used car varies significantly for different type of vehicles."
      ]
    },
    {
      "cell_type": "markdown",
      "metadata": {
        "id": "j2mrndznaYDb",
        "colab_type": "text"
      },
      "source": [
        "### FuelType"
      ]
    },
    {
      "cell_type": "code",
      "metadata": {
        "id": "6gfuqZYvaYDl",
        "colab_type": "code",
        "colab": {
          "base_uri": "https://localhost:8080/",
          "height": 0
        },
        "outputId": "16c8b7ae-357a-4d65-ef8f-ed0e0c11688f"
      },
      "source": [
        "df2['fuelType'].describe()"
      ],
      "execution_count": 57,
      "outputs": [
        {
          "output_type": "execute_result",
          "data": {
            "text/plain": [
              "count     277426\n",
              "unique         7\n",
              "top       petrol\n",
              "freq      180556\n",
              "Name: fuelType, dtype: object"
            ]
          },
          "metadata": {
            "tags": []
          },
          "execution_count": 57
        }
      ]
    },
    {
      "cell_type": "code",
      "metadata": {
        "id": "GBCIPP2baYDv",
        "colab_type": "code",
        "colab": {
          "base_uri": "https://localhost:8080/",
          "height": 0
        },
        "outputId": "82ca517c-6bdd-4929-d4bd-03473c865b22"
      },
      "source": [
        "print(df2['fuelType'].value_counts(dropna = False))\n",
        "df2['fuelType'].value_counts(dropna = False).plot(kind = 'bar')"
      ],
      "execution_count": 58,
      "outputs": [
        {
          "output_type": "stream",
          "text": [
            "petrol      180556\n",
            "diesel       91622\n",
            "NaN          15335\n",
            "lpg           4312\n",
            "cng            504\n",
            "hybrid         253\n",
            "other           94\n",
            "electric        85\n",
            "Name: fuelType, dtype: int64\n"
          ],
          "name": "stdout"
        },
        {
          "output_type": "execute_result",
          "data": {
            "text/plain": [
              "<matplotlib.axes._subplots.AxesSubplot at 0x7f9d081eb898>"
            ]
          },
          "metadata": {
            "tags": []
          },
          "execution_count": 58
        },
        {
          "output_type": "display_data",
          "data": {
            "image/png": "[encoded data removed]",
            "text/plain": [
              "<Figure size 432x288 with 1 Axes>"
            ]
          },
          "metadata": {
            "tags": [],
            "needs_background": "light"
          }
        }
      ]
    },
    {
      "cell_type": "markdown",
      "metadata": {
        "id": "W52wL74vAbG8",
        "colab_type": "text"
      },
      "source": [
        "Imputation of the values for fuelType does not really make sense because we will not be able to determine what type of fuelType the car belongs to by using other features in the dataset. So we will drop the NA values."
      ]
    },
    {
      "cell_type": "code",
      "metadata": {
        "id": "JXtberMHAbG9",
        "colab_type": "code",
        "colab": {}
      },
      "source": [
        "df2 = df2[df2['fuelType'].isnull() == False]"
      ],
      "execution_count": 59,
      "outputs": []
    },
    {
      "cell_type": "markdown",
      "metadata": {
        "id": "EXaw2DUDAbG_",
        "colab_type": "text"
      },
      "source": [
        "### Statistical Analysis\n",
        "Is there any discrepancy in avg price with respect to fuelType.\n",
        "\n",
        "H0 : avg_price_petrol_car = avg_price_diesel_car = avg_price_lpg_car = ..... = avg_price_other_fuelType\n",
        "\n",
        "H1 : avg_price_petrol_car != avg_price_diesel_car != avg_price_lpg_car != ..... != avg_price_other_fuelType"
      ]
    },
    {
      "cell_type": "code",
      "metadata": {
        "id": "q9ca-E_EAbG_",
        "colab_type": "code",
        "colab": {
          "base_uri": "https://localhost:8080/",
          "height": 0
        },
        "outputId": "b422e156-6848-4e17-ed95-93b20729fa0d"
      },
      "source": [
        "oneway_posthoc('fuelType')"
      ],
      "execution_count": 60,
      "outputs": [
        {
          "output_type": "stream",
          "text": [
            "pvalue for fuelType is 0.0\n",
            "\n",
            "Avg price of car for fuelType = diesel is  9086.144790552487\n",
            "Avg price of car for fuelType = petrol is  5278.813381997829\n",
            "Avg price of car for fuelType = lpg is  4670.055658627087\n",
            "Avg price of car for fuelType = other is  5353.063829787234\n",
            "Avg price of car for fuelType = hybrid is  13521.92490118577\n",
            "Avg price of car for fuelType = cng is  4991.855158730159\n",
            "Avg price of car for fuelType = electric is  12957.552941176471\n"
          ],
          "name": "stdout"
        }
      ]
    },
    {
      "cell_type": "markdown",
      "metadata": {
        "id": "1SrLoVKdAbHE",
        "colab_type": "text"
      },
      "source": [
        "We can see from the oneway test that the price of used car is affected by fuelType as the pvalue is less than 0.05"
      ]
    },
    {
      "cell_type": "code",
      "metadata": {
        "id": "b2bAZuzRAbHE",
        "colab_type": "code",
        "colab": {
          "base_uri": "https://localhost:8080/",
          "height": 0
        },
        "outputId": "033163e1-23b3-409b-ae25-5eba515040f3"
      },
      "source": [
        "df2.boxplot(column='price',by = 'fuelType')"
      ],
      "execution_count": 61,
      "outputs": [
        {
          "output_type": "execute_result",
          "data": {
            "text/plain": [
              "<matplotlib.axes._subplots.AxesSubplot at 0x7f9d07f6d278>"
            ]
          },
          "metadata": {
            "tags": []
          },
          "execution_count": 61
        },
        {
          "output_type": "display_data",
          "data": {
            "image/png": "[encoded data removed]",
            "text/plain": [
              "<Figure size 432x288 with 1 Axes>"
            ]
          },
          "metadata": {
            "tags": [],
            "needs_background": "light"
          }
        }
      ]
    },
    {
      "cell_type": "markdown",
      "metadata": {
        "id": "UBcG8V7LAbHH",
        "colab_type": "text"
      },
      "source": [
        "As we can see quite evidently that the average price of a used car varies significantly for different fueltypes of vehicles."
      ]
    },
    {
      "cell_type": "markdown",
      "metadata": {
        "id": "0Lu6In-5aypo",
        "colab_type": "text"
      },
      "source": [
        "### Model"
      ]
    },
    {
      "cell_type": "code",
      "metadata": {
        "id": "xEu45fiFayqI",
        "colab_type": "code",
        "colab": {
          "base_uri": "https://localhost:8080/",
          "height": 0
        },
        "outputId": "920e99fb-cf4e-433c-9b34-39dbb7da9f71"
      },
      "source": [
        "df2['model'].describe()"
      ],
      "execution_count": 62,
      "outputs": [
        {
          "output_type": "execute_result",
          "data": {
            "text/plain": [
              "count     269577\n",
              "unique       250\n",
              "top         golf\n",
              "freq       22030\n",
              "Name: model, dtype: object"
            ]
          },
          "metadata": {
            "tags": []
          },
          "execution_count": 62
        }
      ]
    },
    {
      "cell_type": "code",
      "metadata": {
        "id": "2kUx3dzkayqY",
        "colab_type": "code",
        "colab": {
          "base_uri": "https://localhost:8080/",
          "height": 0
        },
        "outputId": "41669281-30b8-4b7f-e3e9-37691ef40285"
      },
      "source": [
        "plt.figure(figsize=(40,8))\n",
        "df2['model'].value_counts(dropna = False).plot(kind = 'bar')"
      ],
      "execution_count": 63,
      "outputs": [
        {
          "output_type": "execute_result",
          "data": {
            "text/plain": [
              "<matplotlib.axes._subplots.AxesSubplot at 0x7f9d07eb24e0>"
            ]
          },
          "metadata": {
            "tags": []
          },
          "execution_count": 63
        },
        {
          "output_type": "display_data",
          "data": {
            "image/png": "[encoded data removed]",
            "text/plain": [
              "<Figure size 2880x576 with 1 Axes>"
            ]
          },
          "metadata": {
            "tags": [],
            "needs_background": "light"
          }
        }
      ]
    },
    {
      "cell_type": "markdown",
      "metadata": {
        "id": "vJfMeLjkAbHM",
        "colab_type": "text"
      },
      "source": [
        "Imputation of the values for model does not really make sense because we will not be able to determine what type of model the car belongs to by using other features in the dataset. So we will drop the NA values."
      ]
    },
    {
      "cell_type": "code",
      "metadata": {
        "id": "wLsaHyLqAbHN",
        "colab_type": "code",
        "colab": {}
      },
      "source": [
        "df2 = df2[df2['model'].isnull() == False]"
      ],
      "execution_count": 64,
      "outputs": []
    },
    {
      "cell_type": "markdown",
      "metadata": {
        "id": "--Nd0aPZAbHP",
        "colab_type": "text"
      },
      "source": [
        "### Statistical Analysis\n",
        "Is there any discrepancy in avg price with respect to model.\n",
        "\n",
        "H0 : avg_price_golf = avg_price_3s = avg_price_polo = ..... = avg_price_discovery_sport\n",
        "\n",
        "H1 : avg_price_golf != avg_price_3s != avg_price_polo != ..... != avg_price_discovery_sport"
      ]
    },
    {
      "cell_type": "code",
      "metadata": {
        "id": "KRdqDQwJAbHQ",
        "colab_type": "code",
        "colab": {
          "base_uri": "https://localhost:8080/",
          "height": 0
        },
        "outputId": "8e516ce9-99a9-4539-82f6-cf6888ce6c04"
      },
      "source": [
        "oneway_posthoc('model')"
      ],
      "execution_count": 65,
      "outputs": [
        {
          "output_type": "stream",
          "text": [
            "pvalue for model is 0.0\n",
            "\n",
            "Avg price of car for model = golf is  5554.056241488879\n",
            "Avg price of car for model = fabia is  4407.027522935779\n",
            "Avg price of car for model = 3s is  6544.488070506767\n",
            "Avg price of car for model = 2series is  3426.109215885947\n",
            "Avg price of car for model = 3series is  3664.7937842778792\n",
            "Avg price of car for model = passat is  5525.541098558629\n",
            "Avg price of car for model = r19 is  13893.712871287129\n",
            "Avg price of car for model = twingo is  1657.5620036652413\n",
            "Avg price of car for model = c_max is  6575.927586206896\n",
            "Avg price of car for model = aclass is  4480.13422818792\n",
            "Avg price of car for model = scirocco is  11925.33088235294\n",
            "Avg price of car for model = 5s is  8766.40488301119\n",
            "Avg price of car for model = meriva is  4825.797740112995\n",
            "Avg price of car for model = arosa is  1211.047619047619\n",
            "Avg price of car for model = other is  7558.672264013589\n",
            "Avg price of car for model = civic is  3384.0\n",
            "Avg price of car for model = transporter is  11192.064354066986\n",
            "Avg price of car for model = punto is  1882.1662174303683\n",
            "Avg price of car for model = eclass is  8930.526174945642\n",
            "Avg price of car for model = kangoo is  2749.0727802037845\n",
            "Avg price of car for model = one is  7632.993324432577\n",
            "Avg price of car for model = clio is  2578.4177471636954\n",
            "Avg price of car for model = 1s is  11503.590530846484\n",
            "Avg price of car for model = bclass is  10640.02712264151\n",
            "Avg price of car for model = astra is  3531.531494079113\n",
            "Avg price of car for model = fortwo is  3833.1860660324564\n",
            "Avg price of car for model = a8 is  10995.902953586497\n",
            "Avg price of car for model = jetta is  5595.472440944882\n",
            "Avg price of car for model = polo is  3099.7205577949667\n",
            "Avg price of car for model = fiesta is  3079.7805111058037\n",
            "Avg price of car for model = cclass is  7418.884490315283\n",
            "Avg price of car for model = micra is  2086.500405515004\n",
            "Avg price of car for model = vito is  7270.647867950482\n",
            "Avg price of car for model = sprinter is  6971.166666666667\n",
            "Avg price of car for model = 156 is  1660.2364425162689\n",
            "Avg price of car for model = escort is  1314.8368932038834\n",
            "Avg price of car for model = forester is  5945.637168141593\n",
            "Avg price of car for model = scenic is  2752.928171641791\n",
            "Avg price of car for model = a1 is  14403.191379310345\n",
            "Avg price of car for model = 100 is  2801.0990712074304\n",
            "Avg price of car for model = focus is  4126.773629693569\n",
            "Avg price of car for model = tt is  14162.68044788975\n",
            "Avg price of car for model = a6 is  9093.423212435233\n",
            "Avg price of car for model = jazz is  4778.0970149253735\n",
            "Avg price of car for model = slk is  11568.631188118812\n",
            "Avg price of car for model = 7s is  10118.36031927024\n",
            "Avg price of car for model = 80 is  1622.0594262295083\n",
            "Avg price of car for model = 147 is  2369.694623655914\n",
            "Avg price of car for model = freelander is  24665.06103286385\n",
            "Avg price of car for model = zseries is  14086.583333333334\n",
            "Avg price of car for model = sportage is  13388.490842490843\n",
            "Avg price of car for model = v40 is  1977.746003552398\n",
            "Avg price of car for model = ibiza is  4122.118155619596\n",
            "Avg price of car for model = mustang is  20995.336363636365\n",
            "Avg price of car for model = eos is  11639.325102880659\n",
            "Avg price of car for model = a4 is  7386.757606109929\n",
            "Avg price of car for model = touran is  8061.1953736654805\n",
            "Avg price of car for model = getz is  2090.5714285714284\n",
            "Avg price of car for model = insignia is  12790.718446601943\n",
            "Avg price of car for model = a3 is  8371.557312252964\n",
            "Avg price of car for model = megane is  3705.6433926897844\n",
            "Avg price of car for model = lupo is  1503.657312466271\n",
            "Avg price of car for model = navara is  990.8815789473684\n",
            "Avg price of car for model = corsa is  2285.5422355936125\n",
            "Avg price of car for model = colt is  2751.801886792453\n",
            "Avg price of car for model = vectra is  1929.348885793872\n",
            "Avg price of car for model = berlingo is  3590.947204968944\n",
            "Avg price of car for model = mclass is  13370.6207253886\n",
            "Avg price of car for model = tiguan is  17508.492874109263\n",
            "Avg price of car for model = iseries is  8775.731814198072\n",
            "Avg price of car for model = sharan is  6896.632377740303\n",
            "Avg price of car for model = 6series is  4025.197445972495\n",
            "Avg price of car for model = c4 is  6281.894594594594\n",
            "Avg price of car for model = panda is  3291.7703984819736\n",
            "Avg price of car for model = up is  8074.702875399361\n",
            "Avg price of car for model = seicento is  881.1351981351982\n",
            "Avg price of car for model = ceed is  8584.181415929204\n",
            "Avg price of car for model = 5series is  8550.26735218509\n",
            "Avg price of car for model = yeti is  14707.502617801047\n",
            "Avg price of car for model = octavia is  7816.851212938005\n",
            "Avg price of car for model = zafira is  4047.0352082438817\n",
            "Avg price of car for model = mii is  7503.1973684210525\n",
            "Avg price of car for model = rxseries is  5899.788617886179\n",
            "Avg price of car for model = mondeo is  3188.5590822179734\n",
            "Avg price of car for model = 6s is  23428.650485436894\n",
            "Avg price of car for model = mode is  3294.0944881889764\n",
            "Avg price of car for model = fox is  2933.56369982548\n",
            "Avg price of car for model = matiz is  1786.308868501529\n",
            "Avg price of car for model = beetle is  7795.008230452675\n",
            "Avg price of car for model = rio is  4923.251700680272\n",
            "Avg price of car for model = touareg is  16322.012738853504\n",
            "Avg price of car for model = logan is  3733.4666666666667\n",
            "Avg price of car for model = omega is  1275.9412393162393\n",
            "Avg price of car for model = cuore is  1237.3937007874015\n",
            "Avg price of car for model = s_max is  10940.728606356968\n",
            "Avg price of car for model = altea is  4056.0226537216827\n",
            "Avg price of car for model = xseries is  18330.55099081682\n",
            "Avg price of car for model = a5 is  21536.867965367965\n",
            "Avg price of car for model = galaxy is  4394.869461077844\n",
            "Avg price of car for model = c3 is  4064.1867612293145\n",
            "Avg price of car for model = viano is  18756.966408268734\n",
            "Avg price of car for model = great is  12098.82299741602\n",
            "Avg price of car for model = avensis is  5850.43388429752\n",
            "Avg price of car for model = sl is  22208.490265486726\n",
            "Avg price of car for model = roomster is  6999.276422764227\n",
            "Avg price of car for model = q5 is  27281.348946135833\n",
            "Avg price of car for model = Beetle is  9397.629770992366\n",
            "Avg price of car for model = santa is  7085.716363636364\n",
            "Avg price of car for model = cooper is  11350.413436692506\n",
            "Avg price of car for model = leon is  8379.625\n",
            "Avg price of car for model = caddy is  7472.259842519685\n",
            "Avg price of car for model = clk is  7024.49898989899\n",
            "Avg price of car for model = primera is  1602.568888888889\n",
            "Avg price of car for model = 4series is  3867.01\n",
            "Avg price of car for model = espace is  2765.310096153846\n",
            "Avg price of car for model = exeo is  11310.725274725275\n",
            "Avg price of car for model = discovery is  11809.806818181818\n",
            "Avg price of car for model = 1stseries is  1859.4833333333333\n",
            "Avg price of car for model = ka is  1734.1250707413697\n",
            "Avg price of car for model = crseries is  5117.89138576779\n",
            "Avg price of car for model = corolla is  2815.5567765567766\n",
            "Avg price of car for model = grand is  8774.808193668528\n",
            "Avg price of car for model = lanos is  638.7719298245614\n",
            "Avg price of car for model = phaeton is  10902.4\n",
            "Avg price of car for model = boxster is  23809.105978260868\n",
            "Avg price of car for model = cordoba is  1001.3777777777777\n",
            "Avg price of car for model = verso is  7259.541666666667\n",
            "Avg price of car for model = swift is  4440.673913043478\n",
            "Avg price of car for model = rav is  8168.813114754098\n",
            "Avg price of car for model = kuga is  16255.752112676057\n",
            "Avg price of car for model = qashqai is  13186.54780876494\n",
            "Avg price of car for model = jimny is  7393.622222222222\n",
            "Avg price of car for model = picanto is  3531.578616352201\n",
            "Avg price of car for model = superb is  11839.553314121038\n",
            "Avg price of car for model = stilo is  1728.9717647058824\n",
            "Avg price of car for model = alhambra is  7844.026627218935\n",
            "Avg price of car for model = laguna is  2491.2418558736426\n",
            "Avg price of car for model = mseries is  31223.897435897437\n",
            "Avg price of car for model = transit is  5055.192100538599\n",
            "Avg price of car for model = cherokee is  5007.164556962025\n",
            "Avg price of car for model = ypsilon is  1587.546052631579\n",
            "Avg price of car for model = gallant is  1328.9467455621302\n",
            "Avg price of car for model = impreza is  6803.771428571428\n",
            "Avg price of car for model = sirion is  2525.9423076923076\n",
            "Avg price of car for model = signum is  3969.2846153846153\n",
            "Avg price of car for model = crossfire is  11214.35593220339\n",
            "Avg price of car for model = agila is  2055.2873900293257\n",
            "Avg price of car for model = clubman is  10048.866666666667\n",
            "Avg price of car for model = sorento is  8360.506535947712\n",
            "Avg price of car for model = accord is  6808.825174825175\n",
            "Avg price of car for model = v50 is  6195.68018018018\n",
            "Avg price of car for model = mxseries is  5672.153024911032\n",
            "Avg price of car for model = 500 is  8192.396984924622\n",
            "Avg price of car for model = juke is  15851.2\n",
            "Avg price of car for model = cseries is  8649.6312849162\n",
            "Avg price of car for model = vclass is  9877.925\n",
            "Avg price of car for model = yaris is  4070.825740318907\n",
            "Avg price of car for model = c5 is  4914.488833746898\n",
            "Avg price of car for model = aygo is  4289.365921787709\n",
            "Avg price of car for model = almera is  1607.2823529411764\n",
            "Avg price of car for model = cc is  17851.225\n",
            "Avg price of car for model = 911 is  50582.044568245125\n",
            "Avg price of car for model = bora is  2523.3042168674697\n",
            "Avg price of car for model = forfour is  3007.7868852459014\n",
            "Avg price of car for model = combo is  2018.9479166666667\n",
            "Avg price of car for model = cl is  15012.775\n",
            "Avg price of car for model = tigra is  3113.621052631579\n",
            "Avg price of car for model = 300c is  11066.598360655738\n",
            "Avg price of car for model = ptcruiser is  2780.8\n",
            "Avg price of car for model = xcseries is  15097.522435897436\n",
            "Avg price of car for model = spark is  5113.855855855856\n",
            "Avg price of car for model = gclass is  5699.160305343511\n",
            "Avg price of car for model = ducato is  4587.698305084746\n",
            "Avg price of car for model = s_type is  4830.462365591397\n",
            "Avg price of car for model = calibra is  8050.60962566845\n",
            "Avg price of car for model = q7 is  2440.774891774892\n",
            "Avg price of car for model = a2 is  6750.819620253164\n",
            "Avg price of car for model = voyager is  2240.5\n",
            "Avg price of car for model = carnival is  2485.233009708738\n",
            "Avg price of car for model = v70 is  4829.4\n",
            "Avg price of car for model = Bravo is  3379.5944700460827\n",
            "Avg price of car for model = range_rover is  13853.679487179486\n",
            "Avg price of car for model = carisma is  1035.9893617021276\n",
            "Avg price of car for model = antara is  9705.921348314607\n",
            "Avg price of car for model = vivaro is  21835.083333333332\n",
            "Avg price of car for model = c1 is  3973.815476190476\n",
            "Avg price of car for model = cadet is  3139.1319796954313\n",
            "Avg price of car for model = citigo is  7426.388235294117\n",
            "Avg price of car for model = 850 is  6931.972826086957\n",
            "Avg price of car for model = cxseries is  19600.081818181818\n",
            "Avg price of car for model = cayenne is  25108.88429752066\n",
            "Avg price of car for model = wrangler is  18224.48201438849\n",
            "Avg price of car for model = lybra is  898.2162162162163\n",
            "Avg price of car for model = lancer is  6663.0\n",
            "Avg price of car for model = glk is  7091.2786885245905\n",
            "Avg price of car for model = captiva is  10726.90909090909\n",
            "Avg price of car for model = fusion is  3188.896551724138\n",
            "Avg price of car for model = range_rover_evoque is  33720.640625\n",
            "Avg price of car for model = sandero is  5032.9453125\n",
            "Avg price of car for model = grade is  5286.069565217392\n",
            "Avg price of car for model = q3 is  28313.846153846152\n",
            "Avg price of car for model = spider is  9674.304347826086\n",
            "Avg price of car for model = 90 is  2473.0714285714284\n",
            "Avg price of car for model = defender is  26549.393162393164\n",
            "Avg price of car for model = roadster is  5788.713114754099\n",
            "Avg price of car for model = duster is  11007.702702702703\n",
            "Avg price of car for model = legacy is  3259.3893805309735\n",
            "Avg price of car for model = x_trail is  7265.023391812865\n",
            "Avg price of car for model = c2 is  2765.921383647799\n",
            "Avg price of car for model = niva is  4025.2727272727275\n",
            "Avg price of car for model = s60 is  7127.293233082707\n",
            "Avg price of car for model = 900 is  3819.551724137931\n",
            "Avg price of car for model = nubira is  945.0\n",
            "Avg price of car for model = toledo is  8474.567164179105\n",
            "Avg price of car for model = tucson is  7059.034146341463\n",
            "Avg price of car for model = x_type is  26441.594405594406\n",
            "Avg price of car for model = auris is  9524.22009569378\n",
            "Avg price of car for model = terios is  10432.264705882353\n",
            "Avg price of car for model = 159 is  1650.062893081761\n",
            "Avg price of car for model = range_rover_sport is  24416.483146067414\n",
            "Avg price of car for model = 601 is  2494.186440677966\n",
            "Avg price of car for model = justy is  1769.2967032967033\n",
            "Avg price of car for model = serie_2 is  9315.375\n",
            "Avg price of car for model = pajero is  2473.934426229508\n",
            "Avg price of car for model = charade is  1557.2105263157894\n",
            "Avg price of car for model = croma is  4193.444444444444\n",
            "Avg price of car for model = outlander is  10959.209090909091\n",
            "Avg price of car for model = gl is  35466.53571428572\n",
            "Avg price of car for model = doblo is  3639.0697674418607\n",
            "Avg price of car for model = amarok is  23225.79411764706\n",
            "Avg price of car for model = musa is  3431.705882352941\n",
            "Avg price of car for model = 9000 is  2370.1111111111113\n",
            "Avg price of car for model = kalos is  1492.4615384615386\n",
            "Avg price of car for model = v60 is  16989.777777777777\n",
            "Avg price of car for model = 200 is  4862.0\n",
            "Avg price of car for model = b_max is  12325.653846153846\n",
            "Avg price of car for model = delta is  10557.612903225807\n",
            "Avg price of car for model = 145 is  1129.1666666666667\n",
            "Avg price of car for model = aveo is  4946.397959183673\n",
            "Avg price of car for model = lodgy is  5262.9655172413795\n",
            "Avg price of car for model = move is  660.6\n",
            "Avg price of car for model = materia is  5090.583333333333\n",
            "Avg price of car for model = kalina is  1816.5\n",
            "Avg price of car for model = samara is  1332.6666666666667\n",
            "Avg price of car for model = elefantino is  474.8333333333333\n",
            "Avg price of car for model = i3 is  11632.714285714286\n",
            "Avg price of car for model = rangerover is  13600.0\n",
            "Avg price of car for model = serie_3 is  13083.333333333334\n",
            "Avg price of car for model = kappa is  2264.9\n",
            "Avg price of car for model = discovery_sport is  47950.0\n"
          ],
          "name": "stdout"
        }
      ]
    },
    {
      "cell_type": "markdown",
      "metadata": {
        "id": "uPzEouoMAbHV",
        "colab_type": "text"
      },
      "source": [
        "We can see from the oneway test that the price of used car is affected by model of the car as the pvalue is less than 0.05"
      ]
    },
    {
      "cell_type": "markdown",
      "metadata": {
        "id": "NPYqWbiLAbHV",
        "colab_type": "text"
      },
      "source": [
        "As we can see quite evidently that the average price of a used car varies significantly for different models of vehicles."
      ]
    },
    {
      "cell_type": "markdown",
      "metadata": {
        "id": "kyxd9it1cSHc",
        "colab_type": "text"
      },
      "source": [
        "### Gearbox"
      ]
    },
    {
      "cell_type": "code",
      "metadata": {
        "id": "mdEtLnwgcSHy",
        "colab_type": "code",
        "colab": {
          "base_uri": "https://localhost:8080/",
          "height": 0
        },
        "outputId": "f065fd0f-2240-4ec7-f0e2-40167f26614b"
      },
      "source": [
        "df2['gearbox'].describe()"
      ],
      "execution_count": 66,
      "outputs": [
        {
          "output_type": "execute_result",
          "data": {
            "text/plain": [
              "count     264509\n",
              "unique         2\n",
              "top       manual\n",
              "freq      203311\n",
              "Name: gearbox, dtype: object"
            ]
          },
          "metadata": {
            "tags": []
          },
          "execution_count": 66
        }
      ]
    },
    {
      "cell_type": "code",
      "metadata": {
        "id": "GJFbyWtKcSIC",
        "colab_type": "code",
        "colab": {
          "base_uri": "https://localhost:8080/",
          "height": 0
        },
        "outputId": "6eb2832f-a6f1-4f96-c92e-72d6714cb961"
      },
      "source": [
        "df2['gearbox'].value_counts(dropna = False).plot(kind = 'bar')"
      ],
      "execution_count": 67,
      "outputs": [
        {
          "output_type": "execute_result",
          "data": {
            "text/plain": [
              "<matplotlib.axes._subplots.AxesSubplot at 0x7f9d07fd1ac8>"
            ]
          },
          "metadata": {
            "tags": []
          },
          "execution_count": 67
        },
        {
          "output_type": "display_data",
          "data": {
            "image/png": "[encoded data removed]",
            "text/plain": [
              "<Figure size 432x288 with 1 Axes>"
            ]
          },
          "metadata": {
            "tags": [],
            "needs_background": "light"
          }
        }
      ]
    },
    {
      "cell_type": "markdown",
      "metadata": {
        "id": "c_Gt4mL1AbHb",
        "colab_type": "text"
      },
      "source": [
        "Imputation of the values for gearBox does not really make sense because we will not be able to determine what type of gearBox the car belongs to by using other features in the dataset. So we will drop the NA values."
      ]
    },
    {
      "cell_type": "code",
      "metadata": {
        "id": "QtAhqyS6AbHc",
        "colab_type": "code",
        "colab": {}
      },
      "source": [
        "df2 = df2[df2['gearbox'].isnull() == False]"
      ],
      "execution_count": 68,
      "outputs": []
    },
    {
      "cell_type": "markdown",
      "metadata": {
        "id": "hXR7YfgwAbHe",
        "colab_type": "text"
      },
      "source": [
        "### Statistical Analysis\n",
        "Is there any discrepancy in avg price with respect to the type of gearbox.\n",
        "\n",
        "H0 : avg_price_manual = avg_price_automatic\n",
        "\n",
        "H1 : avg_price_manual != avg_price_automatic"
      ]
    },
    {
      "cell_type": "code",
      "metadata": {
        "id": "f85y1yu-AbHe",
        "colab_type": "code",
        "colab": {}
      },
      "source": [
        "price_manual = df2.loc[df2['gearbox'] == 'manual','price']\n",
        "price_automatic = df2.loc[df2['gearbox'] == 'automatic','price']"
      ],
      "execution_count": 69,
      "outputs": []
    },
    {
      "cell_type": "markdown",
      "metadata": {
        "id": "u4XOQc_UAbHg",
        "colab_type": "text"
      },
      "source": [
        "Shapiro Test - Test for Normality"
      ]
    },
    {
      "cell_type": "code",
      "metadata": {
        "id": "kgondxNoAbHh",
        "colab_type": "code",
        "colab": {
          "base_uri": "https://localhost:8080/",
          "height": 0
        },
        "outputId": "312d5435-7c8c-4ba8-d2e4-78645a8bbb78"
      },
      "source": [
        "print(shapiro(price_manual))\n",
        "print(shapiro(price_automatic))"
      ],
      "execution_count": 70,
      "outputs": [
        {
          "output_type": "stream",
          "text": [
            "(0.699974775314331, 0.0)\n",
            "(0.8082908391952515, 0.0)\n"
          ],
          "name": "stdout"
        }
      ]
    },
    {
      "cell_type": "markdown",
      "metadata": {
        "id": "8Yvh3j99AbHk",
        "colab_type": "text"
      },
      "source": [
        "The prices for cars with both manual and automatic gearbox are not normally distributed as pvalue is less than 0.05."
      ]
    },
    {
      "cell_type": "markdown",
      "metadata": {
        "id": "SstwfkP0AbHk",
        "colab_type": "text"
      },
      "source": [
        "Bartlett Test - Test for equal variance"
      ]
    },
    {
      "cell_type": "code",
      "metadata": {
        "id": "vq50QqoIAbHl",
        "colab_type": "code",
        "colab": {
          "base_uri": "https://localhost:8080/",
          "height": 0
        },
        "outputId": "f40f0880-a33a-4533-ea33-f9c14e9a2a1b"
      },
      "source": [
        "from scipy.stats import bartlett\n",
        "print(bartlett(price_manual,price_automatic))"
      ],
      "execution_count": 71,
      "outputs": [
        {
          "output_type": "stream",
          "text": [
            "BartlettResult(statistic=40107.98454035753, pvalue=0.0)\n"
          ],
          "name": "stdout"
        }
      ]
    },
    {
      "cell_type": "markdown",
      "metadata": {
        "id": "2Ue_6bRTAbHn",
        "colab_type": "text"
      },
      "source": [
        "The variance in price for car with automatic gearbox is not equal to the car with manual gearbox as pvalue is less that 0.05. So for a non parametric independent 2 sample t-test we will go with manwhitneyu test."
      ]
    },
    {
      "cell_type": "markdown",
      "metadata": {
        "id": "7WamCOZbAbHn",
        "colab_type": "text"
      },
      "source": [
        "Manwhitneyu Test\n",
        "\n",
        "H0 : Average price of car with automatic gearbox is equal to average price of car with manual gearbox."
      ]
    },
    {
      "cell_type": "code",
      "metadata": {
        "id": "qgh8cJgMAbHo",
        "colab_type": "code",
        "colab": {
          "base_uri": "https://localhost:8080/",
          "height": 0
        },
        "outputId": "ba64f8ac-ce2d-4bd4-b6d3-907b387fadd7"
      },
      "source": [
        "from scipy.stats import mannwhitneyu\n",
        "print(mannwhitneyu(price_manual,price_automatic))"
      ],
      "execution_count": 72,
      "outputs": [
        {
          "output_type": "stream",
          "text": [
            "MannwhitneyuResult(statistic=3635042605.0, pvalue=0.0)\n"
          ],
          "name": "stdout"
        }
      ]
    },
    {
      "cell_type": "markdown",
      "metadata": {
        "id": "YEv4GQGDAbHr",
        "colab_type": "text"
      },
      "source": [
        "We can see from the manwhitneyu test that the price of used car is affected by the fact that whether its an automatic or manual gearbox car as the pvalue is less than 0.05"
      ]
    },
    {
      "cell_type": "markdown",
      "metadata": {
        "id": "yydZkQzvAbHs",
        "colab_type": "text"
      },
      "source": [
        "Post hoc analysis"
      ]
    },
    {
      "cell_type": "code",
      "metadata": {
        "id": "fwcTv9mvAbHs",
        "colab_type": "code",
        "colab": {
          "base_uri": "https://localhost:8080/",
          "height": 0
        },
        "outputId": "0e36d310-f9dd-4f19-dc7d-aba144c67f27"
      },
      "source": [
        "print('Avg price for car which has manual gearbox : ',price_manual.mean())\n",
        "print('Avg price for car which has automatic gearbox : ',price_automatic.mean())"
      ],
      "execution_count": 73,
      "outputs": [
        {
          "output_type": "stream",
          "text": [
            "Avg price for car which has manual gearbox :  5181.729876888117\n",
            "Avg price for car which has automatic gearbox :  11255.807085198863\n"
          ],
          "name": "stdout"
        }
      ]
    },
    {
      "cell_type": "code",
      "metadata": {
        "id": "cI_uB9NfAbHu",
        "colab_type": "code",
        "colab": {
          "base_uri": "https://localhost:8080/",
          "height": 0
        },
        "outputId": "b472be4d-4c57-4762-afc7-b8ba9fc91f31"
      },
      "source": [
        "df2.boxplot(column='price',by = 'gearbox')"
      ],
      "execution_count": 74,
      "outputs": [
        {
          "output_type": "execute_result",
          "data": {
            "text/plain": [
              "<matplotlib.axes._subplots.AxesSubplot at 0x7f9d07fe6c18>"
            ]
          },
          "metadata": {
            "tags": []
          },
          "execution_count": 74
        },
        {
          "output_type": "display_data",
          "data": {
            "image/png": "[encoded data removed]",
            "text/plain": [
              "<Figure size 432x288 with 1 Axes>"
            ]
          },
          "metadata": {
            "tags": [],
            "needs_background": "light"
          }
        }
      ]
    },
    {
      "cell_type": "markdown",
      "metadata": {
        "id": "mDqszowqAbH3",
        "colab_type": "text"
      },
      "source": [
        "As we can see quite evidently that the average price of a used car which has an automatic gearbox is higher than that which has a manual gearbox."
      ]
    },
    {
      "cell_type": "markdown",
      "metadata": {
        "id": "5mGTkLL8VgTm",
        "colab_type": "text"
      },
      "source": [
        "### Seller"
      ]
    },
    {
      "cell_type": "code",
      "metadata": {
        "id": "bNJWsYz_VgT-",
        "colab_type": "code",
        "colab": {
          "base_uri": "https://localhost:8080/",
          "height": 0
        },
        "outputId": "b0f6eaed-a550-48cb-bf88-864e4d4e8ee6"
      },
      "source": [
        "df2['seller'].describe()"
      ],
      "execution_count": 75,
      "outputs": [
        {
          "output_type": "execute_result",
          "data": {
            "text/plain": [
              "count      264509\n",
              "unique          2\n",
              "top       private\n",
              "freq       264507\n",
              "Name: seller, dtype: object"
            ]
          },
          "metadata": {
            "tags": []
          },
          "execution_count": 75
        }
      ]
    },
    {
      "cell_type": "code",
      "metadata": {
        "id": "r2F5_QVZVgUS",
        "colab_type": "code",
        "colab": {
          "base_uri": "https://localhost:8080/",
          "height": 0
        },
        "outputId": "4b6d18bb-1518-4718-d6ee-c311a4e92082"
      },
      "source": [
        "print(df2['seller'].value_counts(dropna = False))\n",
        "df2['seller'].value_counts(dropna = False).plot(kind = 'bar')"
      ],
      "execution_count": 76,
      "outputs": [
        {
          "output_type": "stream",
          "text": [
            "private       264507\n",
            "commercial         2\n",
            "Name: seller, dtype: int64\n"
          ],
          "name": "stdout"
        },
        {
          "output_type": "execute_result",
          "data": {
            "text/plain": [
              "<matplotlib.axes._subplots.AxesSubplot at 0x7f9d07892f98>"
            ]
          },
          "metadata": {
            "tags": []
          },
          "execution_count": 76
        },
        {
          "output_type": "display_data",
          "data": {
            "image/png": "[encoded data removed]",
            "text/plain": [
              "<Figure size 432x288 with 1 Axes>"
            ]
          },
          "metadata": {
            "tags": [],
            "needs_background": "light"
          }
        }
      ]
    },
    {
      "cell_type": "markdown",
      "metadata": {
        "id": "OW8uIRfdAbIC",
        "colab_type": "text"
      },
      "source": [
        "The data in this features seems extremely imbalanced. So we will consider dropping this feature."
      ]
    },
    {
      "cell_type": "markdown",
      "metadata": {
        "id": "cJp-tnv-W5cc",
        "colab_type": "text"
      },
      "source": [
        "### OfferType"
      ]
    },
    {
      "cell_type": "code",
      "metadata": {
        "id": "mUc8BdPiW5c-",
        "colab_type": "code",
        "colab": {
          "base_uri": "https://localhost:8080/",
          "height": 0
        },
        "outputId": "bd5767f0-74bc-42d8-ab46-396612b59d1e"
      },
      "source": [
        "df2['offerType'].describe()"
      ],
      "execution_count": 77,
      "outputs": [
        {
          "output_type": "execute_result",
          "data": {
            "text/plain": [
              "count     264509\n",
              "unique         2\n",
              "top        offer\n",
              "freq      264508\n",
              "Name: offerType, dtype: object"
            ]
          },
          "metadata": {
            "tags": []
          },
          "execution_count": 77
        }
      ]
    },
    {
      "cell_type": "code",
      "metadata": {
        "id": "k7Kadz3dW5dG",
        "colab_type": "code",
        "colab": {
          "base_uri": "https://localhost:8080/",
          "height": 0
        },
        "outputId": "ed6df785-65ff-4f6a-db28-2eea69965f89"
      },
      "source": [
        "print(df2['offerType'].value_counts(dropna = False))\n",
        "df2['offerType'].value_counts(dropna = False).plot(kind = 'bar')"
      ],
      "execution_count": 78,
      "outputs": [
        {
          "output_type": "stream",
          "text": [
            "offer          264508\n",
            "application         1\n",
            "Name: offerType, dtype: int64\n"
          ],
          "name": "stdout"
        },
        {
          "output_type": "execute_result",
          "data": {
            "text/plain": [
              "<matplotlib.axes._subplots.AxesSubplot at 0x7f9d06001c50>"
            ]
          },
          "metadata": {
            "tags": []
          },
          "execution_count": 78
        },
        {
          "output_type": "display_data",
          "data": {
            "image/png": "[encoded data removed]",
            "text/plain": [
              "<Figure size 432x288 with 1 Axes>"
            ]
          },
          "metadata": {
            "tags": [],
            "needs_background": "light"
          }
        }
      ]
    },
    {
      "cell_type": "markdown",
      "metadata": {
        "id": "7lhEA7E-AbII",
        "colab_type": "text"
      },
      "source": [
        "The data in this features seems extremely imbalanced. So we will consider dropping this feature."
      ]
    },
    {
      "cell_type": "markdown",
      "metadata": {
        "id": "b7tjemdGXRuQ",
        "colab_type": "text"
      },
      "source": [
        "### ABTEST"
      ]
    },
    {
      "cell_type": "code",
      "metadata": {
        "id": "l5nOQmeNXRuV",
        "colab_type": "code",
        "colab": {
          "base_uri": "https://localhost:8080/",
          "height": 0
        },
        "outputId": "7d7e358b-7680-4fc6-c8fc-a4660e8cb3dd"
      },
      "source": [
        "df2['abtest'].describe()"
      ],
      "execution_count": 79,
      "outputs": [
        {
          "output_type": "execute_result",
          "data": {
            "text/plain": [
              "count     264509\n",
              "unique         2\n",
              "top         test\n",
              "freq      137245\n",
              "Name: abtest, dtype: object"
            ]
          },
          "metadata": {
            "tags": []
          },
          "execution_count": 79
        }
      ]
    },
    {
      "cell_type": "code",
      "metadata": {
        "id": "_Od1xmRbXRuk",
        "colab_type": "code",
        "colab": {
          "base_uri": "https://localhost:8080/",
          "height": 0
        },
        "outputId": "6e6f260f-501d-4674-bcb1-a24d0b0941f8"
      },
      "source": [
        "df2['abtest'].value_counts(dropna = False).plot(kind = 'bar')"
      ],
      "execution_count": 80,
      "outputs": [
        {
          "output_type": "execute_result",
          "data": {
            "text/plain": [
              "<matplotlib.axes._subplots.AxesSubplot at 0x7f9d05f55208>"
            ]
          },
          "metadata": {
            "tags": []
          },
          "execution_count": 80
        },
        {
          "output_type": "display_data",
          "data": {
            "image/png": "[encoded data removed]",
            "text/plain": [
              "<Figure size 432x288 with 1 Axes>"
            ]
          },
          "metadata": {
            "tags": [],
            "needs_background": "light"
          }
        }
      ]
    },
    {
      "cell_type": "markdown",
      "metadata": {
        "id": "UayGITtAAbIO",
        "colab_type": "text"
      },
      "source": [
        "### Statistical Analysis\n",
        "Is there any discrepancy in avg price with respect to abtest.\n",
        "\n",
        "H0 : avg_price_test = avg_price_control\n",
        "\n",
        "H1 : avg_price_test != avg_price_control"
      ]
    },
    {
      "cell_type": "code",
      "metadata": {
        "id": "UA37f71tAbIP",
        "colab_type": "code",
        "colab": {}
      },
      "source": [
        "price_test = df2.loc[df2['abtest'] == 'test','price']\n",
        "price_control = df2.loc[df2['abtest'] == 'control','price']"
      ],
      "execution_count": 81,
      "outputs": []
    },
    {
      "cell_type": "markdown",
      "metadata": {
        "id": "8mxWXHN_AbIS",
        "colab_type": "text"
      },
      "source": [
        "Shapiro Test - Test for Normality"
      ]
    },
    {
      "cell_type": "code",
      "metadata": {
        "id": "ZeGqMhrlAbIS",
        "colab_type": "code",
        "colab": {
          "base_uri": "https://localhost:8080/",
          "height": 0
        },
        "outputId": "e91ddddb-cf29-4954-e6cc-8fe0fdef8972"
      },
      "source": [
        "print(shapiro(price_test))\n",
        "print(shapiro(price_control))"
      ],
      "execution_count": 82,
      "outputs": [
        {
          "output_type": "stream",
          "text": [
            "(0.7027723789215088, 0.0)\n",
            "(0.7039779424667358, 0.0)\n"
          ],
          "name": "stdout"
        }
      ]
    },
    {
      "cell_type": "markdown",
      "metadata": {
        "id": "4oAAUhPVAbIV",
        "colab_type": "text"
      },
      "source": [
        "The prices for cars with both test and control are not normally distributed as pvalue is less than 0.05."
      ]
    },
    {
      "cell_type": "markdown",
      "metadata": {
        "id": "HLW46w96AbIV",
        "colab_type": "text"
      },
      "source": [
        "Bartlett Test - Test for equal variance"
      ]
    },
    {
      "cell_type": "code",
      "metadata": {
        "id": "IFuRaFh-AbIW",
        "colab_type": "code",
        "colab": {
          "base_uri": "https://localhost:8080/",
          "height": 0
        },
        "outputId": "9ceb7a16-1df0-4ed3-c2ad-c0bc91459484"
      },
      "source": [
        "from scipy.stats import bartlett\n",
        "print(bartlett(price_test,price_control))"
      ],
      "execution_count": 83,
      "outputs": [
        {
          "output_type": "stream",
          "text": [
            "BartlettResult(statistic=4.216303883829881, pvalue=0.040037284097129984)\n"
          ],
          "name": "stdout"
        }
      ]
    },
    {
      "cell_type": "markdown",
      "metadata": {
        "id": "nr8nCsT-AbIb",
        "colab_type": "text"
      },
      "source": [
        "The variance in price for car with control abtest is not equal to the car with test abtest as pvalue is less that 0.05. So for a non parametric independent 2 sample t-test we will go with manwhitneyu test."
      ]
    },
    {
      "cell_type": "markdown",
      "metadata": {
        "id": "L07SjjVkAbIb",
        "colab_type": "text"
      },
      "source": [
        "Manwhitneyu Test\n",
        "\n",
        "H0 : Average price of car with automatic gearbox is equal to average price of car with manual gearbox."
      ]
    },
    {
      "cell_type": "code",
      "metadata": {
        "id": "pcNPb7VrAbIb",
        "colab_type": "code",
        "colab": {
          "base_uri": "https://localhost:8080/",
          "height": 0
        },
        "outputId": "506a6dec-6800-4d7f-c36e-199439e77f7e"
      },
      "source": [
        "from scipy.stats import mannwhitneyu\n",
        "print(mannwhitneyu(price_test,price_control))"
      ],
      "execution_count": 84,
      "outputs": [
        {
          "output_type": "stream",
          "text": [
            "MannwhitneyuResult(statistic=8718386172.0, pvalue=0.2255276517384996)\n"
          ],
          "name": "stdout"
        }
      ]
    },
    {
      "cell_type": "markdown",
      "metadata": {
        "id": "fqu1lxGLAbIe",
        "colab_type": "text"
      },
      "source": [
        "We can see from the manwhitneyu test that the price of used car is not affected by the feature abtest as the pvalue is greater than 0.05. So we will prefer dropping this column."
      ]
    },
    {
      "cell_type": "markdown",
      "metadata": {
        "id": "xfdjf-c7Xj2h",
        "colab_type": "text"
      },
      "source": [
        "### Year Of Registration"
      ]
    },
    {
      "cell_type": "code",
      "metadata": {
        "id": "QMPG6gBxXj2k",
        "colab_type": "code",
        "colab": {
          "base_uri": "https://localhost:8080/",
          "height": 0
        },
        "outputId": "49cfe924-b26c-42b9-8156-ec438e0ee9ef"
      },
      "source": [
        "df2['yearOfRegistration'].describe()"
      ],
      "execution_count": 85,
      "outputs": [
        {
          "output_type": "execute_result",
          "data": {
            "text/plain": [
              "count    264509.000000\n",
              "mean       2003.738051\n",
              "std          14.631788\n",
              "min        1600.000000\n",
              "25%        2000.000000\n",
              "50%        2004.000000\n",
              "75%        2008.000000\n",
              "max        6200.000000\n",
              "Name: yearOfRegistration, dtype: float64"
            ]
          },
          "metadata": {
            "tags": []
          },
          "execution_count": 85
        }
      ]
    },
    {
      "cell_type": "code",
      "metadata": {
        "id": "_NdV90MVYa4f",
        "colab_type": "code",
        "colab": {}
      },
      "source": [
        "df2.loc[(df2['yearOfRegistration']<1923) | (df2['yearOfRegistration']>2020),'yearOfRegistration'] = np.nan"
      ],
      "execution_count": 86,
      "outputs": []
    },
    {
      "cell_type": "code",
      "metadata": {
        "id": "GFZAtAr2Xj2t",
        "colab_type": "code",
        "colab": {
          "base_uri": "https://localhost:8080/",
          "height": 0
        },
        "outputId": "41a16e4f-4b4b-4887-e5ae-2b8c156be8e3"
      },
      "source": [
        "plt.figure(figsize=(25,5))\n",
        "df2['yearOfRegistration'].value_counts(dropna = False).plot(kind = 'bar')"
      ],
      "execution_count": 87,
      "outputs": [
        {
          "output_type": "execute_result",
          "data": {
            "text/plain": [
              "<matplotlib.axes._subplots.AxesSubplot at 0x7f9d05ec9eb8>"
            ]
          },
          "metadata": {
            "tags": []
          },
          "execution_count": 87
        },
        {
          "output_type": "display_data",
          "data": {
            "image/png": "[encoded data removed]",
            "text/plain": [
              "<Figure size 1800x360 with 1 Axes>"
            ]
          },
          "metadata": {
            "tags": [],
            "needs_background": "light"
          }
        }
      ]
    },
    {
      "cell_type": "code",
      "metadata": {
        "id": "QIRC9iJhAbIw",
        "colab_type": "code",
        "colab": {}
      },
      "source": [
        "df2 = df2[df2['yearOfRegistration'].isnull() == False]"
      ],
      "execution_count": 88,
      "outputs": []
    },
    {
      "cell_type": "markdown",
      "metadata": {
        "id": "6k3PCzrsAbI1",
        "colab_type": "text"
      },
      "source": [
        "We will be combining this column with monthOfRegistration to convert it to the age of vehicle"
      ]
    },
    {
      "cell_type": "markdown",
      "metadata": {
        "id": "8z9yGPu_bR1y",
        "colab_type": "text"
      },
      "source": [
        "### Power PS"
      ]
    },
    {
      "cell_type": "code",
      "metadata": {
        "id": "LLw5oMDhXHau",
        "colab_type": "code",
        "colab": {
          "base_uri": "https://localhost:8080/",
          "height": 0
        },
        "outputId": "47251177-2593-443a-b102-3533c9f9ba76"
      },
      "source": [
        "df2['powerPS'].describe()"
      ],
      "execution_count": 89,
      "outputs": [
        {
          "output_type": "execute_result",
          "data": {
            "text/plain": [
              "count    264501.000000\n",
              "mean        125.225776\n",
              "std         144.991381\n",
              "min           0.000000\n",
              "25%          75.000000\n",
              "50%         116.000000\n",
              "75%         150.000000\n",
              "max       20000.000000\n",
              "Name: powerPS, dtype: float64"
            ]
          },
          "metadata": {
            "tags": []
          },
          "execution_count": 89
        }
      ]
    },
    {
      "cell_type": "code",
      "metadata": {
        "id": "Pusg-1-TbdQQ",
        "colab_type": "code",
        "colab": {
          "base_uri": "https://localhost:8080/",
          "height": 0
        },
        "outputId": "d93a8132-06c1-4eca-b7fc-5194b57e137e"
      },
      "source": [
        "isolation_forest = IsolationForest(contamination='auto')\n",
        "isolation_forest.fit(df2['powerPS'].values.reshape(-1,1))\n",
        "\n",
        "xx = np.linspace(df2['powerPS'].min(), df2['powerPS'].max(), len(df)).reshape(-1,1)\n",
        "print(xx)\n",
        "anomaly_score = isolation_forest.decision_function(xx)\n",
        "outlier = isolation_forest.predict(xx)\n",
        "\n",
        "plt.figure(figsize=(25,5))\n",
        "plt.plot(xx, anomaly_score, label='anomaly score')\n",
        "plt.fill_between(xx.T[0], np.min(anomaly_score), np.max(anomaly_score), \n",
        "                     where=outlier==-1, color='r', \n",
        "                     alpha=.4, label='outlier region')\n",
        "plt.legend()\n",
        "plt.xlim(40, 800)\n",
        "plt.title('Power PS')"
      ],
      "execution_count": 90,
      "outputs": [
        {
          "output_type": "stream",
          "text": [
            "[[0.00000000e+00]\n",
            " [5.38036490e-02]\n",
            " [1.07607298e-01]\n",
            " ...\n",
            " [1.99998924e+04]\n",
            " [1.99999462e+04]\n",
            " [2.00000000e+04]]\n"
          ],
          "name": "stdout"
        },
        {
          "output_type": "execute_result",
          "data": {
            "text/plain": [
              "Text(0.5, 1.0, 'Power PS')"
            ]
          },
          "metadata": {
            "tags": []
          },
          "execution_count": 90
        },
        {
          "output_type": "display_data",
          "data": {
            "image/png": "[encoded data removed]",
            "text/plain": [
              "<Figure size 1800x360 with 1 Axes>"
            ]
          },
          "metadata": {
            "tags": [],
            "needs_background": "light"
          }
        }
      ]
    },
    {
      "cell_type": "code",
      "metadata": {
        "id": "lC7LuMbdcx_A",
        "colab_type": "code",
        "colab": {}
      },
      "source": [
        "df2 = df2[(df2['powerPS']<800) & (df2['powerPS']>40)]"
      ],
      "execution_count": 91,
      "outputs": []
    },
    {
      "cell_type": "markdown",
      "metadata": {
        "id": "_Ziv41CEAbI9",
        "colab_type": "text"
      },
      "source": [
        "If we see from the above plot, almost all data point above 200 seems to come under outliers, but dropping all of those does not seem to be a feasible solution. We can also see that data points after 800 have consistently very low anamoly score, so we can go ahead and drop those data points, and the remaining outliers can be handled further using transformation techniques. Also data points with powerps below 40 also seem to be very low as far as powerps of a used car is concerned, so we will also drop those data points which have powerps below 40."
      ]
    },
    {
      "cell_type": "code",
      "metadata": {
        "id": "mcd4ll30AbI9",
        "colab_type": "code",
        "colab": {
          "base_uri": "https://localhost:8080/",
          "height": 0
        },
        "outputId": "4308475e-7f23-4aa0-a54b-1337a9ba3bc8"
      },
      "source": [
        "sns.scatterplot(x = 'price', y = 'powerPS',data = df2)"
      ],
      "execution_count": 92,
      "outputs": [
        {
          "output_type": "execute_result",
          "data": {
            "text/plain": [
              "<matplotlib.axes._subplots.AxesSubplot at 0x7f9d06001630>"
            ]
          },
          "metadata": {
            "tags": []
          },
          "execution_count": 92
        },
        {
          "output_type": "display_data",
          "data": {
            "image/png": "[encoded data removed]",
            "text/plain": [
              "<Figure size 432x288 with 1 Axes>"
            ]
          },
          "metadata": {
            "tags": [],
            "needs_background": "light"
          }
        }
      ]
    },
    {
      "cell_type": "code",
      "metadata": {
        "id": "ukZHkkEhAbI_",
        "colab_type": "code",
        "colab": {
          "base_uri": "https://localhost:8080/",
          "height": 0
        },
        "outputId": "2701ca41-e15e-43a3-86ba-a2657fa012d4"
      },
      "source": [
        "df2[['price','powerPS']].corr()"
      ],
      "execution_count": 93,
      "outputs": [
        {
          "output_type": "execute_result",
          "data": {
            "text/html": [
              "<div>\n",
              "<style scoped>\n",
              "    .dataframe tbody tr th:only-of-type {\n",
              "        vertical-align: middle;\n",
              "    }\n",
              "\n",
              "    .dataframe tbody tr th {\n",
              "        vertical-align: top;\n",
              "    }\n",
              "\n",
              "    .dataframe thead th {\n",
              "        text-align: right;\n",
              "    }\n",
              "</style>\n",
              "<table border=\"1\" class=\"dataframe\">\n",
              "  <thead>\n",
              "    <tr style=\"text-align: right;\">\n",
              "      <th></th>\n",
              "      <th>price</th>\n",
              "      <th>powerPS</th>\n",
              "    </tr>\n",
              "  </thead>\n",
              "  <tbody>\n",
              "    <tr>\n",
              "      <th>price</th>\n",
              "      <td>1.000000</td>\n",
              "      <td>0.593617</td>\n",
              "    </tr>\n",
              "    <tr>\n",
              "      <th>powerPS</th>\n",
              "      <td>0.593617</td>\n",
              "      <td>1.000000</td>\n",
              "    </tr>\n",
              "  </tbody>\n",
              "</table>\n",
              "</div>"
            ],
            "text/plain": [
              "            price   powerPS\n",
              "price    1.000000  0.593617\n",
              "powerPS  0.593617  1.000000"
            ]
          },
          "metadata": {
            "tags": []
          },
          "execution_count": 93
        }
      ]
    },
    {
      "cell_type": "markdown",
      "metadata": {
        "id": "dJ6ICDoRyKCZ",
        "colab_type": "text"
      },
      "source": [
        "### Brand"
      ]
    },
    {
      "cell_type": "code",
      "metadata": {
        "id": "gRXHj3FOyS76",
        "colab_type": "code",
        "colab": {
          "base_uri": "https://localhost:8080/",
          "height": 0
        },
        "outputId": "cb4d87ee-3dd7-4f4b-c6a8-f8e15909b8a6"
      },
      "source": [
        "df2['brand'].describe()"
      ],
      "execution_count": 94,
      "outputs": [
        {
          "output_type": "execute_result",
          "data": {
            "text/plain": [
              "count         252370\n",
              "unique            39\n",
              "top       volkswagen\n",
              "freq           53210\n",
              "Name: brand, dtype: object"
            ]
          },
          "metadata": {
            "tags": []
          },
          "execution_count": 94
        }
      ]
    },
    {
      "cell_type": "code",
      "metadata": {
        "id": "isPXktvtC-zr",
        "colab_type": "code",
        "colab": {
          "base_uri": "https://localhost:8080/",
          "height": 0
        },
        "outputId": "afdf2a47-0365-41f0-92de-63f633395aa7"
      },
      "source": [
        "plt.figure(figsize=(15,5))\n",
        "df2['brand'].value_counts(dropna = False).plot(kind = 'bar')"
      ],
      "execution_count": 95,
      "outputs": [
        {
          "output_type": "execute_result",
          "data": {
            "text/plain": [
              "<matplotlib.axes._subplots.AxesSubplot at 0x7f9d05bed978>"
            ]
          },
          "metadata": {
            "tags": []
          },
          "execution_count": 95
        },
        {
          "output_type": "display_data",
          "data": {
            "image/png": "[encoded data removed]",
            "text/plain": [
              "<Figure size 1080x360 with 1 Axes>"
            ]
          },
          "metadata": {
            "tags": [],
            "needs_background": "light"
          }
        }
      ]
    },
    {
      "cell_type": "markdown",
      "metadata": {
        "id": "jtgR1O6uAbJG",
        "colab_type": "text"
      },
      "source": [
        "### Statistical Analysis\n",
        "Is there any discrepancy in avg price with respect to brand.\n",
        "\n",
        "H0 : avg_price_volkswagen = avg_price_bmw = avg_price_mercedes_benz = ..... = avg_price_trabant\n",
        "\n",
        "H1 : avg_price_volkswagen != avg_price_bmw != avg_price_mercedes_benz != ..... != avg_price_trabant"
      ]
    },
    {
      "cell_type": "code",
      "metadata": {
        "id": "-OUMzINGAbJG",
        "colab_type": "code",
        "colab": {
          "base_uri": "https://localhost:8080/",
          "height": 0
        },
        "outputId": "f4002843-e45a-45e3-ef1f-b77156aa4927"
      },
      "source": [
        "oneway_posthoc('brand')"
      ],
      "execution_count": 96,
      "outputs": [
        {
          "output_type": "stream",
          "text": [
            "pvalue for brand is 0.0\n",
            "\n",
            "Avg price of car for brand = volkswagen is  6277.342736327758\n",
            "Avg price of car for brand = skoda is  7100.1044943820225\n",
            "Avg price of car for brand = bmw is  9335.984087300247\n",
            "Avg price of car for brand = peugeot is  3730.421324503311\n",
            "Avg price of car for brand = mazda is  4740.982133741705\n",
            "Avg price of car for brand = nissan is  5530.607269503546\n",
            "Avg price of car for brand = renault is  2935.022870734608\n",
            "Avg price of car for brand = ford is  4367.004062126643\n",
            "Avg price of car for brand = mercedes_benz is  9289.46048626363\n",
            "Avg price of car for brand = opel is  3523.2549763033176\n",
            "Avg price of car for brand = seat is  5216.342880193626\n",
            "Avg price of car for brand = honda is  4551.998429319372\n",
            "Avg price of car for brand = fiat is  3411.5494729683783\n",
            "Avg price of car for brand = mini is  10380.236072423399\n",
            "Avg price of car for brand = smart is  4060.7421364061042\n",
            "Avg price of car for brand = audi is  10189.274026614095\n",
            "Avg price of car for brand = alfa_romeo is  4766.777242624925\n",
            "Avg price of car for brand = subaru is  5255.277566539924\n",
            "Avg price of car for brand = mitsubishi is  3946.1305876444\n",
            "Avg price of car for brand = hyundai is  6132.671081677704\n",
            "Avg price of car for brand = kia is  6504.538954108858\n",
            "Avg price of car for brand = lancia is  3819.090322580645\n",
            "Avg price of car for brand = porsche is  35825.55575221239\n",
            "Avg price of car for brand = citroen is  4121.850316637881\n",
            "Avg price of car for brand = toyota is  5672.435097493037\n",
            "Avg price of car for brand = chevrolet is  7339.916144200627\n",
            "Avg price of car for brand = dacia is  6073.567142857143\n",
            "Avg price of car for brand = suzuki is  4603.820987654321\n",
            "Avg price of car for brand = daihatsu is  2141.311440677966\n",
            "Avg price of car for brand = chrysler is  4669.63301787592\n",
            "Avg price of car for brand = volvo is  5950.433841218925\n",
            "Avg price of car for brand = jaguar is  13160.8954248366\n",
            "Avg price of car for brand = daewoo is  1116.926984126984\n",
            "Avg price of car for brand = rover is  2007.876984126984\n",
            "Avg price of car for brand = jeep is  12094.594276094276\n",
            "Avg price of car for brand = saab is  4327.9782082324455\n",
            "Avg price of car for brand = land_rover is  18583.2691680261\n",
            "Avg price of car for brand = trabant is  4855.571428571428\n",
            "Avg price of car for brand = lada is  3757.3333333333335\n"
          ],
          "name": "stdout"
        }
      ]
    },
    {
      "cell_type": "markdown",
      "metadata": {
        "id": "BzmeOLe0AbJI",
        "colab_type": "text"
      },
      "source": [
        "We can see from the oneway test that the price of used car is affected by brand as the pvalue is less than 0.05"
      ]
    },
    {
      "cell_type": "code",
      "metadata": {
        "id": "r4W4MarBAbJJ",
        "colab_type": "code",
        "colab": {
          "base_uri": "https://localhost:8080/",
          "height": 0
        },
        "outputId": "6b4bdb9e-77ce-459a-c447-16be20c583c3"
      },
      "source": [
        "df2.boxplot(column='price',by = 'brand',figsize = (15,5))\n",
        "plt.xticks(rotation = 90)"
      ],
      "execution_count": 97,
      "outputs": [
        {
          "output_type": "execute_result",
          "data": {
            "text/plain": [
              "(array([ 1,  2,  3,  4,  5,  6,  7,  8,  9, 10, 11, 12, 13, 14, 15, 16, 17,\n",
              "        18, 19, 20, 21, 22, 23, 24, 25, 26, 27, 28, 29, 30, 31, 32, 33, 34,\n",
              "        35, 36, 37, 38, 39]), <a list of 39 Text major ticklabel objects>)"
            ]
          },
          "metadata": {
            "tags": []
          },
          "execution_count": 97
        },
        {
          "output_type": "display_data",
          "data": {
            "image/png": "[encoded data removed]",
            "text/plain": [
              "<Figure size 1080x360 with 1 Axes>"
            ]
          },
          "metadata": {
            "tags": [],
            "needs_background": "light"
          }
        }
      ]
    },
    {
      "cell_type": "markdown",
      "metadata": {
        "id": "htnllbsjAbJL",
        "colab_type": "text"
      },
      "source": [
        "As we can see quite evidently that the average price of a used car varies significantly for different brands of vehicles."
      ]
    },
    {
      "cell_type": "markdown",
      "metadata": {
        "id": "dQT2ak49DTsX",
        "colab_type": "text"
      },
      "source": [
        "### Month Of Registration"
      ]
    },
    {
      "cell_type": "code",
      "metadata": {
        "id": "oRGqurIRDTsg",
        "colab_type": "code",
        "colab": {
          "base_uri": "https://localhost:8080/",
          "height": 0
        },
        "outputId": "d41774b4-40b8-47b6-870c-f5f0ca173fb9"
      },
      "source": [
        "df2['monthOfRegistration'].describe()"
      ],
      "execution_count": 98,
      "outputs": [
        {
          "output_type": "execute_result",
          "data": {
            "text/plain": [
              "count    252370.000000\n",
              "mean          6.200202\n",
              "std           3.458814\n",
              "min           0.000000\n",
              "25%           3.000000\n",
              "50%           6.000000\n",
              "75%           9.000000\n",
              "max          12.000000\n",
              "Name: monthOfRegistration, dtype: float64"
            ]
          },
          "metadata": {
            "tags": []
          },
          "execution_count": 98
        }
      ]
    },
    {
      "cell_type": "code",
      "metadata": {
        "id": "dlqDNhn9DTs2",
        "colab_type": "code",
        "colab": {
          "base_uri": "https://localhost:8080/",
          "height": 0
        },
        "outputId": "60391f87-a308-4536-c5e9-b39cf1c814aa"
      },
      "source": [
        "plt.figure(figsize=(25,7))\n",
        "df2['monthOfRegistration'].value_counts(dropna = False).plot(kind = 'bar')"
      ],
      "execution_count": 99,
      "outputs": [
        {
          "output_type": "execute_result",
          "data": {
            "text/plain": [
              "<matplotlib.axes._subplots.AxesSubplot at 0x7f9d02ec52b0>"
            ]
          },
          "metadata": {
            "tags": []
          },
          "execution_count": 99
        },
        {
          "output_type": "display_data",
          "data": {
            "image/png": "[encoded data removed]",
            "text/plain": [
              "<Figure size 1800x504 with 1 Axes>"
            ]
          },
          "metadata": {
            "tags": [],
            "needs_background": "light"
          }
        }
      ]
    },
    {
      "cell_type": "code",
      "metadata": {
        "id": "GC-DnufIet9K",
        "colab_type": "code",
        "colab": {}
      },
      "source": [
        "df2 = df2[df2['monthOfRegistration'] != 0]"
      ],
      "execution_count": 100,
      "outputs": []
    },
    {
      "cell_type": "markdown",
      "metadata": {
        "id": "xTrBosL8AbJZ",
        "colab_type": "text"
      },
      "source": [
        "We will be combining this column with yearOfRegistration to convert it to the age of vehicle"
      ]
    },
    {
      "cell_type": "markdown",
      "metadata": {
        "id": "2-bPPB_Dgbfq",
        "colab_type": "text"
      },
      "source": [
        "### Number of days online"
      ]
    },
    {
      "cell_type": "code",
      "metadata": {
        "id": "eZaC2aHCgdUr",
        "colab_type": "code",
        "colab": {}
      },
      "source": [
        "val = list(df2['lastSeen'] - df2['dateCreated'])\n",
        "days = [obj.days for obj in val]\n",
        "for i in range(len(days)):\n",
        "  if days[i] < 0:\n",
        "    days[i] = np.nan\n",
        "df2['No_of_days_online'] = days"
      ],
      "execution_count": 101,
      "outputs": []
    },
    {
      "cell_type": "code",
      "metadata": {
        "id": "YBur-p_sAbJd",
        "colab_type": "code",
        "colab": {
          "base_uri": "https://localhost:8080/",
          "height": 0
        },
        "outputId": "d61acfc5-2346-4112-b945-c84bc3805381"
      },
      "source": [
        "sns.scatterplot(x = 'price', y = 'No_of_days_online',data = df2)"
      ],
      "execution_count": 102,
      "outputs": [
        {
          "output_type": "execute_result",
          "data": {
            "text/plain": [
              "<matplotlib.axes._subplots.AxesSubplot at 0x7f9d08286908>"
            ]
          },
          "metadata": {
            "tags": []
          },
          "execution_count": 102
        },
        {
          "output_type": "display_data",
          "data": {
            "image/png": "[encoded data removed]",
            "text/plain": [
              "<Figure size 432x288 with 1 Axes>"
            ]
          },
          "metadata": {
            "tags": [],
            "needs_background": "light"
          }
        }
      ]
    },
    {
      "cell_type": "code",
      "metadata": {
        "id": "CFEQNUpMAbJh",
        "colab_type": "code",
        "colab": {
          "base_uri": "https://localhost:8080/",
          "height": 0
        },
        "outputId": "44a24cbb-e750-4274-e067-502cb87e871e"
      },
      "source": [
        "df2[['price','No_of_days_online']].corr()"
      ],
      "execution_count": 103,
      "outputs": [
        {
          "output_type": "execute_result",
          "data": {
            "text/html": [
              "<div>\n",
              "<style scoped>\n",
              "    .dataframe tbody tr th:only-of-type {\n",
              "        vertical-align: middle;\n",
              "    }\n",
              "\n",
              "    .dataframe tbody tr th {\n",
              "        vertical-align: top;\n",
              "    }\n",
              "\n",
              "    .dataframe thead th {\n",
              "        text-align: right;\n",
              "    }\n",
              "</style>\n",
              "<table border=\"1\" class=\"dataframe\">\n",
              "  <thead>\n",
              "    <tr style=\"text-align: right;\">\n",
              "      <th></th>\n",
              "      <th>price</th>\n",
              "      <th>No_of_days_online</th>\n",
              "    </tr>\n",
              "  </thead>\n",
              "  <tbody>\n",
              "    <tr>\n",
              "      <th>price</th>\n",
              "      <td>1.000000</td>\n",
              "      <td>0.126455</td>\n",
              "    </tr>\n",
              "    <tr>\n",
              "      <th>No_of_days_online</th>\n",
              "      <td>0.126455</td>\n",
              "      <td>1.000000</td>\n",
              "    </tr>\n",
              "  </tbody>\n",
              "</table>\n",
              "</div>"
            ],
            "text/plain": [
              "                      price  No_of_days_online\n",
              "price              1.000000           0.126455\n",
              "No_of_days_online  0.126455           1.000000"
            ]
          },
          "metadata": {
            "tags": []
          },
          "execution_count": 103
        }
      ]
    },
    {
      "cell_type": "markdown",
      "metadata": {
        "id": "cnhJn2EbAbJj",
        "colab_type": "text"
      },
      "source": [
        "### Age of Vehicle"
      ]
    },
    {
      "cell_type": "code",
      "metadata": {
        "id": "XX1AZJ0kAbJj",
        "colab_type": "code",
        "colab": {}
      },
      "source": [
        "import datetime\n",
        "\n",
        "def calculateAge(yr,mnth):\n",
        "    today_date = datetime.datetime.today()\n",
        "    years = today_date.year - yr\n",
        "    month = today_date.month - mnth\n",
        "    ageindecimal = years + month/12\n",
        "    return round(ageindecimal,2)"
      ],
      "execution_count": 104,
      "outputs": []
    },
    {
      "cell_type": "code",
      "metadata": {
        "id": "upjE6K4yAbJl",
        "colab_type": "code",
        "colab": {}
      },
      "source": [
        "df2['ageOfVehicle'] = list(map(calculateAge,df2['yearOfRegistration'],df2['monthOfRegistration']))"
      ],
      "execution_count": 105,
      "outputs": []
    },
    {
      "cell_type": "code",
      "metadata": {
        "id": "K1jVqJXkAbJn",
        "colab_type": "code",
        "colab": {
          "base_uri": "https://localhost:8080/",
          "height": 0
        },
        "outputId": "d807b753-01f6-42e7-d19f-7eea836fd4fe"
      },
      "source": [
        "sns.scatterplot(y = 'price', x = 'ageOfVehicle',data = df2)"
      ],
      "execution_count": 106,
      "outputs": [
        {
          "output_type": "execute_result",
          "data": {
            "text/plain": [
              "<matplotlib.axes._subplots.AxesSubplot at 0x7f9d07fe0160>"
            ]
          },
          "metadata": {
            "tags": []
          },
          "execution_count": 106
        },
        {
          "output_type": "display_data",
          "data": {
            "image/png": "[encoded data removed]",
            "text/plain": [
              "<Figure size 432x288 with 1 Axes>"
            ]
          },
          "metadata": {
            "tags": [],
            "needs_background": "light"
          }
        }
      ]
    },
    {
      "cell_type": "code",
      "metadata": {
        "id": "DucxzsQeAbJs",
        "colab_type": "code",
        "colab": {
          "base_uri": "https://localhost:8080/",
          "height": 0
        },
        "outputId": "ec2749fe-a1f1-4c33-fd8d-8424700e60eb"
      },
      "source": [
        "df2[['price','ageOfVehicle']].corr()"
      ],
      "execution_count": 107,
      "outputs": [
        {
          "output_type": "execute_result",
          "data": {
            "text/html": [
              "<div>\n",
              "<style scoped>\n",
              "    .dataframe tbody tr th:only-of-type {\n",
              "        vertical-align: middle;\n",
              "    }\n",
              "\n",
              "    .dataframe tbody tr th {\n",
              "        vertical-align: top;\n",
              "    }\n",
              "\n",
              "    .dataframe thead th {\n",
              "        text-align: right;\n",
              "    }\n",
              "</style>\n",
              "<table border=\"1\" class=\"dataframe\">\n",
              "  <thead>\n",
              "    <tr style=\"text-align: right;\">\n",
              "      <th></th>\n",
              "      <th>price</th>\n",
              "      <th>ageOfVehicle</th>\n",
              "    </tr>\n",
              "  </thead>\n",
              "  <tbody>\n",
              "    <tr>\n",
              "      <th>price</th>\n",
              "      <td>1.000000</td>\n",
              "      <td>-0.447501</td>\n",
              "    </tr>\n",
              "    <tr>\n",
              "      <th>ageOfVehicle</th>\n",
              "      <td>-0.447501</td>\n",
              "      <td>1.000000</td>\n",
              "    </tr>\n",
              "  </tbody>\n",
              "</table>\n",
              "</div>"
            ],
            "text/plain": [
              "                 price  ageOfVehicle\n",
              "price         1.000000     -0.447501\n",
              "ageOfVehicle -0.447501      1.000000"
            ]
          },
          "metadata": {
            "tags": []
          },
          "execution_count": 107
        }
      ]
    },
    {
      "cell_type": "markdown",
      "metadata": {
        "id": "u-3XWOUZAbJu",
        "colab_type": "text"
      },
      "source": [
        "## Finalizing features depending on EDA"
      ]
    },
    {
      "cell_type": "code",
      "metadata": {
        "id": "Yjn-T6n_ubyQ",
        "colab_type": "code",
        "colab": {}
      },
      "source": [
        "df3 = df2[['kilometer','notRepairedDamage', 'vehicleType', 'fuelType', 'gearbox', 'ageOfVehicle', 'model', 'brand', 'powerPS', 'No_of_days_online', 'price']]"
      ],
      "execution_count": 108,
      "outputs": []
    },
    {
      "cell_type": "code",
      "metadata": {
        "id": "lYAOd3t14W44",
        "colab_type": "code",
        "colab": {
          "base_uri": "https://localhost:8080/",
          "height": 0
        },
        "outputId": "5e37f8b6-42d6-4e22-90ad-ea639ddf7aa5"
      },
      "source": [
        "df3.head()"
      ],
      "execution_count": 109,
      "outputs": [
        {
          "output_type": "execute_result",
          "data": {
            "text/html": [
              "<div>\n",
              "<style scoped>\n",
              "    .dataframe tbody tr th:only-of-type {\n",
              "        vertical-align: middle;\n",
              "    }\n",
              "\n",
              "    .dataframe tbody tr th {\n",
              "        vertical-align: top;\n",
              "    }\n",
              "\n",
              "    .dataframe thead th {\n",
              "        text-align: right;\n",
              "    }\n",
              "</style>\n",
              "<table border=\"1\" class=\"dataframe\">\n",
              "  <thead>\n",
              "    <tr style=\"text-align: right;\">\n",
              "      <th></th>\n",
              "      <th>kilometer</th>\n",
              "      <th>notRepairedDamage</th>\n",
              "      <th>vehicleType</th>\n",
              "      <th>fuelType</th>\n",
              "      <th>gearbox</th>\n",
              "      <th>ageOfVehicle</th>\n",
              "      <th>model</th>\n",
              "      <th>brand</th>\n",
              "      <th>powerPS</th>\n",
              "      <th>No_of_days_online</th>\n",
              "      <th>price</th>\n",
              "    </tr>\n",
              "  </thead>\n",
              "  <tbody>\n",
              "    <tr>\n",
              "      <th>3</th>\n",
              "      <td>150000</td>\n",
              "      <td>No</td>\n",
              "      <td>small car</td>\n",
              "      <td>petrol</td>\n",
              "      <td>manual</td>\n",
              "      <td>19.00</td>\n",
              "      <td>golf</td>\n",
              "      <td>volkswagen</td>\n",
              "      <td>75</td>\n",
              "      <td>0.0</td>\n",
              "      <td>1500.0</td>\n",
              "    </tr>\n",
              "    <tr>\n",
              "      <th>4</th>\n",
              "      <td>90000</td>\n",
              "      <td>No</td>\n",
              "      <td>small car</td>\n",
              "      <td>diesel</td>\n",
              "      <td>manual</td>\n",
              "      <td>11.92</td>\n",
              "      <td>fabia</td>\n",
              "      <td>skoda</td>\n",
              "      <td>69</td>\n",
              "      <td>65.0</td>\n",
              "      <td>3600.0</td>\n",
              "    </tr>\n",
              "    <tr>\n",
              "      <th>5</th>\n",
              "      <td>150000</td>\n",
              "      <td>Yes</td>\n",
              "      <td>limousine</td>\n",
              "      <td>petrol</td>\n",
              "      <td>manual</td>\n",
              "      <td>24.67</td>\n",
              "      <td>3s</td>\n",
              "      <td>bmw</td>\n",
              "      <td>102</td>\n",
              "      <td>61.0</td>\n",
              "      <td>650.0</td>\n",
              "    </tr>\n",
              "    <tr>\n",
              "      <th>6</th>\n",
              "      <td>150000</td>\n",
              "      <td>No</td>\n",
              "      <td>convertible</td>\n",
              "      <td>petrol</td>\n",
              "      <td>manual</td>\n",
              "      <td>15.83</td>\n",
              "      <td>2series</td>\n",
              "      <td>peugeot</td>\n",
              "      <td>109</td>\n",
              "      <td>121.0</td>\n",
              "      <td>2200.0</td>\n",
              "    </tr>\n",
              "    <tr>\n",
              "      <th>10</th>\n",
              "      <td>150000</td>\n",
              "      <td>No</td>\n",
              "      <td>limousine</td>\n",
              "      <td>petrol</td>\n",
              "      <td>manual</td>\n",
              "      <td>15.50</td>\n",
              "      <td>3series</td>\n",
              "      <td>mazda</td>\n",
              "      <td>105</td>\n",
              "      <td>70.0</td>\n",
              "      <td>2000.0</td>\n",
              "    </tr>\n",
              "  </tbody>\n",
              "</table>\n",
              "</div>"
            ],
            "text/plain": [
              "    kilometer notRepairedDamage  ... No_of_days_online   price\n",
              "3      150000                No  ...               0.0  1500.0\n",
              "4       90000                No  ...              65.0  3600.0\n",
              "5      150000               Yes  ...              61.0   650.0\n",
              "6      150000                No  ...             121.0  2200.0\n",
              "10     150000                No  ...              70.0  2000.0\n",
              "\n",
              "[5 rows x 11 columns]"
            ]
          },
          "metadata": {
            "tags": []
          },
          "execution_count": 109
        }
      ]
    },
    {
      "cell_type": "code",
      "metadata": {
        "id": "OzpfvoqmAbJz",
        "colab_type": "code",
        "colab": {
          "base_uri": "https://localhost:8080/",
          "height": 0
        },
        "outputId": "cca37197-433b-4143-cf04-7a9dc1908335"
      },
      "source": [
        "get_missing_val_count_df(df3)"
      ],
      "execution_count": 110,
      "outputs": [
        {
          "output_type": "execute_result",
          "data": {
            "text/html": [
              "<div>\n",
              "<style scoped>\n",
              "    .dataframe tbody tr th:only-of-type {\n",
              "        vertical-align: middle;\n",
              "    }\n",
              "\n",
              "    .dataframe tbody tr th {\n",
              "        vertical-align: top;\n",
              "    }\n",
              "\n",
              "    .dataframe thead th {\n",
              "        text-align: right;\n",
              "    }\n",
              "</style>\n",
              "<table border=\"1\" class=\"dataframe\">\n",
              "  <thead>\n",
              "    <tr style=\"text-align: right;\">\n",
              "      <th></th>\n",
              "      <th>count</th>\n",
              "    </tr>\n",
              "  </thead>\n",
              "  <tbody>\n",
              "    <tr>\n",
              "      <th>No_of_days_online</th>\n",
              "      <td>50130</td>\n",
              "    </tr>\n",
              "    <tr>\n",
              "      <th>vehicleType</th>\n",
              "      <td>4609</td>\n",
              "    </tr>\n",
              "    <tr>\n",
              "      <th>kilometer</th>\n",
              "      <td>0</td>\n",
              "    </tr>\n",
              "    <tr>\n",
              "      <th>notRepairedDamage</th>\n",
              "      <td>0</td>\n",
              "    </tr>\n",
              "    <tr>\n",
              "      <th>fuelType</th>\n",
              "      <td>0</td>\n",
              "    </tr>\n",
              "    <tr>\n",
              "      <th>gearbox</th>\n",
              "      <td>0</td>\n",
              "    </tr>\n",
              "    <tr>\n",
              "      <th>ageOfVehicle</th>\n",
              "      <td>0</td>\n",
              "    </tr>\n",
              "    <tr>\n",
              "      <th>model</th>\n",
              "      <td>0</td>\n",
              "    </tr>\n",
              "    <tr>\n",
              "      <th>brand</th>\n",
              "      <td>0</td>\n",
              "    </tr>\n",
              "    <tr>\n",
              "      <th>powerPS</th>\n",
              "      <td>0</td>\n",
              "    </tr>\n",
              "    <tr>\n",
              "      <th>price</th>\n",
              "      <td>0</td>\n",
              "    </tr>\n",
              "  </tbody>\n",
              "</table>\n",
              "</div>"
            ],
            "text/plain": [
              "                   count\n",
              "No_of_days_online  50130\n",
              "vehicleType         4609\n",
              "kilometer              0\n",
              "notRepairedDamage      0\n",
              "fuelType               0\n",
              "gearbox                0\n",
              "ageOfVehicle           0\n",
              "model                  0\n",
              "brand                  0\n",
              "powerPS                0\n",
              "price                  0"
            ]
          },
          "metadata": {
            "tags": []
          },
          "execution_count": 110
        }
      ]
    },
    {
      "cell_type": "markdown",
      "metadata": {
        "id": "pAmLM_50xNyE",
        "colab_type": "text"
      },
      "source": [
        "## Imputation of vehicle type"
      ]
    },
    {
      "cell_type": "code",
      "metadata": {
        "id": "25l6Ft9jSR5B",
        "colab_type": "code",
        "colab": {}
      },
      "source": [
        "# cat_cols = ['notRepairedDamage', 'vehicleType', 'fuelType', 'gearbox', 'model', 'brand']\n",
        "cat_cols = ['vehicleType', 'model', 'brand']"
      ],
      "execution_count": 111,
      "outputs": []
    },
    {
      "cell_type": "markdown",
      "metadata": {
        "id": "8zxwT4wJAbJ3",
        "colab_type": "text"
      },
      "source": [
        "Using model, brand and price to impute missing values of vehicle type."
      ]
    },
    {
      "cell_type": "code",
      "metadata": {
        "id": "0EYj-Ek_Ru54",
        "colab_type": "code",
        "colab": {}
      },
      "source": [
        "from sklearn.preprocessing import OrdinalEncoder\n",
        "# Create dictionary for Ordinal encoders\n",
        "ordinal_enc_dict = {}\n",
        "# Loop over columns to encode\n",
        "for col_name in cat_cols:\n",
        "  # Create ordinal encoder for the column\n",
        "  ordinal_enc_dict[col_name] = OrdinalEncoder()\n",
        "  # Select the nin-null values in the column\n",
        "  col = df3[col_name]\n",
        "  col_not_null = col[col.notnull()]\n",
        "  reshaped_vals = col_not_null.values.reshape(-1, 1)\n",
        "  # Encode the non-null values of the column\n",
        "  encoded_vals = ordinal_enc_dict[col_name].fit_transform(reshaped_vals)\n",
        "  # Replace the ambience column with ordinal values\n",
        "  df3.loc[col.notnull(), col_name] = np.squeeze(encoded_vals)"
      ],
      "execution_count": 112,
      "outputs": []
    },
    {
      "cell_type": "code",
      "metadata": {
        "id": "1CRkUyAyS9cX",
        "colab_type": "code",
        "colab": {}
      },
      "source": [
        "from sklearn.impute import KNNImputer\n",
        "KNN_imputer = KNNImputer(n_neighbors=20)\n",
        "df3_KNN = df3[['vehicleType', 'model', 'brand','price']].copy(deep=True)\n",
        "df3_KNN.iloc[:, :] = np.round(KNN_imputer.fit_transform(df3_KNN))"
      ],
      "execution_count": 113,
      "outputs": []
    },
    {
      "cell_type": "code",
      "metadata": {
        "id": "rs0xCUnvTYZj",
        "colab_type": "code",
        "colab": {}
      },
      "source": [
        "for col in cat_cols:\n",
        "  reshaped_col = df3_KNN[col].values.reshape(-1, 1)\n",
        "  df3_KNN[col] = ordinal_enc_dict[col].inverse_transform(reshaped_col)"
      ],
      "execution_count": 114,
      "outputs": []
    },
    {
      "cell_type": "code",
      "metadata": {
        "id": "dTXJIiLAUz5m",
        "colab_type": "code",
        "colab": {}
      },
      "source": [
        "df_final = df3.copy(deep=True)"
      ],
      "execution_count": 115,
      "outputs": []
    },
    {
      "cell_type": "code",
      "metadata": {
        "id": "zYAMCmZpAbJ_",
        "colab_type": "code",
        "colab": {}
      },
      "source": [
        "df_final.loc[:,cat_cols] = df3_KNN[cat_cols]"
      ],
      "execution_count": 116,
      "outputs": []
    },
    {
      "cell_type": "code",
      "metadata": {
        "id": "hY7N77KpAbKA",
        "colab_type": "code",
        "colab": {
          "base_uri": "https://localhost:8080/",
          "height": 419
        },
        "outputId": "d9e0df66-60b7-464f-c371-d8d8b8c417b1"
      },
      "source": [
        "df_final.reset_index(drop=True)"
      ],
      "execution_count": 117,
      "outputs": [
        {
          "output_type": "execute_result",
          "data": {
            "text/html": [
              "<div>\n",
              "<style scoped>\n",
              "    .dataframe tbody tr th:only-of-type {\n",
              "        vertical-align: middle;\n",
              "    }\n",
              "\n",
              "    .dataframe tbody tr th {\n",
              "        vertical-align: top;\n",
              "    }\n",
              "\n",
              "    .dataframe thead th {\n",
              "        text-align: right;\n",
              "    }\n",
              "</style>\n",
              "<table border=\"1\" class=\"dataframe\">\n",
              "  <thead>\n",
              "    <tr style=\"text-align: right;\">\n",
              "      <th></th>\n",
              "      <th>kilometer</th>\n",
              "      <th>notRepairedDamage</th>\n",
              "      <th>vehicleType</th>\n",
              "      <th>fuelType</th>\n",
              "      <th>gearbox</th>\n",
              "      <th>ageOfVehicle</th>\n",
              "      <th>model</th>\n",
              "      <th>brand</th>\n",
              "      <th>powerPS</th>\n",
              "      <th>No_of_days_online</th>\n",
              "      <th>price</th>\n",
              "    </tr>\n",
              "  </thead>\n",
              "  <tbody>\n",
              "    <tr>\n",
              "      <th>0</th>\n",
              "      <td>150000</td>\n",
              "      <td>No</td>\n",
              "      <td>small car</td>\n",
              "      <td>petrol</td>\n",
              "      <td>manual</td>\n",
              "      <td>19.00</td>\n",
              "      <td>golf</td>\n",
              "      <td>volkswagen</td>\n",
              "      <td>75</td>\n",
              "      <td>0.0</td>\n",
              "      <td>1500.0</td>\n",
              "    </tr>\n",
              "    <tr>\n",
              "      <th>1</th>\n",
              "      <td>90000</td>\n",
              "      <td>No</td>\n",
              "      <td>small car</td>\n",
              "      <td>diesel</td>\n",
              "      <td>manual</td>\n",
              "      <td>11.92</td>\n",
              "      <td>fabia</td>\n",
              "      <td>skoda</td>\n",
              "      <td>69</td>\n",
              "      <td>65.0</td>\n",
              "      <td>3600.0</td>\n",
              "    </tr>\n",
              "    <tr>\n",
              "      <th>2</th>\n",
              "      <td>150000</td>\n",
              "      <td>Yes</td>\n",
              "      <td>limousine</td>\n",
              "      <td>petrol</td>\n",
              "      <td>manual</td>\n",
              "      <td>24.67</td>\n",
              "      <td>3s</td>\n",
              "      <td>bmw</td>\n",
              "      <td>102</td>\n",
              "      <td>61.0</td>\n",
              "      <td>650.0</td>\n",
              "    </tr>\n",
              "    <tr>\n",
              "      <th>3</th>\n",
              "      <td>150000</td>\n",
              "      <td>No</td>\n",
              "      <td>convertible</td>\n",
              "      <td>petrol</td>\n",
              "      <td>manual</td>\n",
              "      <td>15.83</td>\n",
              "      <td>2series</td>\n",
              "      <td>peugeot</td>\n",
              "      <td>109</td>\n",
              "      <td>121.0</td>\n",
              "      <td>2200.0</td>\n",
              "    </tr>\n",
              "    <tr>\n",
              "      <th>4</th>\n",
              "      <td>150000</td>\n",
              "      <td>No</td>\n",
              "      <td>limousine</td>\n",
              "      <td>petrol</td>\n",
              "      <td>manual</td>\n",
              "      <td>15.50</td>\n",
              "      <td>3series</td>\n",
              "      <td>mazda</td>\n",
              "      <td>105</td>\n",
              "      <td>70.0</td>\n",
              "      <td>2000.0</td>\n",
              "    </tr>\n",
              "    <tr>\n",
              "      <th>...</th>\n",
              "      <td>...</td>\n",
              "      <td>...</td>\n",
              "      <td>...</td>\n",
              "      <td>...</td>\n",
              "      <td>...</td>\n",
              "      <td>...</td>\n",
              "      <td>...</td>\n",
              "      <td>...</td>\n",
              "      <td>...</td>\n",
              "      <td>...</td>\n",
              "      <td>...</td>\n",
              "    </tr>\n",
              "    <tr>\n",
              "      <th>245732</th>\n",
              "      <td>150000</td>\n",
              "      <td>No</td>\n",
              "      <td>limousine</td>\n",
              "      <td>diesel</td>\n",
              "      <td>manual</td>\n",
              "      <td>9.92</td>\n",
              "      <td>golf</td>\n",
              "      <td>volkswagen</td>\n",
              "      <td>140</td>\n",
              "      <td>NaN</td>\n",
              "      <td>7900.0</td>\n",
              "    </tr>\n",
              "    <tr>\n",
              "      <th>245733</th>\n",
              "      <td>150000</td>\n",
              "      <td>Yes</td>\n",
              "      <td>limousine</td>\n",
              "      <td>petrol</td>\n",
              "      <td>manual</td>\n",
              "      <td>16.08</td>\n",
              "      <td>leon</td>\n",
              "      <td>seat</td>\n",
              "      <td>225</td>\n",
              "      <td>0.0</td>\n",
              "      <td>3200.0</td>\n",
              "    </tr>\n",
              "    <tr>\n",
              "      <th>245734</th>\n",
              "      <td>125000</td>\n",
              "      <td>No</td>\n",
              "      <td>convertible</td>\n",
              "      <td>petrol</td>\n",
              "      <td>automatic</td>\n",
              "      <td>20.25</td>\n",
              "      <td>fortwo</td>\n",
              "      <td>smart</td>\n",
              "      <td>101</td>\n",
              "      <td>184.0</td>\n",
              "      <td>1199.0</td>\n",
              "    </tr>\n",
              "    <tr>\n",
              "      <th>245735</th>\n",
              "      <td>150000</td>\n",
              "      <td>No</td>\n",
              "      <td>bus</td>\n",
              "      <td>diesel</td>\n",
              "      <td>manual</td>\n",
              "      <td>24.25</td>\n",
              "      <td>transporter</td>\n",
              "      <td>volkswagen</td>\n",
              "      <td>102</td>\n",
              "      <td>107.0</td>\n",
              "      <td>9200.0</td>\n",
              "    </tr>\n",
              "    <tr>\n",
              "      <th>245736</th>\n",
              "      <td>50000</td>\n",
              "      <td>No</td>\n",
              "      <td>limousine</td>\n",
              "      <td>petrol</td>\n",
              "      <td>manual</td>\n",
              "      <td>6.83</td>\n",
              "      <td>mseries</td>\n",
              "      <td>bmw</td>\n",
              "      <td>320</td>\n",
              "      <td>NaN</td>\n",
              "      <td>28990.0</td>\n",
              "    </tr>\n",
              "  </tbody>\n",
              "</table>\n",
              "<p>245737 rows × 11 columns</p>\n",
              "</div>"
            ],
            "text/plain": [
              "        kilometer notRepairedDamage  ... No_of_days_online    price\n",
              "0          150000                No  ...               0.0   1500.0\n",
              "1           90000                No  ...              65.0   3600.0\n",
              "2          150000               Yes  ...              61.0    650.0\n",
              "3          150000                No  ...             121.0   2200.0\n",
              "4          150000                No  ...              70.0   2000.0\n",
              "...           ...               ...  ...               ...      ...\n",
              "245732     150000                No  ...               NaN   7900.0\n",
              "245733     150000               Yes  ...               0.0   3200.0\n",
              "245734     125000                No  ...             184.0   1199.0\n",
              "245735     150000                No  ...             107.0   9200.0\n",
              "245736      50000                No  ...               NaN  28990.0\n",
              "\n",
              "[245737 rows x 11 columns]"
            ]
          },
          "metadata": {
            "tags": []
          },
          "execution_count": 117
        }
      ]
    },
    {
      "cell_type": "code",
      "metadata": {
        "id": "q2LnSRYGAbKC",
        "colab_type": "code",
        "colab": {
          "base_uri": "https://localhost:8080/",
          "height": 390
        },
        "outputId": "41deb59e-5da3-45e9-91ec-237e59df3511"
      },
      "source": [
        "get_missing_val_count_df(df_final)"
      ],
      "execution_count": 118,
      "outputs": [
        {
          "output_type": "execute_result",
          "data": {
            "text/html": [
              "<div>\n",
              "<style scoped>\n",
              "    .dataframe tbody tr th:only-of-type {\n",
              "        vertical-align: middle;\n",
              "    }\n",
              "\n",
              "    .dataframe tbody tr th {\n",
              "        vertical-align: top;\n",
              "    }\n",
              "\n",
              "    .dataframe thead th {\n",
              "        text-align: right;\n",
              "    }\n",
              "</style>\n",
              "<table border=\"1\" class=\"dataframe\">\n",
              "  <thead>\n",
              "    <tr style=\"text-align: right;\">\n",
              "      <th></th>\n",
              "      <th>count</th>\n",
              "    </tr>\n",
              "  </thead>\n",
              "  <tbody>\n",
              "    <tr>\n",
              "      <th>No_of_days_online</th>\n",
              "      <td>50130</td>\n",
              "    </tr>\n",
              "    <tr>\n",
              "      <th>kilometer</th>\n",
              "      <td>0</td>\n",
              "    </tr>\n",
              "    <tr>\n",
              "      <th>notRepairedDamage</th>\n",
              "      <td>0</td>\n",
              "    </tr>\n",
              "    <tr>\n",
              "      <th>vehicleType</th>\n",
              "      <td>0</td>\n",
              "    </tr>\n",
              "    <tr>\n",
              "      <th>fuelType</th>\n",
              "      <td>0</td>\n",
              "    </tr>\n",
              "    <tr>\n",
              "      <th>gearbox</th>\n",
              "      <td>0</td>\n",
              "    </tr>\n",
              "    <tr>\n",
              "      <th>ageOfVehicle</th>\n",
              "      <td>0</td>\n",
              "    </tr>\n",
              "    <tr>\n",
              "      <th>model</th>\n",
              "      <td>0</td>\n",
              "    </tr>\n",
              "    <tr>\n",
              "      <th>brand</th>\n",
              "      <td>0</td>\n",
              "    </tr>\n",
              "    <tr>\n",
              "      <th>powerPS</th>\n",
              "      <td>0</td>\n",
              "    </tr>\n",
              "    <tr>\n",
              "      <th>price</th>\n",
              "      <td>0</td>\n",
              "    </tr>\n",
              "  </tbody>\n",
              "</table>\n",
              "</div>"
            ],
            "text/plain": [
              "                   count\n",
              "No_of_days_online  50130\n",
              "kilometer              0\n",
              "notRepairedDamage      0\n",
              "vehicleType            0\n",
              "fuelType               0\n",
              "gearbox                0\n",
              "ageOfVehicle           0\n",
              "model                  0\n",
              "brand                  0\n",
              "powerPS                0\n",
              "price                  0"
            ]
          },
          "metadata": {
            "tags": []
          },
          "execution_count": 118
        }
      ]
    }
  ]
}