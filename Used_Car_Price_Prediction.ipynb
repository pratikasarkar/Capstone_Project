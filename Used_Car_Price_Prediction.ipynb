{
  "nbformat": 4,
  "nbformat_minor": 0,
  "metadata": {
    "kernelspec": {
      "display_name": "Python 3",
      "language": "python",
      "name": "python3"
    },
    "language_info": {
      "codemirror_mode": {
        "name": "ipython",
        "version": 3
      },
      "file_extension": ".py",
      "mimetype": "text/x-python",
      "name": "python",
      "nbconvert_exporter": "python",
      "pygments_lexer": "ipython3",
      "version": "3.7.4"
    },
    "colab": {
      "name": "Used Car Price Prediction.ipynb",
      "provenance": [],
      "include_colab_link": true
    }
  },
  "cells": [
    {
      "cell_type": "markdown",
      "metadata": {
        "id": "view-in-github",
        "colab_type": "text"
      },
      "source": [
        "<a href=\"https://colab.research.google.com/github/pratikasarkar/Capstone_Project/blob/pratik_workingBranch/Used_Car_Price_Prediction.ipynb\" target=\"_parent\"><img src=\"https://colab.research.google.com/assets/colab-badge.svg\" alt=\"Open In Colab\"/></a>"
      ]
    },
    {
      "cell_type": "code",
      "metadata": {
        "id": "xyy_VxymAdqU",
        "colab_type": "code",
        "colab": {}
      },
      "source": [
        "from google.colab import drive\n",
        "drive.mount('/content/gdrive')"
      ],
      "execution_count": null,
      "outputs": []
    },
    {
      "cell_type": "code",
      "metadata": {
        "id": "g_A9ht3YnwHB",
        "colab_type": "code",
        "colab": {}
      },
      "source": [
        "import numpy as np\n",
        "import pandas as pd\n",
        "import seaborn as sns\n",
        "import matplotlib.pyplot as plt\n",
        "import warnings\n",
        "warnings.filterwarnings('ignore')\n",
        "df = pd.read_csv('/content/gdrive/My Drive/autos.csv',encoding='latin_1')"
      ],
      "execution_count": null,
      "outputs": []
    },
    {
      "cell_type": "code",
      "metadata": {
        "id": "3PyMfzb5fxqJ",
        "colab_type": "code",
        "colab": {},
        "outputId": "35ebaf68-1276-45d0-e2fb-7b33316aa388"
      },
      "source": [
        "df.head()"
      ],
      "execution_count": null,
      "outputs": [
        {
          "output_type": "execute_result",
          "data": {
            "text/html": [
              "<div>\n",
              "<style scoped>\n",
              "    .dataframe tbody tr th:only-of-type {\n",
              "        vertical-align: middle;\n",
              "    }\n",
              "\n",
              "    .dataframe tbody tr th {\n",
              "        vertical-align: top;\n",
              "    }\n",
              "\n",
              "    .dataframe thead th {\n",
              "        text-align: right;\n",
              "    }\n",
              "</style>\n",
              "<table border=\"1\" class=\"dataframe\">\n",
              "  <thead>\n",
              "    <tr style=\"text-align: right;\">\n",
              "      <th></th>\n",
              "      <th>dateCrawled</th>\n",
              "      <th>name</th>\n",
              "      <th>seller</th>\n",
              "      <th>offerType</th>\n",
              "      <th>price</th>\n",
              "      <th>abtest</th>\n",
              "      <th>vehicleType</th>\n",
              "      <th>yearOfRegistration</th>\n",
              "      <th>gearbox</th>\n",
              "      <th>powerPS</th>\n",
              "      <th>model</th>\n",
              "      <th>kilometer</th>\n",
              "      <th>monthOfRegistration</th>\n",
              "      <th>fuelType</th>\n",
              "      <th>brand</th>\n",
              "      <th>notRepairedDamage</th>\n",
              "      <th>dateCreated</th>\n",
              "      <th>nrOfPictures</th>\n",
              "      <th>postalCode</th>\n",
              "      <th>lastSeen</th>\n",
              "    </tr>\n",
              "  </thead>\n",
              "  <tbody>\n",
              "    <tr>\n",
              "      <td>0</td>\n",
              "      <td>2016-03-24 11:52:17</td>\n",
              "      <td>Golf_3_1.6</td>\n",
              "      <td>privat</td>\n",
              "      <td>Angebot</td>\n",
              "      <td>480</td>\n",
              "      <td>test</td>\n",
              "      <td>NaN</td>\n",
              "      <td>1993</td>\n",
              "      <td>manuell</td>\n",
              "      <td>0</td>\n",
              "      <td>golf</td>\n",
              "      <td>150000</td>\n",
              "      <td>0</td>\n",
              "      <td>benzin</td>\n",
              "      <td>volkswagen</td>\n",
              "      <td>NaN</td>\n",
              "      <td>2016-03-24 00:00:00</td>\n",
              "      <td>0</td>\n",
              "      <td>70435</td>\n",
              "      <td>2016-04-07 03:16:57</td>\n",
              "    </tr>\n",
              "    <tr>\n",
              "      <td>1</td>\n",
              "      <td>2016-03-24 10:58:45</td>\n",
              "      <td>A5_Sportback_2.7_Tdi</td>\n",
              "      <td>privat</td>\n",
              "      <td>Angebot</td>\n",
              "      <td>18300</td>\n",
              "      <td>test</td>\n",
              "      <td>coupe</td>\n",
              "      <td>2011</td>\n",
              "      <td>manuell</td>\n",
              "      <td>190</td>\n",
              "      <td>NaN</td>\n",
              "      <td>125000</td>\n",
              "      <td>5</td>\n",
              "      <td>diesel</td>\n",
              "      <td>audi</td>\n",
              "      <td>ja</td>\n",
              "      <td>2016-03-24 00:00:00</td>\n",
              "      <td>0</td>\n",
              "      <td>66954</td>\n",
              "      <td>2016-04-07 01:46:50</td>\n",
              "    </tr>\n",
              "    <tr>\n",
              "      <td>2</td>\n",
              "      <td>2016-03-14 12:52:21</td>\n",
              "      <td>Jeep_Grand_Cherokee_\"Overland\"</td>\n",
              "      <td>privat</td>\n",
              "      <td>Angebot</td>\n",
              "      <td>9800</td>\n",
              "      <td>test</td>\n",
              "      <td>suv</td>\n",
              "      <td>2004</td>\n",
              "      <td>automatik</td>\n",
              "      <td>163</td>\n",
              "      <td>grand</td>\n",
              "      <td>125000</td>\n",
              "      <td>8</td>\n",
              "      <td>diesel</td>\n",
              "      <td>jeep</td>\n",
              "      <td>NaN</td>\n",
              "      <td>2016-03-14 00:00:00</td>\n",
              "      <td>0</td>\n",
              "      <td>90480</td>\n",
              "      <td>2016-04-05 12:47:46</td>\n",
              "    </tr>\n",
              "    <tr>\n",
              "      <td>3</td>\n",
              "      <td>2016-03-17 16:54:04</td>\n",
              "      <td>GOLF_4_1_4__3TÜRER</td>\n",
              "      <td>privat</td>\n",
              "      <td>Angebot</td>\n",
              "      <td>1500</td>\n",
              "      <td>test</td>\n",
              "      <td>kleinwagen</td>\n",
              "      <td>2001</td>\n",
              "      <td>manuell</td>\n",
              "      <td>75</td>\n",
              "      <td>golf</td>\n",
              "      <td>150000</td>\n",
              "      <td>6</td>\n",
              "      <td>benzin</td>\n",
              "      <td>volkswagen</td>\n",
              "      <td>nein</td>\n",
              "      <td>2016-03-17 00:00:00</td>\n",
              "      <td>0</td>\n",
              "      <td>91074</td>\n",
              "      <td>2016-03-17 17:40:17</td>\n",
              "    </tr>\n",
              "    <tr>\n",
              "      <td>4</td>\n",
              "      <td>2016-03-31 17:25:20</td>\n",
              "      <td>Skoda_Fabia_1.4_TDI_PD_Classic</td>\n",
              "      <td>privat</td>\n",
              "      <td>Angebot</td>\n",
              "      <td>3600</td>\n",
              "      <td>test</td>\n",
              "      <td>kleinwagen</td>\n",
              "      <td>2008</td>\n",
              "      <td>manuell</td>\n",
              "      <td>69</td>\n",
              "      <td>fabia</td>\n",
              "      <td>90000</td>\n",
              "      <td>7</td>\n",
              "      <td>diesel</td>\n",
              "      <td>skoda</td>\n",
              "      <td>nein</td>\n",
              "      <td>2016-03-31 00:00:00</td>\n",
              "      <td>0</td>\n",
              "      <td>60437</td>\n",
              "      <td>2016-04-06 10:17:21</td>\n",
              "    </tr>\n",
              "  </tbody>\n",
              "</table>\n",
              "</div>"
            ],
            "text/plain": [
              "           dateCrawled                            name  seller offerType  \\\n",
              "0  2016-03-24 11:52:17                      Golf_3_1.6  privat   Angebot   \n",
              "1  2016-03-24 10:58:45            A5_Sportback_2.7_Tdi  privat   Angebot   \n",
              "2  2016-03-14 12:52:21  Jeep_Grand_Cherokee_\"Overland\"  privat   Angebot   \n",
              "3  2016-03-17 16:54:04              GOLF_4_1_4__3TÜRER  privat   Angebot   \n",
              "4  2016-03-31 17:25:20  Skoda_Fabia_1.4_TDI_PD_Classic  privat   Angebot   \n",
              "\n",
              "   price abtest vehicleType  yearOfRegistration    gearbox  powerPS  model  \\\n",
              "0    480   test         NaN                1993    manuell        0   golf   \n",
              "1  18300   test       coupe                2011    manuell      190    NaN   \n",
              "2   9800   test         suv                2004  automatik      163  grand   \n",
              "3   1500   test  kleinwagen                2001    manuell       75   golf   \n",
              "4   3600   test  kleinwagen                2008    manuell       69  fabia   \n",
              "\n",
              "   kilometer  monthOfRegistration fuelType       brand notRepairedDamage  \\\n",
              "0     150000                    0   benzin  volkswagen               NaN   \n",
              "1     125000                    5   diesel        audi                ja   \n",
              "2     125000                    8   diesel        jeep               NaN   \n",
              "3     150000                    6   benzin  volkswagen              nein   \n",
              "4      90000                    7   diesel       skoda              nein   \n",
              "\n",
              "           dateCreated  nrOfPictures  postalCode             lastSeen  \n",
              "0  2016-03-24 00:00:00             0       70435  2016-04-07 03:16:57  \n",
              "1  2016-03-24 00:00:00             0       66954  2016-04-07 01:46:50  \n",
              "2  2016-03-14 00:00:00             0       90480  2016-04-05 12:47:46  \n",
              "3  2016-03-17 00:00:00             0       91074  2016-03-17 17:40:17  \n",
              "4  2016-03-31 00:00:00             0       60437  2016-04-06 10:17:21  "
            ]
          },
          "metadata": {
            "tags": []
          },
          "execution_count": 2
        }
      ]
    },
    {
      "cell_type": "markdown",
      "metadata": {
        "id": "Vl4Vk06lF9ac",
        "colab_type": "text"
      },
      "source": [
        "# Converting all German values to English"
      ]
    },
    {
      "cell_type": "code",
      "metadata": {
        "id": "3isZMZIKh0aT",
        "colab_type": "code",
        "colab": {},
        "outputId": "393a0843-7562-4fe1-b4d1-aaf5013d7601"
      },
      "source": [
        "df['seller'].value_counts()"
      ],
      "execution_count": null,
      "outputs": [
        {
          "output_type": "execute_result",
          "data": {
            "text/plain": [
              "privat        371525\n",
              "gewerblich         3\n",
              "Name: seller, dtype: int64"
            ]
          },
          "metadata": {
            "tags": []
          },
          "execution_count": 3
        }
      ]
    },
    {
      "cell_type": "code",
      "metadata": {
        "id": "NZjeUDKruHVv",
        "colab_type": "code",
        "colab": {},
        "outputId": "46dd7803-97d2-4d3f-cb6f-99cd7d11a2aa"
      },
      "source": [
        "df['seller'].replace({'privat':'private',\n",
        "                      'gewerblich':'commercial'},\n",
        "                     inplace = True)\n",
        "df['seller'].head()"
      ],
      "execution_count": null,
      "outputs": [
        {
          "output_type": "execute_result",
          "data": {
            "text/plain": [
              "0    private\n",
              "1    private\n",
              "2    private\n",
              "3    private\n",
              "4    private\n",
              "Name: seller, dtype: object"
            ]
          },
          "metadata": {
            "tags": []
          },
          "execution_count": 4
        }
      ]
    },
    {
      "cell_type": "code",
      "metadata": {
        "id": "JUzTRnSQvCuh",
        "colab_type": "code",
        "colab": {},
        "outputId": "e4030c43-bd12-46bf-a1db-b42b92b69fb2"
      },
      "source": [
        "df['offerType'].value_counts()"
      ],
      "execution_count": null,
      "outputs": [
        {
          "output_type": "execute_result",
          "data": {
            "text/plain": [
              "Angebot    371516\n",
              "Gesuch         12\n",
              "Name: offerType, dtype: int64"
            ]
          },
          "metadata": {
            "tags": []
          },
          "execution_count": 5
        }
      ]
    },
    {
      "cell_type": "code",
      "metadata": {
        "id": "ixEnAx4SvPRs",
        "colab_type": "code",
        "colab": {},
        "outputId": "62b19253-4a2b-4e7c-e358-240140d24382"
      },
      "source": [
        "df['offerType'].replace({'Angebot':'offer',\n",
        "                      'Gesuch':'application'},\n",
        "                     inplace = True)\n",
        "df['offerType'].head()"
      ],
      "execution_count": null,
      "outputs": [
        {
          "output_type": "execute_result",
          "data": {
            "text/plain": [
              "0    offer\n",
              "1    offer\n",
              "2    offer\n",
              "3    offer\n",
              "4    offer\n",
              "Name: offerType, dtype: object"
            ]
          },
          "metadata": {
            "tags": []
          },
          "execution_count": 6
        }
      ]
    },
    {
      "cell_type": "code",
      "metadata": {
        "id": "rGUh6PTVvnwK",
        "colab_type": "code",
        "colab": {},
        "outputId": "b2798c43-bcd6-46ee-9288-fa2f2000325a"
      },
      "source": [
        "df['abtest'].value_counts()"
      ],
      "execution_count": null,
      "outputs": [
        {
          "output_type": "execute_result",
          "data": {
            "text/plain": [
              "test       192585\n",
              "control    178943\n",
              "Name: abtest, dtype: int64"
            ]
          },
          "metadata": {
            "tags": []
          },
          "execution_count": 7
        }
      ]
    },
    {
      "cell_type": "code",
      "metadata": {
        "id": "TcYmjjF2vx2K",
        "colab_type": "code",
        "colab": {},
        "outputId": "1a85d7b5-8236-4593-dcd9-7a0e9a52629e"
      },
      "source": [
        "df['vehicleType'].value_counts()"
      ],
      "execution_count": null,
      "outputs": [
        {
          "output_type": "execute_result",
          "data": {
            "text/plain": [
              "limousine     95894\n",
              "kleinwagen    80023\n",
              "kombi         67564\n",
              "bus           30201\n",
              "cabrio        22898\n",
              "coupe         19015\n",
              "suv           14707\n",
              "andere         3357\n",
              "Name: vehicleType, dtype: int64"
            ]
          },
          "metadata": {
            "tags": []
          },
          "execution_count": 8
        }
      ]
    },
    {
      "cell_type": "code",
      "metadata": {
        "id": "A_cG6qFSwAo1",
        "colab_type": "code",
        "colab": {},
        "outputId": "d0d8140f-af7d-44f0-c5fe-fdff564e5da0"
      },
      "source": [
        "df['vehicleType'].replace({'kleinwagen':'small car',\n",
        "                      'kombi':'microbus',\n",
        "                      'cabrio':'convertible',\n",
        "                      'andere' : 'other'},\n",
        "                     inplace = True)\n",
        "df['vehicleType'].head()"
      ],
      "execution_count": null,
      "outputs": [
        {
          "output_type": "execute_result",
          "data": {
            "text/plain": [
              "0          NaN\n",
              "1        coupe\n",
              "2          suv\n",
              "3    small car\n",
              "4    small car\n",
              "Name: vehicleType, dtype: object"
            ]
          },
          "metadata": {
            "tags": []
          },
          "execution_count": 9
        }
      ]
    },
    {
      "cell_type": "code",
      "metadata": {
        "id": "e0FmqLfEwvcc",
        "colab_type": "code",
        "colab": {},
        "outputId": "e18b6ab0-2c3f-4549-c712-afa4942bb296"
      },
      "source": [
        "df['gearbox'].value_counts()"
      ],
      "execution_count": null,
      "outputs": [
        {
          "output_type": "execute_result",
          "data": {
            "text/plain": [
              "manuell      274214\n",
              "automatik     77105\n",
              "Name: gearbox, dtype: int64"
            ]
          },
          "metadata": {
            "tags": []
          },
          "execution_count": 10
        }
      ]
    },
    {
      "cell_type": "code",
      "metadata": {
        "id": "Qgne8w0Vw6DU",
        "colab_type": "code",
        "colab": {},
        "outputId": "f2dd1076-4964-4f20-e103-732becc12d57"
      },
      "source": [
        "df['gearbox'].replace({'manuell':'manual',\n",
        "                      'automatik':'automatic'},\n",
        "                     inplace = True)\n",
        "df['gearbox'].head()"
      ],
      "execution_count": null,
      "outputs": [
        {
          "output_type": "execute_result",
          "data": {
            "text/plain": [
              "0       manual\n",
              "1       manual\n",
              "2    automatic\n",
              "3       manual\n",
              "4       manual\n",
              "Name: gearbox, dtype: object"
            ]
          },
          "metadata": {
            "tags": []
          },
          "execution_count": 11
        }
      ]
    },
    {
      "cell_type": "code",
      "metadata": {
        "id": "SaLx7onMxN-x",
        "colab_type": "code",
        "colab": {}
      },
      "source": [
        "orig_list = list(df['model'].value_counts().index)\n",
        "converted_list = ['golf','other','3s','polo','corsa','astra','passat','a4','cclass','5s','eclass','a3','a6','focus','fiesta','transporter','twingo','2series','fortwo','aclass','vectra','1s','mondeo','clio','touran','3series','punto','zafira','megane','ibiza','ka','lupo','xseries','octavia','cooper','fabia','clk','micra','caddy','80','sharan','scenic','omega','slk','leon','laguna','civic','tt','1stseries','6series','iseries','galaxy','mclass','7s','meriva','yaris','great','mxseries','a5','kangoo','911','bclass','500','tiguan','vito','escort','one','arosa','zseries','bora','colt','beetle','berlingo','sprinter','tigra','v40','transit','touareg','fox','swift','insignia','c_max','corolla','panda','seicento','sl','v70','4series','scirocco','156','a1','primera','espace','grand','stilo','almera','a8','147','avensis','qashqai','eos','c3','c5','signum','Beetle','s_max','5series','q5','c4','matiz','ducato','agila','aygo','viano','getz','601','combo','100','carisma','cayenne','boxster','alhambra','cordoba','c2','superb','c1','kuga','forfour','rio','jetta','cuore','a2','altea','cadet','rav','picanto','sorento','mseries','accord','crseries','up','q7','vivaro','toledo','voyager','xcseries','Bravo','santa','doblo','logan','mode','verso','ptcruiser','cl','sportage','jazz','fusion','sandero','mustang','roomster','carnival','6s','ceed','gallant','v50','q3','tucson','lancer','auris','impreza','phaeton','freelander','glk','calibra','pajero','x_trail','850','159','jimny','ypsilon','spider','duster','clubman','yeti','cseries','cc','roadster','cherokee','x_type','gclass','captiva','vclass','wrangler','legacy','s60','300c','rxseries','defender','justy','sirion','forester','outlander','grade','niva','s_type','spark','r19','navara','cxseries','aveo','900','antara','90','juke','discovery','exeo','range_rover_sport','kalos','range_rover','citigo','lanos','mii','crossfire','range_rover_evoque','gl','nubira','move','lybra','145','v60','croma','amarok','delta','terios','lodgy','9000','charade','b_max','musa','materia','200','kappa','samara','elefantino','i3','kalina','serie_2','rangerover','serie_3','serie_1','discovery_sport']"
      ],
      "execution_count": null,
      "outputs": []
    },
    {
      "cell_type": "code",
      "metadata": {
        "id": "SV6lMc8rxaHC",
        "colab_type": "code",
        "colab": {},
        "outputId": "8702afde-7558-4860-d5db-ed5d7e8e1195"
      },
      "source": [
        "df['model'].replace(dict(zip(orig_list,converted_list)),inplace = True)\n",
        "df.head()"
      ],
      "execution_count": null,
      "outputs": [
        {
          "output_type": "execute_result",
          "data": {
            "text/html": [
              "<div>\n",
              "<style scoped>\n",
              "    .dataframe tbody tr th:only-of-type {\n",
              "        vertical-align: middle;\n",
              "    }\n",
              "\n",
              "    .dataframe tbody tr th {\n",
              "        vertical-align: top;\n",
              "    }\n",
              "\n",
              "    .dataframe thead th {\n",
              "        text-align: right;\n",
              "    }\n",
              "</style>\n",
              "<table border=\"1\" class=\"dataframe\">\n",
              "  <thead>\n",
              "    <tr style=\"text-align: right;\">\n",
              "      <th></th>\n",
              "      <th>dateCrawled</th>\n",
              "      <th>name</th>\n",
              "      <th>seller</th>\n",
              "      <th>offerType</th>\n",
              "      <th>price</th>\n",
              "      <th>abtest</th>\n",
              "      <th>vehicleType</th>\n",
              "      <th>yearOfRegistration</th>\n",
              "      <th>gearbox</th>\n",
              "      <th>powerPS</th>\n",
              "      <th>model</th>\n",
              "      <th>kilometer</th>\n",
              "      <th>monthOfRegistration</th>\n",
              "      <th>fuelType</th>\n",
              "      <th>brand</th>\n",
              "      <th>notRepairedDamage</th>\n",
              "      <th>dateCreated</th>\n",
              "      <th>nrOfPictures</th>\n",
              "      <th>postalCode</th>\n",
              "      <th>lastSeen</th>\n",
              "    </tr>\n",
              "  </thead>\n",
              "  <tbody>\n",
              "    <tr>\n",
              "      <td>0</td>\n",
              "      <td>2016-03-24 11:52:17</td>\n",
              "      <td>Golf_3_1.6</td>\n",
              "      <td>private</td>\n",
              "      <td>offer</td>\n",
              "      <td>480</td>\n",
              "      <td>test</td>\n",
              "      <td>NaN</td>\n",
              "      <td>1993</td>\n",
              "      <td>manual</td>\n",
              "      <td>0</td>\n",
              "      <td>golf</td>\n",
              "      <td>150000</td>\n",
              "      <td>0</td>\n",
              "      <td>benzin</td>\n",
              "      <td>volkswagen</td>\n",
              "      <td>NaN</td>\n",
              "      <td>2016-03-24 00:00:00</td>\n",
              "      <td>0</td>\n",
              "      <td>70435</td>\n",
              "      <td>2016-04-07 03:16:57</td>\n",
              "    </tr>\n",
              "    <tr>\n",
              "      <td>1</td>\n",
              "      <td>2016-03-24 10:58:45</td>\n",
              "      <td>A5_Sportback_2.7_Tdi</td>\n",
              "      <td>private</td>\n",
              "      <td>offer</td>\n",
              "      <td>18300</td>\n",
              "      <td>test</td>\n",
              "      <td>coupe</td>\n",
              "      <td>2011</td>\n",
              "      <td>manual</td>\n",
              "      <td>190</td>\n",
              "      <td>NaN</td>\n",
              "      <td>125000</td>\n",
              "      <td>5</td>\n",
              "      <td>diesel</td>\n",
              "      <td>audi</td>\n",
              "      <td>ja</td>\n",
              "      <td>2016-03-24 00:00:00</td>\n",
              "      <td>0</td>\n",
              "      <td>66954</td>\n",
              "      <td>2016-04-07 01:46:50</td>\n",
              "    </tr>\n",
              "    <tr>\n",
              "      <td>2</td>\n",
              "      <td>2016-03-14 12:52:21</td>\n",
              "      <td>Jeep_Grand_Cherokee_\"Overland\"</td>\n",
              "      <td>private</td>\n",
              "      <td>offer</td>\n",
              "      <td>9800</td>\n",
              "      <td>test</td>\n",
              "      <td>suv</td>\n",
              "      <td>2004</td>\n",
              "      <td>automatic</td>\n",
              "      <td>163</td>\n",
              "      <td>grand</td>\n",
              "      <td>125000</td>\n",
              "      <td>8</td>\n",
              "      <td>diesel</td>\n",
              "      <td>jeep</td>\n",
              "      <td>NaN</td>\n",
              "      <td>2016-03-14 00:00:00</td>\n",
              "      <td>0</td>\n",
              "      <td>90480</td>\n",
              "      <td>2016-04-05 12:47:46</td>\n",
              "    </tr>\n",
              "    <tr>\n",
              "      <td>3</td>\n",
              "      <td>2016-03-17 16:54:04</td>\n",
              "      <td>GOLF_4_1_4__3TÜRER</td>\n",
              "      <td>private</td>\n",
              "      <td>offer</td>\n",
              "      <td>1500</td>\n",
              "      <td>test</td>\n",
              "      <td>small car</td>\n",
              "      <td>2001</td>\n",
              "      <td>manual</td>\n",
              "      <td>75</td>\n",
              "      <td>golf</td>\n",
              "      <td>150000</td>\n",
              "      <td>6</td>\n",
              "      <td>benzin</td>\n",
              "      <td>volkswagen</td>\n",
              "      <td>nein</td>\n",
              "      <td>2016-03-17 00:00:00</td>\n",
              "      <td>0</td>\n",
              "      <td>91074</td>\n",
              "      <td>2016-03-17 17:40:17</td>\n",
              "    </tr>\n",
              "    <tr>\n",
              "      <td>4</td>\n",
              "      <td>2016-03-31 17:25:20</td>\n",
              "      <td>Skoda_Fabia_1.4_TDI_PD_Classic</td>\n",
              "      <td>private</td>\n",
              "      <td>offer</td>\n",
              "      <td>3600</td>\n",
              "      <td>test</td>\n",
              "      <td>small car</td>\n",
              "      <td>2008</td>\n",
              "      <td>manual</td>\n",
              "      <td>69</td>\n",
              "      <td>fabia</td>\n",
              "      <td>90000</td>\n",
              "      <td>7</td>\n",
              "      <td>diesel</td>\n",
              "      <td>skoda</td>\n",
              "      <td>nein</td>\n",
              "      <td>2016-03-31 00:00:00</td>\n",
              "      <td>0</td>\n",
              "      <td>60437</td>\n",
              "      <td>2016-04-06 10:17:21</td>\n",
              "    </tr>\n",
              "  </tbody>\n",
              "</table>\n",
              "</div>"
            ],
            "text/plain": [
              "           dateCrawled                            name   seller offerType  \\\n",
              "0  2016-03-24 11:52:17                      Golf_3_1.6  private     offer   \n",
              "1  2016-03-24 10:58:45            A5_Sportback_2.7_Tdi  private     offer   \n",
              "2  2016-03-14 12:52:21  Jeep_Grand_Cherokee_\"Overland\"  private     offer   \n",
              "3  2016-03-17 16:54:04              GOLF_4_1_4__3TÜRER  private     offer   \n",
              "4  2016-03-31 17:25:20  Skoda_Fabia_1.4_TDI_PD_Classic  private     offer   \n",
              "\n",
              "   price abtest vehicleType  yearOfRegistration    gearbox  powerPS  model  \\\n",
              "0    480   test         NaN                1993     manual        0   golf   \n",
              "1  18300   test       coupe                2011     manual      190    NaN   \n",
              "2   9800   test         suv                2004  automatic      163  grand   \n",
              "3   1500   test   small car                2001     manual       75   golf   \n",
              "4   3600   test   small car                2008     manual       69  fabia   \n",
              "\n",
              "   kilometer  monthOfRegistration fuelType       brand notRepairedDamage  \\\n",
              "0     150000                    0   benzin  volkswagen               NaN   \n",
              "1     125000                    5   diesel        audi                ja   \n",
              "2     125000                    8   diesel        jeep               NaN   \n",
              "3     150000                    6   benzin  volkswagen              nein   \n",
              "4      90000                    7   diesel       skoda              nein   \n",
              "\n",
              "           dateCreated  nrOfPictures  postalCode             lastSeen  \n",
              "0  2016-03-24 00:00:00             0       70435  2016-04-07 03:16:57  \n",
              "1  2016-03-24 00:00:00             0       66954  2016-04-07 01:46:50  \n",
              "2  2016-03-14 00:00:00             0       90480  2016-04-05 12:47:46  \n",
              "3  2016-03-17 00:00:00             0       91074  2016-03-17 17:40:17  \n",
              "4  2016-03-31 00:00:00             0       60437  2016-04-06 10:17:21  "
            ]
          },
          "metadata": {
            "tags": []
          },
          "execution_count": 13
        }
      ]
    },
    {
      "cell_type": "code",
      "metadata": {
        "id": "TgiF6DwhDiic",
        "colab_type": "code",
        "colab": {},
        "outputId": "d6bc09b0-c444-4216-eb7f-f5e1e8c2372a"
      },
      "source": [
        "df['monthOfRegistration'].value_counts()"
      ],
      "execution_count": null,
      "outputs": [
        {
          "output_type": "execute_result",
          "data": {
            "text/plain": [
              "0     37675\n",
              "3     36170\n",
              "6     33167\n",
              "4     30918\n",
              "5     30631\n",
              "7     28958\n",
              "10    27337\n",
              "11    25489\n",
              "12    25380\n",
              "9     25074\n",
              "1     24561\n",
              "8     23765\n",
              "2     22403\n",
              "Name: monthOfRegistration, dtype: int64"
            ]
          },
          "metadata": {
            "tags": []
          },
          "execution_count": 14
        }
      ]
    },
    {
      "cell_type": "code",
      "metadata": {
        "id": "C6VPjRd-EYLy",
        "colab_type": "code",
        "colab": {},
        "outputId": "444d1d7c-1ffb-4592-8d6c-4f81ce026add"
      },
      "source": [
        "df['fuelType'].value_counts()"
      ],
      "execution_count": null,
      "outputs": [
        {
          "output_type": "execute_result",
          "data": {
            "text/plain": [
              "benzin     223857\n",
              "diesel     107746\n",
              "lpg          5378\n",
              "cng           571\n",
              "hybrid        278\n",
              "andere        208\n",
              "elektro       104\n",
              "Name: fuelType, dtype: int64"
            ]
          },
          "metadata": {
            "tags": []
          },
          "execution_count": 15
        }
      ]
    },
    {
      "cell_type": "code",
      "metadata": {
        "id": "FlqCd1jAEmLw",
        "colab_type": "code",
        "colab": {},
        "outputId": "ad008cca-e20d-45b7-d869-443774457916"
      },
      "source": [
        "df['fuelType'].replace({'benzin':'petrol',\n",
        "                      'andere':'other',\n",
        "                      'elektro':'electric'},\n",
        "                     inplace = True)\n",
        "df['fuelType'].head()"
      ],
      "execution_count": null,
      "outputs": [
        {
          "output_type": "execute_result",
          "data": {
            "text/plain": [
              "0    petrol\n",
              "1    diesel\n",
              "2    diesel\n",
              "3    petrol\n",
              "4    diesel\n",
              "Name: fuelType, dtype: object"
            ]
          },
          "metadata": {
            "tags": []
          },
          "execution_count": 16
        }
      ]
    },
    {
      "cell_type": "code",
      "metadata": {
        "id": "tyjhfKu8FCu2",
        "colab_type": "code",
        "colab": {},
        "outputId": "ddabeb08-f655-474c-cce6-f7099c41ce3c"
      },
      "source": [
        "df['brand'].value_counts()"
      ],
      "execution_count": null,
      "outputs": [
        {
          "output_type": "execute_result",
          "data": {
            "text/plain": [
              "volkswagen        79640\n",
              "bmw               40274\n",
              "opel              40136\n",
              "mercedes_benz     35309\n",
              "audi              32873\n",
              "ford              25573\n",
              "renault           17969\n",
              "peugeot           11027\n",
              "fiat               9676\n",
              "seat               7022\n",
              "mazda              5695\n",
              "skoda              5641\n",
              "smart              5249\n",
              "citroen            5182\n",
              "nissan             5037\n",
              "toyota             4694\n",
              "sonstige_autos     3982\n",
              "hyundai            3646\n",
              "mini               3394\n",
              "volvo              3327\n",
              "mitsubishi         3061\n",
              "honda              2836\n",
              "kia                2555\n",
              "alfa_romeo         2345\n",
              "suzuki             2328\n",
              "porsche            2215\n",
              "chevrolet          1845\n",
              "chrysler           1452\n",
              "dacia               900\n",
              "jeep                807\n",
              "daihatsu            806\n",
              "subaru              779\n",
              "land_rover          770\n",
              "jaguar              621\n",
              "trabant             591\n",
              "daewoo              542\n",
              "saab                530\n",
              "rover               490\n",
              "lancia              484\n",
              "lada                225\n",
              "Name: brand, dtype: int64"
            ]
          },
          "metadata": {
            "tags": []
          },
          "execution_count": 17
        }
      ]
    },
    {
      "cell_type": "code",
      "metadata": {
        "id": "JrJidVP2FMv6",
        "colab_type": "code",
        "colab": {},
        "outputId": "c883e8de-2dc5-4b87-8fea-b5e3eda92851"
      },
      "source": [
        "df['notRepairedDamage'].value_counts()"
      ],
      "execution_count": null,
      "outputs": [
        {
          "output_type": "execute_result",
          "data": {
            "text/plain": [
              "nein    263182\n",
              "ja       36286\n",
              "Name: notRepairedDamage, dtype: int64"
            ]
          },
          "metadata": {
            "tags": []
          },
          "execution_count": 18
        }
      ]
    },
    {
      "cell_type": "code",
      "metadata": {
        "id": "ydfae1d8Fcss",
        "colab_type": "code",
        "colab": {},
        "outputId": "aaddd5a3-720d-485e-fe14-407b8ab28b40"
      },
      "source": [
        "df['notRepairedDamage'].replace({'nein':'No',\n",
        "                      'ja':'Yes'},\n",
        "                     inplace = True)\n",
        "df['notRepairedDamage'].head()"
      ],
      "execution_count": null,
      "outputs": [
        {
          "output_type": "execute_result",
          "data": {
            "text/plain": [
              "0    NaN\n",
              "1    Yes\n",
              "2    NaN\n",
              "3     No\n",
              "4     No\n",
              "Name: notRepairedDamage, dtype: object"
            ]
          },
          "metadata": {
            "tags": []
          },
          "execution_count": 19
        }
      ]
    },
    {
      "cell_type": "code",
      "metadata": {
        "id": "zKUhPTJXFvrF",
        "colab_type": "code",
        "colab": {},
        "outputId": "42cd367c-f392-454e-e467-a4827d2ad09a"
      },
      "source": [
        "df.head(3)"
      ],
      "execution_count": null,
      "outputs": [
        {
          "output_type": "execute_result",
          "data": {
            "text/html": [
              "<div>\n",
              "<style scoped>\n",
              "    .dataframe tbody tr th:only-of-type {\n",
              "        vertical-align: middle;\n",
              "    }\n",
              "\n",
              "    .dataframe tbody tr th {\n",
              "        vertical-align: top;\n",
              "    }\n",
              "\n",
              "    .dataframe thead th {\n",
              "        text-align: right;\n",
              "    }\n",
              "</style>\n",
              "<table border=\"1\" class=\"dataframe\">\n",
              "  <thead>\n",
              "    <tr style=\"text-align: right;\">\n",
              "      <th></th>\n",
              "      <th>dateCrawled</th>\n",
              "      <th>name</th>\n",
              "      <th>seller</th>\n",
              "      <th>offerType</th>\n",
              "      <th>price</th>\n",
              "      <th>abtest</th>\n",
              "      <th>vehicleType</th>\n",
              "      <th>yearOfRegistration</th>\n",
              "      <th>gearbox</th>\n",
              "      <th>powerPS</th>\n",
              "      <th>model</th>\n",
              "      <th>kilometer</th>\n",
              "      <th>monthOfRegistration</th>\n",
              "      <th>fuelType</th>\n",
              "      <th>brand</th>\n",
              "      <th>notRepairedDamage</th>\n",
              "      <th>dateCreated</th>\n",
              "      <th>nrOfPictures</th>\n",
              "      <th>postalCode</th>\n",
              "      <th>lastSeen</th>\n",
              "    </tr>\n",
              "  </thead>\n",
              "  <tbody>\n",
              "    <tr>\n",
              "      <td>0</td>\n",
              "      <td>2016-03-24 11:52:17</td>\n",
              "      <td>Golf_3_1.6</td>\n",
              "      <td>private</td>\n",
              "      <td>offer</td>\n",
              "      <td>480</td>\n",
              "      <td>test</td>\n",
              "      <td>NaN</td>\n",
              "      <td>1993</td>\n",
              "      <td>manual</td>\n",
              "      <td>0</td>\n",
              "      <td>golf</td>\n",
              "      <td>150000</td>\n",
              "      <td>0</td>\n",
              "      <td>petrol</td>\n",
              "      <td>volkswagen</td>\n",
              "      <td>NaN</td>\n",
              "      <td>2016-03-24 00:00:00</td>\n",
              "      <td>0</td>\n",
              "      <td>70435</td>\n",
              "      <td>2016-04-07 03:16:57</td>\n",
              "    </tr>\n",
              "    <tr>\n",
              "      <td>1</td>\n",
              "      <td>2016-03-24 10:58:45</td>\n",
              "      <td>A5_Sportback_2.7_Tdi</td>\n",
              "      <td>private</td>\n",
              "      <td>offer</td>\n",
              "      <td>18300</td>\n",
              "      <td>test</td>\n",
              "      <td>coupe</td>\n",
              "      <td>2011</td>\n",
              "      <td>manual</td>\n",
              "      <td>190</td>\n",
              "      <td>NaN</td>\n",
              "      <td>125000</td>\n",
              "      <td>5</td>\n",
              "      <td>diesel</td>\n",
              "      <td>audi</td>\n",
              "      <td>Yes</td>\n",
              "      <td>2016-03-24 00:00:00</td>\n",
              "      <td>0</td>\n",
              "      <td>66954</td>\n",
              "      <td>2016-04-07 01:46:50</td>\n",
              "    </tr>\n",
              "    <tr>\n",
              "      <td>2</td>\n",
              "      <td>2016-03-14 12:52:21</td>\n",
              "      <td>Jeep_Grand_Cherokee_\"Overland\"</td>\n",
              "      <td>private</td>\n",
              "      <td>offer</td>\n",
              "      <td>9800</td>\n",
              "      <td>test</td>\n",
              "      <td>suv</td>\n",
              "      <td>2004</td>\n",
              "      <td>automatic</td>\n",
              "      <td>163</td>\n",
              "      <td>grand</td>\n",
              "      <td>125000</td>\n",
              "      <td>8</td>\n",
              "      <td>diesel</td>\n",
              "      <td>jeep</td>\n",
              "      <td>NaN</td>\n",
              "      <td>2016-03-14 00:00:00</td>\n",
              "      <td>0</td>\n",
              "      <td>90480</td>\n",
              "      <td>2016-04-05 12:47:46</td>\n",
              "    </tr>\n",
              "  </tbody>\n",
              "</table>\n",
              "</div>"
            ],
            "text/plain": [
              "           dateCrawled                            name   seller offerType  \\\n",
              "0  2016-03-24 11:52:17                      Golf_3_1.6  private     offer   \n",
              "1  2016-03-24 10:58:45            A5_Sportback_2.7_Tdi  private     offer   \n",
              "2  2016-03-14 12:52:21  Jeep_Grand_Cherokee_\"Overland\"  private     offer   \n",
              "\n",
              "   price abtest vehicleType  yearOfRegistration    gearbox  powerPS  model  \\\n",
              "0    480   test         NaN                1993     manual        0   golf   \n",
              "1  18300   test       coupe                2011     manual      190    NaN   \n",
              "2   9800   test         suv                2004  automatic      163  grand   \n",
              "\n",
              "   kilometer  monthOfRegistration fuelType       brand notRepairedDamage  \\\n",
              "0     150000                    0   petrol  volkswagen               NaN   \n",
              "1     125000                    5   diesel        audi               Yes   \n",
              "2     125000                    8   diesel        jeep               NaN   \n",
              "\n",
              "           dateCreated  nrOfPictures  postalCode             lastSeen  \n",
              "0  2016-03-24 00:00:00             0       70435  2016-04-07 03:16:57  \n",
              "1  2016-03-24 00:00:00             0       66954  2016-04-07 01:46:50  \n",
              "2  2016-03-14 00:00:00             0       90480  2016-04-05 12:47:46  "
            ]
          },
          "metadata": {
            "tags": []
          },
          "execution_count": 20
        }
      ]
    },
    {
      "cell_type": "markdown",
      "metadata": {
        "id": "IT_AY-2e6v-m",
        "colab_type": "text"
      },
      "source": [
        "# Exploring the dataset"
      ]
    },
    {
      "cell_type": "code",
      "metadata": {
        "id": "4jIUYVCR5ULX",
        "colab_type": "code",
        "colab": {},
        "outputId": "eee0e528-5a24-410d-d057-f2622c10e664"
      },
      "source": [
        "df.shape"
      ],
      "execution_count": null,
      "outputs": [
        {
          "output_type": "execute_result",
          "data": {
            "text/plain": [
              "(371528, 20)"
            ]
          },
          "metadata": {
            "tags": []
          },
          "execution_count": 21
        }
      ]
    },
    {
      "cell_type": "code",
      "metadata": {
        "id": "oR9Eb0peGQ0L",
        "colab_type": "code",
        "colab": {},
        "outputId": "ee75b1ab-9829-41ba-ce8c-5db28b9fdb07"
      },
      "source": [
        "df.info()"
      ],
      "execution_count": null,
      "outputs": [
        {
          "output_type": "stream",
          "text": [
            "<class 'pandas.core.frame.DataFrame'>\n",
            "RangeIndex: 371528 entries, 0 to 371527\n",
            "Data columns (total 20 columns):\n",
            "dateCrawled            371528 non-null object\n",
            "name                   371528 non-null object\n",
            "seller                 371528 non-null object\n",
            "offerType              371528 non-null object\n",
            "price                  371528 non-null int64\n",
            "abtest                 371528 non-null object\n",
            "vehicleType            333659 non-null object\n",
            "yearOfRegistration     371528 non-null int64\n",
            "gearbox                351319 non-null object\n",
            "powerPS                371528 non-null int64\n",
            "model                  351044 non-null object\n",
            "kilometer              371528 non-null int64\n",
            "monthOfRegistration    371528 non-null int64\n",
            "fuelType               338142 non-null object\n",
            "brand                  371528 non-null object\n",
            "notRepairedDamage      299468 non-null object\n",
            "dateCreated            371528 non-null object\n",
            "nrOfPictures           371528 non-null int64\n",
            "postalCode             371528 non-null int64\n",
            "lastSeen               371528 non-null object\n",
            "dtypes: int64(7), object(13)\n",
            "memory usage: 56.7+ MB\n"
          ],
          "name": "stdout"
        }
      ]
    },
    {
      "cell_type": "code",
      "metadata": {
        "id": "DG0fW0pu8efS",
        "colab_type": "code",
        "colab": {}
      },
      "source": [
        "df['dateCrawled'] = pd.to_datetime(df['dateCrawled'])\n",
        "df['dateCreated'] = pd.to_datetime(df['dateCreated'])\n",
        "df['lastSeen'] = pd.to_datetime(df['lastSeen'])"
      ],
      "execution_count": null,
      "outputs": []
    },
    {
      "cell_type": "code",
      "metadata": {
        "id": "g7If0a12AG1H",
        "colab_type": "code",
        "colab": {},
        "outputId": "76d89237-768c-4c11-9ff8-9025a05605a4"
      },
      "source": [
        "df.info()"
      ],
      "execution_count": null,
      "outputs": [
        {
          "output_type": "stream",
          "text": [
            "<class 'pandas.core.frame.DataFrame'>\n",
            "RangeIndex: 371528 entries, 0 to 371527\n",
            "Data columns (total 20 columns):\n",
            "dateCrawled            371528 non-null datetime64[ns]\n",
            "name                   371528 non-null object\n",
            "seller                 371528 non-null object\n",
            "offerType              371528 non-null object\n",
            "price                  371528 non-null int64\n",
            "abtest                 371528 non-null object\n",
            "vehicleType            333659 non-null object\n",
            "yearOfRegistration     371528 non-null int64\n",
            "gearbox                351319 non-null object\n",
            "powerPS                371528 non-null int64\n",
            "model                  351044 non-null object\n",
            "kilometer              371528 non-null int64\n",
            "monthOfRegistration    371528 non-null int64\n",
            "fuelType               338142 non-null object\n",
            "brand                  371528 non-null object\n",
            "notRepairedDamage      299468 non-null object\n",
            "dateCreated            371528 non-null datetime64[ns]\n",
            "nrOfPictures           371528 non-null int64\n",
            "postalCode             371528 non-null int64\n",
            "lastSeen               371528 non-null datetime64[ns]\n",
            "dtypes: datetime64[ns](3), int64(7), object(10)\n",
            "memory usage: 56.7+ MB\n"
          ],
          "name": "stdout"
        }
      ]
    },
    {
      "cell_type": "code",
      "metadata": {
        "id": "AF5k6zRNAzZ0",
        "colab_type": "code",
        "colab": {},
        "outputId": "b5c83686-f57d-4cd6-f811-ed85fed7b1ad"
      },
      "source": [
        "df.head()"
      ],
      "execution_count": null,
      "outputs": [
        {
          "output_type": "execute_result",
          "data": {
            "text/html": [
              "<div>\n",
              "<style scoped>\n",
              "    .dataframe tbody tr th:only-of-type {\n",
              "        vertical-align: middle;\n",
              "    }\n",
              "\n",
              "    .dataframe tbody tr th {\n",
              "        vertical-align: top;\n",
              "    }\n",
              "\n",
              "    .dataframe thead th {\n",
              "        text-align: right;\n",
              "    }\n",
              "</style>\n",
              "<table border=\"1\" class=\"dataframe\">\n",
              "  <thead>\n",
              "    <tr style=\"text-align: right;\">\n",
              "      <th></th>\n",
              "      <th>dateCrawled</th>\n",
              "      <th>name</th>\n",
              "      <th>seller</th>\n",
              "      <th>offerType</th>\n",
              "      <th>price</th>\n",
              "      <th>abtest</th>\n",
              "      <th>vehicleType</th>\n",
              "      <th>yearOfRegistration</th>\n",
              "      <th>gearbox</th>\n",
              "      <th>powerPS</th>\n",
              "      <th>model</th>\n",
              "      <th>kilometer</th>\n",
              "      <th>monthOfRegistration</th>\n",
              "      <th>fuelType</th>\n",
              "      <th>brand</th>\n",
              "      <th>notRepairedDamage</th>\n",
              "      <th>dateCreated</th>\n",
              "      <th>nrOfPictures</th>\n",
              "      <th>postalCode</th>\n",
              "      <th>lastSeen</th>\n",
              "    </tr>\n",
              "  </thead>\n",
              "  <tbody>\n",
              "    <tr>\n",
              "      <td>0</td>\n",
              "      <td>2016-03-24 11:52:17</td>\n",
              "      <td>Golf_3_1.6</td>\n",
              "      <td>private</td>\n",
              "      <td>offer</td>\n",
              "      <td>480</td>\n",
              "      <td>test</td>\n",
              "      <td>NaN</td>\n",
              "      <td>1993</td>\n",
              "      <td>manual</td>\n",
              "      <td>0</td>\n",
              "      <td>golf</td>\n",
              "      <td>150000</td>\n",
              "      <td>0</td>\n",
              "      <td>petrol</td>\n",
              "      <td>volkswagen</td>\n",
              "      <td>NaN</td>\n",
              "      <td>2016-03-24</td>\n",
              "      <td>0</td>\n",
              "      <td>70435</td>\n",
              "      <td>2016-04-07 03:16:57</td>\n",
              "    </tr>\n",
              "    <tr>\n",
              "      <td>1</td>\n",
              "      <td>2016-03-24 10:58:45</td>\n",
              "      <td>A5_Sportback_2.7_Tdi</td>\n",
              "      <td>private</td>\n",
              "      <td>offer</td>\n",
              "      <td>18300</td>\n",
              "      <td>test</td>\n",
              "      <td>coupe</td>\n",
              "      <td>2011</td>\n",
              "      <td>manual</td>\n",
              "      <td>190</td>\n",
              "      <td>NaN</td>\n",
              "      <td>125000</td>\n",
              "      <td>5</td>\n",
              "      <td>diesel</td>\n",
              "      <td>audi</td>\n",
              "      <td>Yes</td>\n",
              "      <td>2016-03-24</td>\n",
              "      <td>0</td>\n",
              "      <td>66954</td>\n",
              "      <td>2016-04-07 01:46:50</td>\n",
              "    </tr>\n",
              "    <tr>\n",
              "      <td>2</td>\n",
              "      <td>2016-03-14 12:52:21</td>\n",
              "      <td>Jeep_Grand_Cherokee_\"Overland\"</td>\n",
              "      <td>private</td>\n",
              "      <td>offer</td>\n",
              "      <td>9800</td>\n",
              "      <td>test</td>\n",
              "      <td>suv</td>\n",
              "      <td>2004</td>\n",
              "      <td>automatic</td>\n",
              "      <td>163</td>\n",
              "      <td>grand</td>\n",
              "      <td>125000</td>\n",
              "      <td>8</td>\n",
              "      <td>diesel</td>\n",
              "      <td>jeep</td>\n",
              "      <td>NaN</td>\n",
              "      <td>2016-03-14</td>\n",
              "      <td>0</td>\n",
              "      <td>90480</td>\n",
              "      <td>2016-04-05 12:47:46</td>\n",
              "    </tr>\n",
              "    <tr>\n",
              "      <td>3</td>\n",
              "      <td>2016-03-17 16:54:04</td>\n",
              "      <td>GOLF_4_1_4__3TÜRER</td>\n",
              "      <td>private</td>\n",
              "      <td>offer</td>\n",
              "      <td>1500</td>\n",
              "      <td>test</td>\n",
              "      <td>small car</td>\n",
              "      <td>2001</td>\n",
              "      <td>manual</td>\n",
              "      <td>75</td>\n",
              "      <td>golf</td>\n",
              "      <td>150000</td>\n",
              "      <td>6</td>\n",
              "      <td>petrol</td>\n",
              "      <td>volkswagen</td>\n",
              "      <td>No</td>\n",
              "      <td>2016-03-17</td>\n",
              "      <td>0</td>\n",
              "      <td>91074</td>\n",
              "      <td>2016-03-17 17:40:17</td>\n",
              "    </tr>\n",
              "    <tr>\n",
              "      <td>4</td>\n",
              "      <td>2016-03-31 17:25:20</td>\n",
              "      <td>Skoda_Fabia_1.4_TDI_PD_Classic</td>\n",
              "      <td>private</td>\n",
              "      <td>offer</td>\n",
              "      <td>3600</td>\n",
              "      <td>test</td>\n",
              "      <td>small car</td>\n",
              "      <td>2008</td>\n",
              "      <td>manual</td>\n",
              "      <td>69</td>\n",
              "      <td>fabia</td>\n",
              "      <td>90000</td>\n",
              "      <td>7</td>\n",
              "      <td>diesel</td>\n",
              "      <td>skoda</td>\n",
              "      <td>No</td>\n",
              "      <td>2016-03-31</td>\n",
              "      <td>0</td>\n",
              "      <td>60437</td>\n",
              "      <td>2016-04-06 10:17:21</td>\n",
              "    </tr>\n",
              "  </tbody>\n",
              "</table>\n",
              "</div>"
            ],
            "text/plain": [
              "          dateCrawled                            name   seller offerType  \\\n",
              "0 2016-03-24 11:52:17                      Golf_3_1.6  private     offer   \n",
              "1 2016-03-24 10:58:45            A5_Sportback_2.7_Tdi  private     offer   \n",
              "2 2016-03-14 12:52:21  Jeep_Grand_Cherokee_\"Overland\"  private     offer   \n",
              "3 2016-03-17 16:54:04              GOLF_4_1_4__3TÜRER  private     offer   \n",
              "4 2016-03-31 17:25:20  Skoda_Fabia_1.4_TDI_PD_Classic  private     offer   \n",
              "\n",
              "   price abtest vehicleType  yearOfRegistration    gearbox  powerPS  model  \\\n",
              "0    480   test         NaN                1993     manual        0   golf   \n",
              "1  18300   test       coupe                2011     manual      190    NaN   \n",
              "2   9800   test         suv                2004  automatic      163  grand   \n",
              "3   1500   test   small car                2001     manual       75   golf   \n",
              "4   3600   test   small car                2008     manual       69  fabia   \n",
              "\n",
              "   kilometer  monthOfRegistration fuelType       brand notRepairedDamage  \\\n",
              "0     150000                    0   petrol  volkswagen               NaN   \n",
              "1     125000                    5   diesel        audi               Yes   \n",
              "2     125000                    8   diesel        jeep               NaN   \n",
              "3     150000                    6   petrol  volkswagen                No   \n",
              "4      90000                    7   diesel       skoda                No   \n",
              "\n",
              "  dateCreated  nrOfPictures  postalCode            lastSeen  \n",
              "0  2016-03-24             0       70435 2016-04-07 03:16:57  \n",
              "1  2016-03-24             0       66954 2016-04-07 01:46:50  \n",
              "2  2016-03-14             0       90480 2016-04-05 12:47:46  \n",
              "3  2016-03-17             0       91074 2016-03-17 17:40:17  \n",
              "4  2016-03-31             0       60437 2016-04-06 10:17:21  "
            ]
          },
          "metadata": {
            "tags": []
          },
          "execution_count": 25
        }
      ]
    },
    {
      "cell_type": "code",
      "metadata": {
        "id": "FQB4clpCNk_P",
        "colab_type": "code",
        "colab": {},
        "outputId": "aeed6eec-577d-4cdb-c169-1bd887c357bc"
      },
      "source": [
        "def get_missing_val_count_df(df):\n",
        "  missing_count_list = []\n",
        "  for col in df.columns:\n",
        "    missing_count_list.append(df[col].isnull().sum())\n",
        "  missing_count_df = pd.DataFrame(missing_count_list,columns=['count'],index = df.columns)\n",
        "  return missing_count_df.sort_values('count',ascending=False)\n",
        "get_missing_val_count_df(df)"
      ],
      "execution_count": null,
      "outputs": [
        {
          "output_type": "execute_result",
          "data": {
            "text/html": [
              "<div>\n",
              "<style scoped>\n",
              "    .dataframe tbody tr th:only-of-type {\n",
              "        vertical-align: middle;\n",
              "    }\n",
              "\n",
              "    .dataframe tbody tr th {\n",
              "        vertical-align: top;\n",
              "    }\n",
              "\n",
              "    .dataframe thead th {\n",
              "        text-align: right;\n",
              "    }\n",
              "</style>\n",
              "<table border=\"1\" class=\"dataframe\">\n",
              "  <thead>\n",
              "    <tr style=\"text-align: right;\">\n",
              "      <th></th>\n",
              "      <th>count</th>\n",
              "    </tr>\n",
              "  </thead>\n",
              "  <tbody>\n",
              "    <tr>\n",
              "      <td>notRepairedDamage</td>\n",
              "      <td>72060</td>\n",
              "    </tr>\n",
              "    <tr>\n",
              "      <td>vehicleType</td>\n",
              "      <td>37869</td>\n",
              "    </tr>\n",
              "    <tr>\n",
              "      <td>fuelType</td>\n",
              "      <td>33386</td>\n",
              "    </tr>\n",
              "    <tr>\n",
              "      <td>model</td>\n",
              "      <td>20484</td>\n",
              "    </tr>\n",
              "    <tr>\n",
              "      <td>gearbox</td>\n",
              "      <td>20209</td>\n",
              "    </tr>\n",
              "    <tr>\n",
              "      <td>kilometer</td>\n",
              "      <td>0</td>\n",
              "    </tr>\n",
              "    <tr>\n",
              "      <td>postalCode</td>\n",
              "      <td>0</td>\n",
              "    </tr>\n",
              "    <tr>\n",
              "      <td>nrOfPictures</td>\n",
              "      <td>0</td>\n",
              "    </tr>\n",
              "    <tr>\n",
              "      <td>dateCreated</td>\n",
              "      <td>0</td>\n",
              "    </tr>\n",
              "    <tr>\n",
              "      <td>brand</td>\n",
              "      <td>0</td>\n",
              "    </tr>\n",
              "    <tr>\n",
              "      <td>monthOfRegistration</td>\n",
              "      <td>0</td>\n",
              "    </tr>\n",
              "    <tr>\n",
              "      <td>dateCrawled</td>\n",
              "      <td>0</td>\n",
              "    </tr>\n",
              "    <tr>\n",
              "      <td>name</td>\n",
              "      <td>0</td>\n",
              "    </tr>\n",
              "    <tr>\n",
              "      <td>powerPS</td>\n",
              "      <td>0</td>\n",
              "    </tr>\n",
              "    <tr>\n",
              "      <td>yearOfRegistration</td>\n",
              "      <td>0</td>\n",
              "    </tr>\n",
              "    <tr>\n",
              "      <td>abtest</td>\n",
              "      <td>0</td>\n",
              "    </tr>\n",
              "    <tr>\n",
              "      <td>price</td>\n",
              "      <td>0</td>\n",
              "    </tr>\n",
              "    <tr>\n",
              "      <td>offerType</td>\n",
              "      <td>0</td>\n",
              "    </tr>\n",
              "    <tr>\n",
              "      <td>seller</td>\n",
              "      <td>0</td>\n",
              "    </tr>\n",
              "    <tr>\n",
              "      <td>lastSeen</td>\n",
              "      <td>0</td>\n",
              "    </tr>\n",
              "  </tbody>\n",
              "</table>\n",
              "</div>"
            ],
            "text/plain": [
              "                     count\n",
              "notRepairedDamage    72060\n",
              "vehicleType          37869\n",
              "fuelType             33386\n",
              "model                20484\n",
              "gearbox              20209\n",
              "kilometer                0\n",
              "postalCode               0\n",
              "nrOfPictures             0\n",
              "dateCreated              0\n",
              "brand                    0\n",
              "monthOfRegistration      0\n",
              "dateCrawled              0\n",
              "name                     0\n",
              "powerPS                  0\n",
              "yearOfRegistration       0\n",
              "abtest                   0\n",
              "price                    0\n",
              "offerType                0\n",
              "seller                   0\n",
              "lastSeen                 0"
            ]
          },
          "metadata": {
            "tags": []
          },
          "execution_count": 26
        }
      ]
    },
    {
      "cell_type": "markdown",
      "metadata": {
        "id": "_-WFKMCxFFFO",
        "colab_type": "text"
      },
      "source": [
        "## Price"
      ]
    },
    {
      "cell_type": "code",
      "metadata": {
        "id": "fEuxhNjE4s9Y",
        "colab_type": "code",
        "colab": {},
        "outputId": "481eb6e2-456e-4728-b7d5-4eaa7fb23aff"
      },
      "source": [
        "df['price'].describe()"
      ],
      "execution_count": null,
      "outputs": [
        {
          "output_type": "execute_result",
          "data": {
            "text/plain": [
              "count    3.715280e+05\n",
              "mean     1.729514e+04\n",
              "std      3.587954e+06\n",
              "min      0.000000e+00\n",
              "25%      1.150000e+03\n",
              "50%      2.950000e+03\n",
              "75%      7.200000e+03\n",
              "max      2.147484e+09\n",
              "Name: price, dtype: float64"
            ]
          },
          "metadata": {
            "tags": []
          },
          "execution_count": 27
        }
      ]
    },
    {
      "cell_type": "code",
      "metadata": {
        "id": "hcgR4Rmp3IQh",
        "colab_type": "code",
        "colab": {},
        "outputId": "7230befd-8c0f-44af-f282-0e7a4059b476"
      },
      "source": [
        "plt.figure(figsize = (20,5))\n",
        "sns.boxplot(df['price'])"
      ],
      "execution_count": null,
      "outputs": [
        {
          "output_type": "execute_result",
          "data": {
            "text/plain": [
              "<matplotlib.axes._subplots.AxesSubplot at 0x1e7082c2a08>"
            ]
          },
          "metadata": {
            "tags": []
          },
          "execution_count": 28
        },
        {
          "output_type": "display_data",
          "data": {
            "image/png": "[encoded data removed]",
            "text/plain": [
              "<Figure size 1440x360 with 1 Axes>"
            ]
          },
          "metadata": {
            "tags": [],
            "needs_background": "light"
          }
        }
      ]
    },
    {
      "cell_type": "code",
      "metadata": {
        "id": "QqJwCxh6Comn",
        "colab_type": "code",
        "colab": {},
        "outputId": "7bb1d6fc-f2b8-477a-9297-f6f0e0d16d6d"
      },
      "source": [
        "plt.figure(figsize = (20,5))\n",
        "sns.boxplot(df[(df['price']>=100) & (df['price']<=100000)]['price'])"
      ],
      "execution_count": null,
      "outputs": [
        {
          "output_type": "execute_result",
          "data": {
            "text/plain": [
              "<matplotlib.axes._subplots.AxesSubplot at 0x1e70f4220c8>"
            ]
          },
          "metadata": {
            "tags": []
          },
          "execution_count": 29
        },
        {
          "output_type": "display_data",
          "data": {
            "image/png": "[encoded data removed]",
            "text/plain": [
              "<Figure size 1440x360 with 1 Axes>"
            ]
          },
          "metadata": {
            "tags": [],
            "needs_background": "light"
          }
        }
      ]
    },
    {
      "cell_type": "markdown",
      "metadata": {
        "id": "A69CiDMAMppI",
        "colab_type": "text"
      },
      "source": [
        "### Outlier detection using Isolation Forest"
      ]
    },
    {
      "cell_type": "code",
      "metadata": {
        "id": "DBwgjpaSC7aI",
        "colab_type": "code",
        "colab": {}
      },
      "source": [
        "dfprice = df[(df['price'].isnull() == False)]['price']"
      ],
      "execution_count": null,
      "outputs": []
    },
    {
      "cell_type": "code",
      "metadata": {
        "id": "fI8kJIIv3Rhd",
        "colab_type": "code",
        "colab": {},
        "outputId": "08b16bd0-748c-4b7a-9102-a7f5d0d36847"
      },
      "source": [
        "#Import necessary libraries\n",
        "from sklearn.ensemble import IsolationForest\n",
        "#The required columns\n",
        "isolation_forest = IsolationForest(contamination='auto')\n",
        "isolation_forest.fit(dfprice.values.reshape(-1,1))\n",
        "\n",
        "xx = np.linspace(dfprice.min(), dfprice.max(), len(df)).reshape(-1,1)\n",
        "print(xx)\n",
        "anomaly_score = isolation_forest.decision_function(xx)\n",
        "outlier = isolation_forest.predict(xx)\n",
        "\n",
        "plt.figure(figsize=(25,5))\n",
        "plt.plot(xx, anomaly_score, label='anomaly score')\n",
        "plt.fill_between(xx.T[0], np.min(anomaly_score), np.max(anomaly_score), \n",
        "                     where=outlier==-1, color='r', \n",
        "                     alpha=.4, label='outlier region')\n",
        "plt.legend()\n",
        "plt.xlim(0, 100000)\n",
        "# plt.axis([0,100000,0,0])\n",
        "plt.title('price')"
      ],
      "execution_count": null,
      "outputs": [
        {
          "output_type": "stream",
          "text": [
            "[[0.00000000e+00]\n",
            " [5.78015500e+03]\n",
            " [1.15603100e+04]\n",
            " ...\n",
            " [2.14747209e+09]\n",
            " [2.14747787e+09]\n",
            " [2.14748365e+09]]\n"
          ],
          "name": "stdout"
        },
        {
          "output_type": "execute_result",
          "data": {
            "text/plain": [
              "Text(0.5, 1.0, 'price')"
            ]
          },
          "metadata": {
            "tags": []
          },
          "execution_count": 31
        },
        {
          "output_type": "display_data",
          "data": {
            "image/png": "[encoded data removed]",
            "text/plain": [
              "<Figure size 1800x360 with 1 Axes>"
            ]
          },
          "metadata": {
            "tags": [],
            "needs_background": "light"
          }
        }
      ]
    },
    {
      "cell_type": "markdown",
      "metadata": {
        "id": "YJn0d9hV_cn1",
        "colab_type": "text"
      },
      "source": [
        "If we see from the above plot, almost all data point above 12000 seems to come under outliers, but dropping all of those does not seem to be a feasible solution. We can also see that data points after 100000 have consistently very low anamoly score, so we can go ahead and drop those data points, and the remaining outliers can be handled further using transformation techniques. Also data points with price below 100 also seem to be very low as far as price of a used car is concerned, so we will also drop those data points which have price below 100."
      ]
    },
    {
      "cell_type": "code",
      "metadata": {
        "id": "DBqK3ai9MfXU",
        "colab_type": "code",
        "colab": {},
        "outputId": "8cf03309-d984-400a-e797-8ddb9c168372"
      },
      "source": [
        "sns.distplot(df[(df['price']>=100) & (df['price']<=100000)]['price'])"
      ],
      "execution_count": null,
      "outputs": [
        {
          "output_type": "execute_result",
          "data": {
            "text/plain": [
              "<matplotlib.axes._subplots.AxesSubplot at 0x1e714f46388>"
            ]
          },
          "metadata": {
            "tags": []
          },
          "execution_count": 32
        },
        {
          "output_type": "display_data",
          "data": {
            "image/png": "[encoded data removed]",
            "text/plain": [
              "<Figure size 432x288 with 1 Axes>"
            ]
          },
          "metadata": {
            "tags": [],
            "needs_background": "light"
          }
        }
      ]
    },
    {
      "cell_type": "code",
      "metadata": {
        "id": "5_RB_30uM_bv",
        "colab_type": "code",
        "colab": {},
        "outputId": "d94b7b4d-e562-429c-9459-ec4793d83754"
      },
      "source": [
        "df[(df['price']>=100) & (df['price']<=100000)].shape"
      ],
      "execution_count": null,
      "outputs": [
        {
          "output_type": "execute_result",
          "data": {
            "text/plain": [
              "(357805, 20)"
            ]
          },
          "metadata": {
            "tags": []
          },
          "execution_count": 33
        }
      ]
    },
    {
      "cell_type": "code",
      "metadata": {
        "id": "qtvL5oFkNBBQ",
        "colab_type": "code",
        "colab": {}
      },
      "source": [
        "df2 = df[(df['price']>=100) & (df['price']<=100000)]"
      ],
      "execution_count": null,
      "outputs": []
    },
    {
      "cell_type": "markdown",
      "metadata": {
        "id": "dDkZ2siBAbFA",
        "colab_type": "text"
      },
      "source": [
        "### Checking for Missing Values"
      ]
    },
    {
      "cell_type": "code",
      "metadata": {
        "id": "v-hGkLG_AbFB",
        "colab_type": "code",
        "colab": {},
        "outputId": "48ff0c1a-ce7d-4bef-aad1-105d387b01cb"
      },
      "source": [
        "get_missing_val_count_df(df2)"
      ],
      "execution_count": null,
      "outputs": [
        {
          "output_type": "execute_result",
          "data": {
            "text/html": [
              "<div>\n",
              "<style scoped>\n",
              "    .dataframe tbody tr th:only-of-type {\n",
              "        vertical-align: middle;\n",
              "    }\n",
              "\n",
              "    .dataframe tbody tr th {\n",
              "        vertical-align: top;\n",
              "    }\n",
              "\n",
              "    .dataframe thead th {\n",
              "        text-align: right;\n",
              "    }\n",
              "</style>\n",
              "<table border=\"1\" class=\"dataframe\">\n",
              "  <thead>\n",
              "    <tr style=\"text-align: right;\">\n",
              "      <th></th>\n",
              "      <th>count</th>\n",
              "    </tr>\n",
              "  </thead>\n",
              "  <tbody>\n",
              "    <tr>\n",
              "      <td>notRepairedDamage</td>\n",
              "      <td>65197</td>\n",
              "    </tr>\n",
              "    <tr>\n",
              "      <td>vehicleType</td>\n",
              "      <td>32947</td>\n",
              "    </tr>\n",
              "    <tr>\n",
              "      <td>fuelType</td>\n",
              "      <td>28773</td>\n",
              "    </tr>\n",
              "    <tr>\n",
              "      <td>model</td>\n",
              "      <td>17703</td>\n",
              "    </tr>\n",
              "    <tr>\n",
              "      <td>gearbox</td>\n",
              "      <td>16621</td>\n",
              "    </tr>\n",
              "    <tr>\n",
              "      <td>kilometer</td>\n",
              "      <td>0</td>\n",
              "    </tr>\n",
              "    <tr>\n",
              "      <td>postalCode</td>\n",
              "      <td>0</td>\n",
              "    </tr>\n",
              "    <tr>\n",
              "      <td>nrOfPictures</td>\n",
              "      <td>0</td>\n",
              "    </tr>\n",
              "    <tr>\n",
              "      <td>dateCreated</td>\n",
              "      <td>0</td>\n",
              "    </tr>\n",
              "    <tr>\n",
              "      <td>brand</td>\n",
              "      <td>0</td>\n",
              "    </tr>\n",
              "    <tr>\n",
              "      <td>monthOfRegistration</td>\n",
              "      <td>0</td>\n",
              "    </tr>\n",
              "    <tr>\n",
              "      <td>dateCrawled</td>\n",
              "      <td>0</td>\n",
              "    </tr>\n",
              "    <tr>\n",
              "      <td>name</td>\n",
              "      <td>0</td>\n",
              "    </tr>\n",
              "    <tr>\n",
              "      <td>powerPS</td>\n",
              "      <td>0</td>\n",
              "    </tr>\n",
              "    <tr>\n",
              "      <td>yearOfRegistration</td>\n",
              "      <td>0</td>\n",
              "    </tr>\n",
              "    <tr>\n",
              "      <td>abtest</td>\n",
              "      <td>0</td>\n",
              "    </tr>\n",
              "    <tr>\n",
              "      <td>price</td>\n",
              "      <td>0</td>\n",
              "    </tr>\n",
              "    <tr>\n",
              "      <td>offerType</td>\n",
              "      <td>0</td>\n",
              "    </tr>\n",
              "    <tr>\n",
              "      <td>seller</td>\n",
              "      <td>0</td>\n",
              "    </tr>\n",
              "    <tr>\n",
              "      <td>lastSeen</td>\n",
              "      <td>0</td>\n",
              "    </tr>\n",
              "  </tbody>\n",
              "</table>\n",
              "</div>"
            ],
            "text/plain": [
              "                     count\n",
              "notRepairedDamage    65197\n",
              "vehicleType          32947\n",
              "fuelType             28773\n",
              "model                17703\n",
              "gearbox              16621\n",
              "kilometer                0\n",
              "postalCode               0\n",
              "nrOfPictures             0\n",
              "dateCreated              0\n",
              "brand                    0\n",
              "monthOfRegistration      0\n",
              "dateCrawled              0\n",
              "name                     0\n",
              "powerPS                  0\n",
              "yearOfRegistration       0\n",
              "abtest                   0\n",
              "price                    0\n",
              "offerType                0\n",
              "seller                   0\n",
              "lastSeen                 0"
            ]
          },
          "metadata": {
            "tags": []
          },
          "execution_count": 35
        }
      ]
    },
    {
      "cell_type": "markdown",
      "metadata": {
        "id": "2m6ZwkWLAbFE",
        "colab_type": "text"
      },
      "source": [
        "No missing values for price feature."
      ]
    },
    {
      "cell_type": "markdown",
      "metadata": {
        "id": "jWWjc38fAbFF",
        "colab_type": "text"
      },
      "source": [
        "### Statistical Analysis\n",
        "Check for Normality - Shapiro Test\n",
        "\n",
        "H0 : Price is normally distributed"
      ]
    },
    {
      "cell_type": "code",
      "metadata": {
        "id": "fraFvNWJAbFG",
        "colab_type": "code",
        "colab": {},
        "outputId": "43a2a265-ff7b-446c-eaf4-7cc6405f47a1"
      },
      "source": [
        "from scipy.stats import shapiro\n",
        "shapiro(df2['price'])"
      ],
      "execution_count": null,
      "outputs": [
        {
          "output_type": "execute_result",
          "data": {
            "text/plain": [
              "(0.6681488752365112, 0.0)"
            ]
          },
          "metadata": {
            "tags": []
          },
          "execution_count": 36
        }
      ]
    },
    {
      "cell_type": "markdown",
      "metadata": {
        "id": "Hwrq4pB3AbFK",
        "colab_type": "text"
      },
      "source": [
        "As we can see the pvalue is less than 0.05. So we can reject the null hypothesis that price is normally distributed.\n",
        "We will use log transformation for converting price to normal distribution after we are done with any imputation in our dataset."
      ]
    },
    {
      "cell_type": "markdown",
      "metadata": {
        "id": "lSOr6lY4FJNF",
        "colab_type": "text"
      },
      "source": [
        "## Kilometers\n",
        "Number of kilometers car has driven"
      ]
    },
    {
      "cell_type": "code",
      "metadata": {
        "id": "TFfR4mpMFrQ8",
        "colab_type": "code",
        "colab": {},
        "outputId": "763a39a2-8e1c-4935-d4fa-9aa7677d159c"
      },
      "source": [
        "df2['kilometer'].describe()"
      ],
      "execution_count": null,
      "outputs": [
        {
          "output_type": "execute_result",
          "data": {
            "text/plain": [
              "count    357805.000000\n",
              "mean     125871.606042\n",
              "std       39527.680682\n",
              "min        5000.000000\n",
              "25%      125000.000000\n",
              "50%      150000.000000\n",
              "75%      150000.000000\n",
              "max      150000.000000\n",
              "Name: kilometer, dtype: float64"
            ]
          },
          "metadata": {
            "tags": []
          },
          "execution_count": 37
        }
      ]
    },
    {
      "cell_type": "code",
      "metadata": {
        "id": "a0bff1RxAbFO",
        "colab_type": "code",
        "colab": {},
        "outputId": "81d61dd7-3928-4687-9abf-2ad24923dc82"
      },
      "source": [
        "df2['kilometer'].value_counts()"
      ],
      "execution_count": null,
      "outputs": [
        {
          "output_type": "execute_result",
          "data": {
            "text/plain": [
              "150000    231509\n",
              "125000     37222\n",
              "100000     15349\n",
              "90000      12319\n",
              "80000      10859\n",
              "70000       9635\n",
              "60000       8563\n",
              "50000       7505\n",
              "40000       6295\n",
              "30000       5890\n",
              "20000       5452\n",
              "5000        5406\n",
              "10000       1801\n",
              "Name: kilometer, dtype: int64"
            ]
          },
          "metadata": {
            "tags": []
          },
          "execution_count": 38
        }
      ]
    },
    {
      "cell_type": "code",
      "metadata": {
        "id": "wIATAZxTDg9W",
        "colab_type": "code",
        "colab": {},
        "outputId": "dc12fa18-207d-4f70-a307-474f8dbfe07e"
      },
      "source": [
        "df2['kilometer'].value_counts().plot(kind = 'bar')"
      ],
      "execution_count": null,
      "outputs": [
        {
          "output_type": "execute_result",
          "data": {
            "text/plain": [
              "<matplotlib.axes._subplots.AxesSubplot at 0x1e71503d7c8>"
            ]
          },
          "metadata": {
            "tags": []
          },
          "execution_count": 39
        },
        {
          "output_type": "display_data",
          "data": {
            "image/png": "[encoded data removed]",
            "text/plain": [
              "<Figure size 432x288 with 1 Axes>"
            ]
          },
          "metadata": {
            "tags": [],
            "needs_background": "light"
          }
        }
      ]
    },
    {
      "cell_type": "markdown",
      "metadata": {
        "id": "4ZkxfdxcAbFY",
        "colab_type": "text"
      },
      "source": [
        "Seems like the website had certain options from which a user could select the number of kilometers the car has been driven instead of providing a place to put in an exact number. We could use this as a categorical variable instead of continous variable."
      ]
    },
    {
      "cell_type": "markdown",
      "metadata": {
        "id": "ZZObEymJAbFZ",
        "colab_type": "text"
      },
      "source": [
        "### Statistical Analysis\n",
        "Is there any discrepancy in avg price with respect to Kilometers.\n",
        "\n",
        "H0 : avg_price_5000_km = avg_price_10000_km = avg_price_20000_km = avg_price_30000_km = ..... = avg_price_150000_km\n",
        "\n",
        "H1 : avg_price_5000_km != avg_price_10000_km != avg_price_20000_km != avg_price_30000_km != ..... != avg_price_150000_km"
      ]
    },
    {
      "cell_type": "code",
      "metadata": {
        "id": "wG0dOYbTAbFa",
        "colab_type": "code",
        "colab": {}
      },
      "source": [
        "from scipy.stats import f_oneway\n",
        "def oneway_posthoc(i):\n",
        "    cat = {}\n",
        "    for j in range(df2[i].nunique()):\n",
        "        if pd.isna(df2[i].unique()[j]) == False:\n",
        "            cat[df2[i].unique()[j]] = df2[df2[i] == df2[i].unique()[j]]['price']\n",
        "    tstat,pval = f_oneway(*list(cat.values()))\n",
        "    print(f'pvalue for {i} is {pval}')\n",
        "    print()\n",
        "    for k in cat:\n",
        "        print(f'Avg price of car for {i} = {k} is ',cat[k].mean())"
      ],
      "execution_count": null,
      "outputs": []
    },
    {
      "cell_type": "code",
      "metadata": {
        "id": "LGeV6FM8AbFf",
        "colab_type": "code",
        "colab": {},
        "outputId": "32aaf4ed-c14f-4745-b4b9-bd9e7d9575fe"
      },
      "source": [
        "oneway_posthoc('kilometer')"
      ],
      "execution_count": null,
      "outputs": [
        {
          "output_type": "stream",
          "text": [
            "pvalue for kilometer is 0.0\n",
            "\n",
            "Avg price of car for kilometer = 150000 is  3766.229239468012\n",
            "Avg price of car for kilometer = 125000 is  6233.0077910912905\n",
            "Avg price of car for kilometer = 90000 is  8530.984820196445\n",
            "Avg price of car for kilometer = 30000 is  15513.761460101867\n",
            "Avg price of car for kilometer = 70000 is  10783.866424494032\n",
            "Avg price of car for kilometer = 5000 is  7055.269330373659\n",
            "Avg price of car for kilometer = 100000 is  7712.39220796143\n",
            "Avg price of car for kilometer = 60000 is  11755.809879715052\n",
            "Avg price of car for kilometer = 20000 is  16269.871423330887\n",
            "Avg price of car for kilometer = 80000 is  9449.329404180864\n",
            "Avg price of car for kilometer = 50000 is  13182.09926715523\n",
            "Avg price of car for kilometer = 40000 is  14822.27561556791\n",
            "Avg price of car for kilometer = 10000 is  20042.599111604664\n"
          ],
          "name": "stdout"
        }
      ]
    },
    {
      "cell_type": "markdown",
      "metadata": {
        "id": "0zAOrPL1AbFi",
        "colab_type": "text"
      },
      "source": [
        "We can see from the oneway test that the price of used car is affected by kilometers as the pvalue is less than 0.05"
      ]
    },
    {
      "cell_type": "code",
      "metadata": {
        "id": "qZ3rJ8ViAbFk",
        "colab_type": "code",
        "colab": {},
        "outputId": "5572260c-7959-41a6-a919-1a730fcec568"
      },
      "source": [
        "df2.boxplot(column='price',by = 'kilometer')"
      ],
      "execution_count": null,
      "outputs": [
        {
          "output_type": "execute_result",
          "data": {
            "text/plain": [
              "<matplotlib.axes._subplots.AxesSubplot at 0x1e71a8c41c8>"
            ]
          },
          "metadata": {
            "tags": []
          },
          "execution_count": 42
        },
        {
          "output_type": "display_data",
          "data": {
            "image/png": "[encoded data removed]",
            "text/plain": [
              "<Figure size 432x288 with 1 Axes>"
            ]
          },
          "metadata": {
            "tags": [],
            "needs_background": "light"
          }
        }
      ]
    },
    {
      "cell_type": "markdown",
      "metadata": {
        "id": "z9wkqzTRAbFn",
        "colab_type": "text"
      },
      "source": [
        "As we can see quite evidently that the average price of a used car starts decreasing as the number of kilometers it has run increases."
      ]
    },
    {
      "cell_type": "markdown",
      "metadata": {
        "id": "0IK9KbkaX_kM",
        "colab_type": "text"
      },
      "source": [
        "### NotRepairedDamaged \n",
        "If the car has a damage which is not repaired yet"
      ]
    },
    {
      "cell_type": "code",
      "metadata": {
        "id": "xlv85S79XROo",
        "colab_type": "code",
        "colab": {},
        "outputId": "10f1aa1b-5fb6-410d-8c7f-beed998bb13b"
      },
      "source": [
        "df2['notRepairedDamage'].describe()"
      ],
      "execution_count": null,
      "outputs": [
        {
          "output_type": "execute_result",
          "data": {
            "text/plain": [
              "count     292608\n",
              "unique         2\n",
              "top           No\n",
              "freq      258897\n",
              "Name: notRepairedDamage, dtype: object"
            ]
          },
          "metadata": {
            "tags": []
          },
          "execution_count": 43
        }
      ]
    },
    {
      "cell_type": "code",
      "metadata": {
        "id": "6hC91kyrXVdN",
        "colab_type": "code",
        "colab": {},
        "outputId": "c3cef731-107b-4970-8acb-944b8a0bfee8"
      },
      "source": [
        "df2['notRepairedDamage'].value_counts(dropna = False).plot(kind = 'bar')"
      ],
      "execution_count": null,
      "outputs": [
        {
          "output_type": "execute_result",
          "data": {
            "text/plain": [
              "<matplotlib.axes._subplots.AxesSubplot at 0x1e71aa56148>"
            ]
          },
          "metadata": {
            "tags": []
          },
          "execution_count": 44
        },
        {
          "output_type": "display_data",
          "data": {
            "image/png": "[encoded data removed]",
            "text/plain": [
              "<Figure size 432x288 with 1 Axes>"
            ]
          },
          "metadata": {
            "tags": [],
            "needs_background": "light"
          }
        }
      ]
    },
    {
      "cell_type": "markdown",
      "metadata": {
        "id": "rG7EaDweAbFy",
        "colab_type": "text"
      },
      "source": [
        "Imputation of the values for notRepairedDamaged does not really make sense because we will not be able to determine whether the car was damaged or not by using other features in the dataset. So we will drop the NA values."
      ]
    },
    {
      "cell_type": "code",
      "metadata": {
        "id": "UTttbLxZAbFy",
        "colab_type": "code",
        "colab": {}
      },
      "source": [
        "df2 = df2[df2['notRepairedDamage'].isnull() == False]"
      ],
      "execution_count": null,
      "outputs": []
    },
    {
      "cell_type": "markdown",
      "metadata": {
        "id": "XF6ICSk9AbF1",
        "colab_type": "text"
      },
      "source": [
        "### Statistical Analysis\n",
        "Is there any discrepancy in avg price with respect to notRepairedDamage.\n",
        "\n",
        "H0 : avg_price_notRepaired = avg_price_Repaired\n",
        "\n",
        "H1 : avg_price_notRepaired != avg_price_Repaired"
      ]
    },
    {
      "cell_type": "code",
      "metadata": {
        "id": "Mro-4W0NAbF2",
        "colab_type": "code",
        "colab": {}
      },
      "source": [
        "price_repaired = df2.loc[df2['notRepairedDamage'] == 'No','price']\n",
        "price_notRepaired = df2.loc[df2['notRepairedDamage'] == 'Yes','price']"
      ],
      "execution_count": null,
      "outputs": []
    },
    {
      "cell_type": "markdown",
      "metadata": {
        "id": "ZxVk8WxvAbF4",
        "colab_type": "text"
      },
      "source": [
        "Shapiro Test - Test for Normality"
      ]
    },
    {
      "cell_type": "code",
      "metadata": {
        "id": "LGcR_qGuAbF5",
        "colab_type": "code",
        "colab": {},
        "outputId": "8648484b-e313-4f45-c2bf-8b72da3a9a0a"
      },
      "source": [
        "print(shapiro(price_repaired))\n",
        "print(shapiro(price_notRepaired))"
      ],
      "execution_count": null,
      "outputs": [
        {
          "output_type": "stream",
          "text": [
            "(0.7012584805488586, 0.0)\n",
            "(0.49935317039489746, 0.0)\n"
          ],
          "name": "stdout"
        }
      ]
    },
    {
      "cell_type": "markdown",
      "metadata": {
        "id": "R5sky-DhAbF8",
        "colab_type": "text"
      },
      "source": [
        "The prices for both repaired and not repaired cars is not normally distributed as pvalue is less than 0.05."
      ]
    },
    {
      "cell_type": "markdown",
      "metadata": {
        "id": "GFKmLW_GAbF8",
        "colab_type": "text"
      },
      "source": [
        "Bartlett Test - Test for equal variance"
      ]
    },
    {
      "cell_type": "code",
      "metadata": {
        "id": "CRH-EptVAbF9",
        "colab_type": "code",
        "colab": {},
        "outputId": "2ebe5e75-bbcf-4647-9355-e7749e54d3db"
      },
      "source": [
        "from scipy.stats import bartlett\n",
        "print(bartlett(price_repaired,price_notRepaired))"
      ],
      "execution_count": null,
      "outputs": [
        {
          "output_type": "stream",
          "text": [
            "BartlettResult(statistic=24690.66594067853, pvalue=0.0)\n"
          ],
          "name": "stdout"
        }
      ]
    },
    {
      "cell_type": "markdown",
      "metadata": {
        "id": "Hxea6-wiAbGA",
        "colab_type": "text"
      },
      "source": [
        "The variance in price for repaired car is not equal to that in a not repaired car as pvallue is less that 0.05. So for a non parametric independent 2 sample t-test we will go with manwhitneyu test."
      ]
    },
    {
      "cell_type": "markdown",
      "metadata": {
        "id": "_0po-DK6AbGD",
        "colab_type": "text"
      },
      "source": [
        "Manwhitneyu Test\n",
        "\n",
        "H0 : Average price of repaired car is equal to average price of not repaired car."
      ]
    },
    {
      "cell_type": "code",
      "metadata": {
        "id": "pw191Or9AbGE",
        "colab_type": "code",
        "colab": {},
        "outputId": "73685d1e-9091-4499-edd5-612850b7da60"
      },
      "source": [
        "from scipy.stats import mannwhitneyu\n",
        "print(mannwhitneyu(price_repaired,price_notRepaired))"
      ],
      "execution_count": null,
      "outputs": [
        {
          "output_type": "stream",
          "text": [
            "MannwhitneyuResult(statistic=1881704876.5, pvalue=0.0)\n"
          ],
          "name": "stdout"
        }
      ]
    },
    {
      "cell_type": "markdown",
      "metadata": {
        "id": "0wy_OU75AbGI",
        "colab_type": "text"
      },
      "source": [
        "We can see from the manwhitneyu test that the price of used car is affected by the fact that whether its repaired or not as the pvalue is less than 0.05"
      ]
    },
    {
      "cell_type": "markdown",
      "metadata": {
        "id": "bzOeTnJQAbGJ",
        "colab_type": "text"
      },
      "source": [
        "Post hoc analysis"
      ]
    },
    {
      "cell_type": "code",
      "metadata": {
        "id": "2j6GHrZtAbGK",
        "colab_type": "code",
        "colab": {},
        "outputId": "c8a90bb9-f6d3-4d15-d387-a46cf166a6e4"
      },
      "source": [
        "print('Avg price for car which has been repaired : ',price_repaired.mean())\n",
        "print('Avg price for car which has not been repaired : ',price_notRepaired.mean())"
      ],
      "execution_count": null,
      "outputs": [
        {
          "output_type": "stream",
          "text": [
            "Avg price for car which has been repaired :  6925.99075694195\n",
            "Avg price for car which has not been repaired :  2250.0218326362315\n"
          ],
          "name": "stdout"
        }
      ]
    },
    {
      "cell_type": "code",
      "metadata": {
        "id": "NjnbgFY9AbGS",
        "colab_type": "code",
        "colab": {},
        "outputId": "67ae8526-007f-4009-a144-e4e8ab49d36a"
      },
      "source": [
        "df2.boxplot(column='price',by = 'notRepairedDamage')"
      ],
      "execution_count": null,
      "outputs": [
        {
          "output_type": "execute_result",
          "data": {
            "text/plain": [
              "<matplotlib.axes._subplots.AxesSubplot at 0x1e71aaaea48>"
            ]
          },
          "metadata": {
            "tags": []
          },
          "execution_count": 51
        },
        {
          "output_type": "display_data",
          "data": {
            "image/png": "[encoded data removed]",
            "text/plain": [
              "<Figure size 432x288 with 1 Axes>"
            ]
          },
          "metadata": {
            "tags": [],
            "needs_background": "light"
          }
        }
      ]
    },
    {
      "cell_type": "markdown",
      "metadata": {
        "id": "FzCxWFKNAbGY",
        "colab_type": "text"
      },
      "source": [
        "As we can see quite evidently that the average price of a used car which has been repaired is higher that that which has not been repaired."
      ]
    },
    {
      "cell_type": "markdown",
      "metadata": {
        "id": "REyUGAA0ZsQy",
        "colab_type": "text"
      },
      "source": [
        "### VehicleType"
      ]
    },
    {
      "cell_type": "code",
      "metadata": {
        "id": "QofmY9fbYzfv",
        "colab_type": "code",
        "colab": {},
        "outputId": "cc17fd2d-59fe-456f-a1d4-6a01b4497c52"
      },
      "source": [
        "df2['vehicleType'].describe()"
      ],
      "execution_count": null,
      "outputs": [
        {
          "output_type": "execute_result",
          "data": {
            "text/plain": [
              "count        276862\n",
              "unique            8\n",
              "top       limousine\n",
              "freq          80413\n",
              "Name: vehicleType, dtype: object"
            ]
          },
          "metadata": {
            "tags": []
          },
          "execution_count": 52
        }
      ]
    },
    {
      "cell_type": "code",
      "metadata": {
        "id": "eZEko6mrZztu",
        "colab_type": "code",
        "colab": {},
        "outputId": "d2f0bbc1-3f6b-47a9-b943-3fead75ccbb2"
      },
      "source": [
        "df2['vehicleType'].value_counts(dropna = False).plot(kind = 'bar')"
      ],
      "execution_count": null,
      "outputs": [
        {
          "output_type": "execute_result",
          "data": {
            "text/plain": [
              "<matplotlib.axes._subplots.AxesSubplot at 0x1e71ad0a048>"
            ]
          },
          "metadata": {
            "tags": []
          },
          "execution_count": 53
        },
        {
          "output_type": "display_data",
          "data": {
            "image/png": "[encoded data removed]",
            "text/plain": [
              "<Figure size 432x288 with 1 Axes>"
            ]
          },
          "metadata": {
            "tags": [],
            "needs_background": "light"
          }
        }
      ]
    },
    {
      "cell_type": "markdown",
      "metadata": {
        "id": "uEST8XAxAbGl",
        "colab_type": "text"
      },
      "source": [
        "We can impute the values of vehicleType depending on model,brand and price of the car."
      ]
    },
    {
      "cell_type": "markdown",
      "metadata": {
        "id": "Zoey4XnaAbGm",
        "colab_type": "text"
      },
      "source": [
        "### Statistical Analysis\n",
        "Is there any discrepancy in avg price with respect to vehicleType.\n",
        "\n",
        "H0 : avg_price_limousine = avg_price_small_car = avg_price_microbus = ..... = avg_price_other\n",
        "\n",
        "H1 : avg_price_limousine != avg_price_small_car != avg_price_microbus != ..... != avg_price_other"
      ]
    },
    {
      "cell_type": "code",
      "metadata": {
        "id": "9H24VXQ0AbGn",
        "colab_type": "code",
        "colab": {},
        "outputId": "bb389814-e094-479c-be65-38c8960b9c1d"
      },
      "source": [
        "oneway_posthoc('vehicleType')"
      ],
      "execution_count": null,
      "outputs": [
        {
          "output_type": "stream",
          "text": [
            "pvalue for vehicleType is 0.0\n",
            "\n",
            "Avg price of car for vehicleType = coupe is  11298.496694267924\n",
            "Avg price of car for vehicleType = small car is  3071.054518579089\n",
            "Avg price of car for vehicleType = limousine is  6350.043052740229\n",
            "Avg price of car for vehicleType = convertible is  10689.742659671072\n",
            "Avg price of car for vehicleType = microbus is  6259.362793594306\n",
            "Avg price of car for vehicleType = suv is  13637.686801756683\n",
            "Avg price of car for vehicleType = bus is  7007.458628841608\n"
          ],
          "name": "stdout"
        }
      ]
    },
    {
      "cell_type": "markdown",
      "metadata": {
        "id": "PvKv3pOBAbGr",
        "colab_type": "text"
      },
      "source": [
        "We can see from the oneway test that the price of used car is affected by vehcleType as the pvalue is less than 0.05"
      ]
    },
    {
      "cell_type": "code",
      "metadata": {
        "id": "G-P_ujarAbGr",
        "colab_type": "code",
        "colab": {},
        "outputId": "f47b2d1f-52f7-409e-c8b7-d096587eec42"
      },
      "source": [
        "df2.boxplot(column='price',by = 'vehicleType')"
      ],
      "execution_count": null,
      "outputs": [
        {
          "output_type": "execute_result",
          "data": {
            "text/plain": [
              "<matplotlib.axes._subplots.AxesSubplot at 0x1e71ad86b08>"
            ]
          },
          "metadata": {
            "tags": []
          },
          "execution_count": 55
        },
        {
          "output_type": "display_data",
          "data": {
            "image/png": "[encoded data removed]",
            "text/plain": [
              "<Figure size 432x288 with 1 Axes>"
            ]
          },
          "metadata": {
            "tags": [],
            "needs_background": "light"
          }
        }
      ]
    },
    {
      "cell_type": "markdown",
      "metadata": {
        "id": "93OrAST1AbGx",
        "colab_type": "text"
      },
      "source": [
        "As we can see quite evidently that the average price of a used car varies significantly for different type of vehicles."
      ]
    },
    {
      "cell_type": "markdown",
      "metadata": {
        "id": "j2mrndznaYDb",
        "colab_type": "text"
      },
      "source": [
        "### FuelType"
      ]
    },
    {
      "cell_type": "code",
      "metadata": {
        "id": "6gfuqZYvaYDl",
        "colab_type": "code",
        "colab": {},
        "outputId": "b5169bc7-d4a2-41a3-f003-4de8c41e9985"
      },
      "source": [
        "df2['fuelType'].describe()"
      ],
      "execution_count": null,
      "outputs": [
        {
          "output_type": "execute_result",
          "data": {
            "text/plain": [
              "count     277281\n",
              "unique         7\n",
              "top       petrol\n",
              "freq      180463\n",
              "Name: fuelType, dtype: object"
            ]
          },
          "metadata": {
            "tags": []
          },
          "execution_count": 56
        }
      ]
    },
    {
      "cell_type": "code",
      "metadata": {
        "id": "GBCIPP2baYDv",
        "colab_type": "code",
        "colab": {},
        "outputId": "be21b030-78f7-4e0d-a2ad-c7f0e65724bd"
      },
      "source": [
        "print(df2['fuelType'].value_counts(dropna = False))\n",
        "df2['fuelType'].value_counts(dropna = False).plot(kind = 'bar')"
      ],
      "execution_count": null,
      "outputs": [
        {
          "output_type": "stream",
          "text": [
            "petrol      180463\n",
            "diesel       91574\n",
            "NaN          15327\n",
            "lpg           4311\n",
            "cng            504\n",
            "hybrid         250\n",
            "other           94\n",
            "electric        85\n",
            "Name: fuelType, dtype: int64\n"
          ],
          "name": "stdout"
        },
        {
          "output_type": "execute_result",
          "data": {
            "text/plain": [
              "<matplotlib.axes._subplots.AxesSubplot at 0x1e71b0bd388>"
            ]
          },
          "metadata": {
            "tags": []
          },
          "execution_count": 57
        },
        {
          "output_type": "display_data",
          "data": {
            "image/png": "[encoded data removed]",
            "text/plain": [
              "<Figure size 432x288 with 1 Axes>"
            ]
          },
          "metadata": {
            "tags": [],
            "needs_background": "light"
          }
        }
      ]
    },
    {
      "cell_type": "markdown",
      "metadata": {
        "id": "W52wL74vAbG8",
        "colab_type": "text"
      },
      "source": [
        "Imputation of the values for fuelType does not really make sense because we will not be able to determine what type of fuelType the car belongs to by using other features in the dataset. So we will drop the NA values."
      ]
    },
    {
      "cell_type": "code",
      "metadata": {
        "id": "JXtberMHAbG9",
        "colab_type": "code",
        "colab": {}
      },
      "source": [
        "df2 = df2[df2['fuelType'].isnull() == False]"
      ],
      "execution_count": null,
      "outputs": []
    },
    {
      "cell_type": "markdown",
      "metadata": {
        "id": "EXaw2DUDAbG_",
        "colab_type": "text"
      },
      "source": [
        "### Statistical Analysis\n",
        "Is there any discrepancy in avg price with respect to fuelType.\n",
        "\n",
        "H0 : avg_price_petrol_car = avg_price_diesel_car = avg_price_lpg_car = ..... = avg_price_other_fuelType\n",
        "\n",
        "H1 : avg_price_petrol_car != avg_price_diesel_car != avg_price_lpg_car != ..... != avg_price_other_fuelType"
      ]
    },
    {
      "cell_type": "code",
      "metadata": {
        "id": "q9ca-E_EAbG_",
        "colab_type": "code",
        "colab": {},
        "outputId": "c53839cb-5d80-4806-e011-f51b74e12962"
      },
      "source": [
        "oneway_posthoc('fuelType')"
      ],
      "execution_count": null,
      "outputs": [
        {
          "output_type": "stream",
          "text": [
            "pvalue for fuelType is 0.0\n",
            "\n",
            "Avg price of car for fuelType = diesel is  9086.161334003102\n",
            "Avg price of car for fuelType = petrol is  5279.193408067028\n",
            "Avg price of car for fuelType = lpg is  4670.095105543957\n",
            "Avg price of car for fuelType = other is  5353.063829787234\n",
            "Avg price of car for fuelType = hybrid is  13597.392\n",
            "Avg price of car for fuelType = cng is  4991.855158730159\n",
            "Avg price of car for fuelType = electric is  12957.552941176471\n"
          ],
          "name": "stdout"
        }
      ]
    },
    {
      "cell_type": "markdown",
      "metadata": {
        "id": "1SrLoVKdAbHE",
        "colab_type": "text"
      },
      "source": [
        "We can see from the oneway test that the price of used car is affected by fuelType as the pvalue is less than 0.05"
      ]
    },
    {
      "cell_type": "code",
      "metadata": {
        "id": "b2bAZuzRAbHE",
        "colab_type": "code",
        "colab": {},
        "outputId": "547d542e-62f8-4fd6-8058-b48e0b8580ec"
      },
      "source": [
        "df2.boxplot(column='price',by = 'fuelType')"
      ],
      "execution_count": null,
      "outputs": [
        {
          "output_type": "execute_result",
          "data": {
            "text/plain": [
              "<matplotlib.axes._subplots.AxesSubplot at 0x1e71b130ec8>"
            ]
          },
          "metadata": {
            "tags": []
          },
          "execution_count": 60
        },
        {
          "output_type": "display_data",
          "data": {
            "image/png": "[encoded data removed]",
            "text/plain": [
              "<Figure size 432x288 with 1 Axes>"
            ]
          },
          "metadata": {
            "tags": [],
            "needs_background": "light"
          }
        }
      ]
    },
    {
      "cell_type": "markdown",
      "metadata": {
        "id": "UBcG8V7LAbHH",
        "colab_type": "text"
      },
      "source": [
        "As we can see quite evidently that the average price of a used car varies significantly for different fueltypes of vehicles."
      ]
    },
    {
      "cell_type": "markdown",
      "metadata": {
        "id": "0Lu6In-5aypo",
        "colab_type": "text"
      },
      "source": [
        "### Model"
      ]
    },
    {
      "cell_type": "code",
      "metadata": {
        "id": "xEu45fiFayqI",
        "colab_type": "code",
        "colab": {},
        "outputId": "9009e5ba-ad06-409f-d485-a21805030c3a"
      },
      "source": [
        "df2['model'].describe()"
      ],
      "execution_count": null,
      "outputs": [
        {
          "output_type": "execute_result",
          "data": {
            "text/plain": [
              "count     269435\n",
              "unique       250\n",
              "top         golf\n",
              "freq       22025\n",
              "Name: model, dtype: object"
            ]
          },
          "metadata": {
            "tags": []
          },
          "execution_count": 61
        }
      ]
    },
    {
      "cell_type": "code",
      "metadata": {
        "id": "2kUx3dzkayqY",
        "colab_type": "code",
        "colab": {},
        "outputId": "255032b1-185d-44dc-af9a-1f23b7e3bb47"
      },
      "source": [
        "plt.figure(figsize=(40,8))\n",
        "df2['model'].value_counts(dropna = False).plot(kind = 'bar')"
      ],
      "execution_count": null,
      "outputs": [
        {
          "output_type": "execute_result",
          "data": {
            "text/plain": [
              "<matplotlib.axes._subplots.AxesSubplot at 0x1e71b175188>"
            ]
          },
          "metadata": {
            "tags": []
          },
          "execution_count": 62
        },
        {
          "output_type": "display_data",
          "data": {
            "image/png": "[encoded data removed]",
            "text/plain": [
              "<Figure size 2880x576 with 1 Axes>"
            ]
          },
          "metadata": {
            "tags": [],
            "needs_background": "light"
          }
        }
      ]
    },
    {
      "cell_type": "markdown",
      "metadata": {
        "id": "vJfMeLjkAbHM",
        "colab_type": "text"
      },
      "source": [
        "Imputation of the values for model does not really make sense because we will not be able to determine what type of model the car belongs to by using other features in the dataset. So we will drop the NA values."
      ]
    },
    {
      "cell_type": "code",
      "metadata": {
        "id": "wLsaHyLqAbHN",
        "colab_type": "code",
        "colab": {}
      },
      "source": [
        "df2 = df2[df2['model'].isnull() == False]"
      ],
      "execution_count": null,
      "outputs": []
    },
    {
      "cell_type": "markdown",
      "metadata": {
        "id": "--Nd0aPZAbHP",
        "colab_type": "text"
      },
      "source": [
        "### Statistical Analysis\n",
        "Is there any discrepancy in avg price with respect to model.\n",
        "\n",
        "H0 : avg_price_golf = avg_price_3s = avg_price_polo = ..... = avg_price_discovery_sport\n",
        "\n",
        "H1 : avg_price_golf != avg_price_3s != avg_price_polo != ..... != avg_price_discovery_sport"
      ]
    },
    {
      "cell_type": "code",
      "metadata": {
        "id": "KRdqDQwJAbHQ",
        "colab_type": "code",
        "colab": {},
        "outputId": "abdd4f13-69f1-494c-9d27-85e9eb86981d"
      },
      "source": [
        "oneway_posthoc('model')"
      ],
      "execution_count": null,
      "outputs": [
        {
          "output_type": "stream",
          "text": [
            "pvalue for model is 0.0\n",
            "\n",
            "Avg price of car for model = golf is  5553.614982973893\n",
            "Avg price of car for model = fabia is  4409.561997703789\n",
            "Avg price of car for model = 3s is  6543.775203072854\n",
            "Avg price of car for model = 2series is  3426.5606214977074\n",
            "Avg price of car for model = 3series is  3655.3863885839737\n",
            "Avg price of car for model = passat is  5525.272018706158\n",
            "Avg price of car for model = navara is  13893.712871287129\n",
            "Avg price of car for model = twingo is  1658.012534393152\n",
            "Avg price of car for model = c_max is  6575.927586206896\n",
            "Avg price of car for model = aclass is  4484.408652440807\n",
            "Avg price of car for model = scirocco is  11925.33088235294\n",
            "Avg price of car for model = 5s is  8771.478615071283\n",
            "Avg price of car for model = meriva is  4825.797740112995\n",
            "Avg price of car for model = arosa is  1211.047619047619\n",
            "Avg price of car for model = other is  7558.752986886839\n",
            "Avg price of car for model = civic is  3384.0\n",
            "Avg price of car for model = transporter is  11193.689638669539\n",
            "Avg price of car for model = punto is  1882.383370786517\n",
            "Avg price of car for model = eclass is  8929.844016736402\n",
            "Avg price of car for model = kangoo is  2749.0727802037845\n",
            "Avg price of car for model = one is  7632.993324432577\n",
            "Avg price of car for model = clio is  2580.1772819472617\n",
            "Avg price of car for model = 1s is  11504.598047660063\n",
            "Avg price of car for model = bclass is  10640.02712264151\n",
            "Avg price of car for model = astra is  3531.780564658432\n",
            "Avg price of car for model = fortwo is  3833.5489921612543\n",
            "Avg price of car for model = a8 is  10995.902953586497\n",
            "Avg price of car for model = jetta is  5595.472440944882\n",
            "Avg price of car for model = polo is  3100.583951155691\n",
            "Avg price of car for model = fiesta is  3077.376464960536\n",
            "Avg price of car for model = cclass is  7421.9224784269345\n",
            "Avg price of car for model = micra is  2087.382305194805\n",
            "Avg price of car for model = vito is  7270.647867950482\n",
            "Avg price of car for model = sprinter is  6971.166666666667\n",
            "Avg price of car for model = 156 is  1662.65\n",
            "Avg price of car for model = escort is  1314.8368932038834\n",
            "Avg price of car for model = forester is  5945.637168141593\n",
            "Avg price of car for model = scenic is  2752.928171641791\n",
            "Avg price of car for model = a1 is  14403.191379310345\n",
            "Avg price of car for model = combo is  2801.0990712074304\n",
            "Avg price of car for model = focus is  4126.131879991366\n",
            "Avg price of car for model = tt is  14162.68044788975\n",
            "Avg price of car for model = a6 is  9092.654085441725\n",
            "Avg price of car for model = jazz is  4778.0970149253735\n",
            "Avg price of car for model = slk is  11560.28205128205\n",
            "Avg price of car for model = 7s is  10118.36031927024\n",
            "Avg price of car for model = 80 is  1623.3128205128205\n",
            "Avg price of car for model = 147 is  2371.355603448276\n",
            "Avg price of car for model = freelander is  24665.06103286385\n",
            "Avg price of car for model = zseries is  14086.583333333334\n",
            "Avg price of car for model = sportage is  13388.490842490843\n",
            "Avg price of car for model = v40 is  1977.746003552398\n",
            "Avg price of car for model = ka is  4122.118155619596\n",
            "Avg price of car for model = mustang is  21004.447488584476\n",
            "Avg price of car for model = eos is  11639.325102880659\n",
            "Avg price of car for model = a4 is  7386.246585640897\n",
            "Avg price of car for model = touran is  8057.8407552547205\n",
            "Avg price of car for model = getz is  2090.5714285714284\n",
            "Avg price of car for model = insignia is  12790.718446601943\n",
            "Avg price of car for model = a3 is  8368.885875706215\n",
            "Avg price of car for model = megane is  3703.7856472795497\n",
            "Avg price of car for model = lupo is  1503.657312466271\n",
            "Avg price of car for model = r19 is  990.8815789473684\n",
            "Avg price of car for model = corsa is  2284.7743690669136\n",
            "Avg price of car for model = colt is  2751.801886792453\n",
            "Avg price of car for model = vectra is  1929.212543554007\n",
            "Avg price of car for model = berlingo is  3591.3996889580094\n",
            "Avg price of car for model = mclass is  13370.6207253886\n",
            "Avg price of car for model = tiguan is  17508.492874109263\n",
            "Avg price of car for model = iseries is  8768.762071992976\n",
            "Avg price of car for model = sharan is  6903.1309121621625\n",
            "Avg price of car for model = 6series is  4025.197445972495\n",
            "Avg price of car for model = c4 is  6281.894594594594\n",
            "Avg price of car for model = panda is  3291.7703984819736\n",
            "Avg price of car for model = up is  8074.702875399361\n",
            "Avg price of car for model = seicento is  881.1351981351982\n",
            "Avg price of car for model = 6s is  8584.181415929204\n",
            "Avg price of car for model = 5series is  8550.26735218509\n",
            "Avg price of car for model = yeti is  14707.502617801047\n",
            "Avg price of car for model = octavia is  7813.570118662352\n",
            "Avg price of car for model = zafira is  4047.0352082438817\n",
            "Avg price of car for model = mii is  7503.1973684210525\n",
            "Avg price of car for model = rxseries is  5899.788617886179\n",
            "Avg price of car for model = mondeo is  3186.374139250191\n",
            "Avg price of car for model = ceed is  23428.650485436894\n",
            "Avg price of car for model = mode is  3294.0944881889764\n",
            "Avg price of car for model = fox is  2933.56369982548\n",
            "Avg price of car for model = matiz is  1789.4877300613498\n",
            "Avg price of car for model = beetle is  7795.008230452675\n",
            "Avg price of car for model = rio is  4923.251700680272\n",
            "Avg price of car for model = touareg is  16322.012738853504\n",
            "Avg price of car for model = logan is  3733.4666666666667\n",
            "Avg price of car for model = omega is  1275.9412393162393\n",
            "Avg price of car for model = cuore is  1237.3937007874015\n",
            "Avg price of car for model = s_max is  10940.728606356968\n",
            "Avg price of car for model = altea is  4056.0226537216827\n",
            "Avg price of car for model = xseries is  18330.55099081682\n",
            "Avg price of car for model = a5 is  21536.867965367965\n",
            "Avg price of car for model = galaxy is  4394.869461077844\n",
            "Avg price of car for model = c3 is  4072.158767772512\n",
            "Avg price of car for model = viano is  18783.0207253886\n",
            "Avg price of car for model = great is  12105.67787839586\n",
            "Avg price of car for model = avensis is  5850.43388429752\n",
            "Avg price of car for model = sl is  22208.490265486726\n",
            "Avg price of car for model = roomster is  7009.073469387755\n",
            "Avg price of car for model = q5 is  27281.348946135833\n",
            "Avg price of car for model = Beetle is  9397.629770992366\n",
            "Avg price of car for model = santa is  7085.716363636364\n",
            "Avg price of car for model = cooper is  11350.569358178054\n",
            "Avg price of car for model = leon is  8379.625\n",
            "Avg price of car for model = caddy is  7471.851851851852\n",
            "Avg price of car for model = clk is  7024.49898989899\n",
            "Avg price of car for model = primera is  1602.568888888889\n",
            "Avg price of car for model = 4series is  3867.01\n",
            "Avg price of car for model = espace is  2765.310096153846\n",
            "Avg price of car for model = exeo is  11310.725274725275\n",
            "Avg price of car for model = discovery is  11809.806818181818\n",
            "Avg price of car for model = 1stseries is  1859.4833333333333\n",
            "Avg price of car for model = ibiza is  1734.1250707413697\n",
            "Avg price of car for model = accord is  5117.89138576779\n",
            "Avg price of car for model = corolla is  2815.5567765567766\n",
            "Avg price of car for model = grand is  8774.808193668528\n",
            "Avg price of car for model = lanos is  638.7719298245614\n",
            "Avg price of car for model = phaeton is  10902.4\n",
            "Avg price of car for model = boxster is  23809.105978260868\n",
            "Avg price of car for model = cordoba is  1001.3777777777777\n",
            "Avg price of car for model = verso is  7259.541666666667\n",
            "Avg price of car for model = swift is  4441.930909090909\n",
            "Avg price of car for model = rav is  8168.813114754098\n",
            "Avg price of car for model = kuga is  16255.752112676057\n",
            "Avg price of car for model = qashqai is  13186.54780876494\n",
            "Avg price of car for model = jimny is  7393.622222222222\n",
            "Avg price of car for model = picanto is  3531.578616352201\n",
            "Avg price of car for model = superb is  11839.553314121038\n",
            "Avg price of car for model = stilo is  1728.9717647058824\n",
            "Avg price of car for model = alhambra is  7844.026627218935\n",
            "Avg price of car for model = laguna is  2491.2418558736426\n",
            "Avg price of car for model = mseries is  31223.897435897437\n",
            "Avg price of car for model = transit is  5055.192100538599\n",
            "Avg price of car for model = roadster is  5007.164556962025\n",
            "Avg price of car for model = ypsilon is  1587.546052631579\n",
            "Avg price of car for model = gallant is  1328.9467455621302\n",
            "Avg price of car for model = impreza is  6803.771428571428\n",
            "Avg price of car for model = justy is  2525.9423076923076\n",
            "Avg price of car for model = c5 is  3969.2846153846153\n",
            "Avg price of car for model = crossfire is  11214.35593220339\n",
            "Avg price of car for model = aygo is  2055.2873900293257\n",
            "Avg price of car for model = clubman is  10048.866666666667\n",
            "Avg price of car for model = sorento is  8360.506535947712\n",
            "Avg price of car for model = crseries is  6822.61052631579\n",
            "Avg price of car for model = v50 is  6195.68018018018\n",
            "Avg price of car for model = mxseries is  5669.150831353919\n",
            "Avg price of car for model = 500 is  8192.396984924622\n",
            "Avg price of car for model = juke is  15851.2\n",
            "Avg price of car for model = cseries is  8649.6312849162\n",
            "Avg price of car for model = vclass is  9877.925\n",
            "Avg price of car for model = yaris is  4070.825740318907\n",
            "Avg price of car for model = signum is  4914.488833746898\n",
            "Avg price of car for model = agila is  4289.365921787709\n",
            "Avg price of car for model = almera is  1607.2823529411764\n",
            "Avg price of car for model = cc is  17851.225\n",
            "Avg price of car for model = 911 is  50582.044568245125\n",
            "Avg price of car for model = bora is  2523.3042168674697\n",
            "Avg price of car for model = forfour is  3007.7868852459014\n",
            "Avg price of car for model = 100 is  2018.9479166666667\n",
            "Avg price of car for model = cl is  15012.775\n",
            "Avg price of car for model = tigra is  3113.621052631579\n",
            "Avg price of car for model = 300c is  11066.598360655738\n",
            "Avg price of car for model = ptcruiser is  2790.759825327511\n",
            "Avg price of car for model = xcseries is  15097.522435897436\n",
            "Avg price of car for model = spark is  5106.709090909091\n",
            "Avg price of car for model = x_type is  5699.160305343511\n",
            "Avg price of car for model = ducato is  4587.698305084746\n",
            "Avg price of car for model = s_type is  4830.462365591397\n",
            "Avg price of car for model = x_trail is  8076.419354838709\n",
            "Avg price of car for model = voyager is  2440.774891774892\n",
            "Avg price of car for model = a2 is  6750.819620253164\n",
            "Avg price of car for model = vivaro is  2240.5\n",
            "Avg price of car for model = carnival is  2485.233009708738\n",
            "Avg price of car for model = v70 is  4827.413729128015\n",
            "Avg price of car for model = Bravo is  3379.5944700460827\n",
            "Avg price of car for model = range_rover is  13853.679487179486\n",
            "Avg price of car for model = carisma is  1035.9893617021276\n",
            "Avg price of car for model = antara is  9705.921348314607\n",
            "Avg price of car for model = toledo is  21835.083333333332\n",
            "Avg price of car for model = c1 is  3973.815476190476\n",
            "Avg price of car for model = cadet is  3139.1319796954313\n",
            "Avg price of car for model = citigo is  7426.388235294117\n",
            "Avg price of car for model = 159 is  6931.972826086957\n",
            "Avg price of car for model = cxseries is  19600.081818181818\n",
            "Avg price of car for model = cayenne is  25108.88429752066\n",
            "Avg price of car for model = wrangler is  18224.48201438849\n",
            "Avg price of car for model = lybra is  898.2162162162163\n",
            "Avg price of car for model = lancer is  6663.0\n",
            "Avg price of car for model = glk is  7091.2786885245905\n",
            "Avg price of car for model = captiva is  10726.90909090909\n",
            "Avg price of car for model = fusion is  3188.896551724138\n",
            "Avg price of car for model = range_rover_evoque is  33720.640625\n",
            "Avg price of car for model = sandero is  5032.9453125\n",
            "Avg price of car for model = grade is  5286.069565217392\n",
            "Avg price of car for model = q3 is  28313.846153846152\n",
            "Avg price of car for model = spider is  9674.304347826086\n",
            "Avg price of car for model = 90 is  2473.0714285714284\n",
            "Avg price of car for model = defender is  26837.22608695652\n",
            "Avg price of car for model = cherokee is  5788.713114754099\n",
            "Avg price of car for model = duster is  11007.702702702703\n",
            "Avg price of car for model = legacy is  3259.3893805309735\n",
            "Avg price of car for model = pajero is  7265.023391812865\n",
            "Avg price of car for model = c2 is  2765.921383647799\n",
            "Avg price of car for model = niva is  4025.2727272727275\n",
            "Avg price of car for model = s60 is  7127.293233082707\n",
            "Avg price of car for model = aveo is  3819.551724137931\n",
            "Avg price of car for model = nubira is  945.0\n",
            "Avg price of car for model = q7 is  8474.567164179105\n",
            "Avg price of car for model = tucson is  7059.034146341463\n",
            "Avg price of car for model = gclass is  26441.594405594406\n",
            "Avg price of car for model = auris is  9483.951923076924\n",
            "Avg price of car for model = terios is  10432.264705882353\n",
            "Avg price of car for model = 850 is  1650.062893081761\n",
            "Avg price of car for model = range_rover_sport is  24416.483146067414\n",
            "Avg price of car for model = 601 is  2494.186440677966\n",
            "Avg price of car for model = sirion is  1769.2967032967033\n",
            "Avg price of car for model = serie_2 is  9315.375\n",
            "Avg price of car for model = calibra is  2473.934426229508\n",
            "Avg price of car for model = charade is  1557.2105263157894\n",
            "Avg price of car for model = croma is  4193.444444444444\n",
            "Avg price of car for model = outlander is  10959.209090909091\n",
            "Avg price of car for model = gl is  35466.53571428572\n",
            "Avg price of car for model = doblo is  3639.0697674418607\n",
            "Avg price of car for model = amarok is  23225.79411764706\n",
            "Avg price of car for model = musa is  3431.705882352941\n",
            "Avg price of car for model = 9000 is  2370.1111111111113\n",
            "Avg price of car for model = kalos is  1492.4615384615386\n",
            "Avg price of car for model = v60 is  16989.777777777777\n",
            "Avg price of car for model = 200 is  4862.0\n",
            "Avg price of car for model = b_max is  12325.653846153846\n",
            "Avg price of car for model = delta is  10557.612903225807\n",
            "Avg price of car for model = 145 is  1129.1666666666667\n",
            "Avg price of car for model = 900 is  4946.397959183673\n",
            "Avg price of car for model = lodgy is  5262.9655172413795\n",
            "Avg price of car for model = move is  660.6\n",
            "Avg price of car for model = materia is  5090.583333333333\n",
            "Avg price of car for model = kalina is  1816.5\n",
            "Avg price of car for model = samara is  1332.6666666666667\n",
            "Avg price of car for model = elefantino is  474.8333333333333\n",
            "Avg price of car for model = i3 is  11632.714285714286\n",
            "Avg price of car for model = rangerover is  13600.0\n",
            "Avg price of car for model = serie_3 is  13083.333333333334\n",
            "Avg price of car for model = kappa is  2264.9\n",
            "Avg price of car for model = discovery_sport is  47950.0\n"
          ],
          "name": "stdout"
        }
      ]
    },
    {
      "cell_type": "markdown",
      "metadata": {
        "id": "uPzEouoMAbHV",
        "colab_type": "text"
      },
      "source": [
        "We can see from the oneway test that the price of used car is affected by model of the car as the pvalue is less than 0.05"
      ]
    },
    {
      "cell_type": "markdown",
      "metadata": {
        "id": "NPYqWbiLAbHV",
        "colab_type": "text"
      },
      "source": [
        "As we can see quite evidently that the average price of a used car varies significantly for different models of vehicles."
      ]
    },
    {
      "cell_type": "markdown",
      "metadata": {
        "id": "kyxd9it1cSHc",
        "colab_type": "text"
      },
      "source": [
        "### Gearbox"
      ]
    },
    {
      "cell_type": "code",
      "metadata": {
        "id": "mdEtLnwgcSHy",
        "colab_type": "code",
        "colab": {},
        "outputId": "47441bd0-e43a-4dc6-9610-8d13e1421291"
      },
      "source": [
        "df2['gearbox'].describe()"
      ],
      "execution_count": null,
      "outputs": [
        {
          "output_type": "execute_result",
          "data": {
            "text/plain": [
              "count     264368\n",
              "unique         2\n",
              "top       manual\n",
              "freq      203206\n",
              "Name: gearbox, dtype: object"
            ]
          },
          "metadata": {
            "tags": []
          },
          "execution_count": 65
        }
      ]
    },
    {
      "cell_type": "code",
      "metadata": {
        "id": "GJFbyWtKcSIC",
        "colab_type": "code",
        "colab": {},
        "outputId": "c1d642b7-21d6-492e-c98a-6dfabeadfbfb"
      },
      "source": [
        "df2['gearbox'].value_counts(dropna = False).plot(kind = 'bar')"
      ],
      "execution_count": null,
      "outputs": [
        {
          "output_type": "execute_result",
          "data": {
            "text/plain": [
              "<matplotlib.axes._subplots.AxesSubplot at 0x1e71c6809c8>"
            ]
          },
          "metadata": {
            "tags": []
          },
          "execution_count": 66
        },
        {
          "output_type": "display_data",
          "data": {
            "image/png": "[encoded data removed]",
            "text/plain": [
              "<Figure size 432x288 with 1 Axes>"
            ]
          },
          "metadata": {
            "tags": [],
            "needs_background": "light"
          }
        }
      ]
    },
    {
      "cell_type": "markdown",
      "metadata": {
        "id": "c_Gt4mL1AbHb",
        "colab_type": "text"
      },
      "source": [
        "Imputation of the values for gearBox does not really make sense because we will not be able to determine what type of gearBox the car belongs to by using other features in the dataset. So we will drop the NA values."
      ]
    },
    {
      "cell_type": "code",
      "metadata": {
        "id": "QtAhqyS6AbHc",
        "colab_type": "code",
        "colab": {}
      },
      "source": [
        "df2 = df2[df2['gearbox'].isnull() == False]"
      ],
      "execution_count": null,
      "outputs": []
    },
    {
      "cell_type": "markdown",
      "metadata": {
        "id": "hXR7YfgwAbHe",
        "colab_type": "text"
      },
      "source": [
        "### Statistical Analysis\n",
        "Is there any discrepancy in avg price with respect to the type of gearbox.\n",
        "\n",
        "H0 : avg_price_manual = avg_price_automatic\n",
        "\n",
        "H1 : avg_price_manual != avg_price_automatic"
      ]
    },
    {
      "cell_type": "code",
      "metadata": {
        "id": "f85y1yu-AbHe",
        "colab_type": "code",
        "colab": {}
      },
      "source": [
        "price_manual = df2.loc[df2['gearbox'] == 'manual','price']\n",
        "price_automatic = df2.loc[df2['gearbox'] == 'automatic','price']"
      ],
      "execution_count": null,
      "outputs": []
    },
    {
      "cell_type": "markdown",
      "metadata": {
        "id": "u4XOQc_UAbHg",
        "colab_type": "text"
      },
      "source": [
        "Shapiro Test - Test for Normality"
      ]
    },
    {
      "cell_type": "code",
      "metadata": {
        "id": "kgondxNoAbHh",
        "colab_type": "code",
        "colab": {},
        "outputId": "f6c9fe46-c4ce-4925-fb73-36cf8a1ca4a5"
      },
      "source": [
        "print(shapiro(price_manual))\n",
        "print(shapiro(price_automatic))"
      ],
      "execution_count": null,
      "outputs": [
        {
          "output_type": "stream",
          "text": [
            "(0.6999170780181885, 0.0)\n",
            "(0.8082993030548096, 0.0)\n"
          ],
          "name": "stdout"
        }
      ]
    },
    {
      "cell_type": "markdown",
      "metadata": {
        "id": "8Yvh3j99AbHk",
        "colab_type": "text"
      },
      "source": [
        "The prices for cars with both manual and automatic gearbox are not normally distributed as pvalue is less than 0.05."
      ]
    },
    {
      "cell_type": "markdown",
      "metadata": {
        "id": "SstwfkP0AbHk",
        "colab_type": "text"
      },
      "source": [
        "Bartlett Test - Test for equal variance"
      ]
    },
    {
      "cell_type": "code",
      "metadata": {
        "id": "vq50QqoIAbHl",
        "colab_type": "code",
        "colab": {},
        "outputId": "020facbf-cf88-46db-b23a-a777499fe090"
      },
      "source": [
        "from scipy.stats import bartlett\n",
        "print(bartlett(price_manual,price_automatic))"
      ],
      "execution_count": null,
      "outputs": [
        {
          "output_type": "stream",
          "text": [
            "BartlettResult(statistic=40113.51538001386, pvalue=0.0)\n"
          ],
          "name": "stdout"
        }
      ]
    },
    {
      "cell_type": "markdown",
      "metadata": {
        "id": "2Ue_6bRTAbHn",
        "colab_type": "text"
      },
      "source": [
        "The variance in price for car with automatic gearbox is not equal to the car with manual gearbox as pvalue is less that 0.05. So for a non parametric independent 2 sample t-test we will go with manwhitneyu test."
      ]
    },
    {
      "cell_type": "markdown",
      "metadata": {
        "id": "7WamCOZbAbHn",
        "colab_type": "text"
      },
      "source": [
        "Manwhitneyu Test\n",
        "\n",
        "H0 : Average price of car with automatic gearbox is equal to average price of car with manual gearbox."
      ]
    },
    {
      "cell_type": "code",
      "metadata": {
        "id": "qgh8cJgMAbHo",
        "colab_type": "code",
        "colab": {},
        "outputId": "248ffbfa-2bc0-49ec-bbb9-d619c022ed7b"
      },
      "source": [
        "from scipy.stats import mannwhitneyu\n",
        "print(mannwhitneyu(price_manual,price_automatic))"
      ],
      "execution_count": null,
      "outputs": [
        {
          "output_type": "stream",
          "text": [
            "MannwhitneyuResult(statistic=3630651119.5, pvalue=0.0)\n"
          ],
          "name": "stdout"
        }
      ]
    },
    {
      "cell_type": "markdown",
      "metadata": {
        "id": "YEv4GQGDAbHr",
        "colab_type": "text"
      },
      "source": [
        "We can see from the manwhitneyu test that the price of used car is affected by the fact that whether its an automatic or manual gearbox car as the pvalue is less than 0.05"
      ]
    },
    {
      "cell_type": "markdown",
      "metadata": {
        "id": "yydZkQzvAbHs",
        "colab_type": "text"
      },
      "source": [
        "Post hoc analysis"
      ]
    },
    {
      "cell_type": "code",
      "metadata": {
        "id": "fwcTv9mvAbHs",
        "colab_type": "code",
        "colab": {},
        "outputId": "5b689dfc-5838-460f-8629-b31c0804eb69"
      },
      "source": [
        "print('Avg price for car which has manual gearbox : ',price_manual.mean())\n",
        "print('Avg price for car which has automatic gearbox : ',price_automatic.mean())"
      ],
      "execution_count": null,
      "outputs": [
        {
          "output_type": "stream",
          "text": [
            "Avg price for car which has manual gearbox :  5181.471482141275\n",
            "Avg price for car which has automatic gearbox :  11257.848026552434\n"
          ],
          "name": "stdout"
        }
      ]
    },
    {
      "cell_type": "code",
      "metadata": {
        "id": "cI_uB9NfAbHu",
        "colab_type": "code",
        "colab": {},
        "outputId": "2eda0829-e69b-4e53-c252-25419325bdc5"
      },
      "source": [
        "df2.boxplot(column='price',by = 'gearbox')"
      ],
      "execution_count": null,
      "outputs": [
        {
          "output_type": "execute_result",
          "data": {
            "text/plain": [
              "<matplotlib.axes._subplots.AxesSubplot at 0x1e71504af08>"
            ]
          },
          "metadata": {
            "tags": []
          },
          "execution_count": 73
        },
        {
          "output_type": "display_data",
          "data": {
            "image/png": "[encoded data removed]",
            "text/plain": [
              "<Figure size 432x288 with 1 Axes>"
            ]
          },
          "metadata": {
            "tags": [],
            "needs_background": "light"
          }
        }
      ]
    },
    {
      "cell_type": "markdown",
      "metadata": {
        "id": "mDqszowqAbH3",
        "colab_type": "text"
      },
      "source": [
        "As we can see quite evidently that the average price of a used car which has an automatic gearbox is higher than that which has a manual gearbox."
      ]
    },
    {
      "cell_type": "markdown",
      "metadata": {
        "id": "5mGTkLL8VgTm",
        "colab_type": "text"
      },
      "source": [
        "### Seller"
      ]
    },
    {
      "cell_type": "code",
      "metadata": {
        "id": "bNJWsYz_VgT-",
        "colab_type": "code",
        "colab": {},
        "outputId": "2f3851ac-246e-4c35-8ec0-f9752eedb562"
      },
      "source": [
        "df2['seller'].describe()"
      ],
      "execution_count": null,
      "outputs": [
        {
          "output_type": "execute_result",
          "data": {
            "text/plain": [
              "count      264368\n",
              "unique          2\n",
              "top       private\n",
              "freq       264366\n",
              "Name: seller, dtype: object"
            ]
          },
          "metadata": {
            "tags": []
          },
          "execution_count": 74
        }
      ]
    },
    {
      "cell_type": "code",
      "metadata": {
        "id": "r2F5_QVZVgUS",
        "colab_type": "code",
        "colab": {},
        "outputId": "444f7c05-86ef-4c2e-fc76-3b17305682c2"
      },
      "source": [
        "print(df2['seller'].value_counts(dropna = False))\n",
        "df2['seller'].value_counts(dropna = False).plot(kind = 'bar')"
      ],
      "execution_count": null,
      "outputs": [
        {
          "output_type": "stream",
          "text": [
            "private       264366\n",
            "commercial         2\n",
            "Name: seller, dtype: int64\n"
          ],
          "name": "stdout"
        },
        {
          "output_type": "execute_result",
          "data": {
            "text/plain": [
              "<matplotlib.axes._subplots.AxesSubplot at 0x1e71c43f488>"
            ]
          },
          "metadata": {
            "tags": []
          },
          "execution_count": 75
        },
        {
          "output_type": "display_data",
          "data": {
            "image/png": "[encoded data removed]",
            "text/plain": [
              "<Figure size 432x288 with 1 Axes>"
            ]
          },
          "metadata": {
            "tags": [],
            "needs_background": "light"
          }
        }
      ]
    },
    {
      "cell_type": "markdown",
      "metadata": {
        "id": "OW8uIRfdAbIC",
        "colab_type": "text"
      },
      "source": [
        "The data in this features seems extremely imbalanced. So we will consider dropping this feature."
      ]
    },
    {
      "cell_type": "markdown",
      "metadata": {
        "id": "cJp-tnv-W5cc",
        "colab_type": "text"
      },
      "source": [
        "### OfferType"
      ]
    },
    {
      "cell_type": "code",
      "metadata": {
        "id": "mUc8BdPiW5c-",
        "colab_type": "code",
        "colab": {},
        "outputId": "6c59176a-ab33-4694-8963-0ad9b743f8bc"
      },
      "source": [
        "df2['offerType'].describe()"
      ],
      "execution_count": null,
      "outputs": [
        {
          "output_type": "execute_result",
          "data": {
            "text/plain": [
              "count     264368\n",
              "unique         2\n",
              "top        offer\n",
              "freq      264367\n",
              "Name: offerType, dtype: object"
            ]
          },
          "metadata": {
            "tags": []
          },
          "execution_count": 76
        }
      ]
    },
    {
      "cell_type": "code",
      "metadata": {
        "id": "k7Kadz3dW5dG",
        "colab_type": "code",
        "colab": {},
        "outputId": "35b24fda-6747-43a7-9dc1-e7aec5f3d0ea"
      },
      "source": [
        "print(df2['offerType'].value_counts(dropna = False))\n",
        "df2['offerType'].value_counts(dropna = False).plot(kind = 'bar')"
      ],
      "execution_count": null,
      "outputs": [
        {
          "output_type": "stream",
          "text": [
            "offer          264367\n",
            "application         1\n",
            "Name: offerType, dtype: int64\n"
          ],
          "name": "stdout"
        },
        {
          "output_type": "execute_result",
          "data": {
            "text/plain": [
              "<matplotlib.axes._subplots.AxesSubplot at 0x1e71c4b4988>"
            ]
          },
          "metadata": {
            "tags": []
          },
          "execution_count": 77
        },
        {
          "output_type": "display_data",
          "data": {
            "image/png": "[encoded data removed]",
            "text/plain": [
              "<Figure size 432x288 with 1 Axes>"
            ]
          },
          "metadata": {
            "tags": [],
            "needs_background": "light"
          }
        }
      ]
    },
    {
      "cell_type": "markdown",
      "metadata": {
        "id": "7lhEA7E-AbII",
        "colab_type": "text"
      },
      "source": [
        "The data in this features seems extremely imbalanced. So we will consider dropping this feature."
      ]
    },
    {
      "cell_type": "markdown",
      "metadata": {
        "id": "b7tjemdGXRuQ",
        "colab_type": "text"
      },
      "source": [
        "### ABTEST"
      ]
    },
    {
      "cell_type": "code",
      "metadata": {
        "id": "l5nOQmeNXRuV",
        "colab_type": "code",
        "colab": {},
        "outputId": "aaaac26d-d327-4dfc-942f-a8b686006d3c"
      },
      "source": [
        "df2['abtest'].describe()"
      ],
      "execution_count": null,
      "outputs": [
        {
          "output_type": "execute_result",
          "data": {
            "text/plain": [
              "count     264368\n",
              "unique         2\n",
              "top         test\n",
              "freq      137172\n",
              "Name: abtest, dtype: object"
            ]
          },
          "metadata": {
            "tags": []
          },
          "execution_count": 78
        }
      ]
    },
    {
      "cell_type": "code",
      "metadata": {
        "id": "_Od1xmRbXRuk",
        "colab_type": "code",
        "colab": {},
        "outputId": "56d7da5a-fa89-42f1-d435-9bec83f98a4b"
      },
      "source": [
        "df2['abtest'].value_counts(dropna = False).plot(kind = 'bar')"
      ],
      "execution_count": null,
      "outputs": [
        {
          "output_type": "execute_result",
          "data": {
            "text/plain": [
              "<matplotlib.axes._subplots.AxesSubplot at 0x1e71c5115c8>"
            ]
          },
          "metadata": {
            "tags": []
          },
          "execution_count": 79
        },
        {
          "output_type": "display_data",
          "data": {
            "image/png": "[encoded data removed]",
            "text/plain": [
              "<Figure size 432x288 with 1 Axes>"
            ]
          },
          "metadata": {
            "tags": [],
            "needs_background": "light"
          }
        }
      ]
    },
    {
      "cell_type": "markdown",
      "metadata": {
        "id": "UayGITtAAbIO",
        "colab_type": "text"
      },
      "source": [
        "### Statistical Analysis\n",
        "Is there any discrepancy in avg price with respect to abtest.\n",
        "\n",
        "H0 : avg_price_test = avg_price_control\n",
        "\n",
        "H1 : avg_price_test != avg_price_control"
      ]
    },
    {
      "cell_type": "code",
      "metadata": {
        "id": "UA37f71tAbIP",
        "colab_type": "code",
        "colab": {}
      },
      "source": [
        "price_test = df2.loc[df2['abtest'] == 'test','price']\n",
        "price_control = df2.loc[df2['abtest'] == 'control','price']"
      ],
      "execution_count": null,
      "outputs": []
    },
    {
      "cell_type": "markdown",
      "metadata": {
        "id": "8mxWXHN_AbIS",
        "colab_type": "text"
      },
      "source": [
        "Shapiro Test - Test for Normality"
      ]
    },
    {
      "cell_type": "code",
      "metadata": {
        "id": "ZeGqMhrlAbIS",
        "colab_type": "code",
        "colab": {},
        "outputId": "6108989e-0aed-455b-ad3b-773d498b1958"
      },
      "source": [
        "print(shapiro(price_test))\n",
        "print(shapiro(price_control))"
      ],
      "execution_count": null,
      "outputs": [
        {
          "output_type": "stream",
          "text": [
            "(0.7027208805084229, 0.0)\n",
            "(0.7039284110069275, 0.0)\n"
          ],
          "name": "stdout"
        }
      ]
    },
    {
      "cell_type": "markdown",
      "metadata": {
        "id": "4oAAUhPVAbIV",
        "colab_type": "text"
      },
      "source": [
        "The prices for cars with both test and control are not normally distributed as pvalue is less than 0.05."
      ]
    },
    {
      "cell_type": "markdown",
      "metadata": {
        "id": "HLW46w96AbIV",
        "colab_type": "text"
      },
      "source": [
        "Bartlett Test - Test for equal variance"
      ]
    },
    {
      "cell_type": "code",
      "metadata": {
        "id": "IFuRaFh-AbIW",
        "colab_type": "code",
        "colab": {},
        "outputId": "43d42320-99b6-4a9a-fc25-f88ccd5e4446"
      },
      "source": [
        "from scipy.stats import bartlett\n",
        "print(bartlett(price_test,price_control))"
      ],
      "execution_count": null,
      "outputs": [
        {
          "output_type": "stream",
          "text": [
            "BartlettResult(statistic=4.13776544873579, pvalue=0.041936493185995086)\n"
          ],
          "name": "stdout"
        }
      ]
    },
    {
      "cell_type": "markdown",
      "metadata": {
        "id": "nr8nCsT-AbIb",
        "colab_type": "text"
      },
      "source": [
        "The variance in price for car with control abtest is not equal to the car with test abtest as pvalue is less that 0.05. So for a non parametric independent 2 sample t-test we will go with manwhitneyu test."
      ]
    },
    {
      "cell_type": "markdown",
      "metadata": {
        "id": "L07SjjVkAbIb",
        "colab_type": "text"
      },
      "source": [
        "Manwhitneyu Test\n",
        "\n",
        "H0 : Average price of car with automatic gearbox is equal to average price of car with manual gearbox."
      ]
    },
    {
      "cell_type": "code",
      "metadata": {
        "id": "pcNPb7VrAbIb",
        "colab_type": "code",
        "colab": {},
        "outputId": "585ab9ba-498e-440e-b99a-1430770f05a1"
      },
      "source": [
        "from scipy.stats import mannwhitneyu\n",
        "print(mannwhitneyu(price_test,price_control))"
      ],
      "execution_count": null,
      "outputs": [
        {
          "output_type": "stream",
          "text": [
            "MannwhitneyuResult(statistic=8709574020.5, pvalue=0.23302577219290604)\n"
          ],
          "name": "stdout"
        }
      ]
    },
    {
      "cell_type": "markdown",
      "metadata": {
        "id": "fqu1lxGLAbIe",
        "colab_type": "text"
      },
      "source": [
        "We can see from the manwhitneyu test that the price of used car is not affected by the feature abtest as the pvalue is greater than 0.05. So we will prefer dropping this column."
      ]
    },
    {
      "cell_type": "markdown",
      "metadata": {
        "id": "xfdjf-c7Xj2h",
        "colab_type": "text"
      },
      "source": [
        "### Year Of Registration"
      ]
    },
    {
      "cell_type": "code",
      "metadata": {
        "id": "QMPG6gBxXj2k",
        "colab_type": "code",
        "colab": {},
        "outputId": "638b074e-be7b-4875-b110-099fbfa127ee"
      },
      "source": [
        "df2['yearOfRegistration'].describe()"
      ],
      "execution_count": null,
      "outputs": [
        {
          "output_type": "execute_result",
          "data": {
            "text/plain": [
              "count    264368.000000\n",
              "mean       2003.737873\n",
              "std          14.635000\n",
              "min        1600.000000\n",
              "25%        2000.000000\n",
              "50%        2004.000000\n",
              "75%        2008.000000\n",
              "max        6200.000000\n",
              "Name: yearOfRegistration, dtype: float64"
            ]
          },
          "metadata": {
            "tags": []
          },
          "execution_count": 84
        }
      ]
    },
    {
      "cell_type": "code",
      "metadata": {
        "id": "_NdV90MVYa4f",
        "colab_type": "code",
        "colab": {}
      },
      "source": [
        "df2.loc[(df2['yearOfRegistration']<1923) | (df2['yearOfRegistration']>2020),'yearOfRegistration'] = np.nan"
      ],
      "execution_count": null,
      "outputs": []
    },
    {
      "cell_type": "code",
      "metadata": {
        "id": "GFZAtAr2Xj2t",
        "colab_type": "code",
        "colab": {},
        "outputId": "cd06ce90-02f2-4f1b-a0db-b7513f033b25"
      },
      "source": [
        "plt.figure(figsize=(25,5))\n",
        "df2['yearOfRegistration'].value_counts(dropna = False).plot(kind = 'bar')"
      ],
      "execution_count": null,
      "outputs": [
        {
          "output_type": "execute_result",
          "data": {
            "text/plain": [
              "<matplotlib.axes._subplots.AxesSubplot at 0x1e71c67f288>"
            ]
          },
          "metadata": {
            "tags": []
          },
          "execution_count": 86
        },
        {
          "output_type": "display_data",
          "data": {
            "image/png": "[encoded data removed]",
            "text/plain": [
              "<Figure size 1800x360 with 1 Axes>"
            ]
          },
          "metadata": {
            "tags": [],
            "needs_background": "light"
          }
        }
      ]
    },
    {
      "cell_type": "code",
      "metadata": {
        "id": "QIRC9iJhAbIw",
        "colab_type": "code",
        "colab": {}
      },
      "source": [
        "df2 = df2[df2['yearOfRegistration'].isnull() == False]"
      ],
      "execution_count": null,
      "outputs": []
    },
    {
      "cell_type": "markdown",
      "metadata": {
        "id": "6k3PCzrsAbI1",
        "colab_type": "text"
      },
      "source": [
        "We will be combining this column with monthOfRegistration to convert it to the age of vehicle"
      ]
    },
    {
      "cell_type": "markdown",
      "metadata": {
        "id": "8z9yGPu_bR1y",
        "colab_type": "text"
      },
      "source": [
        "### Power PS"
      ]
    },
    {
      "cell_type": "code",
      "metadata": {
        "id": "LLw5oMDhXHau",
        "colab_type": "code",
        "colab": {},
        "outputId": "477cfe32-5b97-40be-f48c-49714e620dfa"
      },
      "source": [
        "df2['powerPS'].describe()"
      ],
      "execution_count": null,
      "outputs": [
        {
          "output_type": "execute_result",
          "data": {
            "text/plain": [
              "count    264360.000000\n",
              "mean        125.230837\n",
              "std         145.023281\n",
              "min           0.000000\n",
              "25%          75.000000\n",
              "50%         116.000000\n",
              "75%         150.000000\n",
              "max       20000.000000\n",
              "Name: powerPS, dtype: float64"
            ]
          },
          "metadata": {
            "tags": []
          },
          "execution_count": 88
        }
      ]
    },
    {
      "cell_type": "code",
      "metadata": {
        "id": "Pusg-1-TbdQQ",
        "colab_type": "code",
        "colab": {},
        "outputId": "749f8a72-246e-4e45-fbe1-5c3a56f85bb1"
      },
      "source": [
        "isolation_forest = IsolationForest(contamination='auto')\n",
        "isolation_forest.fit(df2['powerPS'].values.reshape(-1,1))\n",
        "\n",
        "xx = np.linspace(df2['powerPS'].min(), df2['powerPS'].max(), len(df)).reshape(-1,1)\n",
        "print(xx)\n",
        "anomaly_score = isolation_forest.decision_function(xx)\n",
        "outlier = isolation_forest.predict(xx)\n",
        "\n",
        "plt.figure(figsize=(25,5))\n",
        "plt.plot(xx, anomaly_score, label='anomaly score')\n",
        "plt.fill_between(xx.T[0], np.min(anomaly_score), np.max(anomaly_score), \n",
        "                     where=outlier==-1, color='r', \n",
        "                     alpha=.4, label='outlier region')\n",
        "plt.legend()\n",
        "plt.xlim(40, 800)\n",
        "plt.title('Power PS')"
      ],
      "execution_count": null,
      "outputs": [
        {
          "output_type": "stream",
          "text": [
            "[[0.00000000e+00]\n",
            " [5.38318884e-02]\n",
            " [1.07663777e-01]\n",
            " ...\n",
            " [1.99998923e+04]\n",
            " [1.99999462e+04]\n",
            " [2.00000000e+04]]\n"
          ],
          "name": "stdout"
        },
        {
          "output_type": "execute_result",
          "data": {
            "text/plain": [
              "Text(0.5, 1.0, 'Power PS')"
            ]
          },
          "metadata": {
            "tags": []
          },
          "execution_count": 89
        },
        {
          "output_type": "display_data",
          "data": {
            "image/png": "[encoded data removed]",
            "text/plain": [
              "<Figure size 1800x360 with 1 Axes>"
            ]
          },
          "metadata": {
            "tags": [],
            "needs_background": "light"
          }
        }
      ]
    },
    {
      "cell_type": "code",
      "metadata": {
        "id": "lC7LuMbdcx_A",
        "colab_type": "code",
        "colab": {}
      },
      "source": [
        "df2 = df2[(df2['powerPS']<800) & (df2['powerPS']>40)]"
      ],
      "execution_count": null,
      "outputs": []
    },
    {
      "cell_type": "markdown",
      "metadata": {
        "id": "_Ziv41CEAbI9",
        "colab_type": "text"
      },
      "source": [
        "If we see from the above plot, almost all data point above 200 seems to come under outliers, but dropping all of those does not seem to be a feasible solution. We can also see that data points after 800 have consistently very low anamoly score, so we can go ahead and drop those data points, and the remaining outliers can be handled further using transformation techniques. Also data points with powerps below 40 also seem to be very low as far as powerps of a used car is concerned, so we will also drop those data points which have powerps below 40."
      ]
    },
    {
      "cell_type": "code",
      "metadata": {
        "id": "mcd4ll30AbI9",
        "colab_type": "code",
        "colab": {},
        "outputId": "af314b14-a981-4fb2-bfc7-7618cc31e364"
      },
      "source": [
        "sns.scatterplot(x = 'price', y = 'powerPS',data = df2)"
      ],
      "execution_count": null,
      "outputs": [
        {
          "output_type": "execute_result",
          "data": {
            "text/plain": [
              "<matplotlib.axes._subplots.AxesSubplot at 0x1e714224988>"
            ]
          },
          "metadata": {
            "tags": []
          },
          "execution_count": 91
        },
        {
          "output_type": "display_data",
          "data": {
            "image/png": "[encoded data removed]",
            "text/plain": [
              "<Figure size 432x288 with 1 Axes>"
            ]
          },
          "metadata": {
            "tags": [],
            "needs_background": "light"
          }
        }
      ]
    },
    {
      "cell_type": "code",
      "metadata": {
        "id": "ukZHkkEhAbI_",
        "colab_type": "code",
        "colab": {},
        "outputId": "bf0e2a96-5eee-444c-c32a-9acfc25c1cda"
      },
      "source": [
        "df2[['price','powerPS']].corr()"
      ],
      "execution_count": null,
      "outputs": [
        {
          "output_type": "execute_result",
          "data": {
            "text/html": [
              "<div>\n",
              "<style scoped>\n",
              "    .dataframe tbody tr th:only-of-type {\n",
              "        vertical-align: middle;\n",
              "    }\n",
              "\n",
              "    .dataframe tbody tr th {\n",
              "        vertical-align: top;\n",
              "    }\n",
              "\n",
              "    .dataframe thead th {\n",
              "        text-align: right;\n",
              "    }\n",
              "</style>\n",
              "<table border=\"1\" class=\"dataframe\">\n",
              "  <thead>\n",
              "    <tr style=\"text-align: right;\">\n",
              "      <th></th>\n",
              "      <th>price</th>\n",
              "      <th>powerPS</th>\n",
              "    </tr>\n",
              "  </thead>\n",
              "  <tbody>\n",
              "    <tr>\n",
              "      <td>price</td>\n",
              "      <td>1.000000</td>\n",
              "      <td>0.593657</td>\n",
              "    </tr>\n",
              "    <tr>\n",
              "      <td>powerPS</td>\n",
              "      <td>0.593657</td>\n",
              "      <td>1.000000</td>\n",
              "    </tr>\n",
              "  </tbody>\n",
              "</table>\n",
              "</div>"
            ],
            "text/plain": [
              "            price   powerPS\n",
              "price    1.000000  0.593657\n",
              "powerPS  0.593657  1.000000"
            ]
          },
          "metadata": {
            "tags": []
          },
          "execution_count": 92
        }
      ]
    },
    {
      "cell_type": "markdown",
      "metadata": {
        "id": "dJ6ICDoRyKCZ",
        "colab_type": "text"
      },
      "source": [
        "### Brand"
      ]
    },
    {
      "cell_type": "code",
      "metadata": {
        "id": "gRXHj3FOyS76",
        "colab_type": "code",
        "colab": {},
        "outputId": "4f7dc6b5-f990-48ef-cc23-a39e38f60591"
      },
      "source": [
        "df2['brand'].describe()"
      ],
      "execution_count": null,
      "outputs": [
        {
          "output_type": "execute_result",
          "data": {
            "text/plain": [
              "count         252240\n",
              "unique            39\n",
              "top       volkswagen\n",
              "freq           53191\n",
              "Name: brand, dtype: object"
            ]
          },
          "metadata": {
            "tags": []
          },
          "execution_count": 93
        }
      ]
    },
    {
      "cell_type": "code",
      "metadata": {
        "id": "isPXktvtC-zr",
        "colab_type": "code",
        "colab": {},
        "outputId": "17e5aec1-8a84-421f-c5cb-baaab39a04d9"
      },
      "source": [
        "plt.figure(figsize=(15,5))\n",
        "df2['brand'].value_counts(dropna = False).plot(kind = 'bar')"
      ],
      "execution_count": null,
      "outputs": [
        {
          "output_type": "execute_result",
          "data": {
            "text/plain": [
              "<matplotlib.axes._subplots.AxesSubplot at 0x1e714280788>"
            ]
          },
          "metadata": {
            "tags": []
          },
          "execution_count": 94
        },
        {
          "output_type": "display_data",
          "data": {
            "image/png": "[encoded data removed]",
            "text/plain": [
              "<Figure size 1080x360 with 1 Axes>"
            ]
          },
          "metadata": {
            "tags": [],
            "needs_background": "light"
          }
        }
      ]
    },
    {
      "cell_type": "markdown",
      "metadata": {
        "id": "jtgR1O6uAbJG",
        "colab_type": "text"
      },
      "source": [
        "### Statistical Analysis\n",
        "Is there any discrepancy in avg price with respect to brand.\n",
        "\n",
        "H0 : avg_price_volkswagen = avg_price_bmw = avg_price_mercedes_benz = ..... = avg_price_trabant\n",
        "\n",
        "H1 : avg_price_volkswagen != avg_price_bmw != avg_price_mercedes_benz != ..... != avg_price_trabant"
      ]
    },
    {
      "cell_type": "code",
      "metadata": {
        "id": "-OUMzINGAbJG",
        "colab_type": "code",
        "colab": {},
        "outputId": "29137d91-a4ce-4e32-fbb7-72709bb85f95"
      },
      "source": [
        "oneway_posthoc('brand')"
      ],
      "execution_count": null,
      "outputs": [
        {
          "output_type": "stream",
          "text": [
            "pvalue for brand is 0.0\n",
            "\n",
            "Avg price of car for brand = volkswagen is  6277.39091199639\n",
            "Avg price of car for brand = skoda is  7100.307398246008\n",
            "Avg price of car for brand = bmw is  9337.264517001284\n",
            "Avg price of car for brand = peugeot is  3727.3470712960507\n",
            "Avg price of car for brand = mazda is  4740.099055399541\n",
            "Avg price of car for brand = nissan is  5532.621230041395\n",
            "Avg price of car for brand = renault is  2935.469828770259\n",
            "Avg price of car for brand = ford is  4366.649871496025\n",
            "Avg price of car for brand = mercedes_benz is  9290.032085149049\n",
            "Avg price of car for brand = opel is  3523.2859626249456\n",
            "Avg price of car for brand = seat is  5216.342880193626\n",
            "Avg price of car for brand = honda is  4554.605345911949\n",
            "Avg price of car for brand = fiat is  3411.8916850875703\n",
            "Avg price of car for brand = mini is  10379.326594632275\n",
            "Avg price of car for brand = smart is  4060.2968847352026\n",
            "Avg price of car for brand = audi is  10189.823546332444\n",
            "Avg price of car for brand = alfa_romeo is  4768.685542168675\n",
            "Avg price of car for brand = subaru is  5255.277566539924\n",
            "Avg price of car for brand = mitsubishi is  3946.1305876444\n",
            "Avg price of car for brand = hyundai is  6129.697974217312\n",
            "Avg price of car for brand = kia is  6504.538954108858\n",
            "Avg price of car for brand = lancia is  3819.090322580645\n",
            "Avg price of car for brand = porsche is  35825.55575221239\n",
            "Avg price of car for brand = citroen is  4123.072580645161\n",
            "Avg price of car for brand = toyota is  5667.599163179916\n",
            "Avg price of car for brand = chevrolet is  7343.275510204082\n",
            "Avg price of car for brand = dacia is  6073.567142857143\n",
            "Avg price of car for brand = suzuki is  4604.449938195303\n",
            "Avg price of car for brand = daihatsu is  2141.311440677966\n",
            "Avg price of car for brand = chrysler is  4669.63301787592\n",
            "Avg price of car for brand = volvo is  5950.4540713999195\n",
            "Avg price of car for brand = jaguar is  13160.8954248366\n",
            "Avg price of car for brand = daewoo is  1116.926984126984\n",
            "Avg price of car for brand = rover is  2007.876984126984\n",
            "Avg price of car for brand = jeep is  12094.594276094276\n",
            "Avg price of car for brand = saab is  4327.9782082324455\n",
            "Avg price of car for brand = land_rover is  18611.368248772505\n",
            "Avg price of car for brand = trabant is  4855.571428571428\n",
            "Avg price of car for brand = lada is  3757.3333333333335\n"
          ],
          "name": "stdout"
        }
      ]
    },
    {
      "cell_type": "markdown",
      "metadata": {
        "id": "BzmeOLe0AbJI",
        "colab_type": "text"
      },
      "source": [
        "We can see from the oneway test that the price of used car is affected by brand as the pvalue is less than 0.05"
      ]
    },
    {
      "cell_type": "code",
      "metadata": {
        "id": "r4W4MarBAbJJ",
        "colab_type": "code",
        "colab": {},
        "outputId": "920bf89a-0ffa-449d-f8d3-9e3d052315c6"
      },
      "source": [
        "df2.boxplot(column='price',by = 'brand',figsize = (15,5))\n",
        "plt.xticks(rotation = 90)"
      ],
      "execution_count": null,
      "outputs": [
        {
          "output_type": "execute_result",
          "data": {
            "text/plain": [
              "(array([ 1,  2,  3,  4,  5,  6,  7,  8,  9, 10, 11, 12, 13, 14, 15, 16, 17,\n",
              "        18, 19, 20, 21, 22, 23, 24, 25, 26, 27, 28, 29, 30, 31, 32, 33, 34,\n",
              "        35, 36, 37, 38, 39]), <a list of 39 Text xticklabel objects>)"
            ]
          },
          "metadata": {
            "tags": []
          },
          "execution_count": 96
        },
        {
          "output_type": "display_data",
          "data": {
            "image/png": "[encoded data removed]",
            "text/plain": [
              "<Figure size 1080x360 with 1 Axes>"
            ]
          },
          "metadata": {
            "tags": [],
            "needs_background": "light"
          }
        }
      ]
    },
    {
      "cell_type": "markdown",
      "metadata": {
        "id": "htnllbsjAbJL",
        "colab_type": "text"
      },
      "source": [
        "As we can see quite evidently that the average price of a used car varies significantly for different brands of vehicles."
      ]
    },
    {
      "cell_type": "markdown",
      "metadata": {
        "id": "dQT2ak49DTsX",
        "colab_type": "text"
      },
      "source": [
        "### Month Of Registration"
      ]
    },
    {
      "cell_type": "code",
      "metadata": {
        "id": "oRGqurIRDTsg",
        "colab_type": "code",
        "colab": {},
        "outputId": "bf51f20e-f868-4083-f2be-e2039d2b8b4b"
      },
      "source": [
        "df2['monthOfRegistration'].describe()"
      ],
      "execution_count": null,
      "outputs": [
        {
          "output_type": "execute_result",
          "data": {
            "text/plain": [
              "count    252240.000000\n",
              "mean          6.200182\n",
              "std           3.458851\n",
              "min           0.000000\n",
              "25%           3.000000\n",
              "50%           6.000000\n",
              "75%           9.000000\n",
              "max          12.000000\n",
              "Name: monthOfRegistration, dtype: float64"
            ]
          },
          "metadata": {
            "tags": []
          },
          "execution_count": 97
        }
      ]
    },
    {
      "cell_type": "code",
      "metadata": {
        "id": "dlqDNhn9DTs2",
        "colab_type": "code",
        "colab": {},
        "outputId": "a35ecef8-20a3-48ad-bee5-5d51f486d271"
      },
      "source": [
        "plt.figure(figsize=(25,7))\n",
        "df2['monthOfRegistration'].value_counts(dropna = False).plot(kind = 'bar')"
      ],
      "execution_count": null,
      "outputs": [
        {
          "output_type": "execute_result",
          "data": {
            "text/plain": [
              "<matplotlib.axes._subplots.AxesSubplot at 0x1e71d907ec8>"
            ]
          },
          "metadata": {
            "tags": []
          },
          "execution_count": 98
        },
        {
          "output_type": "display_data",
          "data": {
            "image/png": "[encoded data removed]",
            "text/plain": [
              "<Figure size 1800x504 with 1 Axes>"
            ]
          },
          "metadata": {
            "tags": [],
            "needs_background": "light"
          }
        }
      ]
    },
    {
      "cell_type": "code",
      "metadata": {
        "id": "GC-DnufIet9K",
        "colab_type": "code",
        "colab": {}
      },
      "source": [
        "df2 = df2[df2['monthOfRegistration'] != 0]"
      ],
      "execution_count": null,
      "outputs": []
    },
    {
      "cell_type": "markdown",
      "metadata": {
        "id": "xTrBosL8AbJZ",
        "colab_type": "text"
      },
      "source": [
        "We will be combining this column with yearOfRegistration to convert it to the age of vehicle"
      ]
    },
    {
      "cell_type": "markdown",
      "metadata": {
        "id": "2-bPPB_Dgbfq",
        "colab_type": "text"
      },
      "source": [
        "### Number of days online"
      ]
    },
    {
      "cell_type": "code",
      "metadata": {
        "id": "eZaC2aHCgdUr",
        "colab_type": "code",
        "colab": {}
      },
      "source": [
        "val = list(df2['lastSeen'] - df2['dateCreated'])\n",
        "days = [obj.days for obj in val]\n",
        "for i in range(len(days)):\n",
        "  if days[i] < 0:\n",
        "    days[i] = np.nan\n",
        "df2['No_of_days_online'] = days"
      ],
      "execution_count": null,
      "outputs": []
    },
    {
      "cell_type": "code",
      "metadata": {
        "id": "YBur-p_sAbJd",
        "colab_type": "code",
        "colab": {},
        "outputId": "80ad544c-a395-4260-aa80-9cca12e6b90e"
      },
      "source": [
        "sns.scatterplot(x = 'price', y = 'No_of_days_online',data = df2)"
      ],
      "execution_count": null,
      "outputs": [
        {
          "output_type": "execute_result",
          "data": {
            "text/plain": [
              "<matplotlib.axes._subplots.AxesSubplot at 0x1e71d056808>"
            ]
          },
          "metadata": {
            "tags": []
          },
          "execution_count": 101
        },
        {
          "output_type": "display_data",
          "data": {
            "image/png": "[encoded data removed]",
            "text/plain": [
              "<Figure size 432x288 with 1 Axes>"
            ]
          },
          "metadata": {
            "tags": [],
            "needs_background": "light"
          }
        }
      ]
    },
    {
      "cell_type": "code",
      "metadata": {
        "id": "CFEQNUpMAbJh",
        "colab_type": "code",
        "colab": {},
        "outputId": "5ce948e3-7b68-4a58-8b49-6155df24d789"
      },
      "source": [
        "df2[['price','No_of_days_online']].corr()"
      ],
      "execution_count": null,
      "outputs": [
        {
          "output_type": "execute_result",
          "data": {
            "text/html": [
              "<div>\n",
              "<style scoped>\n",
              "    .dataframe tbody tr th:only-of-type {\n",
              "        vertical-align: middle;\n",
              "    }\n",
              "\n",
              "    .dataframe tbody tr th {\n",
              "        vertical-align: top;\n",
              "    }\n",
              "\n",
              "    .dataframe thead th {\n",
              "        text-align: right;\n",
              "    }\n",
              "</style>\n",
              "<table border=\"1\" class=\"dataframe\">\n",
              "  <thead>\n",
              "    <tr style=\"text-align: right;\">\n",
              "      <th></th>\n",
              "      <th>price</th>\n",
              "      <th>No_of_days_online</th>\n",
              "    </tr>\n",
              "  </thead>\n",
              "  <tbody>\n",
              "    <tr>\n",
              "      <td>price</td>\n",
              "      <td>1.000000</td>\n",
              "      <td>0.130071</td>\n",
              "    </tr>\n",
              "    <tr>\n",
              "      <td>No_of_days_online</td>\n",
              "      <td>0.130071</td>\n",
              "      <td>1.000000</td>\n",
              "    </tr>\n",
              "  </tbody>\n",
              "</table>\n",
              "</div>"
            ],
            "text/plain": [
              "                      price  No_of_days_online\n",
              "price              1.000000           0.130071\n",
              "No_of_days_online  0.130071           1.000000"
            ]
          },
          "metadata": {
            "tags": []
          },
          "execution_count": 102
        }
      ]
    },
    {
      "cell_type": "markdown",
      "metadata": {
        "id": "cnhJn2EbAbJj",
        "colab_type": "text"
      },
      "source": [
        "### Age of Vehicle"
      ]
    },
    {
      "cell_type": "code",
      "metadata": {
        "id": "XX1AZJ0kAbJj",
        "colab_type": "code",
        "colab": {}
      },
      "source": [
        "import datetime\n",
        "\n",
        "def calculateAge(yr,mnth):\n",
        "    today_date = datetime.datetime.today()\n",
        "    years = today_date.year - yr\n",
        "    month = today_date.month - mnth\n",
        "    ageindecimal = years + month/12\n",
        "    return round(ageindecimal,2)"
      ],
      "execution_count": null,
      "outputs": []
    },
    {
      "cell_type": "code",
      "metadata": {
        "id": "upjE6K4yAbJl",
        "colab_type": "code",
        "colab": {}
      },
      "source": [
        "df2['ageOfVehicle'] = list(map(calculateAge,df2['yearOfRegistration'],df2['monthOfRegistration']))"
      ],
      "execution_count": null,
      "outputs": []
    },
    {
      "cell_type": "code",
      "metadata": {
        "id": "K1jVqJXkAbJn",
        "colab_type": "code",
        "colab": {},
        "outputId": "9d079f33-da09-44e0-d4c0-4e4fe7613efb"
      },
      "source": [
        "sns.scatterplot(y = 'price', x = 'ageOfVehicle',data = df2)"
      ],
      "execution_count": null,
      "outputs": [
        {
          "output_type": "execute_result",
          "data": {
            "text/plain": [
              "<matplotlib.axes._subplots.AxesSubplot at 0x1e71db73388>"
            ]
          },
          "metadata": {
            "tags": []
          },
          "execution_count": 105
        },
        {
          "output_type": "display_data",
          "data": {
            "image/png": "[encoded data removed]",
            "text/plain": [
              "<Figure size 432x288 with 1 Axes>"
            ]
          },
          "metadata": {
            "tags": [],
            "needs_background": "light"
          }
        }
      ]
    },
    {
      "cell_type": "code",
      "metadata": {
        "id": "DucxzsQeAbJs",
        "colab_type": "code",
        "colab": {},
        "outputId": "ff6faba2-afca-4e7d-bec2-bd21d81b5daf"
      },
      "source": [
        "df2[['price','ageOfVehicle']].corr()"
      ],
      "execution_count": null,
      "outputs": [
        {
          "output_type": "execute_result",
          "data": {
            "text/html": [
              "<div>\n",
              "<style scoped>\n",
              "    .dataframe tbody tr th:only-of-type {\n",
              "        vertical-align: middle;\n",
              "    }\n",
              "\n",
              "    .dataframe tbody tr th {\n",
              "        vertical-align: top;\n",
              "    }\n",
              "\n",
              "    .dataframe thead th {\n",
              "        text-align: right;\n",
              "    }\n",
              "</style>\n",
              "<table border=\"1\" class=\"dataframe\">\n",
              "  <thead>\n",
              "    <tr style=\"text-align: right;\">\n",
              "      <th></th>\n",
              "      <th>price</th>\n",
              "      <th>ageOfVehicle</th>\n",
              "    </tr>\n",
              "  </thead>\n",
              "  <tbody>\n",
              "    <tr>\n",
              "      <td>price</td>\n",
              "      <td>1.000000</td>\n",
              "      <td>-0.447432</td>\n",
              "    </tr>\n",
              "    <tr>\n",
              "      <td>ageOfVehicle</td>\n",
              "      <td>-0.447432</td>\n",
              "      <td>1.000000</td>\n",
              "    </tr>\n",
              "  </tbody>\n",
              "</table>\n",
              "</div>"
            ],
            "text/plain": [
              "                 price  ageOfVehicle\n",
              "price         1.000000     -0.447432\n",
              "ageOfVehicle -0.447432      1.000000"
            ]
          },
          "metadata": {
            "tags": []
          },
          "execution_count": 106
        }
      ]
    },
    {
      "cell_type": "markdown",
      "metadata": {
        "id": "u-3XWOUZAbJu",
        "colab_type": "text"
      },
      "source": [
        "## Finalizing features depending on EDA"
      ]
    },
    {
      "cell_type": "code",
      "metadata": {
        "id": "Yjn-T6n_ubyQ",
        "colab_type": "code",
        "colab": {}
      },
      "source": [
        "df3 = df2[['kilometer','notRepairedDamage', 'vehicleType', 'fuelType', 'gearbox', 'ageOfVehicle', 'model', 'brand', 'powerPS', 'No_of_days_online', 'price']]"
      ],
      "execution_count": null,
      "outputs": []
    },
    {
      "cell_type": "code",
      "metadata": {
        "id": "lYAOd3t14W44",
        "colab_type": "code",
        "colab": {},
        "outputId": "a889ec72-a2b5-4677-dbf3-d2426ca584e6"
      },
      "source": [
        "df3.head()"
      ],
      "execution_count": null,
      "outputs": [
        {
          "output_type": "execute_result",
          "data": {
            "text/html": [
              "<div>\n",
              "<style scoped>\n",
              "    .dataframe tbody tr th:only-of-type {\n",
              "        vertical-align: middle;\n",
              "    }\n",
              "\n",
              "    .dataframe tbody tr th {\n",
              "        vertical-align: top;\n",
              "    }\n",
              "\n",
              "    .dataframe thead th {\n",
              "        text-align: right;\n",
              "    }\n",
              "</style>\n",
              "<table border=\"1\" class=\"dataframe\">\n",
              "  <thead>\n",
              "    <tr style=\"text-align: right;\">\n",
              "      <th></th>\n",
              "      <th>kilometer</th>\n",
              "      <th>notRepairedDamage</th>\n",
              "      <th>vehicleType</th>\n",
              "      <th>fuelType</th>\n",
              "      <th>gearbox</th>\n",
              "      <th>ageOfVehicle</th>\n",
              "      <th>model</th>\n",
              "      <th>brand</th>\n",
              "      <th>powerPS</th>\n",
              "      <th>No_of_days_online</th>\n",
              "      <th>price</th>\n",
              "    </tr>\n",
              "  </thead>\n",
              "  <tbody>\n",
              "    <tr>\n",
              "      <td>3</td>\n",
              "      <td>150000</td>\n",
              "      <td>No</td>\n",
              "      <td>small car</td>\n",
              "      <td>petrol</td>\n",
              "      <td>manual</td>\n",
              "      <td>19.00</td>\n",
              "      <td>golf</td>\n",
              "      <td>volkswagen</td>\n",
              "      <td>75</td>\n",
              "      <td>0</td>\n",
              "      <td>1500</td>\n",
              "    </tr>\n",
              "    <tr>\n",
              "      <td>4</td>\n",
              "      <td>90000</td>\n",
              "      <td>No</td>\n",
              "      <td>small car</td>\n",
              "      <td>diesel</td>\n",
              "      <td>manual</td>\n",
              "      <td>11.92</td>\n",
              "      <td>fabia</td>\n",
              "      <td>skoda</td>\n",
              "      <td>69</td>\n",
              "      <td>6</td>\n",
              "      <td>3600</td>\n",
              "    </tr>\n",
              "    <tr>\n",
              "      <td>5</td>\n",
              "      <td>150000</td>\n",
              "      <td>Yes</td>\n",
              "      <td>limousine</td>\n",
              "      <td>petrol</td>\n",
              "      <td>manual</td>\n",
              "      <td>24.67</td>\n",
              "      <td>3s</td>\n",
              "      <td>bmw</td>\n",
              "      <td>102</td>\n",
              "      <td>2</td>\n",
              "      <td>650</td>\n",
              "    </tr>\n",
              "    <tr>\n",
              "      <td>6</td>\n",
              "      <td>150000</td>\n",
              "      <td>No</td>\n",
              "      <td>convertible</td>\n",
              "      <td>petrol</td>\n",
              "      <td>manual</td>\n",
              "      <td>15.83</td>\n",
              "      <td>2series</td>\n",
              "      <td>peugeot</td>\n",
              "      <td>109</td>\n",
              "      <td>4</td>\n",
              "      <td>2200</td>\n",
              "    </tr>\n",
              "    <tr>\n",
              "      <td>10</td>\n",
              "      <td>150000</td>\n",
              "      <td>No</td>\n",
              "      <td>limousine</td>\n",
              "      <td>petrol</td>\n",
              "      <td>manual</td>\n",
              "      <td>15.50</td>\n",
              "      <td>3series</td>\n",
              "      <td>mazda</td>\n",
              "      <td>105</td>\n",
              "      <td>11</td>\n",
              "      <td>2000</td>\n",
              "    </tr>\n",
              "  </tbody>\n",
              "</table>\n",
              "</div>"
            ],
            "text/plain": [
              "    kilometer notRepairedDamage  vehicleType fuelType gearbox  ageOfVehicle  \\\n",
              "3      150000                No    small car   petrol  manual         19.00   \n",
              "4       90000                No    small car   diesel  manual         11.92   \n",
              "5      150000               Yes    limousine   petrol  manual         24.67   \n",
              "6      150000                No  convertible   petrol  manual         15.83   \n",
              "10     150000                No    limousine   petrol  manual         15.50   \n",
              "\n",
              "      model       brand  powerPS  No_of_days_online  price  \n",
              "3      golf  volkswagen       75                  0   1500  \n",
              "4     fabia       skoda       69                  6   3600  \n",
              "5        3s         bmw      102                  2    650  \n",
              "6   2series     peugeot      109                  4   2200  \n",
              "10  3series       mazda      105                 11   2000  "
            ]
          },
          "metadata": {
            "tags": []
          },
          "execution_count": 108
        }
      ]
    },
    {
      "cell_type": "code",
      "metadata": {
        "id": "OzpfvoqmAbJz",
        "colab_type": "code",
        "colab": {},
        "outputId": "cf7ab381-7d4b-4a70-b850-99d74104fb71"
      },
      "source": [
        "get_missing_val_count_df(df3)"
      ],
      "execution_count": null,
      "outputs": [
        {
          "output_type": "execute_result",
          "data": {
            "text/html": [
              "<div>\n",
              "<style scoped>\n",
              "    .dataframe tbody tr th:only-of-type {\n",
              "        vertical-align: middle;\n",
              "    }\n",
              "\n",
              "    .dataframe tbody tr th {\n",
              "        vertical-align: top;\n",
              "    }\n",
              "\n",
              "    .dataframe thead th {\n",
              "        text-align: right;\n",
              "    }\n",
              "</style>\n",
              "<table border=\"1\" class=\"dataframe\">\n",
              "  <thead>\n",
              "    <tr style=\"text-align: right;\">\n",
              "      <th></th>\n",
              "      <th>count</th>\n",
              "    </tr>\n",
              "  </thead>\n",
              "  <tbody>\n",
              "    <tr>\n",
              "      <td>vehicleType</td>\n",
              "      <td>4607</td>\n",
              "    </tr>\n",
              "    <tr>\n",
              "      <td>kilometer</td>\n",
              "      <td>0</td>\n",
              "    </tr>\n",
              "    <tr>\n",
              "      <td>notRepairedDamage</td>\n",
              "      <td>0</td>\n",
              "    </tr>\n",
              "    <tr>\n",
              "      <td>fuelType</td>\n",
              "      <td>0</td>\n",
              "    </tr>\n",
              "    <tr>\n",
              "      <td>gearbox</td>\n",
              "      <td>0</td>\n",
              "    </tr>\n",
              "    <tr>\n",
              "      <td>ageOfVehicle</td>\n",
              "      <td>0</td>\n",
              "    </tr>\n",
              "    <tr>\n",
              "      <td>model</td>\n",
              "      <td>0</td>\n",
              "    </tr>\n",
              "    <tr>\n",
              "      <td>brand</td>\n",
              "      <td>0</td>\n",
              "    </tr>\n",
              "    <tr>\n",
              "      <td>powerPS</td>\n",
              "      <td>0</td>\n",
              "    </tr>\n",
              "    <tr>\n",
              "      <td>No_of_days_online</td>\n",
              "      <td>0</td>\n",
              "    </tr>\n",
              "    <tr>\n",
              "      <td>price</td>\n",
              "      <td>0</td>\n",
              "    </tr>\n",
              "  </tbody>\n",
              "</table>\n",
              "</div>"
            ],
            "text/plain": [
              "                   count\n",
              "vehicleType         4607\n",
              "kilometer              0\n",
              "notRepairedDamage      0\n",
              "fuelType               0\n",
              "gearbox                0\n",
              "ageOfVehicle           0\n",
              "model                  0\n",
              "brand                  0\n",
              "powerPS                0\n",
              "No_of_days_online      0\n",
              "price                  0"
            ]
          },
          "metadata": {
            "tags": []
          },
          "execution_count": 109
        }
      ]
    },
    {
      "cell_type": "markdown",
      "metadata": {
        "id": "pAmLM_50xNyE",
        "colab_type": "text"
      },
      "source": [
        "## Imputation of vehicle type"
      ]
    },
    {
      "cell_type": "code",
      "metadata": {
        "id": "25l6Ft9jSR5B",
        "colab_type": "code",
        "colab": {}
      },
      "source": [
        "# cat_cols = ['notRepairedDamage', 'vehicleType', 'fuelType', 'gearbox', 'model', 'brand']\n",
        "cat_cols = ['vehicleType', 'model', 'brand']"
      ],
      "execution_count": null,
      "outputs": []
    },
    {
      "cell_type": "markdown",
      "metadata": {
        "id": "8zxwT4wJAbJ3",
        "colab_type": "text"
      },
      "source": [
        "Using model, brand and price to impute missing values of vehicle type."
      ]
    },
    {
      "cell_type": "code",
      "metadata": {
        "id": "0EYj-Ek_Ru54",
        "colab_type": "code",
        "colab": {}
      },
      "source": [
        "from sklearn.preprocessing import OrdinalEncoder\n",
        "# Create dictionary for Ordinal encoders\n",
        "ordinal_enc_dict = {}\n",
        "# Loop over columns to encode\n",
        "for col_name in cat_cols:\n",
        "  # Create ordinal encoder for the column\n",
        "  ordinal_enc_dict[col_name] = OrdinalEncoder()\n",
        "  # Select the nin-null values in the column\n",
        "  col = df3[col_name]\n",
        "  col_not_null = col[col.notnull()]\n",
        "  reshaped_vals = col_not_null.values.reshape(-1, 1)\n",
        "  # Encode the non-null values of the column\n",
        "  encoded_vals = ordinal_enc_dict[col_name].fit_transform(reshaped_vals)\n",
        "  # Replace the ambience column with ordinal values\n",
        "  df3.loc[col.notnull(), col_name] = np.squeeze(encoded_vals)"
      ],
      "execution_count": null,
      "outputs": []
    },
    {
      "cell_type": "code",
      "metadata": {
        "id": "1CRkUyAyS9cX",
        "colab_type": "code",
        "colab": {}
      },
      "source": [
        "from sklearn.impute import KNNImputer\n",
        "KNN_imputer = KNNImputer(n_neighbors=20)\n",
        "df3_KNN = df3[['vehicleType', 'model', 'brand','price']].copy(deep=True)\n",
        "df3_KNN.iloc[:, :] = np.round(KNN_imputer.fit_transform(df3_KNN))"
      ],
      "execution_count": null,
      "outputs": []
    },
    {
      "cell_type": "code",
      "metadata": {
        "id": "rs0xCUnvTYZj",
        "colab_type": "code",
        "colab": {}
      },
      "source": [
        "for col in cat_cols:\n",
        "  reshaped_col = df3_KNN[col].values.reshape(-1, 1)\n",
        "  df3_KNN[col] = ordinal_enc_dict[col].inverse_transform(reshaped_col)"
      ],
      "execution_count": null,
      "outputs": []
    },
    {
      "cell_type": "code",
      "metadata": {
        "id": "dTXJIiLAUz5m",
        "colab_type": "code",
        "colab": {}
      },
      "source": [
        "df_final = df3.copy(deep=True)"
      ],
      "execution_count": null,
      "outputs": []
    },
    {
      "cell_type": "code",
      "metadata": {
        "id": "zYAMCmZpAbJ_",
        "colab_type": "code",
        "colab": {}
      },
      "source": [
        "df_final.loc[:,'vehicleType'] = df3_KNN['vehicleType']"
      ],
      "execution_count": null,
      "outputs": []
    },
    {
      "cell_type": "code",
      "metadata": {
        "id": "hY7N77KpAbKA",
        "colab_type": "code",
        "colab": {},
        "outputId": "98c96f2f-4913-43e2-a669-c08143bc1182"
      },
      "source": [
        "df_final.reset_index(drop=True)"
      ],
      "execution_count": null,
      "outputs": [
        {
          "output_type": "execute_result",
          "data": {
            "text/html": [
              "<div>\n",
              "<style scoped>\n",
              "    .dataframe tbody tr th:only-of-type {\n",
              "        vertical-align: middle;\n",
              "    }\n",
              "\n",
              "    .dataframe tbody tr th {\n",
              "        vertical-align: top;\n",
              "    }\n",
              "\n",
              "    .dataframe thead th {\n",
              "        text-align: right;\n",
              "    }\n",
              "</style>\n",
              "<table border=\"1\" class=\"dataframe\">\n",
              "  <thead>\n",
              "    <tr style=\"text-align: right;\">\n",
              "      <th></th>\n",
              "      <th>kilometer</th>\n",
              "      <th>notRepairedDamage</th>\n",
              "      <th>vehicleType</th>\n",
              "      <th>fuelType</th>\n",
              "      <th>gearbox</th>\n",
              "      <th>ageOfVehicle</th>\n",
              "      <th>model</th>\n",
              "      <th>brand</th>\n",
              "      <th>powerPS</th>\n",
              "      <th>No_of_days_online</th>\n",
              "      <th>price</th>\n",
              "    </tr>\n",
              "  </thead>\n",
              "  <tbody>\n",
              "    <tr>\n",
              "      <td>0</td>\n",
              "      <td>150000</td>\n",
              "      <td>No</td>\n",
              "      <td>small car</td>\n",
              "      <td>petrol</td>\n",
              "      <td>manual</td>\n",
              "      <td>19.00</td>\n",
              "      <td>119</td>\n",
              "      <td>37</td>\n",
              "      <td>75</td>\n",
              "      <td>0</td>\n",
              "      <td>1500</td>\n",
              "    </tr>\n",
              "    <tr>\n",
              "      <td>1</td>\n",
              "      <td>90000</td>\n",
              "      <td>No</td>\n",
              "      <td>small car</td>\n",
              "      <td>diesel</td>\n",
              "      <td>manual</td>\n",
              "      <td>11.92</td>\n",
              "      <td>104</td>\n",
              "      <td>31</td>\n",
              "      <td>69</td>\n",
              "      <td>6</td>\n",
              "      <td>3600</td>\n",
              "    </tr>\n",
              "    <tr>\n",
              "      <td>2</td>\n",
              "      <td>150000</td>\n",
              "      <td>Yes</td>\n",
              "      <td>limousine</td>\n",
              "      <td>petrol</td>\n",
              "      <td>manual</td>\n",
              "      <td>24.67</td>\n",
              "      <td>10</td>\n",
              "      <td>2</td>\n",
              "      <td>102</td>\n",
              "      <td>2</td>\n",
              "      <td>650</td>\n",
              "    </tr>\n",
              "    <tr>\n",
              "      <td>3</td>\n",
              "      <td>150000</td>\n",
              "      <td>No</td>\n",
              "      <td>convertible</td>\n",
              "      <td>petrol</td>\n",
              "      <td>manual</td>\n",
              "      <td>15.83</td>\n",
              "      <td>8</td>\n",
              "      <td>25</td>\n",
              "      <td>109</td>\n",
              "      <td>4</td>\n",
              "      <td>2200</td>\n",
              "    </tr>\n",
              "    <tr>\n",
              "      <td>4</td>\n",
              "      <td>150000</td>\n",
              "      <td>No</td>\n",
              "      <td>limousine</td>\n",
              "      <td>petrol</td>\n",
              "      <td>manual</td>\n",
              "      <td>15.50</td>\n",
              "      <td>11</td>\n",
              "      <td>19</td>\n",
              "      <td>105</td>\n",
              "      <td>11</td>\n",
              "      <td>2000</td>\n",
              "    </tr>\n",
              "    <tr>\n",
              "      <td>...</td>\n",
              "      <td>...</td>\n",
              "      <td>...</td>\n",
              "      <td>...</td>\n",
              "      <td>...</td>\n",
              "      <td>...</td>\n",
              "      <td>...</td>\n",
              "      <td>...</td>\n",
              "      <td>...</td>\n",
              "      <td>...</td>\n",
              "      <td>...</td>\n",
              "      <td>...</td>\n",
              "    </tr>\n",
              "    <tr>\n",
              "      <td>245608</td>\n",
              "      <td>150000</td>\n",
              "      <td>No</td>\n",
              "      <td>limousine</td>\n",
              "      <td>diesel</td>\n",
              "      <td>manual</td>\n",
              "      <td>9.92</td>\n",
              "      <td>119</td>\n",
              "      <td>37</td>\n",
              "      <td>140</td>\n",
              "      <td>5</td>\n",
              "      <td>7900</td>\n",
              "    </tr>\n",
              "    <tr>\n",
              "      <td>245609</td>\n",
              "      <td>150000</td>\n",
              "      <td>Yes</td>\n",
              "      <td>limousine</td>\n",
              "      <td>petrol</td>\n",
              "      <td>manual</td>\n",
              "      <td>16.08</td>\n",
              "      <td>143</td>\n",
              "      <td>30</td>\n",
              "      <td>225</td>\n",
              "      <td>0</td>\n",
              "      <td>3200</td>\n",
              "    </tr>\n",
              "    <tr>\n",
              "      <td>245610</td>\n",
              "      <td>125000</td>\n",
              "      <td>No</td>\n",
              "      <td>convertible</td>\n",
              "      <td>petrol</td>\n",
              "      <td>automatic</td>\n",
              "      <td>20.25</td>\n",
              "      <td>109</td>\n",
              "      <td>32</td>\n",
              "      <td>101</td>\n",
              "      <td>6</td>\n",
              "      <td>1199</td>\n",
              "    </tr>\n",
              "    <tr>\n",
              "      <td>245611</td>\n",
              "      <td>150000</td>\n",
              "      <td>No</td>\n",
              "      <td>bus</td>\n",
              "      <td>diesel</td>\n",
              "      <td>manual</td>\n",
              "      <td>24.25</td>\n",
              "      <td>224</td>\n",
              "      <td>37</td>\n",
              "      <td>102</td>\n",
              "      <td>19</td>\n",
              "      <td>9200</td>\n",
              "    </tr>\n",
              "    <tr>\n",
              "      <td>245612</td>\n",
              "      <td>50000</td>\n",
              "      <td>No</td>\n",
              "      <td>limousine</td>\n",
              "      <td>petrol</td>\n",
              "      <td>manual</td>\n",
              "      <td>6.83</td>\n",
              "      <td>158</td>\n",
              "      <td>2</td>\n",
              "      <td>320</td>\n",
              "      <td>15</td>\n",
              "      <td>28990</td>\n",
              "    </tr>\n",
              "  </tbody>\n",
              "</table>\n",
              "<p>245613 rows × 11 columns</p>\n",
              "</div>"
            ],
            "text/plain": [
              "        kilometer notRepairedDamage  vehicleType fuelType    gearbox  \\\n",
              "0          150000                No    small car   petrol     manual   \n",
              "1           90000                No    small car   diesel     manual   \n",
              "2          150000               Yes    limousine   petrol     manual   \n",
              "3          150000                No  convertible   petrol     manual   \n",
              "4          150000                No    limousine   petrol     manual   \n",
              "...           ...               ...          ...      ...        ...   \n",
              "245608     150000                No    limousine   diesel     manual   \n",
              "245609     150000               Yes    limousine   petrol     manual   \n",
              "245610     125000                No  convertible   petrol  automatic   \n",
              "245611     150000                No          bus   diesel     manual   \n",
              "245612      50000                No    limousine   petrol     manual   \n",
              "\n",
              "        ageOfVehicle  model  brand  powerPS  No_of_days_online  price  \n",
              "0              19.00    119     37       75                  0   1500  \n",
              "1              11.92    104     31       69                  6   3600  \n",
              "2              24.67     10      2      102                  2    650  \n",
              "3              15.83      8     25      109                  4   2200  \n",
              "4              15.50     11     19      105                 11   2000  \n",
              "...              ...    ...    ...      ...                ...    ...  \n",
              "245608          9.92    119     37      140                  5   7900  \n",
              "245609         16.08    143     30      225                  0   3200  \n",
              "245610         20.25    109     32      101                  6   1199  \n",
              "245611         24.25    224     37      102                 19   9200  \n",
              "245612          6.83    158      2      320                 15  28990  \n",
              "\n",
              "[245613 rows x 11 columns]"
            ]
          },
          "metadata": {
            "tags": []
          },
          "execution_count": 116
        }
      ]
    },
    {
      "cell_type": "code",
      "metadata": {
        "id": "q2LnSRYGAbKC",
        "colab_type": "code",
        "colab": {},
        "outputId": "f0af4ae0-aaf4-4618-cb5c-0abc94f1023a"
      },
      "source": [
        "get_missing_val_count_df(df_final)"
      ],
      "execution_count": null,
      "outputs": [
        {
          "output_type": "execute_result",
          "data": {
            "text/html": [
              "<div>\n",
              "<style scoped>\n",
              "    .dataframe tbody tr th:only-of-type {\n",
              "        vertical-align: middle;\n",
              "    }\n",
              "\n",
              "    .dataframe tbody tr th {\n",
              "        vertical-align: top;\n",
              "    }\n",
              "\n",
              "    .dataframe thead th {\n",
              "        text-align: right;\n",
              "    }\n",
              "</style>\n",
              "<table border=\"1\" class=\"dataframe\">\n",
              "  <thead>\n",
              "    <tr style=\"text-align: right;\">\n",
              "      <th></th>\n",
              "      <th>count</th>\n",
              "    </tr>\n",
              "  </thead>\n",
              "  <tbody>\n",
              "    <tr>\n",
              "      <td>kilometer</td>\n",
              "      <td>0</td>\n",
              "    </tr>\n",
              "    <tr>\n",
              "      <td>notRepairedDamage</td>\n",
              "      <td>0</td>\n",
              "    </tr>\n",
              "    <tr>\n",
              "      <td>vehicleType</td>\n",
              "      <td>0</td>\n",
              "    </tr>\n",
              "    <tr>\n",
              "      <td>fuelType</td>\n",
              "      <td>0</td>\n",
              "    </tr>\n",
              "    <tr>\n",
              "      <td>gearbox</td>\n",
              "      <td>0</td>\n",
              "    </tr>\n",
              "    <tr>\n",
              "      <td>ageOfVehicle</td>\n",
              "      <td>0</td>\n",
              "    </tr>\n",
              "    <tr>\n",
              "      <td>model</td>\n",
              "      <td>0</td>\n",
              "    </tr>\n",
              "    <tr>\n",
              "      <td>brand</td>\n",
              "      <td>0</td>\n",
              "    </tr>\n",
              "    <tr>\n",
              "      <td>powerPS</td>\n",
              "      <td>0</td>\n",
              "    </tr>\n",
              "    <tr>\n",
              "      <td>No_of_days_online</td>\n",
              "      <td>0</td>\n",
              "    </tr>\n",
              "    <tr>\n",
              "      <td>price</td>\n",
              "      <td>0</td>\n",
              "    </tr>\n",
              "  </tbody>\n",
              "</table>\n",
              "</div>"
            ],
            "text/plain": [
              "                   count\n",
              "kilometer              0\n",
              "notRepairedDamage      0\n",
              "vehicleType            0\n",
              "fuelType               0\n",
              "gearbox                0\n",
              "ageOfVehicle           0\n",
              "model                  0\n",
              "brand                  0\n",
              "powerPS                0\n",
              "No_of_days_online      0\n",
              "price                  0"
            ]
          },
          "metadata": {
            "tags": []
          },
          "execution_count": 117
        }
      ]
    }
  ]
}