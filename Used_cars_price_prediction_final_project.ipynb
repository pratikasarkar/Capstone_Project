{
 "cells": [
  {
   "cell_type": "markdown",
   "metadata": {},
   "source": [
    "# Regression Models"
   ]
  },
  {
   "cell_type": "code",
   "execution_count": 1,
   "metadata": {
    "id": "g_A9ht3YnwHB",
    "outputId": "8e7ee5c9-06c8-4989-98ce-fa4537651203"
   },
   "outputs": [
    {
     "name": "stderr",
     "output_type": "stream",
     "text": [
      "C:\\Anaconda\\lib\\site-packages\\statsmodels\\tools\\_testing.py:19: FutureWarning: pandas.util.testing is deprecated. Use the functions in the public API at pandas.testing instead.\n",
      "  import pandas.util.testing as tm\n"
     ]
    }
   ],
   "source": [
    "import numpy as np\n",
    "import pandas as pd\n",
    "import seaborn as sns\n",
    "import matplotlib.pyplot as plt\n",
    "import warnings\n",
    "warnings.filterwarnings('ignore')\n",
    "df = pd.read_csv('encoded_transformed_data.csv')"
   ]
  },
  {
   "cell_type": "code",
   "execution_count": 2,
   "metadata": {
    "id": "3PyMfzb5fxqJ",
    "outputId": "25c09272-8ca5-4f5f-e082-24cfbe9af32d"
   },
   "outputs": [
    {
     "data": {
      "text/html": [
       "<div>\n",
       "<style scoped>\n",
       "    .dataframe tbody tr th:only-of-type {\n",
       "        vertical-align: middle;\n",
       "    }\n",
       "\n",
       "    .dataframe tbody tr th {\n",
       "        vertical-align: top;\n",
       "    }\n",
       "\n",
       "    .dataframe thead th {\n",
       "        text-align: right;\n",
       "    }\n",
       "</style>\n",
       "<table border=\"1\" class=\"dataframe\">\n",
       "  <thead>\n",
       "    <tr style=\"text-align: right;\">\n",
       "      <th></th>\n",
       "      <th>ageOfVehicle</th>\n",
       "      <th>powerPS</th>\n",
       "      <th>No_of_days_online</th>\n",
       "      <th>price</th>\n",
       "      <th>kilometer_Enc</th>\n",
       "      <th>vehicleType_Enc</th>\n",
       "      <th>fuelType_Enc</th>\n",
       "      <th>model_Enc</th>\n",
       "      <th>brand_Enc</th>\n",
       "      <th>state_Enc</th>\n",
       "      <th>CountryOfManufacture_Enc</th>\n",
       "      <th>notRepairedDamage_Yes</th>\n",
       "      <th>gearbox_manual</th>\n",
       "    </tr>\n",
       "  </thead>\n",
       "  <tbody>\n",
       "    <tr>\n",
       "      <th>0</th>\n",
       "      <td>6.25</td>\n",
       "      <td>110</td>\n",
       "      <td>9</td>\n",
       "      <td>1500</td>\n",
       "      <td>13717.113297</td>\n",
       "      <td>7257.557082</td>\n",
       "      <td>9387.047740</td>\n",
       "      <td>7836.863228</td>\n",
       "      <td>9331.769749</td>\n",
       "      <td>6045.113979</td>\n",
       "      <td>7837.621484</td>\n",
       "      <td>1</td>\n",
       "      <td>1</td>\n",
       "    </tr>\n",
       "    <tr>\n",
       "      <th>1</th>\n",
       "      <td>4.08</td>\n",
       "      <td>102</td>\n",
       "      <td>10</td>\n",
       "      <td>2300</td>\n",
       "      <td>4377.947369</td>\n",
       "      <td>6549.068611</td>\n",
       "      <td>5521.009096</td>\n",
       "      <td>4790.353506</td>\n",
       "      <td>9331.769749</td>\n",
       "      <td>6749.729565</td>\n",
       "      <td>7837.621484</td>\n",
       "      <td>0</td>\n",
       "      <td>0</td>\n",
       "    </tr>\n",
       "    <tr>\n",
       "      <th>2</th>\n",
       "      <td>6.00</td>\n",
       "      <td>156</td>\n",
       "      <td>16</td>\n",
       "      <td>14850</td>\n",
       "      <td>22086.028674</td>\n",
       "      <td>3296.831296</td>\n",
       "      <td>5521.009096</td>\n",
       "      <td>7836.863228</td>\n",
       "      <td>4082.657025</td>\n",
       "      <td>5578.958919</td>\n",
       "      <td>3439.892074</td>\n",
       "      <td>0</td>\n",
       "      <td>1</td>\n",
       "    </tr>\n",
       "    <tr>\n",
       "      <th>3</th>\n",
       "      <td>17.92</td>\n",
       "      <td>84</td>\n",
       "      <td>0</td>\n",
       "      <td>1200</td>\n",
       "      <td>6982.800909</td>\n",
       "      <td>11398.950271</td>\n",
       "      <td>5521.009096</td>\n",
       "      <td>3673.857243</td>\n",
       "      <td>3580.063354</td>\n",
       "      <td>6391.086711</td>\n",
       "      <td>7837.621484</td>\n",
       "      <td>0</td>\n",
       "      <td>1</td>\n",
       "    </tr>\n",
       "    <tr>\n",
       "      <th>4</th>\n",
       "      <td>11.08</td>\n",
       "      <td>256</td>\n",
       "      <td>13</td>\n",
       "      <td>26800</td>\n",
       "      <td>8529.411508</td>\n",
       "      <td>10767.621387</td>\n",
       "      <td>5521.009096</td>\n",
       "      <td>23460.169675</td>\n",
       "      <td>35967.276176</td>\n",
       "      <td>7117.909115</td>\n",
       "      <td>7837.621484</td>\n",
       "      <td>0</td>\n",
       "      <td>1</td>\n",
       "    </tr>\n",
       "  </tbody>\n",
       "</table>\n",
       "</div>"
      ],
      "text/plain": [
       "   ageOfVehicle  powerPS  No_of_days_online  price  kilometer_Enc  \\\n",
       "0          6.25      110                  9   1500   13717.113297   \n",
       "1          4.08      102                 10   2300    4377.947369   \n",
       "2          6.00      156                 16  14850   22086.028674   \n",
       "3         17.92       84                  0   1200    6982.800909   \n",
       "4         11.08      256                 13  26800    8529.411508   \n",
       "\n",
       "   vehicleType_Enc  fuelType_Enc     model_Enc     brand_Enc    state_Enc  \\\n",
       "0      7257.557082   9387.047740   7836.863228   9331.769749  6045.113979   \n",
       "1      6549.068611   5521.009096   4790.353506   9331.769749  6749.729565   \n",
       "2      3296.831296   5521.009096   7836.863228   4082.657025  5578.958919   \n",
       "3     11398.950271   5521.009096   3673.857243   3580.063354  6391.086711   \n",
       "4     10767.621387   5521.009096  23460.169675  35967.276176  7117.909115   \n",
       "\n",
       "   CountryOfManufacture_Enc  notRepairedDamage_Yes  gearbox_manual  \n",
       "0               7837.621484                      1               1  \n",
       "1               7837.621484                      0               0  \n",
       "2               3439.892074                      0               1  \n",
       "3               7837.621484                      0               1  \n",
       "4               7837.621484                      0               1  "
      ]
     },
     "execution_count": 2,
     "metadata": {},
     "output_type": "execute_result"
    }
   ],
   "source": [
    "df.drop('Unnamed: 0',axis = 1,inplace = True)\n",
    "df.head()"
   ]
  },
  {
   "cell_type": "code",
   "execution_count": 3,
   "metadata": {},
   "outputs": [
    {
     "data": {
      "text/plain": [
       "(245500, 13)"
      ]
     },
     "execution_count": 3,
     "metadata": {},
     "output_type": "execute_result"
    }
   ],
   "source": [
    "df.shape"
   ]
  },
  {
   "cell_type": "code",
   "execution_count": 4,
   "metadata": {
    "scrolled": true
   },
   "outputs": [
    {
     "data": {
      "text/plain": [
       "ageOfVehicle                0\n",
       "powerPS                     0\n",
       "No_of_days_online           0\n",
       "price                       0\n",
       "kilometer_Enc               0\n",
       "vehicleType_Enc             0\n",
       "fuelType_Enc                0\n",
       "model_Enc                   1\n",
       "brand_Enc                   0\n",
       "state_Enc                   0\n",
       "CountryOfManufacture_Enc    0\n",
       "notRepairedDamage_Yes       0\n",
       "gearbox_manual              0\n",
       "dtype: int64"
      ]
     },
     "execution_count": 4,
     "metadata": {},
     "output_type": "execute_result"
    }
   ],
   "source": [
    "df.isnull().sum()"
   ]
  },
  {
   "cell_type": "code",
   "execution_count": 5,
   "metadata": {},
   "outputs": [],
   "source": [
    "df.dropna(inplace = True)"
   ]
  },
  {
   "cell_type": "markdown",
   "metadata": {},
   "source": [
    "# Parametric Models"
   ]
  },
  {
   "cell_type": "code",
   "execution_count": 6,
   "metadata": {},
   "outputs": [],
   "source": [
    "from sklearn.linear_model import LinearRegression, Ridge, Lasso, ElasticNet\n",
    "from sklearn.model_selection import train_test_split\n",
    "X = df.drop('price',axis = 1)\n",
    "y = pd.DataFrame(df['price'],columns=['price'])"
   ]
  },
  {
   "cell_type": "code",
   "execution_count": 7,
   "metadata": {},
   "outputs": [],
   "source": [
    "y_par_mod = pd.DataFrame(np.log1p(y['price']).values,columns=['log_price'])"
   ]
  },
  {
   "cell_type": "code",
   "execution_count": 8,
   "metadata": {},
   "outputs": [],
   "source": [
    "X_train, X_test, y_train, y_test = train_test_split(X,y_par_mod,test_size = 0.2,random_state = 0)"
   ]
  },
  {
   "cell_type": "code",
   "execution_count": 9,
   "metadata": {},
   "outputs": [],
   "source": [
    "lr = LinearRegression()\n",
    "ridge = Ridge(alpha = 0.1,normalize = True) # Scaling is mandatory for all distance based calculations\n",
    "lasso = Lasso(alpha = 0.0001,normalize = True)\n",
    "elasticnet = ElasticNet(l1_ratio=0.01,alpha = 0.0001,normalize = True)"
   ]
  },
  {
   "cell_type": "code",
   "execution_count": 10,
   "metadata": {},
   "outputs": [
    {
     "data": {
      "text/plain": [
       "([<matplotlib.axis.YTick at 0x2060202ff08>,\n",
       "  <matplotlib.axis.YTick at 0x2060202f688>,\n",
       "  <matplotlib.axis.YTick at 0x20602013fc8>,\n",
       "  <matplotlib.axis.YTick at 0x206020bfd88>,\n",
       "  <matplotlib.axis.YTick at 0x206020c8648>,\n",
       "  <matplotlib.axis.YTick at 0x206020c90c8>,\n",
       "  <matplotlib.axis.YTick at 0x206020c9c88>,\n",
       "  <matplotlib.axis.YTick at 0x206020cf808>,\n",
       "  <matplotlib.axis.YTick at 0x206020d1388>,\n",
       "  <matplotlib.axis.YTick at 0x206020d1188>,\n",
       "  <matplotlib.axis.YTick at 0x206020cf848>,\n",
       "  <matplotlib.axis.YTick at 0x206020d6108>,\n",
       "  <matplotlib.axis.YTick at 0x206020d9108>,\n",
       "  <matplotlib.axis.YTick at 0x206020d9a08>,\n",
       "  <matplotlib.axis.YTick at 0x206020dc448>,\n",
       "  <matplotlib.axis.YTick at 0x206020dcdc8>,\n",
       "  <matplotlib.axis.YTick at 0x206020deac8>,\n",
       "  <matplotlib.axis.YTick at 0x206020e5648>,\n",
       "  <matplotlib.axis.YTick at 0x206020e8188>,\n",
       "  <matplotlib.axis.YTick at 0x206020e8cc8>],\n",
       " <a list of 20 Text yticklabel objects>)"
      ]
     },
     "execution_count": 10,
     "metadata": {},
     "output_type": "execute_result"
    },
    {
     "data": {
      "image/png": "[encoded data removed]",
      "text/plain": [
       "<Figure size 432x288 with 1 Axes>"
      ]
     },
     "metadata": {
      "needs_background": "light"
     },
     "output_type": "display_data"
    }
   ],
   "source": [
    "model = lr.fit(X_train,y_train)\n",
    "sns.barplot(x = X_train.columns,y = model.coef_[0])\n",
    "plt.title('LR coefficients')\n",
    "plt.xticks(rotation = 90)\n",
    "plt.yticks(np.arange(-1,1,0.1))"
   ]
  },
  {
   "cell_type": "code",
   "execution_count": 12,
   "metadata": {},
   "outputs": [
    {
     "data": {
      "text/plain": [
       "0.7341509340358445"
      ]
     },
     "execution_count": 12,
     "metadata": {},
     "output_type": "execute_result"
    }
   ],
   "source": [
    "lr.score(X_test,y_test)"
   ]
  },
  {
   "cell_type": "code",
   "execution_count": 37,
   "metadata": {},
   "outputs": [
    {
     "data": {
      "text/html": [
       "<div>\n",
       "<style scoped>\n",
       "    .dataframe tbody tr th:only-of-type {\n",
       "        vertical-align: middle;\n",
       "    }\n",
       "\n",
       "    .dataframe tbody tr th {\n",
       "        vertical-align: top;\n",
       "    }\n",
       "\n",
       "    .dataframe thead th {\n",
       "        text-align: right;\n",
       "    }\n",
       "</style>\n",
       "<table border=\"1\" class=\"dataframe\">\n",
       "  <thead>\n",
       "    <tr style=\"text-align: right;\">\n",
       "      <th></th>\n",
       "      <th>ageOfVehicle</th>\n",
       "      <th>powerPS</th>\n",
       "      <th>No_of_days_online</th>\n",
       "      <th>kilometer_Enc</th>\n",
       "      <th>vehicleType_Enc</th>\n",
       "      <th>fuelType_Enc</th>\n",
       "      <th>model_Enc</th>\n",
       "      <th>brand_Enc</th>\n",
       "      <th>state_Enc</th>\n",
       "      <th>CountryOfManufacture_Enc</th>\n",
       "      <th>notRepairedDamage_Yes</th>\n",
       "      <th>gearbox_manual</th>\n",
       "    </tr>\n",
       "  </thead>\n",
       "  <tbody>\n",
       "    <tr>\n",
       "      <th>0</th>\n",
       "      <td>-0.053782</td>\n",
       "      <td>0.005416</td>\n",
       "      <td>0.008461</td>\n",
       "      <td>0.000084</td>\n",
       "      <td>0.000038</td>\n",
       "      <td>0.000093</td>\n",
       "      <td>0.000033</td>\n",
       "      <td>0.000011</td>\n",
       "      <td>0.000024</td>\n",
       "      <td>0.000053</td>\n",
       "      <td>-0.697563</td>\n",
       "      <td>-0.031214</td>\n",
       "    </tr>\n",
       "  </tbody>\n",
       "</table>\n",
       "</div>"
      ],
      "text/plain": [
       "   ageOfVehicle   powerPS  No_of_days_online  kilometer_Enc  vehicleType_Enc  \\\n",
       "0     -0.053782  0.005416           0.008461       0.000084         0.000038   \n",
       "\n",
       "   fuelType_Enc  model_Enc  brand_Enc  state_Enc  CountryOfManufacture_Enc  \\\n",
       "0      0.000093   0.000033   0.000011   0.000024                  0.000053   \n",
       "\n",
       "   notRepairedDamage_Yes  gearbox_manual  \n",
       "0              -0.697563       -0.031214  "
      ]
     },
     "execution_count": 37,
     "metadata": {},
     "output_type": "execute_result"
    }
   ],
   "source": [
    "pd.DataFrame(model.coef_,columns = X_train.columns)"
   ]
  },
  {
   "cell_type": "code",
   "execution_count": 38,
   "metadata": {},
   "outputs": [
    {
     "data": {
      "text/plain": [
       "([<matplotlib.axis.YTick at 0x1e53df16408>,\n",
       "  <matplotlib.axis.YTick at 0x1e53fbbce48>,\n",
       "  <matplotlib.axis.YTick at 0x1e53dee0c88>,\n",
       "  <matplotlib.axis.YTick at 0x1e53df8bb08>,\n",
       "  <matplotlib.axis.YTick at 0x1e53df8f508>,\n",
       "  <matplotlib.axis.YTick at 0x1e53df940c8>,\n",
       "  <matplotlib.axis.YTick at 0x1e53df94b08>,\n",
       "  <matplotlib.axis.YTick at 0x1e53df8f608>,\n",
       "  <matplotlib.axis.YTick at 0x1e53df82388>,\n",
       "  <matplotlib.axis.YTick at 0x1e53df988c8>,\n",
       "  <matplotlib.axis.YTick at 0x1e53df9a208>,\n",
       "  <matplotlib.axis.YTick at 0x1e53df9ad48>,\n",
       "  <matplotlib.axis.YTick at 0x1e53df9d7c8>,\n",
       "  <matplotlib.axis.YTick at 0x1e53dfa22c8>,\n",
       "  <matplotlib.axis.YTick at 0x1e53dfa2d88>,\n",
       "  <matplotlib.axis.YTick at 0x1e53dfa5888>,\n",
       "  <matplotlib.axis.YTick at 0x1e53dfa2148>,\n",
       "  <matplotlib.axis.YTick at 0x1e53df98bc8>,\n",
       "  <matplotlib.axis.YTick at 0x1e53dfaa608>,\n",
       "  <matplotlib.axis.YTick at 0x1e53dfad0c8>],\n",
       " <a list of 20 Text yticklabel objects>)"
      ]
     },
     "execution_count": 38,
     "metadata": {},
     "output_type": "execute_result"
    },
    {
     "data": {
      "image/png": "[encoded data removed]",
      "text/plain": [
       "<Figure size 432x288 with 1 Axes>"
      ]
     },
     "metadata": {
      "needs_background": "light"
     },
     "output_type": "display_data"
    }
   ],
   "source": [
    "model = ridge.fit(X_train,y_train)\n",
    "sns.barplot(x = X_train.columns,y = model.coef_[0])\n",
    "plt.title('Ridge coefficients')\n",
    "plt.xticks(rotation = 90)\n",
    "plt.yticks(np.arange(-1,1,0.1))"
   ]
  },
  {
   "cell_type": "code",
   "execution_count": 39,
   "metadata": {},
   "outputs": [
    {
     "data": {
      "text/plain": [
       "([<matplotlib.axis.YTick at 0x1e53fe6a988>,\n",
       "  <matplotlib.axis.YTick at 0x1e53dfe6948>,\n",
       "  <matplotlib.axis.YTick at 0x1e53defe5c8>,\n",
       "  <matplotlib.axis.YTick at 0x1e53fed0cc8>,\n",
       "  <matplotlib.axis.YTick at 0x1e53fed66c8>,\n",
       "  <matplotlib.axis.YTick at 0x1e53fed72c8>,\n",
       "  <matplotlib.axis.YTick at 0x1e53fed7b88>,\n",
       "  <matplotlib.axis.YTick at 0x1e53fecc5c8>,\n",
       "  <matplotlib.axis.YTick at 0x1e53fedb3c8>,\n",
       "  <matplotlib.axis.YTick at 0x1e53fedbc08>,\n",
       "  <matplotlib.axis.YTick at 0x1e53fedd948>,\n",
       "  <matplotlib.axis.YTick at 0x1e53fee2488>,\n",
       "  <matplotlib.axis.YTick at 0x1e53fee60c8>,\n",
       "  <matplotlib.axis.YTick at 0x1e53fee6b48>,\n",
       "  <matplotlib.axis.YTick at 0x1e53feeb6c8>,\n",
       "  <matplotlib.axis.YTick at 0x1e53feed2c8>,\n",
       "  <matplotlib.axis.YTick at 0x1e53feebe08>,\n",
       "  <matplotlib.axis.YTick at 0x1e53feed0c8>,\n",
       "  <matplotlib.axis.YTick at 0x1e53fef1148>,\n",
       "  <matplotlib.axis.YTick at 0x1e53fef1b08>],\n",
       " <a list of 20 Text yticklabel objects>)"
      ]
     },
     "execution_count": 39,
     "metadata": {},
     "output_type": "execute_result"
    },
    {
     "data": {
      "image/png": "[encoded data removed]",
      "text/plain": [
       "<Figure size 432x288 with 1 Axes>"
      ]
     },
     "metadata": {
      "needs_background": "light"
     },
     "output_type": "display_data"
    }
   ],
   "source": [
    "model = lasso.fit(X_train,y_train)\n",
    "sns.barplot(x = X_train.columns,y = model.coef_)\n",
    "plt.title('Lasso coefficients')\n",
    "plt.xticks(rotation = 90)\n",
    "plt.yticks(np.arange(-1,1,0.1))"
   ]
  },
  {
   "cell_type": "code",
   "execution_count": 40,
   "metadata": {},
   "outputs": [
    {
     "data": {
      "text/plain": [
       "([<matplotlib.axis.YTick at 0x1e53fefa6c8>,\n",
       "  <matplotlib.axis.YTick at 0x1e53df52908>,\n",
       "  <matplotlib.axis.YTick at 0x1e53dfb18c8>,\n",
       "  <matplotlib.axis.YTick at 0x1e53ff93e88>,\n",
       "  <matplotlib.axis.YTick at 0x1e53ff988c8>,\n",
       "  <matplotlib.axis.YTick at 0x1e53ff9a448>,\n",
       "  <matplotlib.axis.YTick at 0x1e53ff9d0c8>,\n",
       "  <matplotlib.axis.YTick at 0x1e53ff9db48>,\n",
       "  <matplotlib.axis.YTick at 0x1e53ffa16c8>,\n",
       "  <matplotlib.axis.YTick at 0x1e53ff9d108>,\n",
       "  <matplotlib.axis.YTick at 0x1e53ff93ec8>,\n",
       "  <matplotlib.axis.YTick at 0x1e53ffa5748>,\n",
       "  <matplotlib.axis.YTick at 0x1e53ffa8148>,\n",
       "  <matplotlib.axis.YTick at 0x1e53ffa8d08>,\n",
       "  <matplotlib.axis.YTick at 0x1e53ffac808>,\n",
       "  <matplotlib.axis.YTick at 0x1e53ffb0388>,\n",
       "  <matplotlib.axis.YTick at 0x1e53ffb0d88>,\n",
       "  <matplotlib.axis.YTick at 0x1e53ffb3a48>,\n",
       "  <matplotlib.axis.YTick at 0x1e53ffb75c8>,\n",
       "  <matplotlib.axis.YTick at 0x1e53ffb0488>],\n",
       " <a list of 20 Text yticklabel objects>)"
      ]
     },
     "execution_count": 40,
     "metadata": {},
     "output_type": "execute_result"
    },
    {
     "data": {
      "image/png": "[encoded data removed]",
      "text/plain": [
       "<Figure size 432x288 with 1 Axes>"
      ]
     },
     "metadata": {
      "needs_background": "light"
     },
     "output_type": "display_data"
    }
   ],
   "source": [
    "model = elasticnet.fit(X_train,y_train)\n",
    "sns.barplot(x = X_train.columns,y = model.coef_)\n",
    "plt.title('Elasticnet coefficients')\n",
    "plt.xticks(rotation = 90)\n",
    "plt.yticks(np.arange(-1,1,0.1))"
   ]
  },
  {
   "cell_type": "code",
   "execution_count": 41,
   "metadata": {},
   "outputs": [
    {
     "name": "stdout",
     "output_type": "stream",
     "text": [
      "RMSE scores : 0.586 (+/- 0.00652309) [Linear_Regression]\n",
      "\n",
      "RMSE scores : 0.588 (+/- 0.00621691) [Ridge]\n",
      "\n",
      "RMSE scores : 0.596 (+/- 0.00613996) [LASSO]\n",
      "\n",
      "RMSE scores : 1.047 (+/- 0.00700431) [ElasticNet]\n",
      "\n"
     ]
    }
   ],
   "source": [
    "from sklearn.model_selection import KFold\n",
    "from sklearn import metrics\n",
    "kf = KFold(n_splits=10,shuffle=True,random_state=0)\n",
    "for model,name in zip([lr,ridge,lasso,elasticnet],['Linear_Regression','Ridge','LASSO','ElasticNet']):\n",
    "    rmse = []\n",
    "    for train_idx,test_idx in kf.split(X,y_par_mod):\n",
    "        X_train,X_test = X.iloc[train_idx,:],X.iloc[test_idx,:]\n",
    "        y_train,y_test = y_par_mod.iloc[train_idx,:],y_par_mod.iloc[test_idx,:]\n",
    "        model.fit(X_train,y_train)\n",
    "        y_pred = model.predict(X_test)\n",
    "        mse = metrics.mean_squared_error(y_test,y_pred)\n",
    "        rmse.append(np.sqrt(mse))\n",
    "    print('RMSE scores : %0.03f (+/- %0.08f) [%s]'%(np.mean(rmse), np.std(rmse,ddof = 1), name))\n",
    "    print()"
   ]
  },
  {
   "cell_type": "markdown",
   "metadata": {},
   "source": [
    "RMSE scores : 0.586 (+/- 0.00652309) [Linear_Regression]\n",
    "\n",
    "RMSE scores : 0.588 (+/- 0.00621691) [Ridge]\n",
    "\n",
    "RMSE scores : 0.596 (+/- 0.00613996) [LASSO]\n",
    "\n",
    "RMSE scores : 1.047 (+/- 0.00700431) [ElasticNet]\n",
    "\n",
    "Linear model seems to give us the best results. But if we use Ridge model, we tend to increase the bias error by about 0.34% but would yeild us an improvement in variance error by approximately 4.69%. If we use Lasso model, we tend to increase the bias error by about 1.67% but would yeild us an improvement in variance error by approximately 5.87%."
   ]
  },
  {
   "cell_type": "markdown",
   "metadata": {},
   "source": [
    "### Ridge Model"
   ]
  },
  {
   "cell_type": "code",
   "execution_count": 50,
   "metadata": {},
   "outputs": [
    {
     "data": {
      "text/plain": [
       "8.261835079048764"
      ]
     },
     "execution_count": 50,
     "metadata": {},
     "output_type": "execute_result"
    }
   ],
   "source": [
    "np.mean(y_par_mod['log_price'])"
   ]
  },
  {
   "cell_type": "code",
   "execution_count": 73,
   "metadata": {},
   "outputs": [
    {
     "data": {
      "text/plain": [
       "6972.23884208528"
      ]
     },
     "execution_count": 73,
     "metadata": {},
     "output_type": "execute_result"
    }
   ],
   "source": [
    "np.expm1(8.261835079048764 + 0.588)"
   ]
  },
  {
   "cell_type": "code",
   "execution_count": 74,
   "metadata": {},
   "outputs": [
    {
     "data": {
      "text/plain": [
       "2150.3161122047436"
      ]
     },
     "execution_count": 74,
     "metadata": {},
     "output_type": "execute_result"
    }
   ],
   "source": [
    "np.expm1(8.261835079048764 - 0.588)"
   ]
  },
  {
   "cell_type": "code",
   "execution_count": 55,
   "metadata": {},
   "outputs": [
    {
     "data": {
      "text/plain": [
       "7015.725877804344"
      ]
     },
     "execution_count": 55,
     "metadata": {},
     "output_type": "execute_result"
    }
   ],
   "source": [
    "np.expm1(8.261835079048764 + 0.588 + 0.00621691)"
   ]
  },
  {
   "cell_type": "code",
   "execution_count": 56,
   "metadata": {},
   "outputs": [
    {
     "data": {
      "text/plain": [
       "6929.021322705969"
      ]
     },
     "execution_count": 56,
     "metadata": {},
     "output_type": "execute_result"
    }
   ],
   "source": [
    "np.expm1(8.261835079048764 + 0.588 - 0.00621691)"
   ]
  },
  {
   "cell_type": "code",
   "execution_count": 57,
   "metadata": {},
   "outputs": [
    {
     "data": {
      "text/plain": [
       "2136.983061684644"
      ]
     },
     "execution_count": 57,
     "metadata": {},
     "output_type": "execute_result"
    }
   ],
   "source": [
    "np.expm1(8.261835079048764 - 0.588 - 0.00621691)"
   ]
  },
  {
   "cell_type": "code",
   "execution_count": 58,
   "metadata": {},
   "outputs": [
    {
     "data": {
      "text/plain": [
       "2163.732311295736"
      ]
     },
     "execution_count": 58,
     "metadata": {},
     "output_type": "execute_result"
    }
   ],
   "source": [
    "np.expm1(8.261835079048764 - 0.588 + 0.00621691)"
   ]
  },
  {
   "cell_type": "markdown",
   "metadata": {},
   "source": [
    "Worst case model range : 2136.98 euros to 7015.73 euros - 4878.75\n",
    "\n",
    "Average case model range : 2150.32 euros to 6972.24 euros - 4821.92\n",
    "\n",
    "Best case model range : 2163.73 euros to 6929.02 euros - 4765.29"
   ]
  },
  {
   "cell_type": "markdown",
   "metadata": {},
   "source": [
    "# Scaling Data"
   ]
  },
  {
   "cell_type": "code",
   "execution_count": 188,
   "metadata": {},
   "outputs": [],
   "source": [
    "from sklearn.preprocessing import StandardScaler\n",
    "ss = StandardScaler()\n",
    "X_scaled = ss.fit_transform(X)"
   ]
  },
  {
   "cell_type": "markdown",
   "metadata": {},
   "source": [
    "# Non Parametric Models"
   ]
  },
  {
   "cell_type": "markdown",
   "metadata": {},
   "source": [
    "## Hyperparameter tuning"
   ]
  },
  {
   "cell_type": "code",
   "execution_count": 189,
   "metadata": {},
   "outputs": [],
   "source": [
    "from sklearn.neighbors import KNeighborsRegressor\n",
    "from sklearn.model_selection import GridSearchCV\n",
    "knn = KNeighborsRegressor()\n",
    "params = {\n",
    "    'n_neighbors' : [1,5,10,20,30,40,50,60,70,80,90,100],\n",
    "    'weights' : ['uniform','distance']\n",
    "}\n",
    "gscv = GridSearchCV(knn,params,scoring='neg_mean_squared_error',cv = 3)\n",
    "gscv.fit(X_scaled,y)\n",
    "print(gscv.best_params_)"
   ]
  },
  {
   "cell_type": "markdown",
   "metadata": {},
   "source": [
    "{'n_neighbors': 10, 'weights': 'distance'}"
   ]
  },
  {
   "cell_type": "code",
   "execution_count": 190,
   "metadata": {},
   "outputs": [],
   "source": [
    "from sklearn.model_selection import GridSearchCV"
   ]
  },
  {
   "cell_type": "code",
   "execution_count": 191,
   "metadata": {},
   "outputs": [],
   "source": [
    "from sklearn.ensemble import RandomForestRegressor\n",
    "from sklearn.tree import DecisionTreeRegressor\n",
    "dt = DecisionTreeRegressor(random_state=0)\n",
    "rf = RandomForestRegressor(random_state=0)\n",
    "param_dt = {\n",
    "    'criterion' : ['mse','mae'],\n",
    "    'max_depth' : np.arange(1,11)\n",
    "}\n",
    "param_rf = {\n",
    "    'n_estimators' : [1,3,5,7,10],\n",
    "    'max_depth' : np.arange(1,11)\n",
    "}\n",
    "gscv_dt = GridSearchCV(dt,param_dt,scoring='neg_mean_squared_error',cv = 3)\n",
    "gscv_rf = GridSearchCV(rf,param_rf,scoring='neg_mean_squared_error',cv = 3)\n",
    "gscv_dt.fit(X_scaled,y)\n",
    "gscv_rf.fit(X_scaled,y)\n",
    "print(gscv_dt.best_params_)\n",
    "print(gscv_rf.best_params_)"
   ]
  },
  {
   "cell_type": "markdown",
   "metadata": {},
   "source": [
    "{'criterion': 'mse', 'max_depth': 10}\n",
    "\n",
    "{'max_depth': 10, 'n_estimators': 10}"
   ]
  },
  {
   "cell_type": "code",
   "execution_count": 192,
   "metadata": {},
   "outputs": [],
   "source": [
    "from sklearn.ensemble import RandomForestRegressor\n",
    "from sklearn.tree import DecisionTreeRegressor\n",
    "from sklearn.neighbors import KNeighborsRegressor"
   ]
  },
  {
   "cell_type": "code",
   "execution_count": 193,
   "metadata": {},
   "outputs": [],
   "source": [
    "knn = KNeighborsRegressor(n_neighbors= 10, weights= 'distance')\n",
    "dt = DecisionTreeRegressor(max_depth = 10)\n",
    "rf = RandomForestRegressor(max_depth = 10, n_estimators = 10)"
   ]
  },
  {
   "cell_type": "code",
   "execution_count": 194,
   "metadata": {},
   "outputs": [],
   "source": [
    "#Tuning n_estimators for Bagging\n",
    "from sklearn.ensemble import BaggingRegressor\n",
    "from sklearn.model_selection import KFold,cross_val_score\n",
    "models = []\n",
    "models.append(('KNN',knn))\n",
    "models.append(('Decision Tree',dt))\n",
    "for name,model in models:\n",
    "    mse_var = []\n",
    "    for val in np.arange(1,11):\n",
    "        model_bag = BaggingRegressor(base_estimator = model,n_estimators = val,random_state = 0)\n",
    "        kfold = KFold(n_splits = 5,random_state = 0,shuffle = True)\n",
    "        results = cross_val_score(model_bag,X_scaled,y,cv = kfold,scoring='neg_mean_squared_error')\n",
    "        mse_var.append(np.var(results,ddof = 1))\n",
    "    print(name,np.argmin(mse_var)+1)"
   ]
  },
  {
   "cell_type": "markdown",
   "metadata": {},
   "source": [
    "KNN 3\n",
    "\n",
    "Decision Tree 2"
   ]
  },
  {
   "cell_type": "code",
   "execution_count": 195,
   "metadata": {},
   "outputs": [],
   "source": [
    "#Tuning n_estimators for Boosting\n",
    "from sklearn.ensemble import AdaBoostRegressor\n",
    "models = []\n",
    "models.append(('RF',rf))\n",
    "models.append(('Decision Tree',dt))\n",
    "for name,model in models:  \n",
    "    mse_mean = []\n",
    "    for val in np.arange(1,11):\n",
    "        model_boost = AdaBoostRegressor(base_estimator = model,n_estimators = val,random_state = 0)\n",
    "        kfold = KFold(n_splits = 5,random_state = 0,shuffle = True)\n",
    "        results = cross_val_score(model_boost,X_scaled,y,cv = kfold,scoring='neg_mean_squared_error')\n",
    "        mse_mean.append(np.mean(results))\n",
    "    print(name,np.argmax(mse_mean)+1)"
   ]
  },
  {
   "cell_type": "markdown",
   "metadata": {},
   "source": [
    "RF 8\n",
    "\n",
    "Decision Tree 10"
   ]
  },
  {
   "cell_type": "code",
   "execution_count": 196,
   "metadata": {},
   "outputs": [],
   "source": [
    "from sklearn.ensemble import AdaBoostRegressor\n",
    "from sklearn.ensemble import BaggingRegressor\n",
    "#Bagging Models\n",
    "knn_bag = BaggingRegressor(base_estimator = knn,n_estimators = 3,random_state = 0)\n",
    "DT_bag = BaggingRegressor(base_estimator = dt,n_estimators = 2,random_state = 0)\n",
    "#Boosting models\n",
    "rf_boost = AdaBoostRegressor(base_estimator = rf,n_estimators = 8,random_state = 0)\n",
    "DT_boost = AdaBoostRegressor(base_estimator = dt,n_estimators = 10,random_state = 0)"
   ]
  },
  {
   "cell_type": "code",
   "execution_count": 197,
   "metadata": {},
   "outputs": [],
   "source": [
    "#Tuning n_estimators for GradientBoosting\n",
    "from sklearn.ensemble import GradientBoostingRegressor\n",
    "mse_mean = []\n",
    "for val in np.arange(1,500):\n",
    "    model_boost = GradientBoostingRegressor(n_estimators = val,random_state = 0)\n",
    "    kfold = KFold(n_splits = 5,random_state = 0,shuffle = True)\n",
    "    results = cross_val_score(model_boost,X_scaled,y,cv = kfold,scoring='neg_mean_squared_error')\n",
    "    mse_mean.append(np.mean(results))\n",
    "print(np.argmax(mse_mean)+1)"
   ]
  },
  {
   "cell_type": "markdown",
   "metadata": {},
   "source": [
    "Gradient Boost no. of estimators : 235"
   ]
  },
  {
   "cell_type": "code",
   "execution_count": 198,
   "metadata": {},
   "outputs": [],
   "source": [
    "from sklearn.ensemble import GradientBoostingRegressor\n",
    "from sklearn.model_selection import KFold,cross_val_score\n",
    "GBR = GradientBoostingRegressor(n_estimators = 235,random_state = 0)"
   ]
  },
  {
   "cell_type": "code",
   "execution_count": 199,
   "metadata": {},
   "outputs": [],
   "source": [
    "models = []\n",
    "models.append(('DTree',dt))\n",
    "models.append(('DTree Bagged',DT_bag))\n",
    "models.append(('DTree Boosted',DT_boost))\n",
    "models.append(('KNN',knn))\n",
    "models.append(('KNN Bagged',knn_bag))\n",
    "models.append(('RF',rf))\n",
    "models.append(('RF Boosted',rf_boost))\n",
    "models.append(('Gradient Boost',GBR))"
   ]
  },
  {
   "cell_type": "code",
   "execution_count": 200,
   "metadata": {},
   "outputs": [
    {
     "name": "stdout",
     "output_type": "stream",
     "text": [
      "DTree  :  3166.656666292124  --  20.688297393962202\n",
      "DTree Bagged  :  3048.6105212780576  --  22.834231612754063\n",
      "DTree Boosted  :  2920.243202345049  --  84.49880036135615\n",
      "KNN  :  2902.0643393016458  --  21.264488151889246\n",
      "KNN Bagged  :  2968.214229098139  --  12.085551507327446\n",
      "RF  :  2874.4468242214257  --  44.693950897618045\n",
      "RF Boosted  :  2810.063420003883  --  40.17073280040146\n",
      "Gradient Boost  :  2728.8733868780087  --  32.40123373222216\n"
     ]
    },
    {
     "data": {
      "image/png": "[encoded data removed]",
      "text/plain": [
       "<Figure size 1440x432 with 1 Axes>"
      ]
     },
     "metadata": {
      "needs_background": "light"
     },
     "output_type": "display_data"
    }
   ],
   "source": [
    "results = []\n",
    "names = []\n",
    "for name, model in models:\n",
    "    kfold = KFold(n_splits = 5,random_state = 0,shuffle = True)\n",
    "    cv_results = cross_val_score(model,X_scaled,y,cv = kfold,scoring='neg_mean_squared_error')\n",
    "    results.append(cv_results)\n",
    "    names.append(name)\n",
    "    print(name,' : ',np.mean(np.sqrt(np.abs(cv_results))),' -- ',np.std(np.sqrt(np.abs(cv_results)),ddof = 1))\n",
    "\n",
    "fig = plt.figure(figsize=(20,6))\n",
    "fig.suptitle('Algorithm Comparison')\n",
    "ax = fig.add_subplot(111)\n",
    "plt.boxplot(results)\n",
    "ax.set_xticklabels(names)\n",
    "plt.show()"
   ]
  },
  {
   "cell_type": "markdown",
   "metadata": {},
   "source": [
    "* DTree  :  3166.656666292124  --  20.688297393962202\n",
    "* DTree Bagged  :  3048.6105212780576  --  22.834231612754063\n",
    "* DTree Boosted  :  2920.243202345049  --  84.49880036135615\n",
    "* KNN  :  2902.0643393016458  --  21.264488151889246\n",
    "* KNN Bagged  :  2968.214229098139  --  12.085551507327446\n",
    "* RF  :  2874.4468242214257  --  44.693950897618045\n",
    "* RF Boosted  :  2810.063420003883  --  40.17073280040146\n",
    "* Gradient Boost  :  2728.8733868780087  --  32.40123373222216"
   ]
  },
  {
   "cell_type": "markdown",
   "metadata": {},
   "source": [
    "Gradient boost model seems to give us the best results. But if we use knn bagged model, we tend to increase the bias error by about 8% but would yeild us an improvement in variance error by approximately 62%"
   ]
  },
  {
   "cell_type": "code",
   "execution_count": 201,
   "metadata": {},
   "outputs": [
    {
     "name": "stdout",
     "output_type": "stream",
     "text": [
      "DTree  :  0.8449657928744093\n",
      "DTree Bagged  :  0.8563115350229993\n",
      "DTree Boosted  :  0.8681219220876164\n",
      "KNN  :  0.8698168777240948\n",
      "KNN Bagged  :  0.8638136745699165\n",
      "RF  :  0.8721904277046238\n",
      "RF Boosted  :  0.8778941513969005\n",
      "Gradient Boost  :  0.8848697399665386\n"
     ]
    },
    {
     "data": {
      "image/png": "[encoded data removed]",
      "text/plain": [
       "<Figure size 1440x432 with 1 Axes>"
      ]
     },
     "metadata": {
      "needs_background": "light"
     },
     "output_type": "display_data"
    }
   ],
   "source": [
    "results = []\n",
    "names = []\n",
    "for name, model in models:\n",
    "    kfold = KFold(n_splits = 5,random_state = 0,shuffle = True)\n",
    "    cv_results = cross_val_score(model,X_scaled,y,cv = kfold,scoring='r2')\n",
    "    results.append(cv_results)\n",
    "    names.append(name)\n",
    "    print(name,' : ',np.mean(cv_results))\n",
    "\n",
    "fig = plt.figure(figsize=(20,6))\n",
    "fig.suptitle('Algorithm Comparison')\n",
    "ax = fig.add_subplot(111)\n",
    "plt.boxplot(results)\n",
    "ax.set_xticklabels(names)\n",
    "plt.show()"
   ]
  },
  {
   "cell_type": "markdown",
   "metadata": {},
   "source": [
    "#### Rsquare\n",
    "* DTree  :  0.8449657928744093\n",
    "* DTree Bagged  :  0.8563115350229993\n",
    "* DTree Boosted  :  0.8681219220876164\n",
    "* KNN  :  0.8698168777240948\n",
    "* KNN Bagged  :  0.8638136745699165\n",
    "* RF  :  0.8721904277046238\n",
    "* RF Boosted  :  0.8778941513969005\n",
    "* Gradient Boost  :  0.8848697399665386"
   ]
  },
  {
   "cell_type": "markdown",
   "metadata": {},
   "source": [
    "### Gradient boost estimation\n",
    "* estimators - rsquare --- rmse/std_dev\n",
    "* 100 - 0.86752 --- 2927.37/40.5795\n",
    "* 150 - 0.87714 --- 2818.93/38.7061\n",
    "* 200 - 0.88235 --- 2758.48/34.2317\n",
    "* 220 - 0.88382 --- 2741.23/32.6705\n",
    "* 225 - 0.88419 --- 2736.91/32.4699\n",
    "* 235 - 0.88486 --- 2728.87/32.4012\n",
    "* 245 - 0.88549 --- 2721.38/34.0657\n",
    "* 300 - 0.88841 --- 2686.44/35.589"
   ]
  },
  {
   "cell_type": "markdown",
   "metadata": {},
   "source": [
    "### Gradient boost with 235 estimators"
   ]
  },
  {
   "cell_type": "code",
   "execution_count": 59,
   "metadata": {},
   "outputs": [
    {
     "data": {
      "text/plain": [
       "6846.931950842977"
      ]
     },
     "execution_count": 59,
     "metadata": {},
     "output_type": "execute_result"
    }
   ],
   "source": [
    "np.mean(y['price'])"
   ]
  },
  {
   "cell_type": "code",
   "execution_count": 60,
   "metadata": {},
   "outputs": [
    {
     "data": {
      "text/plain": [
       "9575.8"
      ]
     },
     "execution_count": 60,
     "metadata": {},
     "output_type": "execute_result"
    }
   ],
   "source": [
    "6846.93 + 2728.87"
   ]
  },
  {
   "cell_type": "code",
   "execution_count": 61,
   "metadata": {},
   "outputs": [
    {
     "data": {
      "text/plain": [
       "4118.06"
      ]
     },
     "execution_count": 61,
     "metadata": {},
     "output_type": "execute_result"
    }
   ],
   "source": [
    "6846.93 - 2728.87"
   ]
  },
  {
   "cell_type": "code",
   "execution_count": 62,
   "metadata": {},
   "outputs": [
    {
     "data": {
      "text/plain": [
       "9608.199999999999"
      ]
     },
     "execution_count": 62,
     "metadata": {},
     "output_type": "execute_result"
    }
   ],
   "source": [
    "6846.93 + 2728.87 + 32.40"
   ]
  },
  {
   "cell_type": "code",
   "execution_count": 63,
   "metadata": {},
   "outputs": [
    {
     "data": {
      "text/plain": [
       "4085.6600000000003"
      ]
     },
     "execution_count": 63,
     "metadata": {},
     "output_type": "execute_result"
    }
   ],
   "source": [
    "6846.93 - 2728.87 - 32.40"
   ]
  },
  {
   "cell_type": "code",
   "execution_count": 64,
   "metadata": {},
   "outputs": [
    {
     "data": {
      "text/plain": [
       "9543.4"
      ]
     },
     "execution_count": 64,
     "metadata": {},
     "output_type": "execute_result"
    }
   ],
   "source": [
    "6846.93 + 2728.87 - 32.40"
   ]
  },
  {
   "cell_type": "code",
   "execution_count": 65,
   "metadata": {
    "scrolled": true
   },
   "outputs": [
    {
     "data": {
      "text/plain": [
       "4150.46"
      ]
     },
     "execution_count": 65,
     "metadata": {},
     "output_type": "execute_result"
    }
   ],
   "source": [
    "6846.93 - 2728.87 + 32.40"
   ]
  },
  {
   "cell_type": "markdown",
   "metadata": {},
   "source": [
    "Worst case model range : 4085.66 euros to 9608.19 euros - 5522.54\n",
    "\n",
    "Average case model range : 4118.06 euros to 9575.8 euros - 5457.73\n",
    "\n",
    "Best case model range : 4150.46 euros to 9543.4 euros - 5392.94"
   ]
  },
  {
   "cell_type": "markdown",
   "metadata": {},
   "source": [
    "### KNN Bagged with 3 estimators, 10 neighbors and unweighted/distance based voting"
   ]
  },
  {
   "cell_type": "code",
   "execution_count": 59,
   "metadata": {},
   "outputs": [
    {
     "data": {
      "text/plain": [
       "6846.931950842977"
      ]
     },
     "execution_count": 59,
     "metadata": {},
     "output_type": "execute_result"
    }
   ],
   "source": [
    "np.mean(y['price'])"
   ]
  },
  {
   "cell_type": "code",
   "execution_count": 75,
   "metadata": {},
   "outputs": [
    {
     "data": {
      "text/plain": [
       "9815.14"
      ]
     },
     "execution_count": 75,
     "metadata": {},
     "output_type": "execute_result"
    }
   ],
   "source": [
    "6846.93 + 2968.21"
   ]
  },
  {
   "cell_type": "code",
   "execution_count": 76,
   "metadata": {},
   "outputs": [
    {
     "data": {
      "text/plain": [
       "3878.7200000000003"
      ]
     },
     "execution_count": 76,
     "metadata": {},
     "output_type": "execute_result"
    }
   ],
   "source": [
    "6846.93 - 2968.21"
   ]
  },
  {
   "cell_type": "code",
   "execution_count": 77,
   "metadata": {},
   "outputs": [
    {
     "data": {
      "text/plain": [
       "9827.22"
      ]
     },
     "execution_count": 77,
     "metadata": {},
     "output_type": "execute_result"
    }
   ],
   "source": [
    "6846.93 + 2968.21 + 12.08"
   ]
  },
  {
   "cell_type": "code",
   "execution_count": 78,
   "metadata": {},
   "outputs": [
    {
     "data": {
      "text/plain": [
       "3866.6400000000003"
      ]
     },
     "execution_count": 78,
     "metadata": {},
     "output_type": "execute_result"
    }
   ],
   "source": [
    "6846.93 - 2968.21 - 12.08"
   ]
  },
  {
   "cell_type": "code",
   "execution_count": 79,
   "metadata": {},
   "outputs": [
    {
     "data": {
      "text/plain": [
       "9803.06"
      ]
     },
     "execution_count": 79,
     "metadata": {},
     "output_type": "execute_result"
    }
   ],
   "source": [
    "6846.93 + 2968.21 - 12.08"
   ]
  },
  {
   "cell_type": "code",
   "execution_count": 80,
   "metadata": {
    "scrolled": true
   },
   "outputs": [
    {
     "data": {
      "text/plain": [
       "3890.8"
      ]
     },
     "execution_count": 80,
     "metadata": {},
     "output_type": "execute_result"
    }
   ],
   "source": [
    "6846.93 - 2968.21 + 12.08"
   ]
  },
  {
   "cell_type": "markdown",
   "metadata": {},
   "source": [
    "Worst case model range : 3866.64 euros to 9827.22 euros - 5960.58\n",
    "\n",
    "Average case model range : 3878.72 euros to 9815.14 euros - 5936.42\n",
    "\n",
    "Best case model range :  3890.8 euros to 9803.06 euros - 5912.25"
   ]
  },
  {
   "cell_type": "markdown",
   "metadata": {},
   "source": [
    "### Generating deployment file"
   ]
  },
  {
   "cell_type": "code",
   "execution_count": 42,
   "metadata": {},
   "outputs": [
    {
     "data": {
      "text/plain": [
       "['ss.pkl']"
      ]
     },
     "execution_count": 42,
     "metadata": {},
     "output_type": "execute_result"
    }
   ],
   "source": [
    "from sklearn.preprocessing import StandardScaler\n",
    "ss = StandardScaler()\n",
    "ss.fit(X)\n",
    "from sklearn.externals import joblib\n",
    "joblib.dump(ss, 'ss.pkl')"
   ]
  },
  {
   "cell_type": "code",
   "execution_count": 43,
   "metadata": {},
   "outputs": [
    {
     "data": {
      "text/plain": [
       "['gbr_model.pkl']"
      ]
     },
     "execution_count": 43,
     "metadata": {},
     "output_type": "execute_result"
    }
   ],
   "source": [
    "from sklearn.ensemble import GradientBoostingRegressor\n",
    "gbr = GradientBoostingRegressor(n_estimators = 235,random_state = 0)\n",
    "gbr.fit(ss.fit_transform(X),y)\n",
    "\n",
    "from sklearn.externals import joblib\n",
    "joblib.dump(gbr, 'gbr_model.pkl')"
   ]
  },
  {
   "cell_type": "code",
   "execution_count": 49,
   "metadata": {},
   "outputs": [
    {
     "data": {
      "text/plain": [
       "['knn_bagged_model.pkl']"
      ]
     },
     "execution_count": 49,
     "metadata": {},
     "output_type": "execute_result"
    }
   ],
   "source": [
    "from sklearn.neighbors import KNeighborsRegressor\n",
    "from sklearn.ensemble import BaggingRegressor\n",
    "knn = KNeighborsRegressor(n_neighbors= 10, weights= 'distance')\n",
    "knn_bag = BaggingRegressor(base_estimator = knn,n_estimators = 3,random_state = 0)\n",
    "knn_bag.fit(ss.fit_transform(X),y)\n",
    "\n",
    "from sklearn.externals import joblib\n",
    "joblib.dump(knn_bag, 'knn_bagged_model.pkl')"
   ]
  },
  {
   "cell_type": "code",
   "execution_count": 60,
   "metadata": {},
   "outputs": [],
   "source": [
    "def pred(age,powerPS, No_of_days_online, kilometer, vehicleType, fuelType, model, brand, state, mfg, damage,gearbox):\n",
    "    map_dict = np.load('map_dict.npy',allow_pickle = 'TRUE').item()\n",
    "#     gbr_model = joblib.load('gbr_model.pkl')\n",
    "    knn_bagged_model = joblib.load('knn_bagged_model.pkl')\n",
    "    yn = {'Yes' : 1, 'No' : 0}\n",
    "    km = map_dict['kilometer'][kilometer]\n",
    "    vt = map_dict['vehicleType'][vehicleType]\n",
    "    ft = map_dict['fuelType'][fuelType]\n",
    "    mod = map_dict['model'][model]\n",
    "    br = map_dict['brand'][brand]\n",
    "    st = map_dict['state'][state]\n",
    "    com = map_dict['CountryOfManufacture'][mfg]\n",
    "    d = yn[damage]\n",
    "    gb = yn[gearbox]\n",
    "    arr = np.array([age,powerPS, No_of_days_online, km, vt, ft, mod, br, st, com, d,gb])\n",
    "    ss = joblib.load('ss.pkl')\n",
    "    arr_t = ss.transform(arr.reshape(1,-1))\n",
    "#     pred_val = gbr_model.predict(arr_t)\n",
    "    pred_val = knn_bagged_model.predict(arr_t)\n",
    "    return pred_val.tolist()\n",
    "    "
   ]
  },
  {
   "cell_type": "markdown",
   "metadata": {},
   "source": [
    "#### Predicting Price for record with  Actual Price of 1500 euros"
   ]
  },
  {
   "cell_type": "code",
   "execution_count": 61,
   "metadata": {},
   "outputs": [
    {
     "data": {
      "text/plain": [
       "[1608.231753692143]"
      ]
     },
     "execution_count": 61,
     "metadata": {},
     "output_type": "execute_result"
    }
   ],
   "source": [
    "pred(age = 19, powerPS = 75, No_of_days_online = 0, kilometer = 150000, vehicleType = 'small car',fuelType = 'petrol', \\\n",
    "     model = 'golf', brand = 'volkswagen', state = 'Bayern', mfg = 'Germany',damage = 'No', gearbox = 'Yes')"
   ]
  },
  {
   "cell_type": "markdown",
   "metadata": {},
   "source": [
    "# Neural Network"
   ]
  },
  {
   "cell_type": "code",
   "execution_count": 93,
   "metadata": {
    "colab": {},
    "colab_type": "code",
    "id": "VxRPQk1ZpWZl"
   },
   "outputs": [],
   "source": [
    "import numpy as np               \n",
    "import pandas as pd               \n",
    "from sklearn import preprocessing\n",
    "import keras\n",
    "from keras.layers import Dense    \n",
    "from keras.layers import BatchNormalization \n",
    "from keras.layers import Dropout            \n",
    "from keras.models import Sequential \n",
    "from keras.optimizers import Adam \n",
    "from keras import regularizers     \n",
    "from keras.wrappers.scikit_learn import KerasRegressor \n",
    "from sklearn.model_selection import RandomizedSearchCV\n",
    "from sklearn.model_selection import KFold \n",
    "from sklearn.model_selection import cross_val_score\n",
    "from sklearn.model_selection import cross_val_predict\n",
    "import warnings\n",
    "warnings.filterwarnings('ignore')\n",
    "df = pd.read_csv('/content/drive/My Drive/Capstone_Used_cars/used_cars_eda.csv')\n",
    "np.random.seed(1)"
   ]
  },
  {
   "cell_type": "code",
   "execution_count": 94,
   "metadata": {
    "colab": {},
    "colab_type": "code",
    "id": "B-jOeY57pfHz"
   },
   "outputs": [],
   "source": [
    "from sklearn.model_selection import KFold\n",
    "from sklearn.model_selection import train_test_split\n",
    "\n",
    "train1,test1=train_test_split(df,test_size=0.2,random_state=321)\n",
    "map_dict = {}\n",
    "def k_fold_target(train,test,columns,target,folds=5):\n",
    "    train2 = train\n",
    "    for column in columns:\n",
    "        for i,j in KFold(n_splits=folds).split(train):\n",
    "            mean=train.loc[train.index[i]].groupby(column)[target].mean()\n",
    "            train.loc[train.index[j],column+'_Enc']=train.loc[train.index[j],column].map(mean)\n",
    "        test[column+'_Enc']=test[column].map(train.groupby(column)[target].mean())\n",
    "        ##\n",
    "        map_dict[column] = train.groupby(column)[target].mean()\n",
    "        ##\n",
    "        train2[column+'_Enc']=train2[column].map(train.groupby(column)[target].mean())\n",
    "        train = train.drop(column,axis=1)\n",
    "        train2  = train2.drop(column,axis=1) \n",
    "        test  = test.drop(column,axis=1) \n",
    "    return train2,test"
   ]
  },
  {
   "cell_type": "code",
   "execution_count": 95,
   "metadata": {
    "colab": {},
    "colab_type": "code",
    "id": "PClDW_5lqSrx"
   },
   "outputs": [],
   "source": [
    "cat_cols = ['kilometer','notRepairedDamage','vehicleType','fuelType','gearbox','model', 'brand','state','CountryOfManufacture']\n",
    "num_cols = ['powerPS' ,'ageOfVehicle','No_of_days_online']\n",
    "\n",
    "cat_cols_high_crdnlty = ['kilometer', 'vehicleType', 'fuelType', 'model', 'brand', 'state', 'CountryOfManufacture']\n",
    "cat_cols_low_crdnlty  = ['notRepairedDamage', 'gearbox']\n",
    "\n",
    "train_kte , test_kte = k_fold_target(train1,test1,cat_cols_high_crdnlty,'price')\n",
    "train_kte = pd.concat([train_kte, pd.get_dummies(train_kte[cat_cols_low_crdnlty], drop_first=True)],axis=1)\n",
    "test_kte = pd.concat([test_kte, pd.get_dummies(test_kte[cat_cols_low_crdnlty], drop_first=True)],axis=1)\n",
    "train_kte.drop(cat_cols_low_crdnlty,axis = 1, inplace = True)\n",
    "test_kte.drop(cat_cols_low_crdnlty,axis = 1, inplace = True)\n",
    "train_kte.head()\n",
    "test_kte.head()\n",
    "\n",
    "test_kte.dropna(inplace=True)"
   ]
  },
  {
   "cell_type": "code",
   "execution_count": 96,
   "metadata": {
    "colab": {
     "base_uri": "https://localhost:8080/",
     "height": 215
    },
    "colab_type": "code",
    "id": "8NnO08e1qU9Q",
    "outputId": "3f280d45-107d-4f63-ac74-296efadd36da"
   },
   "outputs": [
    {
     "data": {
      "text/html": [
       "<div>\n",
       "<style scoped>\n",
       "    .dataframe tbody tr th:only-of-type {\n",
       "        vertical-align: middle;\n",
       "    }\n",
       "\n",
       "    .dataframe tbody tr th {\n",
       "        vertical-align: top;\n",
       "    }\n",
       "\n",
       "    .dataframe thead th {\n",
       "        text-align: right;\n",
       "    }\n",
       "</style>\n",
       "<table border=\"1\" class=\"dataframe\">\n",
       "  <thead>\n",
       "    <tr style=\"text-align: right;\">\n",
       "      <th></th>\n",
       "      <th>ageOfVehicle</th>\n",
       "      <th>powerPS</th>\n",
       "      <th>No_of_days_online</th>\n",
       "      <th>price</th>\n",
       "      <th>kilometer_Enc</th>\n",
       "      <th>vehicleType_Enc</th>\n",
       "      <th>fuelType_Enc</th>\n",
       "      <th>model_Enc</th>\n",
       "      <th>brand_Enc</th>\n",
       "      <th>state_Enc</th>\n",
       "      <th>CountryOfManufacture_Enc</th>\n",
       "      <th>notRepairedDamage_Yes</th>\n",
       "      <th>gearbox_manual</th>\n",
       "    </tr>\n",
       "  </thead>\n",
       "  <tbody>\n",
       "    <tr>\n",
       "      <th>162270</th>\n",
       "      <td>0.057786</td>\n",
       "      <td>0.093878</td>\n",
       "      <td>0.037657</td>\n",
       "      <td>0.014014</td>\n",
       "      <td>0.527396</td>\n",
       "      <td>0.368849</td>\n",
       "      <td>0.505771</td>\n",
       "      <td>0.144195</td>\n",
       "      <td>0.234875</td>\n",
       "      <td>0.303474</td>\n",
       "      <td>0.547668</td>\n",
       "      <td>1.0</td>\n",
       "      <td>1.0</td>\n",
       "    </tr>\n",
       "    <tr>\n",
       "      <th>187128</th>\n",
       "      <td>0.033102</td>\n",
       "      <td>0.082993</td>\n",
       "      <td>0.041841</td>\n",
       "      <td>0.022022</td>\n",
       "      <td>0.000000</td>\n",
       "      <td>0.302222</td>\n",
       "      <td>0.103093</td>\n",
       "      <td>0.084526</td>\n",
       "      <td>0.234875</td>\n",
       "      <td>0.533233</td>\n",
       "      <td>0.547668</td>\n",
       "      <td>0.0</td>\n",
       "      <td>0.0</td>\n",
       "    </tr>\n",
       "    <tr>\n",
       "      <th>148013</th>\n",
       "      <td>0.054943</td>\n",
       "      <td>0.156463</td>\n",
       "      <td>0.066946</td>\n",
       "      <td>0.147648</td>\n",
       "      <td>1.000000</td>\n",
       "      <td>0.000000</td>\n",
       "      <td>0.103093</td>\n",
       "      <td>0.144195</td>\n",
       "      <td>0.084090</td>\n",
       "      <td>0.151471</td>\n",
       "      <td>0.000000</td>\n",
       "      <td>0.0</td>\n",
       "      <td>1.0</td>\n",
       "    </tr>\n",
       "    <tr>\n",
       "      <th>84772</th>\n",
       "      <td>0.190536</td>\n",
       "      <td>0.058503</td>\n",
       "      <td>0.000000</td>\n",
       "      <td>0.011011</td>\n",
       "      <td>0.147100</td>\n",
       "      <td>0.755929</td>\n",
       "      <td>0.103093</td>\n",
       "      <td>0.062658</td>\n",
       "      <td>0.069652</td>\n",
       "      <td>0.416287</td>\n",
       "      <td>0.547668</td>\n",
       "      <td>0.0</td>\n",
       "      <td>1.0</td>\n",
       "    </tr>\n",
       "    <tr>\n",
       "      <th>116550</th>\n",
       "      <td>0.112729</td>\n",
       "      <td>0.292517</td>\n",
       "      <td>0.054393</td>\n",
       "      <td>0.267267</td>\n",
       "      <td>0.234439</td>\n",
       "      <td>0.695865</td>\n",
       "      <td>0.103093</td>\n",
       "      <td>0.450195</td>\n",
       "      <td>1.000000</td>\n",
       "      <td>0.653288</td>\n",
       "      <td>0.547668</td>\n",
       "      <td>0.0</td>\n",
       "      <td>1.0</td>\n",
       "    </tr>\n",
       "  </tbody>\n",
       "</table>\n",
       "</div>"
      ],
      "text/plain": [
       "        ageOfVehicle   powerPS  ...  notRepairedDamage_Yes  gearbox_manual\n",
       "162270      0.057786  0.093878  ...                    1.0             1.0\n",
       "187128      0.033102  0.082993  ...                    0.0             0.0\n",
       "148013      0.054943  0.156463  ...                    0.0             1.0\n",
       "84772       0.190536  0.058503  ...                    0.0             1.0\n",
       "116550      0.112729  0.292517  ...                    0.0             1.0\n",
       "\n",
       "[5 rows x 13 columns]"
      ]
     },
     "execution_count": 96,
     "metadata": {
      "tags": []
     },
     "output_type": "execute_result"
    }
   ],
   "source": [
    "ts = train_kte\n",
    "from sklearn.preprocessing import MinMaxScaler\n",
    "mm = MinMaxScaler()\n",
    "ts.iloc[:,:] = mm.fit_transform(ts)\n",
    "ts.head()"
   ]
  },
  {
   "cell_type": "code",
   "execution_count": 97,
   "metadata": {
    "colab": {},
    "colab_type": "code",
    "id": "I1Qlpaz6qYg8"
   },
   "outputs": [],
   "source": [
    "X_train = ts.drop(columns = 'price')\n",
    "y_train = ts['price']"
   ]
  },
  {
   "cell_type": "code",
   "execution_count": 98,
   "metadata": {
    "colab": {},
    "colab_type": "code",
    "id": "3zed6BXwqa1e"
   },
   "outputs": [],
   "source": [
    "tss = test_kte\n",
    "tss.iloc[:,:] = mm.fit_transform(tss)\n",
    "\n",
    "X_test = tss.drop(columns = 'price')\n",
    "y_test = tss['price']"
   ]
  },
  {
   "cell_type": "code",
   "execution_count": 99,
   "metadata": {
    "colab": {},
    "colab_type": "code",
    "id": "Zd7VudbJqdK9"
   },
   "outputs": [],
   "source": [
    "n_cols = X_train.shape[1]\n",
    "input_shape = (n_cols, )"
   ]
  },
  {
   "cell_type": "code",
   "execution_count": 68,
   "metadata": {
    "colab": {},
    "colab_type": "code",
    "id": "4NL0_isXGcT4"
   },
   "outputs": [],
   "source": [
    "def create_model(learning_rate=0.01, activation='relu',nl=1,nn=256,dropout_rate=0.0):\n",
    "    opt = Adam(lr=learning_rate) \n",
    "    model = Sequential()\n",
    "    model.add(Dense(64, activation = activation,\n",
    "                         input_shape = input_shape,\n",
    "                         activity_regularizer=regularizers.l2(1e-3),\n",
    "                         bias_regularizer=regularizers.l2(1e-3)))\n",
    "    for i in range(nl):\n",
    "      model.add(Dense(nn, activation = activation, \n",
    "                      activity_regularizer=regularizers.l2(1e-3),\n",
    "                      bias_regularizer=regularizers.l2(1e-3)))\n",
    "      model.add(BatchNormalization())\n",
    "      model.add(Dropout(dropout_rate))\n",
    "    model.add(Dense(1))\n",
    "    model.compile(optimizer = 'adam', loss = 'mse')\n",
    "    return model\n",
    "\n",
    "model = KerasRegressor(build_fn = create_model,\n",
    "                       epochs = 10 , batch_size = 32, verbose= 0)\n",
    "\n",
    "params = {'activation': [\"relu\", \"tanh\"],\n",
    "          'batch_size': [32, 64,128,256], \n",
    "          'epochs': [50,75, 100 ],\n",
    "          'learning_rate': [0.01, 0.001, 0.0001],\n",
    "          'nl' : [2,3,4,5] , \n",
    "          'nn' : [16,32,64,128,256],\n",
    "          'dropout_rate' : [0.3, 0.4, 0.5, 0.6]}\n",
    "\n",
    "random_search = RandomizedSearchCV(model, param_distributions =params, cv=3,n_jobs=-1)\n",
    "random_search_results = random_search.fit(X_train, y_train,validation_data=(X_test,y_test))\n",
    "print(\"Best Score: \", random_search_results.best_score_, \"and Best Params: \", random_search_results.best_params_)"
   ]
  },
  {
   "cell_type": "code",
   "execution_count": 100,
   "metadata": {
    "colab": {
     "base_uri": "https://localhost:8080/",
     "height": 1000
    },
    "colab_type": "code",
    "id": "cmByMir_GcUC",
    "outputId": "d7e9e2ad-5f7e-4850-e6fc-faa472142a1e"
   },
   "outputs": [
    {
     "name": "stdout",
     "output_type": "stream",
     "text": [
      "Train on 196400 samples, validate on 49099 samples\n",
      "Epoch 1/300\n",
      "196400/196400 [==============================] - 9s 47us/step - loss: 0.0013 - val_loss: 0.0011\n",
      "Epoch 2/300\n",
      "196400/196400 [==============================] - 9s 46us/step - loss: 0.0011 - val_loss: 0.0010\n",
      "Epoch 3/300\n",
      "196400/196400 [==============================] - 9s 46us/step - loss: 9.9301e-04 - val_loss: 0.0010\n",
      "Epoch 4/300\n",
      "196400/196400 [==============================] - 9s 46us/step - loss: 9.6431e-04 - val_loss: 9.6606e-04\n",
      "Epoch 5/300\n",
      "196400/196400 [==============================] - 9s 46us/step - loss: 9.3094e-04 - val_loss: 0.0011\n",
      "Epoch 6/300\n",
      "196400/196400 [==============================] - 9s 46us/step - loss: 9.1483e-04 - val_loss: 0.0010\n",
      "Epoch 7/300\n",
      "196400/196400 [==============================] - 9s 46us/step - loss: 8.9372e-04 - val_loss: 9.5146e-04\n",
      "Epoch 8/300\n",
      "196400/196400 [==============================] - 9s 46us/step - loss: 8.8160e-04 - val_loss: 9.2088e-04\n",
      "Epoch 9/300\n",
      "196400/196400 [==============================] - 9s 46us/step - loss: 8.6832e-04 - val_loss: 9.1813e-04\n",
      "Epoch 10/300\n",
      "196400/196400 [==============================] - 9s 46us/step - loss: 8.5115e-04 - val_loss: 9.2973e-04\n",
      "Epoch 11/300\n",
      "196400/196400 [==============================] - 9s 46us/step - loss: 8.4387e-04 - val_loss: 8.6955e-04\n",
      "Epoch 12/300\n",
      "196400/196400 [==============================] - 9s 48us/step - loss: 8.2386e-04 - val_loss: 8.7809e-04\n",
      "Epoch 13/300\n",
      "196400/196400 [==============================] - 9s 46us/step - loss: 8.2345e-04 - val_loss: 9.0790e-04\n",
      "Epoch 14/300\n",
      "196400/196400 [==============================] - 9s 46us/step - loss: 8.1341e-04 - val_loss: 8.6610e-04\n",
      "Epoch 15/300\n",
      "196400/196400 [==============================] - 9s 46us/step - loss: 8.0504e-04 - val_loss: 8.6736e-04\n",
      "Epoch 16/300\n",
      "196400/196400 [==============================] - 9s 46us/step - loss: 7.9558e-04 - val_loss: 9.0925e-04\n",
      "Epoch 17/300\n",
      "196400/196400 [==============================] - 9s 46us/step - loss: 7.9048e-04 - val_loss: 8.5133e-04\n",
      "Epoch 18/300\n",
      "196400/196400 [==============================] - 9s 46us/step - loss: 7.8475e-04 - val_loss: 8.3589e-04\n",
      "Epoch 19/300\n",
      "196400/196400 [==============================] - 9s 46us/step - loss: 7.8014e-04 - val_loss: 9.2963e-04\n",
      "Epoch 20/300\n",
      "196400/196400 [==============================] - 14s 71us/step - loss: 7.7326e-04 - val_loss: 9.5151e-04\n",
      "Epoch 21/300\n",
      "196400/196400 [==============================] - 9s 46us/step - loss: 7.6660e-04 - val_loss: 8.5974e-04\n",
      "Epoch 22/300\n",
      "196400/196400 [==============================] - 9s 46us/step - loss: 7.6003e-04 - val_loss: 8.3640e-04\n",
      "Epoch 23/300\n",
      "196400/196400 [==============================] - 9s 46us/step - loss: 7.5929e-04 - val_loss: 9.7420e-04\n",
      "Epoch 24/300\n",
      "196400/196400 [==============================] - 9s 46us/step - loss: 7.5511e-04 - val_loss: 8.6014e-04\n",
      "Epoch 25/300\n",
      "196400/196400 [==============================] - 9s 46us/step - loss: 7.5422e-04 - val_loss: 7.9535e-04\n",
      "Epoch 26/300\n",
      "196400/196400 [==============================] - 9s 46us/step - loss: 7.3811e-04 - val_loss: 8.6770e-04\n",
      "Epoch 27/300\n",
      "196400/196400 [==============================] - 9s 46us/step - loss: 7.3908e-04 - val_loss: 8.1759e-04\n",
      "Epoch 28/300\n",
      "196400/196400 [==============================] - 9s 46us/step - loss: 7.4662e-04 - val_loss: 8.5107e-04\n",
      "Epoch 29/300\n",
      "196400/196400 [==============================] - 9s 46us/step - loss: 7.2876e-04 - val_loss: 8.0654e-04\n",
      "Epoch 30/300\n",
      "196400/196400 [==============================] - 9s 46us/step - loss: 7.2735e-04 - val_loss: 8.1104e-04\n",
      "Epoch 31/300\n",
      "196400/196400 [==============================] - 9s 46us/step - loss: 7.2983e-04 - val_loss: 8.0663e-04\n",
      "Epoch 32/300\n",
      "196400/196400 [==============================] - 9s 46us/step - loss: 7.1876e-04 - val_loss: 8.6678e-04\n",
      "Epoch 33/300\n",
      "196400/196400 [==============================] - 9s 46us/step - loss: 7.2048e-04 - val_loss: 8.7192e-04\n",
      "Epoch 34/300\n",
      "196400/196400 [==============================] - 9s 46us/step - loss: 7.1995e-04 - val_loss: 7.9200e-04\n",
      "Epoch 35/300\n",
      "196400/196400 [==============================] - 9s 46us/step - loss: 7.1650e-04 - val_loss: 7.9614e-04\n",
      "Epoch 36/300\n",
      "196400/196400 [==============================] - 9s 46us/step - loss: 7.0986e-04 - val_loss: 8.1519e-04\n",
      "Epoch 37/300\n",
      "196400/196400 [==============================] - 9s 46us/step - loss: 7.1013e-04 - val_loss: 8.0253e-04\n",
      "Epoch 38/300\n",
      "196400/196400 [==============================] - 9s 46us/step - loss: 7.0005e-04 - val_loss: 8.1487e-04\n",
      "Epoch 39/300\n",
      "196400/196400 [==============================] - 9s 46us/step - loss: 7.0410e-04 - val_loss: 7.8061e-04\n",
      "Epoch 40/300\n",
      "196400/196400 [==============================] - 9s 46us/step - loss: 7.0435e-04 - val_loss: 8.0254e-04\n",
      "Epoch 41/300\n",
      "196400/196400 [==============================] - 9s 46us/step - loss: 7.0070e-04 - val_loss: 8.1977e-04\n",
      "Epoch 42/300\n",
      "196400/196400 [==============================] - 9s 46us/step - loss: 7.0176e-04 - val_loss: 8.4241e-04\n",
      "Epoch 43/300\n",
      "196400/196400 [==============================] - 9s 46us/step - loss: 6.9587e-04 - val_loss: 8.0984e-04\n",
      "Epoch 44/300\n",
      "196400/196400 [==============================] - 9s 46us/step - loss: 6.9277e-04 - val_loss: 7.9134e-04\n",
      "Epoch 45/300\n",
      "196400/196400 [==============================] - 9s 47us/step - loss: 6.9075e-04 - val_loss: 7.9751e-04\n",
      "Epoch 46/300\n",
      "196400/196400 [==============================] - 9s 47us/step - loss: 6.8690e-04 - val_loss: 9.1534e-04\n",
      "Epoch 47/300\n",
      "196400/196400 [==============================] - 9s 46us/step - loss: 6.9192e-04 - val_loss: 7.7983e-04\n",
      "Epoch 48/300\n",
      "196400/196400 [==============================] - 9s 46us/step - loss: 6.8859e-04 - val_loss: 7.8490e-04\n",
      "Epoch 49/300\n",
      "196400/196400 [==============================] - 9s 46us/step - loss: 6.8798e-04 - val_loss: 7.9554e-04\n",
      "Epoch 50/300\n",
      "196400/196400 [==============================] - 9s 46us/step - loss: 6.7737e-04 - val_loss: 7.8790e-04\n",
      "Epoch 51/300\n",
      "196400/196400 [==============================] - 9s 46us/step - loss: 6.8098e-04 - val_loss: 7.9525e-04\n",
      "Epoch 52/300\n",
      "196400/196400 [==============================] - 9s 46us/step - loss: 6.7843e-04 - val_loss: 8.1357e-04\n",
      "Epoch 53/300\n",
      "196400/196400 [==============================] - 9s 46us/step - loss: 6.7381e-04 - val_loss: 7.9960e-04\n",
      "Epoch 54/300\n",
      "196400/196400 [==============================] - 9s 46us/step - loss: 6.7452e-04 - val_loss: 9.5055e-04\n",
      "Epoch 55/300\n",
      "196400/196400 [==============================] - 9s 46us/step - loss: 6.7582e-04 - val_loss: 8.2643e-04\n",
      "Epoch 56/300\n",
      "196400/196400 [==============================] - 9s 46us/step - loss: 6.6838e-04 - val_loss: 7.5568e-04\n",
      "Epoch 57/300\n",
      "196400/196400 [==============================] - 9s 46us/step - loss: 6.7086e-04 - val_loss: 7.8145e-04\n",
      "Epoch 58/300\n",
      "196400/196400 [==============================] - 9s 46us/step - loss: 6.7134e-04 - val_loss: 8.3068e-04\n",
      "Epoch 59/300\n",
      "196400/196400 [==============================] - 9s 46us/step - loss: 6.6346e-04 - val_loss: 7.9599e-04\n",
      "Epoch 60/300\n",
      "196400/196400 [==============================] - 9s 46us/step - loss: 6.5716e-04 - val_loss: 7.8168e-04\n",
      "Epoch 61/300\n",
      "196400/196400 [==============================] - 9s 46us/step - loss: 6.6130e-04 - val_loss: 7.9116e-04\n",
      "Epoch 62/300\n",
      "196400/196400 [==============================] - 9s 46us/step - loss: 6.6102e-04 - val_loss: 8.1777e-04\n",
      "Epoch 63/300\n",
      "196400/196400 [==============================] - 9s 46us/step - loss: 6.6248e-04 - val_loss: 8.1351e-04\n",
      "Epoch 64/300\n",
      "196400/196400 [==============================] - 9s 46us/step - loss: 6.5433e-04 - val_loss: 7.6449e-04\n",
      "Epoch 65/300\n",
      "196400/196400 [==============================] - 9s 46us/step - loss: 6.5171e-04 - val_loss: 7.6498e-04\n",
      "Epoch 66/300\n",
      "196400/196400 [==============================] - 9s 46us/step - loss: 6.5986e-04 - val_loss: 7.8591e-04\n"
     ]
    },
    {
     "data": {
      "text/plain": [
       "0.8823404022457094"
      ]
     },
     "execution_count": 100,
     "metadata": {
      "tags": []
     },
     "output_type": "execute_result"
    }
   ],
   "source": [
    "from keras.callbacks import EarlyStopping\n",
    "early_stopping = EarlyStopping(monitor='val_loss',patience=10)\n",
    "model = Sequential()\n",
    "model.add(Dense(16, activation = 'relu',\n",
    "                         input_shape = input_shape))\n",
    "model.add(Dense(256, activation = 'relu'))\n",
    "#model.add(BatchNormalization())\n",
    "model.add(Dense(256, activation = 'relu'))\n",
    "#model.add(BatchNormalization())\n",
    "model.add(Dense(1))\n",
    "model.compile(optimizer='adam',loss='mse')\n",
    "history = model.fit(X_train,y_train,batch_size = 64,epochs=300,validation_data=(X_test,y_test),callbacks=[early_stopping])\n",
    "from sklearn.metrics import r2_score\n",
    "r2_score(y_test,model.predict(X_test))"
   ]
  },
  {
   "cell_type": "code",
   "execution_count": 101,
   "metadata": {
    "colab": {
     "base_uri": "https://localhost:8080/",
     "height": 286
    },
    "colab_type": "code",
    "id": "YtM3DWwkjPR-",
    "outputId": "2f8dac16-e8c4-48f4-e636-d94b5da6a4d6"
   },
   "outputs": [
    {
     "name": "stdout",
     "output_type": "stream",
     "text": [
      "Model: \"sequential_29\"\n",
      "_________________________________________________________________\n",
      "Layer (type)                 Output Shape              Param #   \n",
      "=================================================================\n",
      "dense_113 (Dense)            (None, 16)                208       \n",
      "_________________________________________________________________\n",
      "dense_114 (Dense)            (None, 256)               4352      \n",
      "_________________________________________________________________\n",
      "dense_115 (Dense)            (None, 256)               65792     \n",
      "_________________________________________________________________\n",
      "dense_116 (Dense)            (None, 1)                 257       \n",
      "=================================================================\n",
      "Total params: 70,609\n",
      "Trainable params: 70,609\n",
      "Non-trainable params: 0\n",
      "_________________________________________________________________\n"
     ]
    }
   ],
   "source": [
    "model.summary()"
   ]
  },
  {
   "cell_type": "code",
   "execution_count": 103,
   "metadata": {
    "colab": {
     "base_uri": "https://localhost:8080/",
     "height": 312
    },
    "colab_type": "code",
    "id": "cF21RTZorSkr",
    "outputId": "c6eaeb78-eac1-4a94-ba0a-ae333731a2db"
   },
   "outputs": [
    {
     "data": {
      "text/plain": [
       "<matplotlib.legend.Legend at 0x7fb10af23a20>"
      ]
     },
     "execution_count": 103,
     "metadata": {
      "tags": []
     },
     "output_type": "execute_result"
    },
    {
     "data": {
      "image/png": "[encoded data removed]",
      "text/plain": [
       "<Figure size 432x288 with 1 Axes>"
      ]
     },
     "metadata": {
      "needs_background": "light",
      "tags": []
     },
     "output_type": "display_data"
    }
   ],
   "source": [
    "import matplotlib.pyplot as plt\n",
    "\n",
    "plt.plot(history.history['loss'],color='r',label='train')\n",
    "plt.plot(history.history['val_loss'],color='g',label='test')\n",
    "plt.title('Train Test Accuracy Loss')\n",
    "plt.xlabel('Epochs')\n",
    "plt.ylabel('Loss')\n",
    "plt.legend()"
   ]
  },
  {
   "cell_type": "code",
   "execution_count": 104,
   "metadata": {
    "colab": {
     "base_uri": "https://localhost:8080/",
     "height": 34
    },
    "colab_type": "code",
    "id": "94Eq_zVPoBCt",
    "outputId": "ee1c4f37-7be7-41c4-9b82-528d787d3515"
   },
   "outputs": [
    {
     "data": {
      "text/plain": [
       "<keras.callbacks.callbacks.History at 0x7fb10adfe7f0>"
      ]
     },
     "execution_count": 104,
     "metadata": {
      "tags": []
     },
     "output_type": "execute_result"
    }
   ],
   "source": [
    "def create_model(learning_rate=0.01, activation='relu',nl=1,nn=256,dropout_rate=0.0): \n",
    "    model = Sequential()\n",
    "    model.add(Dense(16, activation = 'relu',\n",
    "                            input_shape = input_shape))\n",
    "    model.add(Dense(256, activation = 'relu'))\n",
    "    #model.add(BatchNormalization())\n",
    "    model.add(Dense(256, activation = 'relu'))\n",
    "    #model.add(BatchNormalization())\n",
    "    model.add(Dense(1))\n",
    "    model.compile(optimizer = 'adam', loss = 'mse')\n",
    "    return model\n",
    "\n",
    "nn = KerasRegressor(build_fn = create_model,\n",
    "                       epochs = 61 , batch_size = 64, verbose= 0)\n",
    "\n",
    "nn.fit(X_train,y_train)"
   ]
  },
  {
   "cell_type": "code",
   "execution_count": null,
   "metadata": {
    "colab": {
     "base_uri": "https://localhost:8080/",
     "height": 1000
    },
    "colab_type": "code",
    "id": "8EUssSKsr-QW",
    "outputId": "1ecab972-d684-4519-8d35-7f90cc009268"
   },
   "outputs": [
    {
     "name": "stdout",
     "output_type": "stream",
     "text": [
      "Epoch 1/100\n",
      "50000/50000 [==============================] - 4s 71us/step - loss: 8.9199e-04\n",
      "Epoch 2/100\n",
      "50000/50000 [==============================] - 3s 70us/step - loss: 8.5845e-04\n",
      "Epoch 3/100\n",
      "50000/50000 [==============================] - 3s 69us/step - loss: 8.2600e-04\n",
      "Epoch 4/100\n",
      "50000/50000 [==============================] - 4s 71us/step - loss: 8.4264e-04\n",
      "Epoch 5/100\n",
      "50000/50000 [==============================] - 4s 73us/step - loss: 8.3380e-04\n",
      "Epoch 6/100\n",
      "50000/50000 [==============================] - 3s 69us/step - loss: 8.2076e-04\n",
      "Epoch 7/100\n",
      "50000/50000 [==============================] - 3s 68us/step - loss: 8.1120e-04\n",
      "Epoch 8/100\n",
      "50000/50000 [==============================] - 3s 69us/step - loss: 8.0085e-04\n",
      "Epoch 9/100\n",
      "50000/50000 [==============================] - 3s 67us/step - loss: 8.2085e-04\n",
      "Epoch 10/100\n",
      "50000/50000 [==============================] - 3s 70us/step - loss: 8.2117e-04\n",
      "Epoch 11/100\n",
      "50000/50000 [==============================] - 3s 70us/step - loss: 7.9379e-04\n",
      "Epoch 12/100\n",
      "50000/50000 [==============================] - 3s 69us/step - loss: 7.9842e-04\n",
      "Epoch 13/100\n",
      "50000/50000 [==============================] - 3s 70us/step - loss: 7.8379e-04\n",
      "Epoch 14/100\n",
      "50000/50000 [==============================] - 3s 69us/step - loss: 7.7380e-04\n",
      "Epoch 15/100\n",
      "50000/50000 [==============================] - 3s 67us/step - loss: 7.8526e-04\n",
      "Epoch 16/100\n",
      "50000/50000 [==============================] - 3s 68us/step - loss: 7.6693e-04\n",
      "Epoch 17/100\n",
      "50000/50000 [==============================] - 4s 70us/step - loss: 7.7878e-04\n",
      "Epoch 18/100\n",
      "50000/50000 [==============================] - 3s 70us/step - loss: 7.7184e-04\n",
      "Epoch 19/100\n",
      "50000/50000 [==============================] - 3s 68us/step - loss: 7.3747e-04\n",
      "Epoch 20/100\n",
      "50000/50000 [==============================] - 4s 74us/step - loss: 7.6192e-04\n",
      "Epoch 21/100\n",
      "50000/50000 [==============================] - 4s 79us/step - loss: 7.5126e-04\n",
      "Epoch 22/100\n",
      "50000/50000 [==============================] - 4s 78us/step - loss: 7.6405e-04\n",
      "Epoch 23/100\n",
      "50000/50000 [==============================] - 4s 75us/step - loss: 7.6819e-04\n",
      "Epoch 24/100\n",
      "50000/50000 [==============================] - 4s 80us/step - loss: 7.4966e-04\n",
      "Epoch 25/100\n",
      "50000/50000 [==============================] - 4s 78us/step - loss: 7.4528e-04\n",
      "Epoch 26/100\n",
      "50000/50000 [==============================] - 4s 71us/step - loss: 7.3877e-04\n",
      "Epoch 27/100\n",
      "50000/50000 [==============================] - 3s 68us/step - loss: 7.3790e-04\n",
      "Epoch 28/100\n",
      "50000/50000 [==============================] - 4s 71us/step - loss: 7.2285e-04\n",
      "Epoch 29/100\n",
      "50000/50000 [==============================] - 4s 72us/step - loss: 7.4622e-04\n",
      "Epoch 30/100\n",
      "50000/50000 [==============================] - 3s 68us/step - loss: 7.2898e-04\n",
      "Epoch 31/100\n",
      "50000/50000 [==============================] - 4s 70us/step - loss: 7.3709e-04\n",
      "Epoch 32/100\n",
      "50000/50000 [==============================] - 3s 69us/step - loss: 7.2365e-04\n",
      "Epoch 33/100\n",
      "50000/50000 [==============================] - 3s 69us/step - loss: 7.2337e-04\n",
      "Epoch 34/100\n",
      "50000/50000 [==============================] - 4s 71us/step - loss: 7.1951e-04\n",
      "Epoch 35/100\n",
      "50000/50000 [==============================] - 3s 69us/step - loss: 7.1566e-04\n",
      "Epoch 36/100\n",
      "50000/50000 [==============================] - 3s 68us/step - loss: 7.0822e-04\n",
      "Epoch 37/100\n",
      "50000/50000 [==============================] - 4s 70us/step - loss: 7.2384e-04\n",
      "Epoch 38/100\n",
      "50000/50000 [==============================] - 3s 68us/step - loss: 7.0592e-04\n",
      "Epoch 39/100\n",
      "50000/50000 [==============================] - 3s 70us/step - loss: 7.0810e-04\n",
      "Epoch 40/100\n",
      "50000/50000 [==============================] - 3s 67us/step - loss: 6.9289e-04\n",
      "Epoch 41/100\n",
      "50000/50000 [==============================] - 3s 68us/step - loss: 6.9251e-04\n",
      "Epoch 42/100\n",
      "50000/50000 [==============================] - 3s 69us/step - loss: 6.9599e-04\n",
      "Epoch 43/100\n",
      "50000/50000 [==============================] - 3s 69us/step - loss: 6.7485e-04\n",
      "Epoch 44/100\n",
      "50000/50000 [==============================] - 3s 69us/step - loss: 6.9696e-04\n",
      "Epoch 45/100\n",
      "50000/50000 [==============================] - 4s 71us/step - loss: 7.0712e-04\n",
      "Epoch 46/100\n",
      "50000/50000 [==============================] - 4s 71us/step - loss: 6.8445e-04\n",
      "Epoch 47/100\n",
      "50000/50000 [==============================] - 3s 68us/step - loss: 6.5743e-04\n",
      "Epoch 48/100\n",
      "50000/50000 [==============================] - 3s 68us/step - loss: 6.6650e-04\n",
      "Epoch 49/100\n",
      "50000/50000 [==============================] - 3s 68us/step - loss: 6.7541e-04\n",
      "Epoch 50/100\n",
      "50000/50000 [==============================] - 4s 70us/step - loss: 6.7230e-04\n",
      "Epoch 51/100\n",
      "50000/50000 [==============================] - 4s 71us/step - loss: 6.7956e-04\n",
      "Epoch 52/100\n",
      "50000/50000 [==============================] - 3s 70us/step - loss: 6.5968e-04\n",
      "Epoch 53/100\n",
      "50000/50000 [==============================] - 3s 68us/step - loss: 6.7060e-04\n",
      "Epoch 54/100\n",
      "50000/50000 [==============================] - 3s 69us/step - loss: 6.6743e-04\n",
      "Epoch 55/100\n",
      "50000/50000 [==============================] - 4s 71us/step - loss: 6.5369e-04\n",
      "Epoch 56/100\n",
      "50000/50000 [==============================] - 3s 67us/step - loss: 6.6957e-04\n",
      "Epoch 57/100\n",
      "50000/50000 [==============================] - 4s 71us/step - loss: 6.3617e-04\n",
      "Epoch 58/100\n",
      "50000/50000 [==============================] - 3s 69us/step - loss: 6.5319e-04\n",
      "Epoch 59/100\n",
      "50000/50000 [==============================] - 4s 71us/step - loss: 6.4422e-04\n",
      "Epoch 60/100\n",
      "50000/50000 [==============================] - 3s 70us/step - loss: 6.4139e-04\n",
      "Epoch 61/100\n",
      "50000/50000 [==============================] - 4s 72us/step - loss: 6.4544e-04\n",
      "Epoch 62/100\n",
      "50000/50000 [==============================] - 4s 71us/step - loss: 6.4703e-04\n",
      "Epoch 63/100\n",
      "50000/50000 [==============================] - 4s 71us/step - loss: 6.4883e-04\n",
      "Epoch 64/100\n",
      "50000/50000 [==============================] - 4s 71us/step - loss: 6.4525e-04\n",
      "Epoch 65/100\n",
      "50000/50000 [==============================] - 3s 69us/step - loss: 6.4051e-04\n",
      "Epoch 66/100\n",
      "50000/50000 [==============================] - 3s 70us/step - loss: 6.3160e-04\n",
      "Epoch 67/100\n",
      "50000/50000 [==============================] - 4s 72us/step - loss: 6.4047e-04\n",
      "Epoch 68/100\n",
      "50000/50000 [==============================] - 4s 71us/step - loss: 6.4173e-04\n",
      "Epoch 69/100\n",
      "50000/50000 [==============================] - 4s 72us/step - loss: 6.3878e-04\n",
      "Epoch 70/100\n",
      "50000/50000 [==============================] - 3s 69us/step - loss: 6.3348e-04\n",
      "Epoch 71/100\n",
      "50000/50000 [==============================] - 3s 70us/step - loss: 6.3430e-04\n",
      "Epoch 72/100\n",
      "50000/50000 [==============================] - 4s 86us/step - loss: 6.2558e-04\n",
      "Epoch 73/100\n",
      "50000/50000 [==============================] - 4s 78us/step - loss: 6.2769e-04\n",
      "Epoch 74/100\n",
      "50000/50000 [==============================] - 3s 68us/step - loss: 6.2693e-04\n",
      "Epoch 75/100\n",
      "50000/50000 [==============================] - 3s 68us/step - loss: 6.3455e-04\n",
      "Epoch 76/100\n",
      "50000/50000 [==============================] - 3s 69us/step - loss: 6.1509e-04\n",
      "Epoch 77/100\n",
      "50000/50000 [==============================] - 3s 67us/step - loss: 6.1587e-04\n",
      "Epoch 78/100\n",
      "50000/50000 [==============================] - 4s 70us/step - loss: 6.4060e-04\n",
      "Epoch 79/100\n",
      "50000/50000 [==============================] - 3s 70us/step - loss: 6.0605e-04\n",
      "Epoch 80/100\n",
      "50000/50000 [==============================] - 4s 71us/step - loss: 6.2814e-04\n",
      "Epoch 81/100\n",
      "50000/50000 [==============================] - 3s 68us/step - loss: 6.2667e-04\n",
      "Epoch 82/100\n",
      "50000/50000 [==============================] - 3s 70us/step - loss: 6.0962e-04\n",
      "Epoch 83/100\n",
      "50000/50000 [==============================] - 3s 68us/step - loss: 6.0284e-04\n",
      "Epoch 84/100\n",
      "50000/50000 [==============================] - 3s 69us/step - loss: 6.1998e-04\n",
      "Epoch 85/100\n",
      "50000/50000 [==============================] - 3s 70us/step - loss: 6.1581e-04\n",
      "Epoch 86/100\n",
      "50000/50000 [==============================] - 3s 69us/step - loss: 6.0837e-04\n",
      "Epoch 87/100\n",
      "50000/50000 [==============================] - 3s 70us/step - loss: 5.9914e-04\n",
      "Epoch 88/100\n",
      "50000/50000 [==============================] - 4s 71us/step - loss: 5.9180e-04\n",
      "Epoch 89/100\n",
      "50000/50000 [==============================] - 4s 72us/step - loss: 6.2505e-04\n",
      "Epoch 90/100\n",
      "50000/50000 [==============================] - 4s 70us/step - loss: 5.9216e-04\n",
      "Epoch 91/100\n",
      "50000/50000 [==============================] - 4s 72us/step - loss: 5.9309e-04\n",
      "Epoch 92/100\n",
      "50000/50000 [==============================] - 4s 72us/step - loss: 5.9854e-04\n",
      "Epoch 93/100\n",
      "50000/50000 [==============================] - 3s 69us/step - loss: 5.8021e-04\n",
      "Epoch 94/100\n",
      "50000/50000 [==============================] - 4s 70us/step - loss: 6.1431e-04\n",
      "Epoch 95/100\n",
      "50000/50000 [==============================] - 4s 73us/step - loss: 6.1162e-04\n",
      "Epoch 96/100\n",
      "50000/50000 [==============================] - 4s 71us/step - loss: 5.8597e-04\n",
      "Epoch 97/100\n",
      "50000/50000 [==============================] - 4s 74us/step - loss: 6.1404e-04\n",
      "Epoch 98/100\n",
      "50000/50000 [==============================] - 4s 70us/step - loss: 5.8991e-04\n",
      "Epoch 99/100\n",
      "50000/50000 [==============================] - 3s 70us/step - loss: 5.9558e-04\n",
      "Epoch 100/100\n",
      "50000/50000 [==============================] - 3s 70us/step - loss: 5.8074e-04\n",
      "50000/50000 [==============================] - 1s 22us/step\n",
      "49099/49099 [==============================] - 1s 22us/step\n",
      "Epoch 1/100\n",
      "100000/100000 [==============================] - 7s 71us/step - loss: 8.0562e-04\n",
      "Epoch 2/100\n",
      "100000/100000 [==============================] - 7s 69us/step - loss: 7.9909e-04\n",
      "Epoch 3/100\n",
      "100000/100000 [==============================] - 7s 69us/step - loss: 7.9145e-04\n",
      "Epoch 4/100\n",
      "100000/100000 [==============================] - 7s 68us/step - loss: 7.8560e-04\n",
      "Epoch 5/100\n",
      "100000/100000 [==============================] - 7s 67us/step - loss: 7.8425e-04\n",
      "Epoch 6/100\n",
      "100000/100000 [==============================] - 7s 73us/step - loss: 7.8826e-04\n",
      "Epoch 7/100\n",
      "100000/100000 [==============================] - 8s 75us/step - loss: 7.8128e-04\n",
      "Epoch 8/100\n",
      "100000/100000 [==============================] - 7s 73us/step - loss: 7.8050e-04\n",
      "Epoch 9/100\n",
      "100000/100000 [==============================] - 7s 68us/step - loss: 7.7484e-04\n",
      "Epoch 10/100\n",
      "100000/100000 [==============================] - 7s 65us/step - loss: 7.6615e-04\n",
      "Epoch 11/100\n",
      "100000/100000 [==============================] - 7s 66us/step - loss: 7.6295e-04\n",
      "Epoch 12/100\n",
      "100000/100000 [==============================] - 6s 65us/step - loss: 7.5847e-04\n",
      "Epoch 13/100\n",
      "100000/100000 [==============================] - 6s 65us/step - loss: 7.6348e-04\n",
      "Epoch 14/100\n",
      "100000/100000 [==============================] - 7s 67us/step - loss: 7.6100e-04\n",
      "Epoch 15/100\n",
      "100000/100000 [==============================] - 7s 67us/step - loss: 7.5167e-04\n",
      "Epoch 16/100\n",
      "100000/100000 [==============================] - 7s 68us/step - loss: 7.4757e-04\n",
      "Epoch 17/100\n",
      "100000/100000 [==============================] - 7s 67us/step - loss: 7.4785e-04\n",
      "Epoch 18/100\n",
      "100000/100000 [==============================] - 7s 67us/step - loss: 7.4259e-04\n",
      "Epoch 19/100\n",
      "100000/100000 [==============================] - 7s 68us/step - loss: 7.3888e-04\n",
      "Epoch 20/100\n",
      "100000/100000 [==============================] - 7s 70us/step - loss: 7.3687e-04\n",
      "Epoch 21/100\n",
      "100000/100000 [==============================] - 7s 69us/step - loss: 7.3108e-04\n",
      "Epoch 22/100\n",
      "100000/100000 [==============================] - 7s 69us/step - loss: 7.3477e-04\n",
      "Epoch 23/100\n",
      "100000/100000 [==============================] - 7s 70us/step - loss: 7.3184e-04\n",
      "Epoch 24/100\n",
      "100000/100000 [==============================] - 7s 71us/step - loss: 7.2858e-04\n",
      "Epoch 25/100\n",
      "100000/100000 [==============================] - 7s 68us/step - loss: 7.3514e-04\n",
      "Epoch 26/100\n",
      "100000/100000 [==============================] - 7s 68us/step - loss: 7.3073e-04\n",
      "Epoch 27/100\n",
      "100000/100000 [==============================] - 7s 73us/step - loss: 7.1800e-04\n",
      "Epoch 28/100\n",
      "100000/100000 [==============================] - 7s 70us/step - loss: 7.2702e-04\n",
      "Epoch 29/100\n",
      "100000/100000 [==============================] - 7s 71us/step - loss: 7.1290e-04\n",
      "Epoch 30/100\n",
      "100000/100000 [==============================] - 8s 78us/step - loss: 7.1438e-04\n",
      "Epoch 31/100\n",
      "100000/100000 [==============================] - 8s 76us/step - loss: 7.1792e-04\n",
      "Epoch 32/100\n",
      "100000/100000 [==============================] - 7s 74us/step - loss: 7.0764e-04\n",
      "Epoch 33/100\n",
      "100000/100000 [==============================] - 7s 75us/step - loss: 6.9811e-04\n",
      "Epoch 34/100\n",
      "100000/100000 [==============================] - 7s 71us/step - loss: 7.2247e-04\n",
      "Epoch 35/100\n",
      "100000/100000 [==============================] - 7s 71us/step - loss: 7.0096e-04\n",
      "Epoch 36/100\n",
      "100000/100000 [==============================] - 7s 71us/step - loss: 6.9691e-04\n",
      "Epoch 37/100\n",
      "100000/100000 [==============================] - 7s 70us/step - loss: 6.9406e-04\n",
      "Epoch 38/100\n",
      "100000/100000 [==============================] - 7s 69us/step - loss: 6.9579e-04\n",
      "Epoch 39/100\n",
      "100000/100000 [==============================] - 7s 69us/step - loss: 6.9978e-04\n",
      "Epoch 40/100\n",
      "100000/100000 [==============================] - 7s 69us/step - loss: 6.9580e-04\n",
      "Epoch 41/100\n",
      "100000/100000 [==============================] - 7s 71us/step - loss: 6.9742e-04\n",
      "Epoch 42/100\n",
      "100000/100000 [==============================] - 7s 69us/step - loss: 6.8843e-04\n",
      "Epoch 43/100\n",
      "100000/100000 [==============================] - 7s 69us/step - loss: 6.8743e-04\n",
      "Epoch 44/100\n",
      "100000/100000 [==============================] - 7s 72us/step - loss: 6.8444e-04\n",
      "Epoch 45/100\n",
      "100000/100000 [==============================] - 7s 72us/step - loss: 6.8089e-04\n",
      "Epoch 46/100\n",
      "100000/100000 [==============================] - 7s 71us/step - loss: 6.7462e-04\n",
      "Epoch 47/100\n",
      "100000/100000 [==============================] - 7s 69us/step - loss: 6.8002e-04\n",
      "Epoch 48/100\n",
      "100000/100000 [==============================] - 7s 69us/step - loss: 6.8950e-04\n",
      "Epoch 49/100\n",
      "100000/100000 [==============================] - 7s 70us/step - loss: 6.6710e-04\n",
      "Epoch 50/100\n",
      "100000/100000 [==============================] - 7s 69us/step - loss: 6.7730e-04\n",
      "Epoch 51/100\n",
      "100000/100000 [==============================] - 7s 68us/step - loss: 6.7636e-04\n",
      "Epoch 52/100\n",
      "100000/100000 [==============================] - 8s 77us/step - loss: 6.7657e-04\n",
      "Epoch 53/100\n",
      "100000/100000 [==============================] - 8s 83us/step - loss: 6.8049e-04\n",
      "Epoch 54/100\n",
      "100000/100000 [==============================] - 7s 70us/step - loss: 6.6223e-04\n",
      "Epoch 55/100\n",
      "100000/100000 [==============================] - 7s 68us/step - loss: 6.7057e-04\n",
      "Epoch 56/100\n",
      "100000/100000 [==============================] - 7s 69us/step - loss: 6.7259e-04\n",
      "Epoch 57/100\n",
      "100000/100000 [==============================] - 7s 71us/step - loss: 6.6674e-04\n",
      "Epoch 58/100\n",
      "100000/100000 [==============================] - 7s 71us/step - loss: 6.7155e-04\n",
      "Epoch 59/100\n",
      "100000/100000 [==============================] - 7s 69us/step - loss: 6.5202e-04\n",
      "Epoch 60/100\n",
      "100000/100000 [==============================] - 7s 69us/step - loss: 6.4718e-04\n",
      "Epoch 61/100\n",
      "100000/100000 [==============================] - 7s 70us/step - loss: 6.6374e-04\n",
      "Epoch 62/100\n",
      "100000/100000 [==============================] - 7s 68us/step - loss: 6.5385e-04\n",
      "Epoch 63/100\n",
      "100000/100000 [==============================] - 7s 70us/step - loss: 6.5970e-04\n",
      "Epoch 64/100\n",
      "100000/100000 [==============================] - 7s 68us/step - loss: 6.5966e-04\n",
      "Epoch 65/100\n",
      "100000/100000 [==============================] - 7s 69us/step - loss: 6.5225e-04\n",
      "Epoch 66/100\n",
      "100000/100000 [==============================] - 7s 69us/step - loss: 6.5175e-04\n",
      "Epoch 67/100\n",
      "100000/100000 [==============================] - 7s 71us/step - loss: 6.4642e-04\n",
      "Epoch 68/100\n",
      "100000/100000 [==============================] - 7s 68us/step - loss: 6.5520e-04\n",
      "Epoch 69/100\n",
      "100000/100000 [==============================] - 7s 70us/step - loss: 6.4603e-04\n",
      "Epoch 70/100\n",
      "100000/100000 [==============================] - 7s 71us/step - loss: 6.5144e-04\n",
      "Epoch 71/100\n",
      "100000/100000 [==============================] - 7s 71us/step - loss: 6.3705e-04\n",
      "Epoch 72/100\n",
      "100000/100000 [==============================] - 7s 72us/step - loss: 6.5472e-04\n",
      "Epoch 73/100\n",
      "100000/100000 [==============================] - 7s 69us/step - loss: 6.3975e-04\n",
      "Epoch 74/100\n",
      "100000/100000 [==============================] - 8s 79us/step - loss: 6.4174e-04\n",
      "Epoch 75/100\n",
      "100000/100000 [==============================] - 7s 73us/step - loss: 6.3641e-04\n",
      "Epoch 76/100\n",
      "100000/100000 [==============================] - 7s 72us/step - loss: 6.3720e-04\n",
      "Epoch 77/100\n",
      "100000/100000 [==============================] - 7s 71us/step - loss: 6.4314e-04\n",
      "Epoch 78/100\n",
      "100000/100000 [==============================] - 7s 74us/step - loss: 6.3884e-04\n",
      "Epoch 79/100\n",
      "100000/100000 [==============================] - 7s 73us/step - loss: 6.4444e-04\n",
      "Epoch 80/100\n",
      "100000/100000 [==============================] - 7s 72us/step - loss: 6.3751e-04\n",
      "Epoch 81/100\n",
      "100000/100000 [==============================] - 7s 74us/step - loss: 6.3041e-04\n",
      "Epoch 82/100\n",
      "100000/100000 [==============================] - 7s 70us/step - loss: 6.3914e-04\n",
      "Epoch 83/100\n",
      "100000/100000 [==============================] - 7s 71us/step - loss: 6.3213e-04\n",
      "Epoch 84/100\n",
      "100000/100000 [==============================] - 7s 70us/step - loss: 6.2585e-04\n",
      "Epoch 85/100\n",
      "100000/100000 [==============================] - 7s 70us/step - loss: 6.3078e-04\n",
      "Epoch 86/100\n",
      "100000/100000 [==============================] - 7s 73us/step - loss: 6.3059e-04\n",
      "Epoch 87/100\n",
      "100000/100000 [==============================] - 7s 72us/step - loss: 6.2672e-04\n",
      "Epoch 88/100\n",
      "100000/100000 [==============================] - 7s 71us/step - loss: 6.3907e-04\n",
      "Epoch 89/100\n",
      "100000/100000 [==============================] - 7s 71us/step - loss: 6.2217e-04\n",
      "Epoch 90/100\n",
      "100000/100000 [==============================] - 7s 73us/step - loss: 6.1683e-04\n",
      "Epoch 91/100\n",
      "100000/100000 [==============================] - 7s 74us/step - loss: 6.2612e-04\n",
      "Epoch 92/100\n",
      "100000/100000 [==============================] - 7s 72us/step - loss: 6.4577e-04\n",
      "Epoch 93/100\n",
      "100000/100000 [==============================] - 7s 72us/step - loss: 6.1287e-04\n",
      "Epoch 94/100\n",
      "100000/100000 [==============================] - 7s 73us/step - loss: 6.4546e-04\n",
      "Epoch 95/100\n",
      "100000/100000 [==============================] - 8s 75us/step - loss: 6.2740e-04\n",
      "Epoch 96/100\n",
      "100000/100000 [==============================] - 9s 86us/step - loss: 6.2644e-04\n",
      "Epoch 97/100\n",
      "100000/100000 [==============================] - 8s 82us/step - loss: 6.1968e-04\n",
      "Epoch 98/100\n",
      "100000/100000 [==============================] - 8s 80us/step - loss: 6.1430e-04\n",
      "Epoch 99/100\n",
      "100000/100000 [==============================] - 7s 69us/step - loss: 6.1962e-04\n",
      "Epoch 100/100\n",
      "100000/100000 [==============================] - 7s 70us/step - loss: 6.1780e-04\n",
      "100000/100000 [==============================] - 2s 22us/step\n",
      "49099/49099 [==============================] - 1s 21us/step\n",
      "Epoch 1/100\n",
      "150000/150000 [==============================] - 10s 70us/step - loss: 7.8040e-04\n",
      "Epoch 2/100\n",
      "150000/150000 [==============================] - 10s 67us/step - loss: 7.6954e-04\n",
      "Epoch 3/100\n",
      "150000/150000 [==============================] - 10s 68us/step - loss: 7.6043e-04\n",
      "Epoch 4/100\n",
      "150000/150000 [==============================] - 10s 67us/step - loss: 7.6816e-04\n",
      "Epoch 5/100\n",
      "150000/150000 [==============================] - 10s 68us/step - loss: 7.6145e-04\n",
      "Epoch 6/100\n",
      "150000/150000 [==============================] - 10s 68us/step - loss: 7.5497e-04\n",
      "Epoch 7/100\n",
      "150000/150000 [==============================] - 10s 69us/step - loss: 7.6056e-04\n",
      "Epoch 8/100\n",
      "150000/150000 [==============================] - 11s 71us/step - loss: 7.4940e-04\n",
      "Epoch 9/100\n",
      "150000/150000 [==============================] - 11s 71us/step - loss: 7.5112e-04\n",
      "Epoch 10/100\n",
      "150000/150000 [==============================] - 11s 71us/step - loss: 7.4889e-04\n",
      "Epoch 11/100\n",
      "150000/150000 [==============================] - 12s 79us/step - loss: 7.4034e-04\n",
      "Epoch 12/100\n",
      "150000/150000 [==============================] - 10s 68us/step - loss: 7.3530e-04\n",
      "Epoch 13/100\n",
      "150000/150000 [==============================] - 10s 67us/step - loss: 7.3456e-04\n",
      "Epoch 14/100\n",
      "150000/150000 [==============================] - 10s 65us/step - loss: 7.3696e-04\n",
      "Epoch 15/100\n",
      "150000/150000 [==============================] - 10s 64us/step - loss: 7.2811e-04\n",
      "Epoch 16/100\n",
      "150000/150000 [==============================] - 10s 66us/step - loss: 7.3208e-04\n",
      "Epoch 17/100\n",
      "150000/150000 [==============================] - 10s 66us/step - loss: 7.3034e-04\n",
      "Epoch 18/100\n",
      "150000/150000 [==============================] - 10s 67us/step - loss: 7.3620e-04\n",
      "Epoch 19/100\n",
      "150000/150000 [==============================] - 10s 68us/step - loss: 7.2580e-04\n",
      "Epoch 20/100\n",
      "150000/150000 [==============================] - 10s 67us/step - loss: 7.2327e-04\n",
      "Epoch 21/100\n",
      "150000/150000 [==============================] - 10s 67us/step - loss: 7.2306e-04\n",
      "Epoch 22/100\n",
      "150000/150000 [==============================] - 10s 67us/step - loss: 7.1518e-04\n",
      "Epoch 23/100\n",
      "150000/150000 [==============================] - 10s 68us/step - loss: 7.1810e-04\n",
      "Epoch 24/100\n",
      "150000/150000 [==============================] - 10s 67us/step - loss: 7.1587e-04\n",
      "Epoch 25/100\n",
      "150000/150000 [==============================] - 10s 68us/step - loss: 7.1868e-04\n",
      "Epoch 26/100\n",
      "150000/150000 [==============================] - 10s 67us/step - loss: 7.1405e-04\n",
      "Epoch 27/100\n",
      "150000/150000 [==============================] - 10s 67us/step - loss: 7.0597e-04\n",
      "Epoch 28/100\n",
      "150000/150000 [==============================] - 11s 71us/step - loss: 7.1202e-04\n",
      "Epoch 29/100\n",
      "150000/150000 [==============================] - 12s 77us/step - loss: 7.0076e-04\n",
      "Epoch 30/100\n",
      "150000/150000 [==============================] - 11s 72us/step - loss: 7.0177e-04\n",
      "Epoch 31/100\n",
      "150000/150000 [==============================] - 10s 67us/step - loss: 7.0812e-04\n",
      "Epoch 32/100\n",
      "150000/150000 [==============================] - 10s 67us/step - loss: 6.9707e-04\n",
      "Epoch 33/100\n",
      "150000/150000 [==============================] - 10s 68us/step - loss: 6.9429e-04\n",
      "Epoch 34/100\n",
      "150000/150000 [==============================] - 10s 67us/step - loss: 7.0031e-04\n",
      "Epoch 35/100\n",
      "150000/150000 [==============================] - 10s 68us/step - loss: 6.9546e-04\n",
      "Epoch 36/100\n",
      "150000/150000 [==============================] - 10s 67us/step - loss: 7.0270e-04\n",
      "Epoch 37/100\n",
      "150000/150000 [==============================] - 10s 68us/step - loss: 6.9206e-04\n",
      "Epoch 38/100\n",
      "150000/150000 [==============================] - 10s 68us/step - loss: 6.9551e-04\n",
      "Epoch 39/100\n",
      "150000/150000 [==============================] - 10s 69us/step - loss: 6.9014e-04\n",
      "Epoch 40/100\n",
      "150000/150000 [==============================] - 10s 68us/step - loss: 6.8593e-04\n",
      "Epoch 41/100\n",
      "150000/150000 [==============================] - 11s 75us/step - loss: 6.8798e-04\n",
      "Epoch 42/100\n",
      "150000/150000 [==============================] - 10s 69us/step - loss: 6.8276e-04\n",
      "Epoch 43/100\n",
      "150000/150000 [==============================] - 10s 68us/step - loss: 6.8495e-04\n",
      "Epoch 44/100\n",
      "150000/150000 [==============================] - 10s 69us/step - loss: 6.7759e-04\n",
      "Epoch 45/100\n",
      "150000/150000 [==============================] - 10s 68us/step - loss: 6.8000e-04\n",
      "Epoch 46/100\n",
      "150000/150000 [==============================] - 10s 69us/step - loss: 6.8256e-04\n",
      "Epoch 47/100\n",
      "150000/150000 [==============================] - 10s 68us/step - loss: 6.8195e-04\n",
      "Epoch 48/100\n",
      "150000/150000 [==============================] - 10s 68us/step - loss: 6.8655e-04\n",
      "Epoch 49/100\n",
      "150000/150000 [==============================] - 10s 68us/step - loss: 6.6683e-04\n",
      "Epoch 50/100\n",
      "150000/150000 [==============================] - 10s 67us/step - loss: 6.8843e-04\n",
      "Epoch 51/100\n",
      "150000/150000 [==============================] - 10s 67us/step - loss: 6.7659e-04\n",
      "Epoch 52/100\n",
      "150000/150000 [==============================] - 10s 68us/step - loss: 6.7603e-04\n",
      "Epoch 53/100\n",
      "150000/150000 [==============================] - 10s 67us/step - loss: 6.7763e-04\n",
      "Epoch 54/100\n",
      "150000/150000 [==============================] - 10s 68us/step - loss: 6.6484e-04\n",
      "Epoch 55/100\n",
      "150000/150000 [==============================] - 10s 67us/step - loss: 6.6770e-04\n",
      "Epoch 56/100\n",
      "150000/150000 [==============================] - 10s 66us/step - loss: 6.6987e-04\n",
      "Epoch 57/100\n",
      "150000/150000 [==============================] - 10s 68us/step - loss: 6.7550e-04\n",
      "Epoch 58/100\n",
      "150000/150000 [==============================] - 10s 66us/step - loss: 6.5861e-04\n",
      "Epoch 59/100\n",
      "150000/150000 [==============================] - 10s 65us/step - loss: 6.6565e-04\n",
      "Epoch 60/100\n",
      "150000/150000 [==============================] - 11s 73us/step - loss: 6.6318e-04\n",
      "Epoch 61/100\n",
      "150000/150000 [==============================] - 11s 71us/step - loss: 6.6231e-04\n",
      "Epoch 62/100\n",
      "150000/150000 [==============================] - 10s 66us/step - loss: 6.6181e-04\n",
      "Epoch 63/100\n",
      "150000/150000 [==============================] - 10s 64us/step - loss: 6.5671e-04\n",
      "Epoch 64/100\n",
      "150000/150000 [==============================] - 10s 65us/step - loss: 6.6304e-04\n",
      "Epoch 65/100\n",
      "150000/150000 [==============================] - 10s 64us/step - loss: 6.5616e-04\n",
      "Epoch 66/100\n",
      "150000/150000 [==============================] - 10s 66us/step - loss: 6.6504e-04\n",
      "Epoch 67/100\n",
      "150000/150000 [==============================] - 10s 65us/step - loss: 6.6042e-04\n",
      "Epoch 68/100\n",
      "150000/150000 [==============================] - 10s 64us/step - loss: 6.5174e-04\n",
      "Epoch 69/100\n",
      "150000/150000 [==============================] - 10s 67us/step - loss: 6.5774e-04\n",
      "Epoch 70/100\n",
      "150000/150000 [==============================] - 10s 69us/step - loss: 6.5470e-04\n",
      "Epoch 71/100\n",
      "150000/150000 [==============================] - 10s 69us/step - loss: 6.6425e-04\n",
      "Epoch 72/100\n",
      "150000/150000 [==============================] - 11s 72us/step - loss: 6.5015e-04\n",
      "Epoch 73/100\n",
      "150000/150000 [==============================] - 10s 68us/step - loss: 6.5500e-04\n",
      "Epoch 74/100\n",
      "150000/150000 [==============================] - 10s 67us/step - loss: 6.5352e-04\n",
      "Epoch 75/100\n",
      "150000/150000 [==============================] - 10s 68us/step - loss: 6.5376e-04\n",
      "Epoch 76/100\n",
      "150000/150000 [==============================] - 10s 69us/step - loss: 6.5381e-04\n",
      "Epoch 77/100\n",
      "150000/150000 [==============================] - 10s 66us/step - loss: 6.4786e-04\n",
      "Epoch 78/100\n",
      "150000/150000 [==============================] - 10s 68us/step - loss: 6.4923e-04\n",
      "Epoch 79/100\n",
      "150000/150000 [==============================] - 10s 67us/step - loss: 6.5805e-04\n",
      "Epoch 80/100\n",
      "150000/150000 [==============================] - 10s 67us/step - loss: 6.4986e-04\n",
      "Epoch 81/100\n",
      "150000/150000 [==============================] - 10s 68us/step - loss: 6.5391e-04\n",
      "Epoch 82/100\n",
      "150000/150000 [==============================] - 10s 65us/step - loss: 6.4269e-04\n",
      "Epoch 83/100\n",
      "150000/150000 [==============================] - 10s 65us/step - loss: 6.3221e-04\n",
      "Epoch 84/100\n",
      "150000/150000 [==============================] - 10s 65us/step - loss: 6.4663e-04\n",
      "Epoch 85/100\n",
      "150000/150000 [==============================] - 10s 65us/step - loss: 6.4792e-04\n",
      "Epoch 86/100\n",
      "150000/150000 [==============================] - 9s 63us/step - loss: 6.4420e-04\n",
      "Epoch 87/100\n",
      "150000/150000 [==============================] - 10s 64us/step - loss: 6.4137e-04\n",
      "Epoch 88/100\n",
      "150000/150000 [==============================] - 10s 66us/step - loss: 6.4447e-04\n",
      "Epoch 89/100\n",
      "150000/150000 [==============================] - 10s 65us/step - loss: 6.4023e-04\n",
      "Epoch 90/100\n",
      "150000/150000 [==============================] - 10s 67us/step - loss: 6.5351e-04\n",
      "Epoch 91/100\n",
      "150000/150000 [==============================] - 10s 65us/step - loss: 6.3914e-04\n",
      "Epoch 92/100\n",
      "150000/150000 [==============================] - 10s 70us/step - loss: 6.3781e-04\n",
      "Epoch 93/100\n",
      "150000/150000 [==============================] - 10s 68us/step - loss: 6.3559e-04\n",
      "Epoch 94/100\n",
      "150000/150000 [==============================] - 10s 65us/step - loss: 6.3963e-04\n",
      "Epoch 95/100\n",
      "150000/150000 [==============================] - 10s 64us/step - loss: 6.3675e-04\n",
      "Epoch 96/100\n",
      "150000/150000 [==============================] - 10s 64us/step - loss: 6.4162e-04\n",
      "Epoch 97/100\n",
      "150000/150000 [==============================] - 10s 65us/step - loss: 6.3474e-04\n",
      "Epoch 98/100\n",
      "150000/150000 [==============================] - 10s 67us/step - loss: 6.3622e-04\n",
      "Epoch 99/100\n",
      "150000/150000 [==============================] - 10s 66us/step - loss: 6.3499e-04\n",
      "Epoch 100/100\n",
      "150000/150000 [==============================] - 10s 67us/step - loss: 6.4113e-04\n",
      "150000/150000 [==============================] - 3s 21us/step\n",
      "49099/49099 [==============================] - 1s 21us/step\n",
      "Epoch 1/100\n",
      "195000/195000 [==============================] - 13s 66us/step - loss: 7.9924e-04\n",
      "Epoch 2/100\n",
      "195000/195000 [==============================] - 14s 70us/step - loss: 7.7866e-04\n",
      "Epoch 3/100\n",
      "195000/195000 [==============================] - 13s 65us/step - loss: 7.8048e-04\n",
      "Epoch 4/100\n",
      "195000/195000 [==============================] - 13s 66us/step - loss: 7.7750e-04\n",
      "Epoch 5/100\n",
      "195000/195000 [==============================] - 13s 66us/step - loss: 7.6954e-04\n",
      "Epoch 6/100\n",
      "195000/195000 [==============================] - 13s 66us/step - loss: 7.7161e-04\n",
      "Epoch 7/100\n",
      "195000/195000 [==============================] - 13s 65us/step - loss: 7.7566e-04\n",
      "Epoch 8/100\n",
      "195000/195000 [==============================] - 13s 65us/step - loss: 7.5714e-04\n",
      "Epoch 9/100\n",
      "195000/195000 [==============================] - 13s 66us/step - loss: 7.5151e-04\n",
      "Epoch 10/100\n",
      "195000/195000 [==============================] - 13s 66us/step - loss: 7.4448e-04\n",
      "Epoch 11/100\n",
      "195000/195000 [==============================] - 13s 66us/step - loss: 7.5566e-04\n",
      "Epoch 12/100\n",
      "195000/195000 [==============================] - 13s 66us/step - loss: 7.4722e-04\n",
      "Epoch 13/100\n",
      "195000/195000 [==============================] - 13s 66us/step - loss: 7.4803e-04\n",
      "Epoch 14/100\n",
      "195000/195000 [==============================] - 13s 66us/step - loss: 7.4586e-04\n",
      "Epoch 15/100\n",
      "195000/195000 [==============================] - 13s 66us/step - loss: 7.4220e-04\n",
      "Epoch 16/100\n",
      "195000/195000 [==============================] - 13s 66us/step - loss: 7.3655e-04\n",
      "Epoch 17/100\n",
      "195000/195000 [==============================] - 13s 66us/step - loss: 7.3168e-04\n",
      "Epoch 18/100\n",
      "195000/195000 [==============================] - 14s 73us/step - loss: 7.3843e-04\n",
      "Epoch 19/100\n",
      "195000/195000 [==============================] - 14s 71us/step - loss: 7.3760e-04\n",
      "Epoch 20/100\n",
      "195000/195000 [==============================] - 13s 66us/step - loss: 7.2803e-04\n",
      "Epoch 21/100\n",
      "195000/195000 [==============================] - 13s 69us/step - loss: 7.3125e-04\n",
      "Epoch 22/100\n",
      "195000/195000 [==============================] - 13s 67us/step - loss: 7.2477e-04\n",
      "Epoch 23/100\n",
      "195000/195000 [==============================] - 13s 68us/step - loss: 7.1410e-04\n",
      "Epoch 24/100\n",
      "195000/195000 [==============================] - 13s 66us/step - loss: 7.3225e-04\n",
      "Epoch 25/100\n",
      "195000/195000 [==============================] - 13s 69us/step - loss: 7.1540e-04\n",
      "Epoch 26/100\n",
      "195000/195000 [==============================] - 13s 66us/step - loss: 7.1230e-04\n",
      "Epoch 27/100\n",
      "195000/195000 [==============================] - 13s 65us/step - loss: 7.1888e-04\n",
      "Epoch 28/100\n",
      "195000/195000 [==============================] - 13s 65us/step - loss: 7.0940e-04\n",
      "Epoch 29/100\n",
      "195000/195000 [==============================] - 13s 65us/step - loss: 7.1202e-04\n",
      "Epoch 30/100\n",
      "195000/195000 [==============================] - 13s 65us/step - loss: 7.0645e-04\n",
      "Epoch 31/100\n",
      "195000/195000 [==============================] - 13s 65us/step - loss: 7.0204e-04\n",
      "Epoch 32/100\n",
      "195000/195000 [==============================] - 13s 65us/step - loss: 7.1112e-04\n",
      "Epoch 33/100\n",
      "195000/195000 [==============================] - 12s 64us/step - loss: 7.0198e-04\n",
      "Epoch 34/100\n",
      "195000/195000 [==============================] - 13s 65us/step - loss: 6.9769e-04\n",
      "Epoch 35/100\n",
      "195000/195000 [==============================] - 13s 64us/step - loss: 6.9948e-04\n",
      "Epoch 36/100\n",
      "195000/195000 [==============================] - 13s 65us/step - loss: 7.0030e-04\n",
      "Epoch 37/100\n",
      "195000/195000 [==============================] - 13s 66us/step - loss: 6.9755e-04\n",
      "Epoch 38/100\n",
      "195000/195000 [==============================] - 13s 65us/step - loss: 6.9092e-04\n",
      "Epoch 39/100\n",
      "195000/195000 [==============================] - 13s 65us/step - loss: 6.9412e-04\n",
      "Epoch 40/100\n",
      "195000/195000 [==============================] - 13s 66us/step - loss: 6.9976e-04\n",
      "Epoch 41/100\n",
      "195000/195000 [==============================] - 13s 66us/step - loss: 6.8616e-04\n",
      "Epoch 42/100\n",
      "195000/195000 [==============================] - 13s 67us/step - loss: 6.8419e-04\n",
      "Epoch 43/100\n",
      "195000/195000 [==============================] - 14s 72us/step - loss: 6.8365e-04\n",
      "Epoch 44/100\n",
      "195000/195000 [==============================] - 14s 72us/step - loss: 6.9138e-04\n",
      "Epoch 45/100\n",
      "195000/195000 [==============================] - 13s 64us/step - loss: 6.7696e-04\n",
      "Epoch 46/100\n",
      "195000/195000 [==============================] - 13s 66us/step - loss: 6.8431e-04\n",
      "Epoch 47/100\n",
      "195000/195000 [==============================] - 13s 65us/step - loss: 6.7659e-04\n",
      "Epoch 48/100\n",
      "195000/195000 [==============================] - 13s 65us/step - loss: 6.7571e-04\n",
      "Epoch 49/100\n",
      "195000/195000 [==============================] - 14s 72us/step - loss: 6.7783e-04\n",
      "Epoch 50/100\n",
      "195000/195000 [==============================] - 13s 66us/step - loss: 6.7044e-04\n",
      "Epoch 51/100\n",
      "195000/195000 [==============================] - 13s 65us/step - loss: 6.7732e-04\n",
      "Epoch 52/100\n",
      "195000/195000 [==============================] - 13s 66us/step - loss: 6.8209e-04\n",
      "Epoch 53/100\n",
      "195000/195000 [==============================] - 13s 67us/step - loss: 6.8139e-04\n",
      "Epoch 54/100\n",
      "195000/195000 [==============================] - 13s 66us/step - loss: 6.7340e-04\n",
      "Epoch 55/100\n",
      "195000/195000 [==============================] - 13s 66us/step - loss: 6.7395e-04\n",
      "Epoch 56/100\n",
      "195000/195000 [==============================] - 13s 67us/step - loss: 6.7257e-04\n",
      "Epoch 57/100\n",
      "195000/195000 [==============================] - 13s 67us/step - loss: 6.7473e-04\n",
      "Epoch 58/100\n",
      "195000/195000 [==============================] - 13s 68us/step - loss: 6.7238e-04\n",
      "Epoch 59/100\n",
      "195000/195000 [==============================] - 13s 68us/step - loss: 6.6868e-04\n",
      "Epoch 60/100\n",
      "195000/195000 [==============================] - 13s 67us/step - loss: 6.6522e-04\n",
      "Epoch 61/100\n",
      "195000/195000 [==============================] - 13s 66us/step - loss: 6.6075e-04\n",
      "Epoch 62/100\n",
      "195000/195000 [==============================] - 13s 66us/step - loss: 6.6504e-04\n",
      "Epoch 63/100\n",
      "195000/195000 [==============================] - 13s 66us/step - loss: 6.5959e-04\n",
      "Epoch 64/100\n",
      "195000/195000 [==============================] - 13s 66us/step - loss: 6.6295e-04\n",
      "Epoch 65/100\n",
      "195000/195000 [==============================] - 13s 66us/step - loss: 6.7405e-04\n",
      "Epoch 66/100\n",
      "195000/195000 [==============================] - 13s 66us/step - loss: 6.6150e-04\n",
      "Epoch 67/100\n",
      "195000/195000 [==============================] - 13s 68us/step - loss: 6.6500e-04\n",
      "Epoch 68/100\n",
      "195000/195000 [==============================] - 15s 79us/step - loss: 6.6359e-04\n",
      "Epoch 69/100\n",
      "195000/195000 [==============================] - 15s 75us/step - loss: 6.6206e-04\n",
      "Epoch 70/100\n",
      "195000/195000 [==============================] - 13s 69us/step - loss: 6.6082e-04\n",
      "Epoch 71/100\n",
      "195000/195000 [==============================] - 14s 69us/step - loss: 6.5863e-04\n",
      "Epoch 72/100\n",
      "195000/195000 [==============================] - 14s 69us/step - loss: 6.5328e-04\n",
      "Epoch 73/100\n",
      "195000/195000 [==============================] - 14s 71us/step - loss: 6.6209e-04\n",
      "Epoch 74/100\n",
      "195000/195000 [==============================] - 13s 68us/step - loss: 6.5421e-04\n",
      "Epoch 75/100\n",
      "195000/195000 [==============================] - 13s 67us/step - loss: 6.4772e-04\n",
      "Epoch 76/100\n",
      "195000/195000 [==============================] - 13s 67us/step - loss: 6.5695e-04\n",
      "Epoch 77/100\n",
      "195000/195000 [==============================] - 13s 67us/step - loss: 6.5555e-04\n",
      "Epoch 78/100\n",
      "195000/195000 [==============================] - 13s 68us/step - loss: 6.4995e-04\n",
      "Epoch 79/100\n",
      "195000/195000 [==============================] - 13s 67us/step - loss: 6.5413e-04\n",
      "Epoch 80/100\n",
      "195000/195000 [==============================] - 13s 68us/step - loss: 6.4345e-04\n",
      "Epoch 81/100\n",
      "195000/195000 [==============================] - 13s 67us/step - loss: 6.5054e-04\n",
      "Epoch 82/100\n",
      "195000/195000 [==============================] - 13s 68us/step - loss: 6.5202e-04\n",
      "Epoch 83/100\n",
      "195000/195000 [==============================] - 13s 68us/step - loss: 6.4485e-04\n",
      "Epoch 84/100\n",
      "195000/195000 [==============================] - 13s 69us/step - loss: 6.4038e-04\n",
      "Epoch 85/100\n",
      "195000/195000 [==============================] - 13s 68us/step - loss: 6.5086e-04\n",
      "Epoch 86/100\n",
      "195000/195000 [==============================] - 13s 68us/step - loss: 6.4482e-04\n",
      "Epoch 87/100\n",
      "195000/195000 [==============================] - 13s 68us/step - loss: 6.4906e-04\n",
      "Epoch 88/100\n",
      "195000/195000 [==============================] - 13s 66us/step - loss: 6.3326e-04\n",
      "Epoch 89/100\n",
      "195000/195000 [==============================] - 13s 67us/step - loss: 6.4610e-04\n",
      "Epoch 90/100\n",
      "195000/195000 [==============================] - 13s 67us/step - loss: 6.3869e-04\n",
      "Epoch 91/100\n",
      "195000/195000 [==============================] - 13s 68us/step - loss: 6.4287e-04\n",
      "Epoch 92/100\n",
      "195000/195000 [==============================] - 15s 77us/step - loss: 6.4426e-04\n",
      "Epoch 93/100\n",
      "195000/195000 [==============================] - 13s 68us/step - loss: 6.4143e-04\n",
      "Epoch 94/100\n",
      "195000/195000 [==============================] - 13s 68us/step - loss: 6.4191e-04\n",
      "Epoch 95/100\n",
      "195000/195000 [==============================] - 13s 67us/step - loss: 6.3576e-04\n",
      "Epoch 96/100\n",
      "195000/195000 [==============================] - 14s 73us/step - loss: 6.4393e-04\n",
      "Epoch 97/100\n",
      "195000/195000 [==============================] - 13s 66us/step - loss: 6.3690e-04\n",
      "Epoch 98/100\n",
      "195000/195000 [==============================] - 13s 66us/step - loss: 6.2994e-04\n",
      "Epoch 99/100\n",
      "195000/195000 [==============================] - 13s 66us/step - loss: 6.4084e-04\n",
      "Epoch 100/100\n",
      "195000/195000 [==============================] - 13s 65us/step - loss: 6.3320e-04\n",
      "195000/195000 [==============================] - 4s 21us/step\n",
      "49099/49099 [==============================] - 1s 21us/step\n"
     ]
    },
    {
     "data": {
      "image/png": "[encoded data removed]",
      "text/plain": [
       "<Figure size 432x288 with 1 Axes>"
      ]
     },
     "metadata": {
      "needs_background": "light",
      "tags": []
     },
     "output_type": "display_data"
    }
   ],
   "source": [
    "#Learning curve\n",
    "\n",
    "initial_weights = model.get_weights()\n",
    "training_sizes = np.array([50000,100000,150000,195000])\n",
    "\n",
    "def plot_results(train_accs,test_accs):\n",
    "  plt.plot(training_sizes, train_accs, 'o-', label=\"Train Loss\")\n",
    "  plt.plot(training_sizes, test_accs, 'o-', label=\"Test Loss\")\n",
    "  plt.title('Loss vs Number of training samples')\n",
    "  plt.xlabel('# of training samples')\n",
    "  plt.ylabel('Loss')\n",
    "  plt.legend(loc=\"best\")\n",
    "  plt.show()\n",
    "\n",
    "train_accs = []\n",
    "test_accs = []\n",
    "for size in training_sizes:\n",
    "\n",
    "    X_train_frac, y_train_frac = X_train[:size], y_train[:size]\n",
    "\n",
    "    model.set_weights(initial_weights)\n",
    "    model.fit(X_train_frac, y_train_frac, epochs = 100, callbacks = [early_stopping])\n",
    "\n",
    "    train_accs.append(model.evaluate(X_train_frac, y_train_frac))\n",
    "    test_accs.append(model.evaluate(X_test, y_test))\n",
    "\n",
    "plot_results(train_accs, test_accs)"
   ]
  },
  {
   "cell_type": "code",
   "execution_count": null,
   "metadata": {
    "colab": {},
    "colab_type": "code",
    "id": "dK2fOWjdv5uU"
   },
   "outputs": [],
   "source": [
    "#We need much more training samples for the neural network to learn better"
   ]
  },
  {
   "cell_type": "code",
   "execution_count": 105,
   "metadata": {
    "colab": {},
    "colab_type": "code",
    "id": "MXb6YjJvSwZr"
   },
   "outputs": [],
   "source": [
    "t1 = tss\n",
    "t2 = tss"
   ]
  },
  {
   "cell_type": "code",
   "execution_count": 106,
   "metadata": {
    "colab": {},
    "colab_type": "code",
    "id": "jXYTZ05Ehw1m"
   },
   "outputs": [],
   "source": [
    "t1.iloc[:,:] = mm.inverse_transform(t1)\n",
    "orig_price = t1['price']"
   ]
  },
  {
   "cell_type": "code",
   "execution_count": 107,
   "metadata": {
    "colab": {},
    "colab_type": "code",
    "id": "foGIuRvPh1sg"
   },
   "outputs": [],
   "source": [
    "t2['price'] = nn.predict(X_test)\n",
    "t2.iloc[:,:] = mm.inverse_transform(t2)\n",
    "pred_price = t2['price']"
   ]
  },
  {
   "cell_type": "code",
   "execution_count": 108,
   "metadata": {
    "colab": {
     "base_uri": "https://localhost:8080/",
     "height": 34
    },
    "colab_type": "code",
    "id": "qPTxSmakjf_x",
    "outputId": "f5414b2c-483b-4bdc-a102-d77654ffcca7"
   },
   "outputs": [
    {
     "data": {
      "text/plain": [
       "2837.452984274333"
      ]
     },
     "execution_count": 108,
     "metadata": {
      "tags": []
     },
     "output_type": "execute_result"
    }
   ],
   "source": [
    "from sklearn.metrics import mean_squared_error\n",
    "np.sqrt(mean_squared_error(orig_price,pred_price))"
   ]
  },
  {
   "cell_type": "code",
   "execution_count": 109,
   "metadata": {
    "colab": {},
    "colab_type": "code",
    "id": "ga0vgscxp6on"
   },
   "outputs": [],
   "source": [
    "# accuracies =  cross_val_score(estimator=nn, X= X_train, y=y_train,cv=10,scoring='neg_mean_squared_error', n_jobs=-1)\n",
    "# print(f'Mean {np.mean(np.sqrt(np.abs(accuracies)))} \\nStd {np.std(np.sqrt(np.abs(accuracies)),ddof=1)}')"
   ]
  },
  {
   "cell_type": "code",
   "execution_count": 110,
   "metadata": {
    "colab": {},
    "colab_type": "code",
    "id": "uhh4GUqOr7nX"
   },
   "outputs": [],
   "source": [
    "y_train = pd.DataFrame(y_train)"
   ]
  },
  {
   "cell_type": "code",
   "execution_count": 111,
   "metadata": {
    "colab": {
     "base_uri": "https://localhost:8080/",
     "height": 50
    },
    "colab_type": "code",
    "id": "SnZTlykafTVy",
    "outputId": "2bca1c92-bee2-44b6-9ec6-ec00cb1ebece"
   },
   "outputs": [
    {
     "name": "stdout",
     "output_type": "stream",
     "text": [
      "RMSE scores : 2839.182 (+/- 45.82048079) [Neural Network]\n",
      "\n"
     ]
    }
   ],
   "source": [
    "from sklearn.model_selection import KFold\n",
    "from sklearn import metrics\n",
    "kf = KFold(n_splits=10,shuffle=True,random_state=0)\n",
    "for model,name in zip([nn],['Neural Network']):\n",
    "    t3 = tss\n",
    "    rmse = []\n",
    "    for train_idx,test_idx in kf.split(X_train,y_train):\n",
    "        X_train1,X_test1 = X_train.iloc[train_idx,:],X_train.iloc[test_idx,:]\n",
    "        y_train1,y_test1 = y_train.iloc[train_idx,:],y_train.iloc[test_idx,:]\n",
    "        model.fit(X_train1,y_train1)\n",
    "        t3['price'] = model.predict(X_test)\n",
    "        t3.iloc[:,:] = mm.inverse_transform(t3)\n",
    "        y_pred = t3['price']\n",
    "        mse = metrics.mean_squared_error(orig_price,y_pred)\n",
    "        rmse.append(np.sqrt(mse))\n",
    "    print('RMSE scores : %0.03f (+/- %0.08f) [%s]'%(np.mean(rmse), np.std(rmse,ddof = 1), name))\n",
    "    print()"
   ]
  }
 ],
 "metadata": {
  "kernelspec": {
   "display_name": "Python 3",
   "language": "python",
   "name": "python3"
  },
  "language_info": {
   "codemirror_mode": {
    "name": "ipython",
    "version": 3
   },
   "file_extension": ".py",
   "mimetype": "text/x-python",
   "name": "python",
   "nbconvert_exporter": "python",
   "pygments_lexer": "ipython3",
   "version": "3.7.4"
  }
 },
 "nbformat": 4,
 "nbformat_minor": 4
}
