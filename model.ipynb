{
  "nbformat": 4,
  "nbformat_minor": 0,
  "metadata": {
    "kernelspec": {
      "display_name": "Python 3",
      "language": "python",
      "name": "python3"
    },
    "language_info": {
      "codemirror_mode": {
        "name": "ipython",
        "version": 3
      },
      "file_extension": ".py",
      "mimetype": "text/x-python",
      "name": "python",
      "nbconvert_exporter": "python",
      "pygments_lexer": "ipython3",
      "version": "3.7.3"
    },
    "colab": {
      "name": "model.ipynb",
      "provenance": [],
      "include_colab_link": true
    }
  },
  "cells": [
    {
      "cell_type": "markdown",
      "metadata": {
        "id": "view-in-github",
        "colab_type": "text"
      },
      "source": [
        "<a href=\"https://colab.research.google.com/github/pratikasarkar/Capstone_Project/blob/Prassanth/model.ipynb\" target=\"_parent\"><img src=\"https://colab.research.google.com/assets/colab-badge.svg\" alt=\"Open In Colab\"/></a>"
      ]
    },
    {
      "cell_type": "code",
      "metadata": {
        "id": "-qXrPQs15J2c",
        "colab_type": "code",
        "colab": {}
      },
      "source": [
        "import warnings \n",
        "warnings.filterwarnings('ignore')\n",
        "import numpy as np\n",
        "import pandas as pd\n",
        "import matplotlib.pyplot as plt\n",
        "import seaborn as sns\n",
        "import scipy.stats as st"
      ],
      "execution_count": 0,
      "outputs": []
    },
    {
      "cell_type": "code",
      "metadata": {
        "id": "1zKsks4z5r3q",
        "colab_type": "code",
        "colab": {
          "base_uri": "https://localhost:8080/",
          "height": 122
        },
        "outputId": "aaf12bcb-b6fc-4f13-fda9-34d01389a381"
      },
      "source": [
        "from google.colab import drive\n",
        "drive.mount('/content/drive')"
      ],
      "execution_count": 2,
      "outputs": [
        {
          "output_type": "stream",
          "text": [
            "Go to this URL in a browser: https://accounts.google.com/o/oauth2/auth?client_id=947318989803-6bn6qk8qdgf4n4g3pfee6491hc0brc4i.apps.googleusercontent.com&redirect_uri=urn%3aietf%3awg%3aoauth%3a2.0%3aoob&response_type=code&scope=email%20https%3a%2f%2fwww.googleapis.com%2fauth%2fdocs.test%20https%3a%2f%2fwww.googleapis.com%2fauth%2fdrive%20https%3a%2f%2fwww.googleapis.com%2fauth%2fdrive.photos.readonly%20https%3a%2f%2fwww.googleapis.com%2fauth%2fpeopleapi.readonly\n",
            "\n",
            "Enter your authorization code:\n",
            "··········\n",
            "Mounted at /content/drive\n"
          ],
          "name": "stdout"
        }
      ]
    },
    {
      "cell_type": "code",
      "metadata": {
        "id": "jPQ7PIsg5J2g",
        "colab_type": "code",
        "colab": {}
      },
      "source": [
        "df = pd.read_csv(r'/content/drive/My Drive/Capstone_Used_cars/autos.csv',encoding = \"ISO-8859-1\",parse_dates=['dateCrawled','dateCreated','lastSeen'],\n",
        "                 infer_datetime_format=True)"
      ],
      "execution_count": 0,
      "outputs": []
    },
    {
      "cell_type": "code",
      "metadata": {
        "id": "dmSKDKak5J2j",
        "colab_type": "code",
        "colab": {}
      },
      "source": [
        "df1 = df.copy()\n",
        "df1['No_of_days_online'] = (df1['lastSeen'] - df1['dateCreated']).dt.days\n",
        "df1.drop(columns=['seller','offerType','dateCrawled' , 'name' , 'nrOfPictures','postalCode','lastSeen','dateCreated'],inplace = True)"
      ],
      "execution_count": 0,
      "outputs": []
    },
    {
      "cell_type": "code",
      "metadata": {
        "id": "EvEuQziO5J2l",
        "colab_type": "code",
        "colab": {}
      },
      "source": [
        "#df1[df1['No_of_days_online'] >50]"
      ],
      "execution_count": 0,
      "outputs": []
    },
    {
      "cell_type": "code",
      "metadata": {
        "id": "wm7Os-mN5J2o",
        "colab_type": "code",
        "colab": {}
      },
      "source": [
        "df1.drop(df1[(df1['price'] < 100) | (df1['price'] > 100000)].index , axis =0, inplace = True)     #13723 \n",
        "df1.drop(df1[(df1['powerPS'] < 40) | (df1['powerPS'] > 800)].index,inplace=True)    #42627\n",
        "df1.drop(df1[(df1['yearOfRegistration'] < 1995) | (df1['yearOfRegistration'] > 2017)].index,inplace = True)   #24807"
      ],
      "execution_count": 0,
      "outputs": []
    },
    {
      "cell_type": "code",
      "metadata": {
        "id": "se-HdvSI5J2r",
        "colab_type": "code",
        "colab": {
          "base_uri": "https://localhost:8080/",
          "height": 204
        },
        "outputId": "7adc506b-a1d4-4e50-d035-ed96f4f62089"
      },
      "source": [
        "df2 = df1.dropna()     #64717\n",
        "df2.head()"
      ],
      "execution_count": 7,
      "outputs": [
        {
          "output_type": "execute_result",
          "data": {
            "text/html": [
              "<div>\n",
              "<style scoped>\n",
              "    .dataframe tbody tr th:only-of-type {\n",
              "        vertical-align: middle;\n",
              "    }\n",
              "\n",
              "    .dataframe tbody tr th {\n",
              "        vertical-align: top;\n",
              "    }\n",
              "\n",
              "    .dataframe thead th {\n",
              "        text-align: right;\n",
              "    }\n",
              "</style>\n",
              "<table border=\"1\" class=\"dataframe\">\n",
              "  <thead>\n",
              "    <tr style=\"text-align: right;\">\n",
              "      <th></th>\n",
              "      <th>price</th>\n",
              "      <th>abtest</th>\n",
              "      <th>vehicleType</th>\n",
              "      <th>yearOfRegistration</th>\n",
              "      <th>gearbox</th>\n",
              "      <th>powerPS</th>\n",
              "      <th>model</th>\n",
              "      <th>kilometer</th>\n",
              "      <th>monthOfRegistration</th>\n",
              "      <th>fuelType</th>\n",
              "      <th>brand</th>\n",
              "      <th>notRepairedDamage</th>\n",
              "      <th>No_of_days_online</th>\n",
              "    </tr>\n",
              "  </thead>\n",
              "  <tbody>\n",
              "    <tr>\n",
              "      <th>3</th>\n",
              "      <td>1500</td>\n",
              "      <td>test</td>\n",
              "      <td>kleinwagen</td>\n",
              "      <td>2001</td>\n",
              "      <td>manuell</td>\n",
              "      <td>75</td>\n",
              "      <td>golf</td>\n",
              "      <td>150000</td>\n",
              "      <td>6</td>\n",
              "      <td>benzin</td>\n",
              "      <td>volkswagen</td>\n",
              "      <td>nein</td>\n",
              "      <td>0</td>\n",
              "    </tr>\n",
              "    <tr>\n",
              "      <th>4</th>\n",
              "      <td>3600</td>\n",
              "      <td>test</td>\n",
              "      <td>kleinwagen</td>\n",
              "      <td>2008</td>\n",
              "      <td>manuell</td>\n",
              "      <td>69</td>\n",
              "      <td>fabia</td>\n",
              "      <td>90000</td>\n",
              "      <td>7</td>\n",
              "      <td>diesel</td>\n",
              "      <td>skoda</td>\n",
              "      <td>nein</td>\n",
              "      <td>6</td>\n",
              "    </tr>\n",
              "    <tr>\n",
              "      <th>5</th>\n",
              "      <td>650</td>\n",
              "      <td>test</td>\n",
              "      <td>limousine</td>\n",
              "      <td>1995</td>\n",
              "      <td>manuell</td>\n",
              "      <td>102</td>\n",
              "      <td>3er</td>\n",
              "      <td>150000</td>\n",
              "      <td>10</td>\n",
              "      <td>benzin</td>\n",
              "      <td>bmw</td>\n",
              "      <td>ja</td>\n",
              "      <td>2</td>\n",
              "    </tr>\n",
              "    <tr>\n",
              "      <th>6</th>\n",
              "      <td>2200</td>\n",
              "      <td>test</td>\n",
              "      <td>cabrio</td>\n",
              "      <td>2004</td>\n",
              "      <td>manuell</td>\n",
              "      <td>109</td>\n",
              "      <td>2_reihe</td>\n",
              "      <td>150000</td>\n",
              "      <td>8</td>\n",
              "      <td>benzin</td>\n",
              "      <td>peugeot</td>\n",
              "      <td>nein</td>\n",
              "      <td>4</td>\n",
              "    </tr>\n",
              "    <tr>\n",
              "      <th>10</th>\n",
              "      <td>2000</td>\n",
              "      <td>control</td>\n",
              "      <td>limousine</td>\n",
              "      <td>2004</td>\n",
              "      <td>manuell</td>\n",
              "      <td>105</td>\n",
              "      <td>3_reihe</td>\n",
              "      <td>150000</td>\n",
              "      <td>12</td>\n",
              "      <td>benzin</td>\n",
              "      <td>mazda</td>\n",
              "      <td>nein</td>\n",
              "      <td>11</td>\n",
              "    </tr>\n",
              "  </tbody>\n",
              "</table>\n",
              "</div>"
            ],
            "text/plain": [
              "    price   abtest vehicleType  ...       brand notRepairedDamage  No_of_days_online\n",
              "3    1500     test  kleinwagen  ...  volkswagen              nein                  0\n",
              "4    3600     test  kleinwagen  ...       skoda              nein                  6\n",
              "5     650     test   limousine  ...         bmw                ja                  2\n",
              "6    2200     test      cabrio  ...     peugeot              nein                  4\n",
              "10   2000  control   limousine  ...       mazda              nein                 11\n",
              "\n",
              "[5 rows x 13 columns]"
            ]
          },
          "metadata": {
            "tags": []
          },
          "execution_count": 7
        }
      ]
    },
    {
      "cell_type": "code",
      "metadata": {
        "id": "PgMdw0Mp5J2u",
        "colab_type": "code",
        "colab": {
          "base_uri": "https://localhost:8080/",
          "height": 296
        },
        "outputId": "fc85f3fd-4cfe-4b0f-d27b-9767275e5fbf"
      },
      "source": [
        "sns.distplot(df2.price)"
      ],
      "execution_count": 8,
      "outputs": [
        {
          "output_type": "execute_result",
          "data": {
            "text/plain": [
              "<matplotlib.axes._subplots.AxesSubplot at 0x7fcf3e885a58>"
            ]
          },
          "metadata": {
            "tags": []
          },
          "execution_count": 8
        },
        {
          "output_type": "display_data",
          "data": {
            "image/png": "[encoded data removed]",
            "text/plain": [
              "<Figure size 432x288 with 1 Axes>"
            ]
          },
          "metadata": {
            "tags": [],
            "needs_background": "light"
          }
        }
      ]
    },
    {
      "cell_type": "code",
      "metadata": {
        "id": "oaF8b_Hu5J2x",
        "colab_type": "code",
        "colab": {
          "base_uri": "https://localhost:8080/",
          "height": 296
        },
        "outputId": "63ebf99d-ba6a-44d4-fb09-09187974263c"
      },
      "source": [
        "sns.distplot(np.log(df2.price))"
      ],
      "execution_count": 9,
      "outputs": [
        {
          "output_type": "execute_result",
          "data": {
            "text/plain": [
              "<matplotlib.axes._subplots.AxesSubplot at 0x7fcf40b2e940>"
            ]
          },
          "metadata": {
            "tags": []
          },
          "execution_count": 9
        },
        {
          "output_type": "display_data",
          "data": {
            "image/png": "[encoded data removed]",
            "text/plain": [
              "<Figure size 432x288 with 1 Axes>"
            ]
          },
          "metadata": {
            "tags": [],
            "needs_background": "light"
          }
        }
      ]
    },
    {
      "cell_type": "code",
      "metadata": {
        "id": "sw10Of5U5J20",
        "colab_type": "code",
        "colab": {}
      },
      "source": [
        "df2['price'] = np.log(df2['price'])"
      ],
      "execution_count": 0,
      "outputs": []
    },
    {
      "cell_type": "code",
      "metadata": {
        "id": "Z69zPQ475J22",
        "colab_type": "code",
        "colab": {
          "base_uri": "https://localhost:8080/",
          "height": 34
        },
        "outputId": "f1e90168-2fca-4ba5-c755-1de647dbcb52"
      },
      "source": [
        "#Normality test\n",
        "test_stat,p_value = st.shapiro(df2['price'])\n",
        "print(f'P value for normality test is {p_value}')"
      ],
      "execution_count": 11,
      "outputs": [
        {
          "output_type": "stream",
          "text": [
            "P value for normality test is 0.0\n"
          ],
          "name": "stdout"
        }
      ]
    },
    {
      "cell_type": "code",
      "metadata": {
        "id": "-WlsQIYq5J28",
        "colab_type": "code",
        "colab": {}
      },
      "source": [
        "#Statistical Significance testing\n",
        "#2 sample independent T test\n",
        "# gearbox , abtest , not repaired damage"
      ],
      "execution_count": 0,
      "outputs": []
    },
    {
      "cell_type": "code",
      "metadata": {
        "id": "8rqLeP1u5J2-",
        "colab_type": "code",
        "colab": {
          "base_uri": "https://localhost:8080/",
          "height": 68
        },
        "outputId": "3c8ecbcb-94b4-464b-9a05-3e15491d095e"
      },
      "source": [
        "for i in ['gearbox' , 'abtest' , 'notRepairedDamage']:\n",
        "    a = df2[df2[i] == df2[i].unique()[0]]['price']\n",
        "    b = df2[df2[i] == df2[i].unique()[1]]['price']\n",
        "    test_stat , pval = st.ttest_ind(a,b)\n",
        "    print(f'Pvalue for {i} is {pval}')"
      ],
      "execution_count": 13,
      "outputs": [
        {
          "output_type": "stream",
          "text": [
            "Pvalue for gearbox is 0.0\n",
            "Pvalue for abtest is 0.6968668485863598\n",
            "Pvalue for notRepairedDamage is 0.0\n"
          ],
          "name": "stdout"
        }
      ]
    },
    {
      "cell_type": "code",
      "metadata": {
        "id": "WTUyGSkr5J3A",
        "colab_type": "code",
        "colab": {}
      },
      "source": [
        "#1 way anova\n",
        "#vehicle type , yearOfRegistration , kilometer , monthof reg , fuel type , brand , "
      ],
      "execution_count": 0,
      "outputs": []
    },
    {
      "cell_type": "code",
      "metadata": {
        "id": "RASSa4g05J3C",
        "colab_type": "code",
        "colab": {}
      },
      "source": [
        "#afunction(*list(dic.values()))"
      ],
      "execution_count": 0,
      "outputs": []
    },
    {
      "cell_type": "code",
      "metadata": {
        "id": "AgnDwdSZ5J3F",
        "colab_type": "code",
        "colab": {
          "base_uri": "https://localhost:8080/",
          "height": 136
        },
        "outputId": "76473906-cb85-4d15-cccb-bd02c500c553"
      },
      "source": [
        "for i in ['vehicleType' , 'yearOfRegistration' , 'kilometer' , 'monthOfRegistration' , 'fuelType' , 'brand','model']:\n",
        "    #print(i)\n",
        "    cat = {}\n",
        "    for j in range(df2[i].nunique()):\n",
        "        cat[df2[i].unique()[j]] = df2[df2[i] == df2[i].unique()[j]]['price']\n",
        "    #print({key: len(value) for key, value in cat.items()})\n",
        "    tstat , pval = st.f_oneway(*list(cat.values()))\n",
        "    print(f'P-value for {i} is {pval}')"
      ],
      "execution_count": 16,
      "outputs": [
        {
          "output_type": "stream",
          "text": [
            "P-value for vehicleType is 0.0\n",
            "P-value for yearOfRegistration is 0.0\n",
            "P-value for kilometer is 0.0\n",
            "P-value for monthOfRegistration is 0.0\n",
            "P-value for fuelType is 0.0\n",
            "P-value for brand is 0.0\n",
            "P-value for model is 0.0\n"
          ],
          "name": "stdout"
        }
      ]
    },
    {
      "cell_type": "code",
      "metadata": {
        "id": "rlHbSSn75J3H",
        "colab_type": "code",
        "colab": {}
      },
      "source": [
        "#Varience test\n",
        "#Powerps "
      ],
      "execution_count": 0,
      "outputs": []
    },
    {
      "cell_type": "code",
      "metadata": {
        "id": "LhB2vCAG5J3J",
        "colab_type": "code",
        "colab": {
          "base_uri": "https://localhost:8080/",
          "height": 34
        },
        "outputId": "1d992fc2-6696-484c-ded6-5d2b48f962ce"
      },
      "source": [
        "st.levene(df2['powerPS'],df2['price'])"
      ],
      "execution_count": 18,
      "outputs": [
        {
          "output_type": "execute_result",
          "data": {
            "text/plain": [
              "LeveneResult(statistic=227588.4243381003, pvalue=0.0)"
            ]
          },
          "metadata": {
            "tags": []
          },
          "execution_count": 18
        }
      ]
    },
    {
      "cell_type": "code",
      "metadata": {
        "id": "d2JT8EJN5J3L",
        "colab_type": "code",
        "colab": {}
      },
      "source": [
        "#number of days online"
      ],
      "execution_count": 0,
      "outputs": []
    },
    {
      "cell_type": "code",
      "metadata": {
        "id": "MZqV2tIG5J3P",
        "colab_type": "code",
        "colab": {
          "base_uri": "https://localhost:8080/",
          "height": 34
        },
        "outputId": "0beab745-1287-4904-84d5-ed7f4b39d94c"
      },
      "source": [
        "st.levene(df2['No_of_days_online'],df2['price'])"
      ],
      "execution_count": 20,
      "outputs": [
        {
          "output_type": "execute_result",
          "data": {
            "text/plain": [
              "LeveneResult(statistic=221146.49302722447, pvalue=0.0)"
            ]
          },
          "metadata": {
            "tags": []
          },
          "execution_count": 20
        }
      ]
    },
    {
      "cell_type": "code",
      "metadata": {
        "id": "M-ajx56N5J3R",
        "colab_type": "code",
        "colab": {}
      },
      "source": [
        "df2.drop(columns='abtest',inplace = True)"
      ],
      "execution_count": 0,
      "outputs": []
    },
    {
      "cell_type": "code",
      "metadata": {
        "id": "g0L8D8K75J3T",
        "colab_type": "code",
        "colab": {}
      },
      "source": [
        "df2.dropna(inplace = True)"
      ],
      "execution_count": 0,
      "outputs": []
    },
    {
      "cell_type": "markdown",
      "metadata": {
        "id": "529b5JUj5J3W",
        "colab_type": "text"
      },
      "source": [
        "### Chossing best Encdoing method"
      ]
    },
    {
      "cell_type": "code",
      "metadata": {
        "id": "IRI4lgo25J3W",
        "colab_type": "code",
        "colab": {}
      },
      "source": [
        "X = df2.drop(columns='price')\n",
        "y = df2.price"
      ],
      "execution_count": 0,
      "outputs": []
    },
    {
      "cell_type": "code",
      "metadata": {
        "id": "MvnkNMU15J3Y",
        "colab_type": "code",
        "colab": {}
      },
      "source": [
        "# cat_cols = [i for i in X.columns if df2[i].dtypes == 'O']\n",
        "# num_cols = [i for i in X.columns if df2[i].dtypes != 'O']"
      ],
      "execution_count": 0,
      "outputs": []
    },
    {
      "cell_type": "code",
      "metadata": {
        "id": "6TSjyjkz5J3a",
        "colab_type": "code",
        "colab": {}
      },
      "source": [
        "cat_cols = ['vehicleType','gearbox','model','fuelType','brand','notRepairedDamage' , 'yearOfRegistration','kilometer']\n",
        "num_cols = ['powerPS' , 'No_of_days_online']"
      ],
      "execution_count": 0,
      "outputs": []
    },
    {
      "cell_type": "code",
      "metadata": {
        "id": "RobD-Urn5J3d",
        "colab_type": "code",
        "colab": {}
      },
      "source": [
        "from sklearn.model_selection import train_test_split\n",
        "X_train, X_test, y_train, y_test = train_test_split(X , y , test_size = 0.3 , random_state = 3)"
      ],
      "execution_count": 0,
      "outputs": []
    },
    {
      "cell_type": "markdown",
      "metadata": {
        "id": "yRABPeAc5J3f",
        "colab_type": "text"
      },
      "source": [
        "##### One Hot Encoding"
      ]
    },
    {
      "cell_type": "code",
      "metadata": {
        "scrolled": true,
        "id": "C1ory2Y65J3g",
        "colab_type": "code",
        "colab": {
          "base_uri": "https://localhost:8080/",
          "height": 253
        },
        "outputId": "99b2250e-69af-4290-e499-5c371a3e2add"
      },
      "source": [
        "def OHE(df):\n",
        "\n",
        "    df_OHE = pd.concat([df[num_cols], pd.get_dummies(df[cat_cols], drop_first=True)],axis=1)\n",
        "    return df_OHE\n",
        "\n",
        "X_train_OHE = OHE(X_train)\n",
        "X_test_OHE = OHE(X_test)\n",
        "\n",
        "X_train_OHE.head()"
      ],
      "execution_count": 27,
      "outputs": [
        {
          "output_type": "execute_result",
          "data": {
            "text/html": [
              "<div>\n",
              "<style scoped>\n",
              "    .dataframe tbody tr th:only-of-type {\n",
              "        vertical-align: middle;\n",
              "    }\n",
              "\n",
              "    .dataframe tbody tr th {\n",
              "        vertical-align: top;\n",
              "    }\n",
              "\n",
              "    .dataframe thead th {\n",
              "        text-align: right;\n",
              "    }\n",
              "</style>\n",
              "<table border=\"1\" class=\"dataframe\">\n",
              "  <thead>\n",
              "    <tr style=\"text-align: right;\">\n",
              "      <th></th>\n",
              "      <th>powerPS</th>\n",
              "      <th>No_of_days_online</th>\n",
              "      <th>yearOfRegistration</th>\n",
              "      <th>kilometer</th>\n",
              "      <th>vehicleType_bus</th>\n",
              "      <th>vehicleType_cabrio</th>\n",
              "      <th>vehicleType_coupe</th>\n",
              "      <th>vehicleType_kleinwagen</th>\n",
              "      <th>vehicleType_kombi</th>\n",
              "      <th>vehicleType_limousine</th>\n",
              "      <th>vehicleType_suv</th>\n",
              "      <th>gearbox_manuell</th>\n",
              "      <th>model_145</th>\n",
              "      <th>model_147</th>\n",
              "      <th>model_156</th>\n",
              "      <th>model_159</th>\n",
              "      <th>model_1_reihe</th>\n",
              "      <th>model_1er</th>\n",
              "      <th>model_2_reihe</th>\n",
              "      <th>model_300c</th>\n",
              "      <th>model_3_reihe</th>\n",
              "      <th>model_3er</th>\n",
              "      <th>model_4_reihe</th>\n",
              "      <th>model_500</th>\n",
              "      <th>model_5_reihe</th>\n",
              "      <th>model_5er</th>\n",
              "      <th>model_6_reihe</th>\n",
              "      <th>model_6er</th>\n",
              "      <th>model_7er</th>\n",
              "      <th>model_80</th>\n",
              "      <th>model_850</th>\n",
              "      <th>model_900</th>\n",
              "      <th>model_9000</th>\n",
              "      <th>model_911</th>\n",
              "      <th>model_a1</th>\n",
              "      <th>model_a2</th>\n",
              "      <th>model_a3</th>\n",
              "      <th>model_a4</th>\n",
              "      <th>model_a5</th>\n",
              "      <th>model_a6</th>\n",
              "      <th>...</th>\n",
              "      <th>fuelType_hybrid</th>\n",
              "      <th>fuelType_lpg</th>\n",
              "      <th>brand_audi</th>\n",
              "      <th>brand_bmw</th>\n",
              "      <th>brand_chevrolet</th>\n",
              "      <th>brand_chrysler</th>\n",
              "      <th>brand_citroen</th>\n",
              "      <th>brand_dacia</th>\n",
              "      <th>brand_daewoo</th>\n",
              "      <th>brand_daihatsu</th>\n",
              "      <th>brand_fiat</th>\n",
              "      <th>brand_ford</th>\n",
              "      <th>brand_honda</th>\n",
              "      <th>brand_hyundai</th>\n",
              "      <th>brand_jaguar</th>\n",
              "      <th>brand_jeep</th>\n",
              "      <th>brand_kia</th>\n",
              "      <th>brand_lada</th>\n",
              "      <th>brand_lancia</th>\n",
              "      <th>brand_land_rover</th>\n",
              "      <th>brand_mazda</th>\n",
              "      <th>brand_mercedes_benz</th>\n",
              "      <th>brand_mini</th>\n",
              "      <th>brand_mitsubishi</th>\n",
              "      <th>brand_nissan</th>\n",
              "      <th>brand_opel</th>\n",
              "      <th>brand_peugeot</th>\n",
              "      <th>brand_porsche</th>\n",
              "      <th>brand_renault</th>\n",
              "      <th>brand_rover</th>\n",
              "      <th>brand_saab</th>\n",
              "      <th>brand_seat</th>\n",
              "      <th>brand_skoda</th>\n",
              "      <th>brand_smart</th>\n",
              "      <th>brand_subaru</th>\n",
              "      <th>brand_suzuki</th>\n",
              "      <th>brand_toyota</th>\n",
              "      <th>brand_volkswagen</th>\n",
              "      <th>brand_volvo</th>\n",
              "      <th>notRepairedDamage_nein</th>\n",
              "    </tr>\n",
              "  </thead>\n",
              "  <tbody>\n",
              "    <tr>\n",
              "      <th>232438</th>\n",
              "      <td>260</td>\n",
              "      <td>6</td>\n",
              "      <td>2007</td>\n",
              "      <td>125000</td>\n",
              "      <td>0</td>\n",
              "      <td>0</td>\n",
              "      <td>0</td>\n",
              "      <td>0</td>\n",
              "      <td>0</td>\n",
              "      <td>1</td>\n",
              "      <td>0</td>\n",
              "      <td>1</td>\n",
              "      <td>0</td>\n",
              "      <td>0</td>\n",
              "      <td>0</td>\n",
              "      <td>0</td>\n",
              "      <td>0</td>\n",
              "      <td>0</td>\n",
              "      <td>0</td>\n",
              "      <td>0</td>\n",
              "      <td>1</td>\n",
              "      <td>0</td>\n",
              "      <td>0</td>\n",
              "      <td>0</td>\n",
              "      <td>0</td>\n",
              "      <td>0</td>\n",
              "      <td>0</td>\n",
              "      <td>0</td>\n",
              "      <td>0</td>\n",
              "      <td>0</td>\n",
              "      <td>0</td>\n",
              "      <td>0</td>\n",
              "      <td>0</td>\n",
              "      <td>0</td>\n",
              "      <td>0</td>\n",
              "      <td>0</td>\n",
              "      <td>0</td>\n",
              "      <td>0</td>\n",
              "      <td>0</td>\n",
              "      <td>0</td>\n",
              "      <td>...</td>\n",
              "      <td>0</td>\n",
              "      <td>0</td>\n",
              "      <td>0</td>\n",
              "      <td>0</td>\n",
              "      <td>0</td>\n",
              "      <td>0</td>\n",
              "      <td>0</td>\n",
              "      <td>0</td>\n",
              "      <td>0</td>\n",
              "      <td>0</td>\n",
              "      <td>0</td>\n",
              "      <td>0</td>\n",
              "      <td>0</td>\n",
              "      <td>0</td>\n",
              "      <td>0</td>\n",
              "      <td>0</td>\n",
              "      <td>0</td>\n",
              "      <td>0</td>\n",
              "      <td>0</td>\n",
              "      <td>0</td>\n",
              "      <td>1</td>\n",
              "      <td>0</td>\n",
              "      <td>0</td>\n",
              "      <td>0</td>\n",
              "      <td>0</td>\n",
              "      <td>0</td>\n",
              "      <td>0</td>\n",
              "      <td>0</td>\n",
              "      <td>0</td>\n",
              "      <td>0</td>\n",
              "      <td>0</td>\n",
              "      <td>0</td>\n",
              "      <td>0</td>\n",
              "      <td>0</td>\n",
              "      <td>0</td>\n",
              "      <td>0</td>\n",
              "      <td>0</td>\n",
              "      <td>0</td>\n",
              "      <td>0</td>\n",
              "      <td>1</td>\n",
              "    </tr>\n",
              "    <tr>\n",
              "      <th>313967</th>\n",
              "      <td>260</td>\n",
              "      <td>26</td>\n",
              "      <td>2008</td>\n",
              "      <td>125000</td>\n",
              "      <td>0</td>\n",
              "      <td>0</td>\n",
              "      <td>0</td>\n",
              "      <td>0</td>\n",
              "      <td>0</td>\n",
              "      <td>1</td>\n",
              "      <td>0</td>\n",
              "      <td>1</td>\n",
              "      <td>0</td>\n",
              "      <td>0</td>\n",
              "      <td>0</td>\n",
              "      <td>0</td>\n",
              "      <td>0</td>\n",
              "      <td>0</td>\n",
              "      <td>0</td>\n",
              "      <td>0</td>\n",
              "      <td>0</td>\n",
              "      <td>0</td>\n",
              "      <td>0</td>\n",
              "      <td>0</td>\n",
              "      <td>0</td>\n",
              "      <td>0</td>\n",
              "      <td>1</td>\n",
              "      <td>0</td>\n",
              "      <td>0</td>\n",
              "      <td>0</td>\n",
              "      <td>0</td>\n",
              "      <td>0</td>\n",
              "      <td>0</td>\n",
              "      <td>0</td>\n",
              "      <td>0</td>\n",
              "      <td>0</td>\n",
              "      <td>0</td>\n",
              "      <td>0</td>\n",
              "      <td>0</td>\n",
              "      <td>0</td>\n",
              "      <td>...</td>\n",
              "      <td>0</td>\n",
              "      <td>0</td>\n",
              "      <td>0</td>\n",
              "      <td>0</td>\n",
              "      <td>0</td>\n",
              "      <td>0</td>\n",
              "      <td>0</td>\n",
              "      <td>0</td>\n",
              "      <td>0</td>\n",
              "      <td>0</td>\n",
              "      <td>0</td>\n",
              "      <td>0</td>\n",
              "      <td>0</td>\n",
              "      <td>0</td>\n",
              "      <td>0</td>\n",
              "      <td>0</td>\n",
              "      <td>0</td>\n",
              "      <td>0</td>\n",
              "      <td>0</td>\n",
              "      <td>0</td>\n",
              "      <td>1</td>\n",
              "      <td>0</td>\n",
              "      <td>0</td>\n",
              "      <td>0</td>\n",
              "      <td>0</td>\n",
              "      <td>0</td>\n",
              "      <td>0</td>\n",
              "      <td>0</td>\n",
              "      <td>0</td>\n",
              "      <td>0</td>\n",
              "      <td>0</td>\n",
              "      <td>0</td>\n",
              "      <td>0</td>\n",
              "      <td>0</td>\n",
              "      <td>0</td>\n",
              "      <td>0</td>\n",
              "      <td>0</td>\n",
              "      <td>0</td>\n",
              "      <td>0</td>\n",
              "      <td>1</td>\n",
              "    </tr>\n",
              "    <tr>\n",
              "      <th>350377</th>\n",
              "      <td>150</td>\n",
              "      <td>0</td>\n",
              "      <td>2007</td>\n",
              "      <td>150000</td>\n",
              "      <td>0</td>\n",
              "      <td>0</td>\n",
              "      <td>0</td>\n",
              "      <td>0</td>\n",
              "      <td>0</td>\n",
              "      <td>0</td>\n",
              "      <td>1</td>\n",
              "      <td>1</td>\n",
              "      <td>0</td>\n",
              "      <td>0</td>\n",
              "      <td>0</td>\n",
              "      <td>0</td>\n",
              "      <td>0</td>\n",
              "      <td>0</td>\n",
              "      <td>0</td>\n",
              "      <td>0</td>\n",
              "      <td>0</td>\n",
              "      <td>0</td>\n",
              "      <td>0</td>\n",
              "      <td>0</td>\n",
              "      <td>0</td>\n",
              "      <td>0</td>\n",
              "      <td>0</td>\n",
              "      <td>0</td>\n",
              "      <td>0</td>\n",
              "      <td>0</td>\n",
              "      <td>0</td>\n",
              "      <td>0</td>\n",
              "      <td>0</td>\n",
              "      <td>0</td>\n",
              "      <td>0</td>\n",
              "      <td>0</td>\n",
              "      <td>0</td>\n",
              "      <td>0</td>\n",
              "      <td>0</td>\n",
              "      <td>0</td>\n",
              "      <td>...</td>\n",
              "      <td>0</td>\n",
              "      <td>0</td>\n",
              "      <td>0</td>\n",
              "      <td>0</td>\n",
              "      <td>0</td>\n",
              "      <td>0</td>\n",
              "      <td>0</td>\n",
              "      <td>0</td>\n",
              "      <td>0</td>\n",
              "      <td>0</td>\n",
              "      <td>0</td>\n",
              "      <td>0</td>\n",
              "      <td>0</td>\n",
              "      <td>0</td>\n",
              "      <td>0</td>\n",
              "      <td>0</td>\n",
              "      <td>0</td>\n",
              "      <td>0</td>\n",
              "      <td>0</td>\n",
              "      <td>0</td>\n",
              "      <td>0</td>\n",
              "      <td>0</td>\n",
              "      <td>0</td>\n",
              "      <td>0</td>\n",
              "      <td>0</td>\n",
              "      <td>1</td>\n",
              "      <td>0</td>\n",
              "      <td>0</td>\n",
              "      <td>0</td>\n",
              "      <td>0</td>\n",
              "      <td>0</td>\n",
              "      <td>0</td>\n",
              "      <td>0</td>\n",
              "      <td>0</td>\n",
              "      <td>0</td>\n",
              "      <td>0</td>\n",
              "      <td>0</td>\n",
              "      <td>0</td>\n",
              "      <td>0</td>\n",
              "      <td>1</td>\n",
              "    </tr>\n",
              "    <tr>\n",
              "      <th>225864</th>\n",
              "      <td>144</td>\n",
              "      <td>3</td>\n",
              "      <td>2003</td>\n",
              "      <td>150000</td>\n",
              "      <td>0</td>\n",
              "      <td>0</td>\n",
              "      <td>0</td>\n",
              "      <td>0</td>\n",
              "      <td>0</td>\n",
              "      <td>1</td>\n",
              "      <td>0</td>\n",
              "      <td>1</td>\n",
              "      <td>0</td>\n",
              "      <td>0</td>\n",
              "      <td>0</td>\n",
              "      <td>0</td>\n",
              "      <td>0</td>\n",
              "      <td>0</td>\n",
              "      <td>0</td>\n",
              "      <td>0</td>\n",
              "      <td>0</td>\n",
              "      <td>0</td>\n",
              "      <td>0</td>\n",
              "      <td>0</td>\n",
              "      <td>0</td>\n",
              "      <td>0</td>\n",
              "      <td>0</td>\n",
              "      <td>0</td>\n",
              "      <td>0</td>\n",
              "      <td>0</td>\n",
              "      <td>0</td>\n",
              "      <td>0</td>\n",
              "      <td>0</td>\n",
              "      <td>0</td>\n",
              "      <td>0</td>\n",
              "      <td>0</td>\n",
              "      <td>0</td>\n",
              "      <td>0</td>\n",
              "      <td>0</td>\n",
              "      <td>0</td>\n",
              "      <td>...</td>\n",
              "      <td>0</td>\n",
              "      <td>0</td>\n",
              "      <td>0</td>\n",
              "      <td>0</td>\n",
              "      <td>0</td>\n",
              "      <td>0</td>\n",
              "      <td>0</td>\n",
              "      <td>0</td>\n",
              "      <td>0</td>\n",
              "      <td>0</td>\n",
              "      <td>0</td>\n",
              "      <td>0</td>\n",
              "      <td>0</td>\n",
              "      <td>0</td>\n",
              "      <td>0</td>\n",
              "      <td>0</td>\n",
              "      <td>0</td>\n",
              "      <td>0</td>\n",
              "      <td>0</td>\n",
              "      <td>0</td>\n",
              "      <td>0</td>\n",
              "      <td>0</td>\n",
              "      <td>0</td>\n",
              "      <td>0</td>\n",
              "      <td>0</td>\n",
              "      <td>1</td>\n",
              "      <td>0</td>\n",
              "      <td>0</td>\n",
              "      <td>0</td>\n",
              "      <td>0</td>\n",
              "      <td>0</td>\n",
              "      <td>0</td>\n",
              "      <td>0</td>\n",
              "      <td>0</td>\n",
              "      <td>0</td>\n",
              "      <td>0</td>\n",
              "      <td>0</td>\n",
              "      <td>0</td>\n",
              "      <td>0</td>\n",
              "      <td>1</td>\n",
              "    </tr>\n",
              "    <tr>\n",
              "      <th>76000</th>\n",
              "      <td>190</td>\n",
              "      <td>12</td>\n",
              "      <td>2007</td>\n",
              "      <td>125000</td>\n",
              "      <td>0</td>\n",
              "      <td>0</td>\n",
              "      <td>0</td>\n",
              "      <td>0</td>\n",
              "      <td>0</td>\n",
              "      <td>1</td>\n",
              "      <td>0</td>\n",
              "      <td>0</td>\n",
              "      <td>0</td>\n",
              "      <td>0</td>\n",
              "      <td>0</td>\n",
              "      <td>0</td>\n",
              "      <td>0</td>\n",
              "      <td>0</td>\n",
              "      <td>0</td>\n",
              "      <td>0</td>\n",
              "      <td>0</td>\n",
              "      <td>0</td>\n",
              "      <td>0</td>\n",
              "      <td>0</td>\n",
              "      <td>0</td>\n",
              "      <td>0</td>\n",
              "      <td>0</td>\n",
              "      <td>0</td>\n",
              "      <td>0</td>\n",
              "      <td>0</td>\n",
              "      <td>0</td>\n",
              "      <td>0</td>\n",
              "      <td>0</td>\n",
              "      <td>0</td>\n",
              "      <td>0</td>\n",
              "      <td>0</td>\n",
              "      <td>0</td>\n",
              "      <td>0</td>\n",
              "      <td>0</td>\n",
              "      <td>0</td>\n",
              "      <td>...</td>\n",
              "      <td>0</td>\n",
              "      <td>0</td>\n",
              "      <td>0</td>\n",
              "      <td>0</td>\n",
              "      <td>0</td>\n",
              "      <td>0</td>\n",
              "      <td>0</td>\n",
              "      <td>0</td>\n",
              "      <td>0</td>\n",
              "      <td>0</td>\n",
              "      <td>0</td>\n",
              "      <td>0</td>\n",
              "      <td>0</td>\n",
              "      <td>0</td>\n",
              "      <td>0</td>\n",
              "      <td>0</td>\n",
              "      <td>0</td>\n",
              "      <td>0</td>\n",
              "      <td>0</td>\n",
              "      <td>0</td>\n",
              "      <td>0</td>\n",
              "      <td>1</td>\n",
              "      <td>0</td>\n",
              "      <td>0</td>\n",
              "      <td>0</td>\n",
              "      <td>0</td>\n",
              "      <td>0</td>\n",
              "      <td>0</td>\n",
              "      <td>0</td>\n",
              "      <td>0</td>\n",
              "      <td>0</td>\n",
              "      <td>0</td>\n",
              "      <td>0</td>\n",
              "      <td>0</td>\n",
              "      <td>0</td>\n",
              "      <td>0</td>\n",
              "      <td>0</td>\n",
              "      <td>0</td>\n",
              "      <td>0</td>\n",
              "      <td>1</td>\n",
              "    </tr>\n",
              "  </tbody>\n",
              "</table>\n",
              "<p>5 rows × 299 columns</p>\n",
              "</div>"
            ],
            "text/plain": [
              "        powerPS  No_of_days_online  ...  brand_volvo  notRepairedDamage_nein\n",
              "232438      260                  6  ...            0                       1\n",
              "313967      260                 26  ...            0                       1\n",
              "350377      150                  0  ...            0                       1\n",
              "225864      144                  3  ...            0                       1\n",
              "76000       190                 12  ...            0                       1\n",
              "\n",
              "[5 rows x 299 columns]"
            ]
          },
          "metadata": {
            "tags": []
          },
          "execution_count": 27
        }
      ]
    },
    {
      "cell_type": "markdown",
      "metadata": {
        "id": "ozpiri3x5J3j",
        "colab_type": "text"
      },
      "source": [
        "##### Count Encoding"
      ]
    },
    {
      "cell_type": "code",
      "metadata": {
        "id": "KUMFm9jC5J3j",
        "colab_type": "code",
        "colab": {
          "base_uri": "https://localhost:8080/",
          "height": 204
        },
        "outputId": "f3651410-e9d7-4947-f15f-b7f238526ed6"
      },
      "source": [
        "def categorical_to_counts(df_train, df_test):\n",
        "    #df copy\n",
        "    df_train_temp = df_train.copy()\n",
        "    df_test_temp = df_test.copy()\n",
        "    for col in cat_cols:\n",
        "        counts_map = df_train_temp[col].value_counts().to_dict()\n",
        "        df_train_temp[col] = df_train_temp[col].map(counts_map)\n",
        "        df_test_temp[col] = df_test_temp[col].map(counts_map)\n",
        "    return df_train_temp, df_test_temp\n",
        "\n",
        "X_train_count, X_test_count = categorical_to_counts(X_train, X_test)\n",
        "X_train_count.head()"
      ],
      "execution_count": 28,
      "outputs": [
        {
          "output_type": "execute_result",
          "data": {
            "text/html": [
              "<div>\n",
              "<style scoped>\n",
              "    .dataframe tbody tr th:only-of-type {\n",
              "        vertical-align: middle;\n",
              "    }\n",
              "\n",
              "    .dataframe tbody tr th {\n",
              "        vertical-align: top;\n",
              "    }\n",
              "\n",
              "    .dataframe thead th {\n",
              "        text-align: right;\n",
              "    }\n",
              "</style>\n",
              "<table border=\"1\" class=\"dataframe\">\n",
              "  <thead>\n",
              "    <tr style=\"text-align: right;\">\n",
              "      <th></th>\n",
              "      <th>vehicleType</th>\n",
              "      <th>yearOfRegistration</th>\n",
              "      <th>gearbox</th>\n",
              "      <th>powerPS</th>\n",
              "      <th>model</th>\n",
              "      <th>kilometer</th>\n",
              "      <th>monthOfRegistration</th>\n",
              "      <th>fuelType</th>\n",
              "      <th>brand</th>\n",
              "      <th>notRepairedDamage</th>\n",
              "      <th>No_of_days_online</th>\n",
              "    </tr>\n",
              "  </thead>\n",
              "  <tbody>\n",
              "    <tr>\n",
              "      <th>232438</th>\n",
              "      <td>46797</td>\n",
              "      <td>10108</td>\n",
              "      <td>124135</td>\n",
              "      <td>260</td>\n",
              "      <td>1665</td>\n",
              "      <td>18373</td>\n",
              "      <td>5</td>\n",
              "      <td>101916</td>\n",
              "      <td>2523</td>\n",
              "      <td>147018</td>\n",
              "      <td>6</td>\n",
              "    </tr>\n",
              "    <tr>\n",
              "      <th>313967</th>\n",
              "      <td>46797</td>\n",
              "      <td>9377</td>\n",
              "      <td>124135</td>\n",
              "      <td>260</td>\n",
              "      <td>625</td>\n",
              "      <td>18373</td>\n",
              "      <td>3</td>\n",
              "      <td>101916</td>\n",
              "      <td>2523</td>\n",
              "      <td>147018</td>\n",
              "      <td>26</td>\n",
              "    </tr>\n",
              "    <tr>\n",
              "      <th>350377</th>\n",
              "      <td>7667</td>\n",
              "      <td>10108</td>\n",
              "      <td>124135</td>\n",
              "      <td>150</td>\n",
              "      <td>48</td>\n",
              "      <td>98645</td>\n",
              "      <td>2</td>\n",
              "      <td>57808</td>\n",
              "      <td>16497</td>\n",
              "      <td>147018</td>\n",
              "      <td>0</td>\n",
              "    </tr>\n",
              "    <tr>\n",
              "      <th>225864</th>\n",
              "      <td>46797</td>\n",
              "      <td>10352</td>\n",
              "      <td>124135</td>\n",
              "      <td>144</td>\n",
              "      <td>562</td>\n",
              "      <td>98645</td>\n",
              "      <td>7</td>\n",
              "      <td>101916</td>\n",
              "      <td>16497</td>\n",
              "      <td>147018</td>\n",
              "      <td>3</td>\n",
              "    </tr>\n",
              "    <tr>\n",
              "      <th>76000</th>\n",
              "      <td>46797</td>\n",
              "      <td>10108</td>\n",
              "      <td>38512</td>\n",
              "      <td>190</td>\n",
              "      <td>10429</td>\n",
              "      <td>18373</td>\n",
              "      <td>9</td>\n",
              "      <td>57808</td>\n",
              "      <td>15941</td>\n",
              "      <td>147018</td>\n",
              "      <td>12</td>\n",
              "    </tr>\n",
              "  </tbody>\n",
              "</table>\n",
              "</div>"
            ],
            "text/plain": [
              "        vehicleType  yearOfRegistration  ...  notRepairedDamage  No_of_days_online\n",
              "232438        46797               10108  ...             147018                  6\n",
              "313967        46797                9377  ...             147018                 26\n",
              "350377         7667               10108  ...             147018                  0\n",
              "225864        46797               10352  ...             147018                  3\n",
              "76000         46797               10108  ...             147018                 12\n",
              "\n",
              "[5 rows x 11 columns]"
            ]
          },
          "metadata": {
            "tags": []
          },
          "execution_count": 28
        }
      ]
    },
    {
      "cell_type": "markdown",
      "metadata": {
        "id": "l59Z04675J3l",
        "colab_type": "text"
      },
      "source": [
        "##### Mean Encoding"
      ]
    },
    {
      "cell_type": "code",
      "metadata": {
        "id": "qAeklUQT5J3m",
        "colab_type": "code",
        "colab": {
          "base_uri": "https://localhost:8080/",
          "height": 204
        },
        "outputId": "daf262be-a4a3-4f38-8322-80e9912374f4"
      },
      "source": [
        "def cat_to_mean(df_train, df_test, y_train, y_test):\n",
        "    df_train_temp = pd.concat([df_train, y_train], axis=1).copy()\n",
        "    df_test_temp = pd.concat([df_test, y_test], axis=1).copy()\n",
        "\n",
        "    for col in cat_cols:\n",
        "        ordered_labels = df_train_temp.groupby(\n",
        "            [col])['price'].mean().to_dict()\n",
        "        # Mapping\n",
        "        df_train_temp[col] = df_train[col].map(ordered_labels)\n",
        "        df_test_temp[col] = df_test[col].map(ordered_labels)\n",
        "\n",
        "    # remove the target\n",
        "    df_train_temp.drop(['price'], axis=1, inplace=True)\n",
        "    df_test_temp.drop(['price'], axis=1, inplace=True)\n",
        "\n",
        "    return df_train_temp, df_test_temp\n",
        "\n",
        "\n",
        "X_train_mean, X_test_mean = cat_to_mean(\n",
        "    X_train, X_test, y_train, y_test)\n",
        "\n",
        "X_train_mean.head()"
      ],
      "execution_count": 29,
      "outputs": [
        {
          "output_type": "execute_result",
          "data": {
            "text/html": [
              "<div>\n",
              "<style scoped>\n",
              "    .dataframe tbody tr th:only-of-type {\n",
              "        vertical-align: middle;\n",
              "    }\n",
              "\n",
              "    .dataframe tbody tr th {\n",
              "        vertical-align: top;\n",
              "    }\n",
              "\n",
              "    .dataframe thead th {\n",
              "        text-align: right;\n",
              "    }\n",
              "</style>\n",
              "<table border=\"1\" class=\"dataframe\">\n",
              "  <thead>\n",
              "    <tr style=\"text-align: right;\">\n",
              "      <th></th>\n",
              "      <th>vehicleType</th>\n",
              "      <th>yearOfRegistration</th>\n",
              "      <th>gearbox</th>\n",
              "      <th>powerPS</th>\n",
              "      <th>model</th>\n",
              "      <th>kilometer</th>\n",
              "      <th>monthOfRegistration</th>\n",
              "      <th>fuelType</th>\n",
              "      <th>brand</th>\n",
              "      <th>notRepairedDamage</th>\n",
              "      <th>No_of_days_online</th>\n",
              "    </tr>\n",
              "  </thead>\n",
              "  <tbody>\n",
              "    <tr>\n",
              "      <th>232438</th>\n",
              "      <td>8.321099</td>\n",
              "      <td>8.827949</td>\n",
              "      <td>8.087280</td>\n",
              "      <td>260</td>\n",
              "      <td>7.811274</td>\n",
              "      <td>8.403415</td>\n",
              "      <td>5</td>\n",
              "      <td>8.009539</td>\n",
              "      <td>8.017123</td>\n",
              "      <td>8.395805</td>\n",
              "      <td>6</td>\n",
              "    </tr>\n",
              "    <tr>\n",
              "      <th>313967</th>\n",
              "      <td>8.321099</td>\n",
              "      <td>9.000783</td>\n",
              "      <td>8.087280</td>\n",
              "      <td>260</td>\n",
              "      <td>7.917101</td>\n",
              "      <td>8.403415</td>\n",
              "      <td>3</td>\n",
              "      <td>8.009539</td>\n",
              "      <td>8.017123</td>\n",
              "      <td>8.395805</td>\n",
              "      <td>26</td>\n",
              "    </tr>\n",
              "    <tr>\n",
              "      <th>350377</th>\n",
              "      <td>9.277144</td>\n",
              "      <td>8.827949</td>\n",
              "      <td>8.087280</td>\n",
              "      <td>150</td>\n",
              "      <td>9.081411</td>\n",
              "      <td>7.914756</td>\n",
              "      <td>2</td>\n",
              "      <td>8.774589</td>\n",
              "      <td>7.704902</td>\n",
              "      <td>8.395805</td>\n",
              "      <td>0</td>\n",
              "    </tr>\n",
              "    <tr>\n",
              "      <th>225864</th>\n",
              "      <td>8.321099</td>\n",
              "      <td>7.960123</td>\n",
              "      <td>8.087280</td>\n",
              "      <td>144</td>\n",
              "      <td>6.939737</td>\n",
              "      <td>7.914756</td>\n",
              "      <td>7</td>\n",
              "      <td>8.009539</td>\n",
              "      <td>7.704902</td>\n",
              "      <td>8.395805</td>\n",
              "      <td>3</td>\n",
              "    </tr>\n",
              "    <tr>\n",
              "      <th>76000</th>\n",
              "      <td>8.321099</td>\n",
              "      <td>8.827949</td>\n",
              "      <td>8.920681</td>\n",
              "      <td>190</td>\n",
              "      <td>8.280942</td>\n",
              "      <td>8.403415</td>\n",
              "      <td>9</td>\n",
              "      <td>8.774589</td>\n",
              "      <td>8.716343</td>\n",
              "      <td>8.395805</td>\n",
              "      <td>12</td>\n",
              "    </tr>\n",
              "  </tbody>\n",
              "</table>\n",
              "</div>"
            ],
            "text/plain": [
              "        vehicleType  yearOfRegistration  ...  notRepairedDamage  No_of_days_online\n",
              "232438     8.321099            8.827949  ...           8.395805                  6\n",
              "313967     8.321099            9.000783  ...           8.395805                 26\n",
              "350377     9.277144            8.827949  ...           8.395805                  0\n",
              "225864     8.321099            7.960123  ...           8.395805                  3\n",
              "76000      8.321099            8.827949  ...           8.395805                 12\n",
              "\n",
              "[5 rows x 11 columns]"
            ]
          },
          "metadata": {
            "tags": []
          },
          "execution_count": 29
        }
      ]
    },
    {
      "cell_type": "code",
      "metadata": {
        "id": "OQUSAqM25J3o",
        "colab_type": "code",
        "colab": {
          "base_uri": "https://localhost:8080/",
          "height": 136
        },
        "outputId": "9a23bc4a-cf14-4302-a7cc-da9d4c3022b2"
      },
      "source": [
        "from sklearn.ensemble import RandomForestRegressor\n",
        "from sklearn.metrics import mean_squared_error\n",
        "from sklearn import model_selection\n",
        "from sklearn.linear_model import LinearRegression\n",
        "from sklearn.linear_model import LassoCV\n",
        "\n",
        "# rfr = RandomForestRegressor(n_jobs=-1)\n",
        "# rfr.fit(X_train_OHE,y_train)"
      ],
      "execution_count": 30,
      "outputs": [
        {
          "output_type": "execute_result",
          "data": {
            "text/plain": [
              "RandomForestRegressor(bootstrap=True, ccp_alpha=0.0, criterion='mse',\n",
              "                      max_depth=None, max_features='auto', max_leaf_nodes=None,\n",
              "                      max_samples=None, min_impurity_decrease=0.0,\n",
              "                      min_impurity_split=None, min_samples_leaf=1,\n",
              "                      min_samples_split=2, min_weight_fraction_leaf=0.0,\n",
              "                      n_estimators=100, n_jobs=None, oob_score=False,\n",
              "                      random_state=None, verbose=0, warm_start=False)"
            ]
          },
          "metadata": {
            "tags": []
          },
          "execution_count": 30
        }
      ]
    },
    {
      "cell_type": "code",
      "metadata": {
        "id": "wTXFBzBv5J3q",
        "colab_type": "code",
        "colab": {}
      },
      "source": [
        "# predict = rfr.predict(X_test_OHE)"
      ],
      "execution_count": 0,
      "outputs": []
    },
    {
      "cell_type": "code",
      "metadata": {
        "id": "nd1AChwM5J3x",
        "colab_type": "code",
        "colab": {},
        "outputId": "6322d784-bc93-4b9d-8cab-142993a03686"
      },
      "source": [
        "# mean_squared_error(y_test,predict)"
      ],
      "execution_count": 0,
      "outputs": [
        {
          "output_type": "execute_result",
          "data": {
            "text/plain": [
              "0.13994983956055934"
            ]
          },
          "metadata": {
            "tags": []
          },
          "execution_count": 82
        }
      ]
    },
    {
      "cell_type": "code",
      "metadata": {
        "id": "h2FShA0C5J3z",
        "colab_type": "code",
        "colab": {}
      },
      "source": [
        "def eval(X,y):\n",
        "    for i in (LinearRegression() , LassoCV() , RandomForestRegressor(max_depth=5,n_jobs=-1)):\n",
        "        scoring = 'neg_mean_squared_error'\n",
        "        kfold = model_selection.KFold(n_splits=10, random_state=3)\n",
        "        results = model_selection.cross_val_score(i, X, y, cv=kfold, scoring=scoring)\n",
        "        print((\"MSE for %s: %.3f (%.3f)\") % (str(i).split('(')[0],results.mean(), results.std()))"
      ],
      "execution_count": 0,
      "outputs": []
    },
    {
      "cell_type": "code",
      "metadata": {
        "id": "aT--UE0E5J31",
        "colab_type": "code",
        "colab": {
          "base_uri": "https://localhost:8080/",
          "height": 68
        },
        "outputId": "cda8fd71-6887-4350-d82d-fa3d60916c63"
      },
      "source": [
        "eval(X_train_mean,y_train)\n"
      ],
      "execution_count": 33,
      "outputs": [
        {
          "output_type": "stream",
          "text": [
            "MSE for LinearRegression: -0.183 (0.005)\n",
            "MSE for LassoCV: -0.217 (0.005)\n",
            "MSE for RandomForestRegressor: -0.238 (0.005)\n"
          ],
          "name": "stdout"
        }
      ]
    },
    {
      "cell_type": "code",
      "metadata": {
        "id": "9oS2WWO15J33",
        "colab_type": "code",
        "colab": {
          "base_uri": "https://localhost:8080/",
          "height": 68
        },
        "outputId": "3f3ebcdd-bb45-4730-908f-34a0647e8fb2"
      },
      "source": [
        "eval(X_train_count,y_train)"
      ],
      "execution_count": 34,
      "outputs": [
        {
          "output_type": "stream",
          "text": [
            "MSE for LinearRegression: -0.456 (0.007)\n",
            "MSE for LassoCV: -0.617 (0.006)\n",
            "MSE for RandomForestRegressor: -0.403 (0.005)\n"
          ],
          "name": "stdout"
        }
      ]
    },
    {
      "cell_type": "code",
      "metadata": {
        "id": "AnEkQiLK5J36",
        "colab_type": "code",
        "colab": {
          "base_uri": "https://localhost:8080/",
          "height": 68
        },
        "outputId": "72bac59b-e709-4ffb-ecf3-e60cf8031108"
      },
      "source": [
        "eval(X_train_OHE,y_train)"
      ],
      "execution_count": 35,
      "outputs": [
        {
          "output_type": "stream",
          "text": [
            "MSE for LinearRegression: -0.159 (0.005)\n",
            "MSE for LassoCV: -0.709 (0.006)\n",
            "MSE for RandomForestRegressor: -0.261 (0.007)\n"
          ],
          "name": "stdout"
        }
      ]
    },
    {
      "cell_type": "code",
      "metadata": {
        "id": "K6s-to1g5J38",
        "colab_type": "code",
        "colab": {}
      },
      "source": [
        "###Going with mean encoding"
      ],
      "execution_count": 0,
      "outputs": []
    },
    {
      "cell_type": "code",
      "metadata": {
        "id": "IF3itxqn5J3-",
        "colab_type": "code",
        "colab": {}
      },
      "source": [
        "from sklearn.tree import DecisionTreeRegressor\n",
        "from sklearn.ensemble import RandomForestRegressor\n",
        "from sklearn.linear_model import LinearRegression\n",
        "from sklearn.preprocessing import StandardScaler\n",
        "from sklearn.neighbors import KNeighborsRegressor\n",
        "from sklearn.model_selection import GridSearchCV\n",
        "from sklearn import metrics"
      ],
      "execution_count": 0,
      "outputs": []
    },
    {
      "cell_type": "code",
      "metadata": {
        "id": "uMVWEOuK5J4A",
        "colab_type": "code",
        "colab": {}
      },
      "source": [
        "X_train_scaled = X_train_mean\n",
        "X_test_scaled = X_test_mean\n",
        "scaler = StandardScaler()\n",
        "scaler.fit(X_train_mean)\n",
        "X_train_scaled.iloc[:,:] = scaler.transform(X_train_mean)\n",
        "X_test_scaled.iloc[:,:] = scaler.transform(X_test_mean)"
      ],
      "execution_count": 0,
      "outputs": []
    },
    {
      "cell_type": "code",
      "metadata": {
        "id": "83DcV_r55J4C",
        "colab_type": "code",
        "colab": {
          "base_uri": "https://localhost:8080/",
          "height": 374
        },
        "outputId": "47a8051e-816b-4315-a01f-ad750debbbfe"
      },
      "source": [
        "#Knn Hyperparameter tuning\n",
        "knn=KNeighborsRegressor()\n",
        "param={'n_neighbors':np.arange(3,100),'weights':['uniform','distance']}\n",
        "gsearch_knn=RandomizedSearchCV(knn,param,cv=10,scoring='neg_mean_squared_error',verbose=1,n_jobs=-1)\n",
        "gsearch_knn.fit(X_train_scaled,y_train)"
      ],
      "execution_count": 49,
      "outputs": [
        {
          "output_type": "stream",
          "text": [
            "Fitting 10 folds for each of 10 candidates, totalling 100 fits\n"
          ],
          "name": "stdout"
        },
        {
          "output_type": "stream",
          "text": [
            "[Parallel(n_jobs=-1)]: Using backend LokyBackend with 2 concurrent workers.\n",
            "[Parallel(n_jobs=-1)]: Done  46 tasks      | elapsed: 10.9min\n",
            "[Parallel(n_jobs=-1)]: Done 100 out of 100 | elapsed: 19.6min finished\n"
          ],
          "name": "stderr"
        },
        {
          "output_type": "execute_result",
          "data": {
            "text/plain": [
              "RandomizedSearchCV(cv=10, error_score=nan,\n",
              "                   estimator=KNeighborsRegressor(algorithm='auto', leaf_size=30,\n",
              "                                                 metric='minkowski',\n",
              "                                                 metric_params=None,\n",
              "                                                 n_jobs=None, n_neighbors=5,\n",
              "                                                 p=2, weights='uniform'),\n",
              "                   iid='deprecated', n_iter=10, n_jobs=-1,\n",
              "                   param_distributions={'n_neighbors': array([ 3,  4,  5,  6,  7,  8,  9, 10, 11, 12, 13, 14, 15, 16, 17, 18, 19,\n",
              "       20, 21, 22, 23, 24, 25, 26, 27, 28, 29, 30, 31, 32,..., 36,\n",
              "       37, 38, 39, 40, 41, 42, 43, 44, 45, 46, 47, 48, 49, 50, 51, 52, 53,\n",
              "       54, 55, 56, 57, 58, 59, 60, 61, 62, 63, 64, 65, 66, 67, 68, 69, 70,\n",
              "       71, 72, 73, 74, 75, 76, 77, 78, 79, 80, 81, 82, 83, 84, 85, 86, 87,\n",
              "       88, 89, 90, 91, 92, 93, 94, 95, 96, 97, 98, 99]),\n",
              "                                        'weights': ['uniform', 'distance']},\n",
              "                   pre_dispatch='2*n_jobs', random_state=None, refit=True,\n",
              "                   return_train_score=False, scoring='neg_mean_squared_error',\n",
              "                   verbose=1)"
            ]
          },
          "metadata": {
            "tags": []
          },
          "execution_count": 49
        }
      ]
    },
    {
      "cell_type": "code",
      "metadata": {
        "id": "z1jKX4RYbcKG",
        "colab_type": "code",
        "colab": {
          "base_uri": "https://localhost:8080/",
          "height": 34
        },
        "outputId": "c73bde0e-df5c-432a-82dc-349397cd9eb6"
      },
      "source": [
        "gsearch_knn.best_params_"
      ],
      "execution_count": 50,
      "outputs": [
        {
          "output_type": "execute_result",
          "data": {
            "text/plain": [
              "{'n_neighbors': 12, 'weights': 'distance'}"
            ]
          },
          "metadata": {
            "tags": []
          },
          "execution_count": 50
        }
      ]
    },
    {
      "cell_type": "code",
      "metadata": {
        "id": "JLVUBWMNbgVf",
        "colab_type": "code",
        "colab": {}
      },
      "source": [
        "rsearch_knn_best_params = {'n_neighbors': 12, 'weights': 'distance'}"
      ],
      "execution_count": 0,
      "outputs": []
    },
    {
      "cell_type": "code",
      "metadata": {
        "id": "3slSLVWY5J4F",
        "colab_type": "code",
        "colab": {
          "base_uri": "https://localhost:8080/",
          "height": 459
        },
        "outputId": "ddec2ff6-7d7a-4857-9db1-87bac1efa5a0"
      },
      "source": [
        "from sklearn.model_selection import RandomizedSearchCV\n",
        "from scipy.stats import randint as sp_randint\n",
        "\n",
        "rfr = RandomForestRegressor(random_state=3)\n",
        "params_rfr = { 'n_estimators' : sp_randint(100 , 400) , \n",
        "           'max_features' : ['log2','sqrt'] ,\n",
        "           'max_depth' : sp_randint(2,10) , \n",
        "           'min_samples_leaf' : [0.1, 0.2] }\n",
        "\n",
        "rsearch_rfc = RandomizedSearchCV(estimator=rfr,param_distributions=params_rfr,cv=10,\n",
        "                                 scoring='neg_mean_squared_error',verbose=1,n_jobs=-1)\n",
        "\n",
        "rsearch_rfc.fit(X_train_scaled,y_train)"
      ],
      "execution_count": 45,
      "outputs": [
        {
          "output_type": "stream",
          "text": [
            "Fitting 10 folds for each of 10 candidates, totalling 100 fits\n"
          ],
          "name": "stdout"
        },
        {
          "output_type": "stream",
          "text": [
            "[Parallel(n_jobs=-1)]: Using backend LokyBackend with 2 concurrent workers.\n",
            "[Parallel(n_jobs=-1)]: Done  46 tasks      | elapsed:  5.5min\n",
            "[Parallel(n_jobs=-1)]: Done 100 out of 100 | elapsed:  9.0min finished\n"
          ],
          "name": "stderr"
        },
        {
          "output_type": "execute_result",
          "data": {
            "text/plain": [
              "RandomizedSearchCV(cv=10, error_score=nan,\n",
              "                   estimator=RandomForestRegressor(bootstrap=True,\n",
              "                                                   ccp_alpha=0.0,\n",
              "                                                   criterion='mse',\n",
              "                                                   max_depth=None,\n",
              "                                                   max_features='auto',\n",
              "                                                   max_leaf_nodes=None,\n",
              "                                                   max_samples=None,\n",
              "                                                   min_impurity_decrease=0.0,\n",
              "                                                   min_impurity_split=None,\n",
              "                                                   min_samples_leaf=1,\n",
              "                                                   min_samples_split=2,\n",
              "                                                   min_weight_fraction_leaf=0.0,\n",
              "                                                   n_estimators=100,\n",
              "                                                   n_jobs=None, oob_score=Fal...\n",
              "                   param_distributions={'max_depth': <scipy.stats._distn_infrastructure.rv_frozen object at 0x7fcf418c8828>,\n",
              "                                        'max_features': ['log2', 'sqrt'],\n",
              "                                        'min_samples_leaf': [0.1, 0.2],\n",
              "                                        'n_estimators': <scipy.stats._distn_infrastructure.rv_frozen object at 0x7fcf418c86a0>},\n",
              "                   pre_dispatch='2*n_jobs', random_state=None, refit=True,\n",
              "                   return_train_score=False, scoring='neg_mean_squared_error',\n",
              "                   verbose=1)"
            ]
          },
          "metadata": {
            "tags": []
          },
          "execution_count": 45
        }
      ]
    },
    {
      "cell_type": "code",
      "metadata": {
        "id": "GoBSAsPOPAah",
        "colab_type": "code",
        "colab": {
          "base_uri": "https://localhost:8080/",
          "height": 85
        },
        "outputId": "960a9a1c-233d-474f-d5d5-a95b429ac80e"
      },
      "source": [
        "rsearch_rfc.best_params_"
      ],
      "execution_count": 46,
      "outputs": [
        {
          "output_type": "execute_result",
          "data": {
            "text/plain": [
              "{'max_depth': 6,\n",
              " 'max_features': 'log2',\n",
              " 'min_samples_leaf': 0.1,\n",
              " 'n_estimators': 154}"
            ]
          },
          "metadata": {
            "tags": []
          },
          "execution_count": 46
        }
      ]
    },
    {
      "cell_type": "code",
      "metadata": {
        "id": "YisJN82cWNKS",
        "colab_type": "code",
        "colab": {}
      },
      "source": [
        "rsearch_rfc_best_params ={'max_depth': 6,\n",
        "                          'max_features': 'log2',\n",
        "                          'min_samples_leaf': 0.1,\n",
        "                          'n_estimators': 154}"
      ],
      "execution_count": 0,
      "outputs": []
    },
    {
      "cell_type": "code",
      "metadata": {
        "id": "pSSHyxsb5J4J",
        "colab_type": "code",
        "colab": {}
      },
      "source": [
        "LR = LinearRegression()\n",
        "KNN = KNeighborsRegressor(**rsearch_knn_best_params,n_jobs=-1)"
      ],
      "execution_count": 0,
      "outputs": []
    },
    {
      "cell_type": "code",
      "metadata": {
        "id": "Y4V1DNuw5J4M",
        "colab_type": "code",
        "colab": {}
      },
      "source": [
        "from sklearn.ensemble import BaggingRegressor\n",
        "from sklearn.ensemble import AdaBoostRegressor\n",
        "LR_bag=BaggingRegressor(base_estimator=LR,n_estimators=25,random_state=3,n_jobs=-1)\n",
        "KNN_bag=BaggingRegressor(base_estimator=KNN,n_estimators=80,random_state=3,n_jobs=-1)\n",
        "DT_reg=DecisionTreeRegressor(max_depth=4,random_state=3)\n",
        "RF=RandomForestRegressor(**rsearch_rfc_best_params,random_state=3,n_jobs=-1)\n",
        "#Boosting models\n",
        "LR_boost=AdaBoostRegressor(base_estimator=LR,n_estimators=50)\n",
        "RF_boost=AdaBoostRegressor(base_estimator=RF,n_estimators=70)\n",
        "DT_boost=AdaBoostRegressor(n_estimators=50)"
      ],
      "execution_count": 0,
      "outputs": []
    },
    {
      "cell_type": "code",
      "metadata": {
        "id": "-YBNFX4G5J4S",
        "colab_type": "code",
        "colab": {}
      },
      "source": [
        "RMSE scores: 0.43 (+/- 0.00003) [Lin Reg]\n",
        "Adj R-Square:0.85 (+/- 0.00001)[Lin Reg]\n",
        "--------------------------------------------------\n",
        "RMSE scores: 0.39 (+/- 0.00002) [KNN Reg]\n",
        "Adj R-Square:0.88 (+/- 0.00001)[KNN Reg]\n",
        "--------------------------------------------------\n",
        "RMSE scores: 0.55 (+/- 0.00004) [Decision Tree]\n",
        "Adj R-Square:0.75 (+/- 0.00002)[Decision Tree]\n",
        "--------------------------------------------------\n",
        "RMSE scores: 0.67 (+/- 0.00001) [Random Forest Reg]\n",
        "Adj R-Square:0.64 (+/- 0.00001)[Random Forest Reg]\n",
        "--------------------------------------------------\n",
        "RMSE scores: 0.43 (+/- 0.00003) [LR_Bag]\n",
        "Adj R-Square:0.85 (+/- 0.00001)[LR_Bag]\n",
        "--------------------------------------------------\n",
        "RMSE scores: 0.50 (+/- 0.00003) [LR_Boost]\n",
        "Adj R-Square:0.80 (+/- 0.00002)[LR_Boost]\n",
        "--------------------------------------------------\n",
        "RMSE scores: 0.61 (+/- 0.00006) [RF_boost]\n",
        "Adj R-Square:0.70 (+/- 0.00006)[RF_boost]\n",
        "--------------------------------------------------\n",
        "RMSE scores: 0.76 (+/- 0.00086) [DT_boost]\n",
        "Adj R-Square:0.54 (+/- 0.00125)[DT_boost]\n",
        "--------------------------------------------------"
      ],
      "execution_count": 0,
      "outputs": []
    },
    {
      "cell_type": "code",
      "metadata": {
        "id": "v9vEAui0WtS4",
        "colab_type": "code",
        "colab": {
          "base_uri": "https://localhost:8080/",
          "height": 425
        },
        "outputId": "9f9a33f5-25ca-4981-8ca6-5c5a5e22434e"
      },
      "source": [
        "X = X_train_scaled\n",
        "Y = y_train\n",
        "from sklearn.model_selection import KFold\n",
        "kf=KFold(n_splits=10,shuffle=True,random_state=3)\n",
        "for model, name in zip([LR,KNN,DT_reg,RF,LR_bag,LR_boost,RF_boost,DT_boost]\n",
        "                       ,['Lin Reg','KNN Reg','Decision Tree' ,'Random Forest Reg','LR_Bag','LR_Boost','RF_boost','DT_boost']):\n",
        "    rmse = [];adj_r=[]\n",
        "    for train,test in kf.split(X,Y):\n",
        "        Xtrain,Xtest=X.iloc[train,:],X.iloc[test,:]\n",
        "        Ytrain,Ytest=Y.iloc[train],Y.iloc[test]\n",
        "        model.fit(Xtrain,Ytrain)\n",
        "        Y_predict=model.predict(Xtest)\n",
        "        met=np.sqrt(mean_squared_error(Ytest,Y_predict))\n",
        "        rmse.append(met)\n",
        "        Adj_r2 = 1-(1-metrics.r2_score(Ytest,Y_predict))*(X_test.shape[0] -1)/(X_test.shape[0]-X_test.shape[1]-1)\n",
        "        adj_r.append(Adj_r2)\n",
        "    print(\"RMSE scores: %0.02f (+/- %0.5f) [%s]\" % (np.mean(rmse),\n",
        "                                    np.var(rmse,ddof=1), name ))\n",
        "    print('Adj R-Square:%0.02f (+/- %0.5f)[%s]' % (np.mean(adj_r),\n",
        "                                    np.var(adj_r,ddof=1), name ))\n",
        "    print('-'*50)"
      ],
      "execution_count": 58,
      "outputs": [
        {
          "output_type": "stream",
          "text": [
            "RMSE scores: 0.43 (+/- 0.00003) [Lin Reg]\n",
            "Adj R-Square:0.85 (+/- 0.00001)[Lin Reg]\n",
            "--------------------------------------------------\n",
            "RMSE scores: 0.39 (+/- 0.00002) [KNN Reg]\n",
            "Adj R-Square:0.88 (+/- 0.00001)[KNN Reg]\n",
            "--------------------------------------------------\n",
            "RMSE scores: 0.55 (+/- 0.00004) [Decision Tree]\n",
            "Adj R-Square:0.75 (+/- 0.00002)[Decision Tree]\n",
            "--------------------------------------------------\n",
            "RMSE scores: 0.67 (+/- 0.00001) [Random Forest Reg]\n",
            "Adj R-Square:0.64 (+/- 0.00001)[Random Forest Reg]\n",
            "--------------------------------------------------\n",
            "RMSE scores: 0.43 (+/- 0.00003) [LR_Bag]\n",
            "Adj R-Square:0.85 (+/- 0.00001)[LR_Bag]\n",
            "--------------------------------------------------\n",
            "RMSE scores: 0.50 (+/- 0.00003) [LR_Boost]\n",
            "Adj R-Square:0.80 (+/- 0.00002)[LR_Boost]\n",
            "--------------------------------------------------\n",
            "RMSE scores: 0.61 (+/- 0.00006) [RF_boost]\n",
            "Adj R-Square:0.70 (+/- 0.00006)[RF_boost]\n",
            "--------------------------------------------------\n",
            "RMSE scores: 0.76 (+/- 0.00086) [DT_boost]\n",
            "Adj R-Square:0.54 (+/- 0.00125)[DT_boost]\n",
            "--------------------------------------------------\n"
          ],
          "name": "stdout"
        }
      ]
    },
    {
      "cell_type": "code",
      "metadata": {
        "id": "gKmHCmaqbp3T",
        "colab_type": "code",
        "colab": {}
      },
      "source": [
        ""
      ],
      "execution_count": 0,
      "outputs": []
    }
  ]
}