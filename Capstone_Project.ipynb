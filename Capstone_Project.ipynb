{
  "nbformat": 4,
  "nbformat_minor": 0,
  "metadata": {
    "colab": {
      "name": "Capstone_Project.ipynb",
      "provenance": [],
      "authorship_tag": "ABX9TyNFU7A5ewBPQDkehFFrSghW",
      "include_colab_link": true
    },
    "kernelspec": {
      "name": "python3",
      "display_name": "Python 3"
    }
  },
  "cells": [
    {
      "cell_type": "markdown",
      "metadata": {
        "id": "view-in-github",
        "colab_type": "text"
      },
      "source": [
        "<a href=\"https://colab.research.google.com/github/pratikasarkar/Capstone_Project/blob/pratik_workingBranch/Capstone_Project.ipynb\" target=\"_parent\"><img src=\"https://colab.research.google.com/assets/colab-badge.svg\" alt=\"Open In Colab\"/></a>"
      ]
    },
    {
      "cell_type": "code",
      "metadata": {
        "id": "tKMtMNBhUhMQ",
        "colab_type": "code",
        "colab": {
          "base_uri": "https://localhost:8080/",
          "height": 122
        },
        "outputId": "05281042-c322-4518-f55a-1b60e9128ee5"
      },
      "source": [
        "from google.colab import drive\n",
        "drive.mount('/content/gdrive')"
      ],
      "execution_count": 1,
      "outputs": [
        {
          "output_type": "stream",
          "text": [
            "Go to this URL in a browser: https://accounts.google.com/o/oauth2/auth?client_id=947318989803-6bn6qk8qdgf4n4g3pfee6491hc0brc4i.apps.googleusercontent.com&redirect_uri=urn%3aietf%3awg%3aoauth%3a2.0%3aoob&response_type=code&scope=email%20https%3a%2f%2fwww.googleapis.com%2fauth%2fdocs.test%20https%3a%2f%2fwww.googleapis.com%2fauth%2fdrive%20https%3a%2f%2fwww.googleapis.com%2fauth%2fdrive.photos.readonly%20https%3a%2f%2fwww.googleapis.com%2fauth%2fpeopleapi.readonly\n",
            "\n",
            "Enter your authorization code:\n",
            "··········\n",
            "Mounted at /content/gdrive\n"
          ],
          "name": "stdout"
        }
      ]
    },
    {
      "cell_type": "code",
      "metadata": {
        "id": "75aifjPIr1u-",
        "colab_type": "code",
        "colab": {}
      },
      "source": [
        "import pandas as pd\n",
        "df = pd.read_csv('/content/gdrive/My Drive/Project Data/datafile (1).csv')"
      ],
      "execution_count": 0,
      "outputs": []
    },
    {
      "cell_type": "code",
      "metadata": {
        "id": "y65Mt2eMsL7Y",
        "colab_type": "code",
        "colab": {
          "base_uri": "https://localhost:8080/",
          "height": 221
        },
        "outputId": "38362eb0-e4f2-4e70-e37f-b36b6537dc7b"
      },
      "source": [
        "df.head()"
      ],
      "execution_count": 3,
      "outputs": [
        {
          "output_type": "execute_result",
          "data": {
            "text/html": [
              "<div>\n",
              "<style scoped>\n",
              "    .dataframe tbody tr th:only-of-type {\n",
              "        vertical-align: middle;\n",
              "    }\n",
              "\n",
              "    .dataframe tbody tr th {\n",
              "        vertical-align: top;\n",
              "    }\n",
              "\n",
              "    .dataframe thead th {\n",
              "        text-align: right;\n",
              "    }\n",
              "</style>\n",
              "<table border=\"1\" class=\"dataframe\">\n",
              "  <thead>\n",
              "    <tr style=\"text-align: right;\">\n",
              "      <th></th>\n",
              "      <th>Crop</th>\n",
              "      <th>State</th>\n",
              "      <th>Cost of Cultivation (`/Hectare) A2+FL</th>\n",
              "      <th>Cost of Cultivation (`/Hectare) C2</th>\n",
              "      <th>Cost of Production (`/Quintal) C2</th>\n",
              "      <th>Yield (Quintal/ Hectare)</th>\n",
              "    </tr>\n",
              "  </thead>\n",
              "  <tbody>\n",
              "    <tr>\n",
              "      <th>0</th>\n",
              "      <td>ARHAR</td>\n",
              "      <td>Uttar Pradesh</td>\n",
              "      <td>9794.05</td>\n",
              "      <td>23076.74</td>\n",
              "      <td>1941.55</td>\n",
              "      <td>9.83</td>\n",
              "    </tr>\n",
              "    <tr>\n",
              "      <th>1</th>\n",
              "      <td>ARHAR</td>\n",
              "      <td>Karnataka</td>\n",
              "      <td>10593.15</td>\n",
              "      <td>16528.68</td>\n",
              "      <td>2172.46</td>\n",
              "      <td>7.47</td>\n",
              "    </tr>\n",
              "    <tr>\n",
              "      <th>2</th>\n",
              "      <td>ARHAR</td>\n",
              "      <td>Gujarat</td>\n",
              "      <td>13468.82</td>\n",
              "      <td>19551.90</td>\n",
              "      <td>1898.30</td>\n",
              "      <td>9.59</td>\n",
              "    </tr>\n",
              "    <tr>\n",
              "      <th>3</th>\n",
              "      <td>ARHAR</td>\n",
              "      <td>Andhra Pradesh</td>\n",
              "      <td>17051.66</td>\n",
              "      <td>24171.65</td>\n",
              "      <td>3670.54</td>\n",
              "      <td>6.42</td>\n",
              "    </tr>\n",
              "    <tr>\n",
              "      <th>4</th>\n",
              "      <td>ARHAR</td>\n",
              "      <td>Maharashtra</td>\n",
              "      <td>17130.55</td>\n",
              "      <td>25270.26</td>\n",
              "      <td>2775.80</td>\n",
              "      <td>8.72</td>\n",
              "    </tr>\n",
              "  </tbody>\n",
              "</table>\n",
              "</div>"
            ],
            "text/plain": [
              "    Crop  ... Yield (Quintal/ Hectare) \n",
              "0  ARHAR  ...                      9.83\n",
              "1  ARHAR  ...                      7.47\n",
              "2  ARHAR  ...                      9.59\n",
              "3  ARHAR  ...                      6.42\n",
              "4  ARHAR  ...                      8.72\n",
              "\n",
              "[5 rows x 6 columns]"
            ]
          },
          "metadata": {
            "tags": []
          },
          "execution_count": 3
        }
      ]
    },
    {
      "cell_type": "markdown",
      "metadata": {
        "id": "hJDkVlaDs8K_",
        "colab_type": "text"
      },
      "source": [
        "**Following are the minimum support prices(MSPs) which the govt provides the farmers just in case any sharp fall in farm prices : **\n",
        "\n",
        "**A2** - Costs the farmer actually pays for buying seeds/fertilisers/pesticides/hired labour/hired machinery/leased-in land.\n",
        "\n",
        "**A2 +FL** - Family labour + A2 cost\n",
        "\n",
        "**C2** - the Comprehensive cost , costs of family labour + imputed rent of owned land + imputed interest on owned capital."
      ]
    },
    {
      "cell_type": "code",
      "metadata": {
        "id": "Bayib5-WsNyD",
        "colab_type": "code",
        "colab": {
          "base_uri": "https://localhost:8080/",
          "height": 297
        },
        "outputId": "c42c5a1e-13c7-480c-ffb7-fb4bd468721a"
      },
      "source": [
        "df.describe()"
      ],
      "execution_count": 4,
      "outputs": [
        {
          "output_type": "execute_result",
          "data": {
            "text/html": [
              "<div>\n",
              "<style scoped>\n",
              "    .dataframe tbody tr th:only-of-type {\n",
              "        vertical-align: middle;\n",
              "    }\n",
              "\n",
              "    .dataframe tbody tr th {\n",
              "        vertical-align: top;\n",
              "    }\n",
              "\n",
              "    .dataframe thead th {\n",
              "        text-align: right;\n",
              "    }\n",
              "</style>\n",
              "<table border=\"1\" class=\"dataframe\">\n",
              "  <thead>\n",
              "    <tr style=\"text-align: right;\">\n",
              "      <th></th>\n",
              "      <th>Cost of Cultivation (`/Hectare) A2+FL</th>\n",
              "      <th>Cost of Cultivation (`/Hectare) C2</th>\n",
              "      <th>Cost of Production (`/Quintal) C2</th>\n",
              "      <th>Yield (Quintal/ Hectare)</th>\n",
              "    </tr>\n",
              "  </thead>\n",
              "  <tbody>\n",
              "    <tr>\n",
              "      <th>count</th>\n",
              "      <td>49.000000</td>\n",
              "      <td>49.000000</td>\n",
              "      <td>49.000000</td>\n",
              "      <td>49.000000</td>\n",
              "    </tr>\n",
              "    <tr>\n",
              "      <th>mean</th>\n",
              "      <td>20363.537347</td>\n",
              "      <td>31364.666735</td>\n",
              "      <td>1620.537755</td>\n",
              "      <td>98.086735</td>\n",
              "    </tr>\n",
              "    <tr>\n",
              "      <th>std</th>\n",
              "      <td>13561.435306</td>\n",
              "      <td>20095.783569</td>\n",
              "      <td>1104.990472</td>\n",
              "      <td>245.293123</td>\n",
              "    </tr>\n",
              "    <tr>\n",
              "      <th>min</th>\n",
              "      <td>5483.540000</td>\n",
              "      <td>7868.640000</td>\n",
              "      <td>85.790000</td>\n",
              "      <td>1.320000</td>\n",
              "    </tr>\n",
              "    <tr>\n",
              "      <th>25%</th>\n",
              "      <td>12774.410000</td>\n",
              "      <td>19259.840000</td>\n",
              "      <td>732.620000</td>\n",
              "      <td>9.590000</td>\n",
              "    </tr>\n",
              "    <tr>\n",
              "      <th>50%</th>\n",
              "      <td>17022.000000</td>\n",
              "      <td>25909.050000</td>\n",
              "      <td>1595.560000</td>\n",
              "      <td>13.700000</td>\n",
              "    </tr>\n",
              "    <tr>\n",
              "      <th>75%</th>\n",
              "      <td>24731.060000</td>\n",
              "      <td>35423.480000</td>\n",
              "      <td>2228.970000</td>\n",
              "      <td>36.610000</td>\n",
              "    </tr>\n",
              "    <tr>\n",
              "      <th>max</th>\n",
              "      <td>66335.060000</td>\n",
              "      <td>91442.630000</td>\n",
              "      <td>5777.480000</td>\n",
              "      <td>1015.450000</td>\n",
              "    </tr>\n",
              "  </tbody>\n",
              "</table>\n",
              "</div>"
            ],
            "text/plain": [
              "       Cost of Cultivation (`/Hectare) A2+FL  ...  Yield (Quintal/ Hectare) \n",
              "count                              49.000000  ...                  49.000000\n",
              "mean                            20363.537347  ...                  98.086735\n",
              "std                             13561.435306  ...                 245.293123\n",
              "min                              5483.540000  ...                   1.320000\n",
              "25%                             12774.410000  ...                   9.590000\n",
              "50%                             17022.000000  ...                  13.700000\n",
              "75%                             24731.060000  ...                  36.610000\n",
              "max                             66335.060000  ...                1015.450000\n",
              "\n",
              "[8 rows x 4 columns]"
            ]
          },
          "metadata": {
            "tags": []
          },
          "execution_count": 4
        }
      ]
    },
    {
      "cell_type": "code",
      "metadata": {
        "id": "F2rVcnxCsY8D",
        "colab_type": "code",
        "colab": {
          "base_uri": "https://localhost:8080/",
          "height": 255
        },
        "outputId": "f43e1292-20c3-4f36-c825-ef72612917b6"
      },
      "source": [
        "df['State'].value_counts()"
      ],
      "execution_count": 5,
      "outputs": [
        {
          "output_type": "execute_result",
          "data": {
            "text/plain": [
              "Andhra Pradesh    8\n",
              "Uttar Pradesh     7\n",
              "Maharashtra       6\n",
              "Rajasthan         5\n",
              "Karnataka         5\n",
              "Gujarat           4\n",
              "Madhya Pradesh    3\n",
              "Punjab            3\n",
              "Tamil Nadu        2\n",
              "Haryana           2\n",
              "Orissa            2\n",
              "West Bengal       1\n",
              "Bihar             1\n",
              "Name: State, dtype: int64"
            ]
          },
          "metadata": {
            "tags": []
          },
          "execution_count": 5
        }
      ]
    }
  ]
}